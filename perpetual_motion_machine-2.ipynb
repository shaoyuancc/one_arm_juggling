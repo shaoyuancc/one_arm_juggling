{
 "cells": [
  {
   "cell_type": "code",
   "metadata": {
    "colab": {},
    "colab_type": "code",
    "deepnote_to_be_reexecuted": false,
    "execution_millis": 351,
    "execution_start": 1669599822807,
    "id": "eeMrMI0-1Dhu",
    "source_hash": "70dabce9",
    "cell_id": "6f6d0008-8941-4303-a061-0f7d0b4b8b9f",
    "deepnote_cell_type": "code",
    "deepnote_cell_height": 548.953125
   },
   "source": "import logging\nfrom copy import copy\nfrom enum import Enum\n\nimport numpy as np\nfrom pydrake.all import (AbstractValue, AddMultibodyPlantSceneGraph, AngleAxis,\n                         Concatenate, DiagramBuilder, InputPortIndex,\n                         LeafSystem, MeshcatVisualizer, Parser,\n                         PiecewisePolynomial, PiecewisePose, PointCloud, RandomGenerator, RigidTransform,\n                         RollPitchYaw, Simulator, StartMeshcat,\n                         UniformlyRandomRotationMatrix,\n                         BsplineTrajectory, Sphere, Rgba,\n                         KinematicTrajectoryOptimization, Solve, MinimumDistanceConstraint,\n                         PositionConstraint)\n\nfrom manipulation import FindResource, running_as_notebook\nfrom manipulation.meshcat_utils import AddMeshcatTriad\nfrom manipulation.scenarios import (AddPackagePaths,\n                                    MakeManipulationStation, AddIiwa, AddShape, AddWsg, AddMultibodyTriad)\n\nclass NoDiffIKWarnings(logging.Filter):\n    def filter(self, record):\n        return not record.getMessage().startswith('Differential IK')\n\nlogging.getLogger(\"drake\").addFilter(NoDiffIKWarnings())\n\nfrom utils import *",
   "execution_count": null,
   "outputs": []
  },
  {
   "cell_type": "code",
   "metadata": {
    "deepnote_to_be_reexecuted": false,
    "execution_millis": 1039,
    "execution_start": 1669599823170,
    "source_hash": "6d42057f",
    "cell_id": "00001-fddaebd3-3191-4a52-bebe-5253ed449341",
    "deepnote_cell_type": "code",
    "deepnote_cell_height": 175.90625,
    "deepnote_output_heights": [
     null,
     20.1875
    ]
   },
   "source": "# Start the visualizer.\nmeshcat = StartMeshcat()",
   "execution_count": null,
   "outputs": [
    {
     "name": "stderr",
     "text": "INFO:drake:Meshcat listening for connections at https://68a898be-bd4e-4046-916a-6293aadf6c5d.deepnoteproject.com/7002/\n",
     "output_type": "stream"
    },
    {
     "data": {
      "text/plain": "<IPython.core.display.HTML object>",
      "text/html": "Meshcat URL: <a href='https://68a898be-bd4e-4046-916a-6293aadf6c5d.deepnoteproject.com/7002/' target='_blank'>https://68a898be-bd4e-4046-916a-6293aadf6c5d.deepnoteproject.com/7002/</a>"
     },
     "metadata": {},
     "output_type": "display_data"
    }
   ]
  },
  {
   "cell_type": "code",
   "metadata": {
    "deepnote_to_be_reexecuted": false,
    "execution_millis": 906,
    "execution_start": 1669599823333,
    "source_hash": "ce7ed433",
    "tags": [],
    "cell_id": "00002-c26bce69-d408-417b-be29-6a0c19c7e0f7",
    "deepnote_cell_type": "code",
    "deepnote_cell_height": 716.546875
   },
   "source": "squash_ball_radius = 0.02\np_GB_G = [0, 0.07, 0]\ndef add_target_objects(X_WThrow, X_WCatch):\n    p_ThrowB_W = X_WThrow.rotation() @ p_GB_G\n    X_WThrowB_W = RigidTransform(X_WThrow.rotation(), X_WThrow.translation() +  p_ThrowB_W)\n    p_CatchB_W = X_WCatch.rotation() @ p_GB_G\n    X_WCatchB_W = RigidTransform(X_WCatch.rotation(), X_WCatch.translation() +  p_CatchB_W)\n    meshcat.SetObject(\"throw\", Sphere(squash_ball_radius), rgba=Rgba(.9, .1, .1, 1))\n    meshcat.SetTransform(\"throw\", X_WThrowB_W)\n    meshcat.SetObject(\"catch\", Sphere(squash_ball_radius), rgba=Rgba(.1, .9, .1, 1))\n    meshcat.SetTransform(\"catch\", X_WCatchB_W)\n\nq_Throw = np.array([-0.54, 0.58, 0, -1.79, 0, -0.79, 0])\np_WThrow = [0.57, -0.34, 0.39]\nR_WThrow = RollPitchYaw([-np.pi, 0.00, 1.03])\n\nq_Catch = np.array([-0.74, 0.58, 0, -1.79, 0, -0.79, 0])\np_WCatch = [0.49, -0.45, 0.39]\nR_WCatch = RollPitchYaw([-np.pi, 0.00, 0.83])\n\nX_WThrow = RigidTransform(R_WThrow, p_WThrow)\nX_WCatch = RigidTransform(R_WCatch, p_WCatch)\n\nmax_height = 0.5 # Max height ball will reach in meters\nV_Throw, V_Catch, t_duration = calculate_ball_vels(X_WThrow.translation(), X_WCatch.translation(), max_height)\nconverter = SpatialVelToJointVelConverter()\nv_Throw = converter(q_Throw, V_Throw)\nv_Catch = converter(q_Catch,V_Catch)",
   "execution_count": null,
   "outputs": [
    {
     "name": "stderr",
     "text": "/root/work/one_arm_juggling/utils.py:53: DrakeDeprecationWarning: (Deprecated) See ForcedPublish() \n*/ (Deprecated.)\n\nDeprecated:\n    Use ForcedPublish() instead This will be removed from Drake on or\n    after 2023-03-01.\n  diagram.Publish(context)\n",
     "output_type": "stream"
    }
   ]
  },
  {
   "cell_type": "code",
   "metadata": {
    "deepnote_to_be_reexecuted": false,
    "execution_millis": 1,
    "execution_start": 1669599823391,
    "source_hash": "bbc81725",
    "tags": [],
    "cell_id": "00003-b937dbdd-2df9-4467-b1d7-0441c81652bc",
    "deepnote_cell_type": "code",
    "deepnote_cell_height": 1803.953125
   },
   "source": "def make_kin_traj_opt_trajectory(q_Throw, q_Catch, v_Throw, v_Catch, t_duration):\n    # meshcat.Delete()\n    builder = DiagramBuilder()\n\n    plant, scene_graph = AddMultibodyPlantSceneGraph(builder, time_step=0.001)\n\n    parser = Parser(plant)\n    AddPackagePaths(parser)\n    iiwa = AddIiwa(plant, collision_model=\"with_box_collision\")\n    wsg = AddWsg(plant, iiwa, welded=True, sphere=True)\n\n    num_control_points = 21\n\n    plant.Finalize()\n\n    diagram = builder.Build()\n    context = diagram.CreateDefaultContext()\n    plant_context = plant.GetMyContextFromRoot(context)\n    \n    gripper_frame = plant.GetFrameByName(\"body\", wsg)\n    trajopt = KinematicTrajectoryOptimization(plant.num_positions(), num_control_points)\n    prog = trajopt.get_mutable_prog()\n\n    q_guess = np.tile(q_Catch.reshape((7,1)), (1, trajopt.num_control_points()))\n    q_guess[0,:] = np.linspace(q_Catch[0], q_Throw[0], trajopt.num_control_points())\n    path_guess = BsplineTrajectory(trajopt.basis(), q_guess)\n    trajopt.SetInitialGuess(path_guess)\n    \n    trajopt.AddPathLengthCost(1)\n    # Add cost for acceleration?\n\n    trajopt.AddPositionBounds(plant.GetPositionLowerLimits(),\n                              plant.GetPositionUpperLimits())\n    trajopt.AddVelocityBounds(plant.GetVelocityLowerLimits(),\n                              plant.GetVelocityUpperLimits())\n\n    trajopt.AddDurationConstraint(2 * t_duration, 2 * t_duration) # DIFF\n\n    # constrain positions in joint angles\n    trajopt.AddPathPositionConstraint(q_Catch, q_Catch, 0)\n    trajopt.AddPathPositionConstraint(q_Throw, q_Throw, 0.5)\n    trajopt.AddPathPositionConstraint(q_Catch, q_Catch, 1)\n\n    prog.AddQuadraticErrorCost(np.eye(7), q_Catch,\n                               trajopt.control_points()[:, 0])\n    \n    prog.AddQuadraticErrorCost(np.eye(7), q_Throw,\n                               trajopt.control_points()[:, np.round(num_control_points/2).astype(int)])\n\n    # return to start\n    prog.AddQuadraticErrorCost(np.eye(7), q_Catch,\n                               trajopt.control_points()[:, -1])\n    \n\n    v_Throw.reshape(7,1)\n    v_Catch.reshape(7,1)\n    trajopt.AddPathVelocityConstraint(v_Catch,v_Catch, 0)\n    trajopt.AddPathVelocityConstraint(v_Throw,v_Throw, 0.5)\n    trajopt.AddPathVelocityConstraint(v_Catch,v_Catch, 1)\n\n    # print(prog)\n    # Solve once without the collisions and set that as the initial guess for\n    # the version with collisions.\n    result = Solve(prog)\n    if not result.is_success():\n        print(\"Trajectory optimization failed, even without collisions!\")\n        print(result.get_solver_id().name())\n    \n    traj = trajopt.ReconstructTrajectory(result)\n    # print(f\"kin traj opt initial t:{traj.start_time()} q: {traj.InitialValue()}\")\n    # print(f\"kin traj opt final t:{traj.end_time()} q: {traj.FinalValue()}\")\n    \n    trajopt.SetPathInitialGuess(trajopt.ReconstructTrajectory(result))\n\n    PublishPositionTrajectory(trajopt.ReconstructTrajectory(result), context, plant,\n                              visualizer)\n    # collision_visualizer.Publish(\n    #     collision_visualizer.GetMyContextFromRoot(context))\n\n    return traj\n    \n    # collision constraints\n    collision_constraint = MinimumDistanceConstraint(plant, 0.001,\n                                                     plant_context, None, 0.01)\n    evaluate_at_s = np.linspace(0, 1, 25)\n    for s in evaluate_at_s:\n        trajopt.AddPathConstraint(collision_constraint, s)\n\n    result = Solve(prog)\n    if not result.is_success():\n        print(\"Trajectory optimization failed\")\n        print(result.get_solver_id().name())\n\n    PublishPositionTrajectory(trajopt.ReconstructTrajectory(result), context, plant,\n                              visualizer)\n    collision_visualizer.Publish(\n        collision_visualizer.GetMyContextFromRoot(context))",
   "execution_count": null,
   "outputs": []
  },
  {
   "cell_type": "code",
   "metadata": {
    "deepnote_to_be_reexecuted": false,
    "execution_millis": 2,
    "execution_start": 1669599823392,
    "source_hash": "95a2f351",
    "cell_id": "00004-cbde14fa-5f48-4c3c-b703-bc7551ef7440",
    "deepnote_cell_type": "code",
    "deepnote_cell_height": 2901.953125
   },
   "source": "rs = np.random.RandomState()  # this is for python\ngenerator = RandomGenerator(rs.randint(1000))  # this is for c++\n\nclass PlannerState(Enum):\n    WAIT_FOR_OBJECTS_TO_SETTLE = 1\n    PERPETUAL_MOTION = 2\n    THINKING = 3\n\nclass Planner(LeafSystem):\n    def __init__(self, plant):\n        LeafSystem.__init__(self)\n        self.DeclareAbstractInputPort(\n            \"body_poses\", AbstractValue.Make([RigidTransform()]))\n        self._throw_pose_index = self.DeclareAbstractInputPort(\n            \"throw_pose\", AbstractValue.Make(\n                (np.inf, RigidTransform()))).get_index()\n        self._catch_pose_index = self.DeclareAbstractInputPort(\n            \"catch_pose\", AbstractValue.Make(\n                (np.inf, RigidTransform()))).get_index()\n        self._wsg_state_index = self.DeclareVectorInputPort(\"wsg_state\",\n                                                            2).get_index()\n\n        self._mode_index = self.DeclareAbstractState(\n            AbstractValue.Make(PlannerState.WAIT_FOR_OBJECTS_TO_SETTLE))\n        self._traj_wsg_index = self.DeclareAbstractState(\n            AbstractValue.Make(PiecewisePolynomial()))\n        self._times_index = self.DeclareAbstractState(AbstractValue.Make(\n            {\"initial\": 0.0}))\n        \n        self._traj_start_time_index = self.DeclareAbstractState(\n            AbstractValue.Make(0.0)\n        )\n\n        self.DeclareVectorOutputPort(\"wsg_position\", 1, self.CalcWsgPosition)\n\n        # For Perpetual Motion mode.\n        num_positions = 7\n        self._iiwa_position_index = self.DeclareVectorInputPort(\n            \"iiwa_position\", num_positions).get_index()\n        \n        self._q0_index = self.DeclareDiscreteState(num_positions)  # for q0\n        \n        self.DeclareVectorOutputPort(\"iiwa_position_command\", num_positions,\n                                     self.CalcIiwaPosition)\n        \n        self._traj_arm_q_index = self.DeclareAbstractState(\n            AbstractValue.Make(BsplineTrajectory())\n        )\n\n        self.DeclareInitializationDiscreteUpdateEvent(self.Initialize)\n\n        self.DeclarePeriodicUnrestrictedUpdateEvent(0.1, 0.0, self.Update)\n\n    def Update(self, context, state):\n        mode = context.get_abstract_state(int(self._mode_index)).get_value()\n\n        current_time = context.get_time()\n        times = context.get_abstract_state(int(\n            self._times_index)).get_value()\n\n        if mode == PlannerState.WAIT_FOR_OBJECTS_TO_SETTLE:\n            if context.get_time() - times[\"initial\"] > 1.0:\n                self.GoCatchThrow(context, state)\n            return\n        elif mode == PlannerState.PERPETUAL_MOTION:\n            traj_q = context.get_mutable_abstract_state(int(\n                self._traj_arm_q_index)).get_value()\n            traj_start_time = context.get_mutable_abstract_state(int(\n                self._traj_start_time_index)).get_value()\n            if traj_start_time + traj_q.end_time() <= current_time:\n                state.get_mutable_abstract_state(int(\n                    self._traj_start_time_index)).set_value(current_time)\n                # print(\"restarting loop\")\n                # self.GoCatchThrow(context, state)\n            return\n        elif mode == PlannerState.THINKING:\n            print(\"am thinking\")\n        return\n\n    def GoCatchThrow(self, context, state):\n        print(\"GoCatchThrow\")\n        \n        current_time = context.get_time()\n        q_traj = make_kin_traj_opt_trajectory(q_Throw, q_Catch, v_Throw, v_Catch, t_duration)\n        \n        state.get_mutable_abstract_state(int(\n            self._traj_start_time_index)).set_value(current_time)\n        state.get_mutable_abstract_state(int(\n            self._traj_arm_q_index)).set_value(q_traj)\n        \n        state.get_mutable_abstract_state(int(\n            self._mode_index)).set_value(\n                PlannerState.PERPETUAL_MOTION)\n\n        # WSG Gripper Trajectory\n        opened = np.array([0.05])\n        closed = np.array([0.03])\n        throw_time = t_duration\n        catch_time = t_duration*2\n        buff = 0.005\n        # Throw - Catch - Throw\n        # times = [0, catch_time-buff, catch_time, throw_time-buff, throw_time]\n        # positions = np.hstack([[opened], [opened], [closed], [closed], [opened]])\n        # Catch - Throw - Catch\n        times = [0, throw_time-buff, throw_time, catch_time-buff, catch_time]\n        positions = np.hstack([[closed], [closed], [opened], [opened], [closed]])\n\n        traj_wsg_command = PiecewisePolynomial.FirstOrderHold(times, positions)\n\n        state.get_mutable_abstract_state(int(\n            self._traj_wsg_index)).set_value(traj_wsg_command)\n\n    def Plan(self, context, state):\n        mode = copy(\n            state.get_mutable_abstract_state(int(self._mode_index)).get_value())\n\n    def CalcWsgPosition(self, context, output):\n        mode = context.get_abstract_state(int(self._mode_index)).get_value()\n        opened = np.array([0.107])\n        closed = np.array([0.0])\n\n        if mode == PlannerState.PERPETUAL_MOTION:\n            traj_wsg = context.get_abstract_state(int(\n                self._traj_wsg_index)).get_value()\n            traj_start_time = context.get_mutable_abstract_state(int(\n                    self._traj_start_time_index)).get_value()\n\n            # Evaluate the trajectory at the current time, and write it to the\n            # output port.\n            output.SetFromVector(traj_wsg.value(context.get_time()-traj_start_time))\n            return\n        else:\n            # Command the open position\n            output.SetFromVector([opened])\n            return\n\n    def Initialize(self, context, discrete_state):\n        discrete_state.set_value(\n            int(self._q0_index),\n            self.get_input_port(int(self._iiwa_position_index)).Eval(context))\n\n    def CalcIiwaPosition(self, context, output):\n        mode = context.get_abstract_state(int(self._mode_index)).get_value()\n        \n        if mode == PlannerState.PERPETUAL_MOTION:\n            traj_q = context.get_mutable_abstract_state(int(\n                    self._traj_arm_q_index)).get_value()\n            traj_start_time = context.get_mutable_abstract_state(int(\n                    self._traj_start_time_index)).get_value()\n            # print(f\"{context.get_time()}: {traj_q.value(context.get_time())}\")\n            output.SetFromVector(\n                traj_q.value(\n                    context.get_time()-traj_start_time))\n        else:\n            q_Throw = np.array([-0.54, 0.58, 0, -1.79, 0, -0.79, 0])\n            output.SetFromVector(q_Throw)\n\n",
   "execution_count": null,
   "outputs": []
  },
  {
   "cell_type": "code",
   "metadata": {
    "deepnote_to_be_reexecuted": false,
    "execution_start": 1669599823717,
    "source_hash": "b0a02446",
    "execution_millis": 13709,
    "output_cleared": false,
    "cell_id": "00005-6edbd3ec-cea0-4bfe-b621-1d5f81786722",
    "deepnote_cell_type": "code",
    "deepnote_cell_height": 2189.71875
   },
   "source": "def clutter_clearing_demo():\n    meshcat.Delete()\n    builder = DiagramBuilder()\n\n    model_directives = \"\"\"\ndirectives:\n- add_model:\n    name: iiwa\n    file: package://drake/manipulation/models/iiwa_description/iiwa7/iiwa7_no_collision.sdf\n    default_joint_positions:\n        iiwa_joint_1: [-1.57]\n        iiwa_joint_2: [0.1]\n        iiwa_joint_3: [0]\n        iiwa_joint_4: [-1.2]\n        iiwa_joint_5: [0]\n        iiwa_joint_6: [ 1.6]\n        iiwa_joint_7: [0]\n- add_weld:\n    parent: world\n    child: iiwa::iiwa_link_0\n- add_model:\n    name: wsg\n    file: package://drake/manipulation/models/wsg_50_description/sdf/schunk_wsg_50_with_tip.sdf\n- add_weld:\n    parent: iiwa::iiwa_link_7\n    child: wsg::body\n    X_PC:\n        translation: [0, 0, 0.09]\n        rotation: !Rpy { deg: [90, 0, 90]}\n- add_model:\n    name: floor\n    file: package://manipulation/floor.sdf\n- add_weld:\n    parent: world\n    child: floor::box\n    X_PC:\n        translation: [0, 0, -.5]\n- add_frame:\n    name: camera0_origin\n    X_PF:\n        base_frame: world\n        rotation: !Rpy { deg: [-130.0, 0, 90.0]}\n        translation: [.25, -.5, .4]\n- add_model:\n    name: camera0\n    file: package://manipulation/camera_box.sdf\n- add_weld:\n    parent: camera0_origin\n    child: camera0::base\n\"\"\"\n\n    for i in range(1 if running_as_notebook else 2):\n        model_directives += f\"\"\"\n- add_model:\n    name: ball{i}\n    file: package://one_arm_juggling/models/ball.sdf\n\"\"\"\n\n    station = builder.AddSystem(MakeManipulationStation(model_directives, package_xmls=[\"./package.xml\"], time_step=0.001))\n\n    plant = station.GetSubsystemByName(\"plant\")\n    planner = builder.AddSystem(Planner(plant))\n    builder.Connect(station.GetOutputPort(\"body_poses\"),\n                    planner.GetInputPort(\"body_poses\"))\n    # # TODO: another system should output the throw and catch points\n    # # builder.Connect(x_bin_grasp_selector.get_output_port(),\n    # #                 planner.GetInputPort(\"x_bin_grasp\"))\n    # # builder.Connect(y_bin_grasp_selector.get_output_port(),\n    # #                 planner.GetInputPort(\"y_bin_grasp\"))\n    builder.Connect(station.GetOutputPort(\"wsg_state_measured\"),\n                    planner.GetInputPort(\"wsg_state\"))\n    builder.Connect(station.GetOutputPort(\"iiwa_position_measured\"),\n                    planner.GetInputPort(\"iiwa_position\"))\n\n    builder.Connect(planner.GetOutputPort(\"wsg_position\"),\n                    station.GetInputPort(\"wsg_position\"))\n\n    builder.Connect(planner.GetOutputPort(\"iiwa_position_command\"),\n                    station.GetInputPort(\"iiwa_position\"))\n\n    visualizer = MeshcatVisualizer.AddToBuilder(\n        builder, station.GetOutputPort(\"query_object\"), meshcat)\n    collision_visualizer = MeshcatVisualizer.AddToBuilder(\n         builder, station.GetOutputPort(\"query_object\"), meshcat,\n        MeshcatVisualizerParams(prefix=\"collision\", role=Role.kProximity))\n    meshcat.SetProperty(\"collision\", \"visible\", False)\n    diagram = builder.Build()\n\n    simulator = Simulator(diagram)\n    context = simulator.get_context()\n    add_target_objects(X_WThrow, X_WCatch)\n\n    plant_context = plant.GetMyMutableContextFromRoot(context)\n    for body_index in plant.GetFloatingBaseBodies():\n        tf = RigidTransform(X_WCatch.rotation(), X_WCatch.translation() + np.array([0,0,4.9]))\n        plant.SetFreeBodyPose(plant_context,\n                              plant.get_body(body_index),\n                              tf)\n    \n    simulator.AdvanceTo(0.1)\n    meshcat.Flush()  # Wait for the large object meshes to get to meshcat.\n\n    if running_as_notebook:\n        simulator.set_target_realtime_rate(0.1)\n        meshcat.AddButton(\"Stop Simulation\", \"Escape\")\n        print(\"Press Escape to stop the simulation\")\n        while meshcat.GetButtonClicks(\"Stop Simulation\") < 1:\n            simulator.AdvanceTo(simulator.get_context().get_time() + 2.0)\n        meshcat.DeleteButton(\"Stop Simulation\")\n\nclutter_clearing_demo()",
   "execution_count": null,
   "outputs": [
    {
     "name": "stdout",
     "text": "Press Escape to stop the simulation\nGoCatchThrow\n",
     "output_type": "stream"
    },
    {
     "output_type": "error",
     "ename": "AttributeError",
     "evalue": "'pydrake.systems.trajectory_optimization.KinematicT' object has no attribute 'SetPathInitialGuess'",
     "traceback": [
      "\u001b[0;31m---------------------------------------------------------------------------\u001b[0m",
      "\u001b[0;31mAttributeError\u001b[0m                            Traceback (most recent call last)",
      "Cell \u001b[0;32mIn [6], line 111\u001b[0m\n\u001b[1;32m    108\u001b[0m             simulator\u001b[38;5;241m.\u001b[39mAdvanceTo(simulator\u001b[38;5;241m.\u001b[39mget_context()\u001b[38;5;241m.\u001b[39mget_time() \u001b[38;5;241m+\u001b[39m \u001b[38;5;241m2.0\u001b[39m)\n\u001b[1;32m    109\u001b[0m         meshcat\u001b[38;5;241m.\u001b[39mDeleteButton(\u001b[38;5;124m\"\u001b[39m\u001b[38;5;124mStop Simulation\u001b[39m\u001b[38;5;124m\"\u001b[39m)\n\u001b[0;32m--> 111\u001b[0m \u001b[43mclutter_clearing_demo\u001b[49m\u001b[43m(\u001b[49m\u001b[43m)\u001b[49m\n",
      "Cell \u001b[0;32mIn [6], line 108\u001b[0m, in \u001b[0;36mclutter_clearing_demo\u001b[0;34m()\u001b[0m\n\u001b[1;32m    106\u001b[0m \u001b[38;5;28mprint\u001b[39m(\u001b[38;5;124m\"\u001b[39m\u001b[38;5;124mPress Escape to stop the simulation\u001b[39m\u001b[38;5;124m\"\u001b[39m)\n\u001b[1;32m    107\u001b[0m \u001b[38;5;28;01mwhile\u001b[39;00m meshcat\u001b[38;5;241m.\u001b[39mGetButtonClicks(\u001b[38;5;124m\"\u001b[39m\u001b[38;5;124mStop Simulation\u001b[39m\u001b[38;5;124m\"\u001b[39m) \u001b[38;5;241m<\u001b[39m \u001b[38;5;241m1\u001b[39m:\n\u001b[0;32m--> 108\u001b[0m     \u001b[43msimulator\u001b[49m\u001b[38;5;241;43m.\u001b[39;49m\u001b[43mAdvanceTo\u001b[49m\u001b[43m(\u001b[49m\u001b[43msimulator\u001b[49m\u001b[38;5;241;43m.\u001b[39;49m\u001b[43mget_context\u001b[49m\u001b[43m(\u001b[49m\u001b[43m)\u001b[49m\u001b[38;5;241;43m.\u001b[39;49m\u001b[43mget_time\u001b[49m\u001b[43m(\u001b[49m\u001b[43m)\u001b[49m\u001b[43m \u001b[49m\u001b[38;5;241;43m+\u001b[39;49m\u001b[43m \u001b[49m\u001b[38;5;241;43m2.0\u001b[39;49m\u001b[43m)\u001b[49m\n\u001b[1;32m    109\u001b[0m meshcat\u001b[38;5;241m.\u001b[39mDeleteButton(\u001b[38;5;124m\"\u001b[39m\u001b[38;5;124mStop Simulation\u001b[39m\u001b[38;5;124m\"\u001b[39m)\n",
      "Cell \u001b[0;32mIn [5], line 63\u001b[0m, in \u001b[0;36mPlanner.Update\u001b[0;34m(self, context, state)\u001b[0m\n\u001b[1;32m     61\u001b[0m \u001b[38;5;28;01mif\u001b[39;00m mode \u001b[38;5;241m==\u001b[39m PlannerState\u001b[38;5;241m.\u001b[39mWAIT_FOR_OBJECTS_TO_SETTLE:\n\u001b[1;32m     62\u001b[0m     \u001b[38;5;28;01mif\u001b[39;00m context\u001b[38;5;241m.\u001b[39mget_time() \u001b[38;5;241m-\u001b[39m times[\u001b[38;5;124m\"\u001b[39m\u001b[38;5;124minitial\u001b[39m\u001b[38;5;124m\"\u001b[39m] \u001b[38;5;241m>\u001b[39m \u001b[38;5;241m1.0\u001b[39m:\n\u001b[0;32m---> 63\u001b[0m         \u001b[38;5;28;43mself\u001b[39;49m\u001b[38;5;241;43m.\u001b[39;49m\u001b[43mGoCatchThrow\u001b[49m\u001b[43m(\u001b[49m\u001b[43mcontext\u001b[49m\u001b[43m,\u001b[49m\u001b[43m \u001b[49m\u001b[43mstate\u001b[49m\u001b[43m)\u001b[49m\n\u001b[1;32m     64\u001b[0m     \u001b[38;5;28;01mreturn\u001b[39;00m\n\u001b[1;32m     65\u001b[0m \u001b[38;5;28;01melif\u001b[39;00m mode \u001b[38;5;241m==\u001b[39m PlannerState\u001b[38;5;241m.\u001b[39mPERPETUAL_MOTION:\n",
      "Cell \u001b[0;32mIn [5], line 84\u001b[0m, in \u001b[0;36mPlanner.GoCatchThrow\u001b[0;34m(self, context, state)\u001b[0m\n\u001b[1;32m     81\u001b[0m \u001b[38;5;28mprint\u001b[39m(\u001b[38;5;124m\"\u001b[39m\u001b[38;5;124mGoCatchThrow\u001b[39m\u001b[38;5;124m\"\u001b[39m)\n\u001b[1;32m     83\u001b[0m current_time \u001b[38;5;241m=\u001b[39m context\u001b[38;5;241m.\u001b[39mget_time()\n\u001b[0;32m---> 84\u001b[0m q_traj \u001b[38;5;241m=\u001b[39m \u001b[43mmake_kin_traj_opt_trajectory\u001b[49m\u001b[43m(\u001b[49m\u001b[43mq_Throw\u001b[49m\u001b[43m,\u001b[49m\u001b[43m \u001b[49m\u001b[43mq_Catch\u001b[49m\u001b[43m,\u001b[49m\u001b[43m \u001b[49m\u001b[43mv_Throw\u001b[49m\u001b[43m,\u001b[49m\u001b[43m \u001b[49m\u001b[43mv_Catch\u001b[49m\u001b[43m,\u001b[49m\u001b[43m \u001b[49m\u001b[43mt_duration\u001b[49m\u001b[43m)\u001b[49m\n\u001b[1;32m     86\u001b[0m state\u001b[38;5;241m.\u001b[39mget_mutable_abstract_state(\u001b[38;5;28mint\u001b[39m(\n\u001b[1;32m     87\u001b[0m     \u001b[38;5;28mself\u001b[39m\u001b[38;5;241m.\u001b[39m_traj_start_time_index))\u001b[38;5;241m.\u001b[39mset_value(current_time)\n\u001b[1;32m     88\u001b[0m state\u001b[38;5;241m.\u001b[39mget_mutable_abstract_state(\u001b[38;5;28mint\u001b[39m(\n\u001b[1;32m     89\u001b[0m     \u001b[38;5;28mself\u001b[39m\u001b[38;5;241m.\u001b[39m_traj_arm_q_index))\u001b[38;5;241m.\u001b[39mset_value(q_traj)\n",
      "Cell \u001b[0;32mIn [4], line 73\u001b[0m, in \u001b[0;36mmake_kin_traj_opt_trajectory\u001b[0;34m(q_Throw, q_Catch, v_Throw, v_Catch, t_duration)\u001b[0m\n\u001b[1;32m     69\u001b[0m traj \u001b[38;5;241m=\u001b[39m trajopt\u001b[38;5;241m.\u001b[39mReconstructTrajectory(result)\n\u001b[1;32m     70\u001b[0m \u001b[38;5;66;03m# print(f\"kin traj opt initial t:{traj.start_time()} q: {traj.InitialValue()}\")\u001b[39;00m\n\u001b[1;32m     71\u001b[0m \u001b[38;5;66;03m# print(f\"kin traj opt final t:{traj.end_time()} q: {traj.FinalValue()}\")\u001b[39;00m\n\u001b[0;32m---> 73\u001b[0m \u001b[43mtrajopt\u001b[49m\u001b[38;5;241;43m.\u001b[39;49m\u001b[43mSetPathInitialGuess\u001b[49m(trajopt\u001b[38;5;241m.\u001b[39mReconstructTrajectory(result))\n\u001b[1;32m     75\u001b[0m PublishPositionTrajectory(trajopt\u001b[38;5;241m.\u001b[39mReconstructTrajectory(result), context, plant,\n\u001b[1;32m     76\u001b[0m                           visualizer)\n\u001b[1;32m     77\u001b[0m \u001b[38;5;66;03m# collision_visualizer.Publish(\u001b[39;00m\n\u001b[1;32m     78\u001b[0m \u001b[38;5;66;03m#     collision_visualizer.GetMyContextFromRoot(context))\u001b[39;00m\n",
      "\u001b[0;31mAttributeError\u001b[0m: 'pydrake.systems.trajectory_optimization.KinematicT' object has no attribute 'SetPathInitialGuess'"
     ]
    }
   ]
  },
  {
   "cell_type": "code",
   "metadata": {
    "tags": [],
    "deepnote_to_be_reexecuted": true,
    "source_hash": "b623e53d",
    "execution_start": 1667955671684,
    "cell_id": "00006-6a0e9f73-618c-4135-ac15-a33fefa841d1",
    "deepnote_cell_type": "code",
    "deepnote_cell_height": 75.953125
   },
   "source": "",
   "execution_count": null,
   "outputs": []
  },
  {
   "cell_type": "markdown",
   "source": "<a style='text-decoration:none;line-height:16px;display:flex;color:#5B5B62;padding:10px;justify-content:end;' href='https://deepnote.com?utm_source=created-in-deepnote-cell&projectId=68a898be-bd4e-4046-916a-6293aadf6c5d' target=\"_blank\">\n<img alt='Created in deepnote.com' style='display:inline;max-height:16px;margin:0px;margin-right:7.5px;' src='data:image/svg+xml;base64,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' > </img>\nCreated in <span style='font-weight:600;margin-left:4px;'>Deepnote</span></a>",
   "metadata": {
    "tags": [],
    "created_in_deepnote_cell": true,
    "deepnote_cell_type": "markdown"
   }
  }
 ],
 "nbformat": 4,
 "nbformat_minor": 1,
 "metadata": {
  "colab": {
   "collapsed_sections": [],
   "name": "Robotic Manipulation - Geometric Pose Estimation.ipynb",
   "provenance": [],
   "toc_visible": true
  },
  "deepnote": {},
  "deepnote_execution_queue": [],
  "deepnote_notebook_id": "c66c4700-558f-4c30-9cf9-f7f136e72484",
  "kernelspec": {
   "display_name": "Python 3.10.8 64-bit",
   "language": "python",
   "name": "python3"
  },
  "language_info": {
   "codemirror_mode": {
    "name": "ipython",
    "version": 3
   },
   "file_extension": ".py",
   "mimetype": "text/x-python",
   "name": "python",
   "nbconvert_exporter": "python",
   "pygments_lexer": "ipython3",
   "version": "3.10.8"
  },
  "metadata": {
   "interpreter": {
    "hash": "aee8b7b246df8f9039afb4144a1f6fd8d2ca17a180786b69acc140d282b71a49"
   }
  },
  "vscode": {
   "interpreter": {
    "hash": "aee8b7b246df8f9039afb4144a1f6fd8d2ca17a180786b69acc140d282b71a49"
   }
  }
 }
}