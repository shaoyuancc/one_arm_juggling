{
 "cells": [
  {
   "cell_type": "code",
   "metadata": {
    "colab": {},
    "colab_type": "code",
    "deepnote_to_be_reexecuted": false,
    "execution_millis": 260,
    "execution_start": 1669753447033,
    "id": "eeMrMI0-1Dhu",
    "source_hash": "6ad5a005",
    "cell_id": "f84d0387-bc56-4b5e-bf0a-2971639de375",
    "deepnote_cell_type": "code",
    "deepnote_cell_height": 238
   },
   "source": "import numpy as np\n\nfrom pydrake.all import (AddMultibodyPlantSceneGraph,\n                         DiagramBuilder,\n                         RigidTransform,\n                         BsplineTrajectory,\n                         KinematicTrajectoryOptimization,\n                         SnoptSolver)\n\nfrom manipulation.scenarios import (AddIiwa, AddWsg)",
   "execution_count": null,
   "outputs": []
  },
  {
   "cell_type": "code",
   "metadata": {
    "deepnote_to_be_reexecuted": false,
    "execution_millis": 4,
    "execution_start": 1669754120148,
    "source_hash": "8be40752",
    "tags": [],
    "cell_id": "00001-68a0b29a-7693-49b6-b3a0-55ff15cdc357",
    "deepnote_cell_type": "code",
    "deepnote_cell_height": 1323
   },
   "source": "# Joint position and velocity constraints\ndef make_kin_traj_opt_trajectory(q_Throw, q_Catch, v_Throw, v_Catch, t_duration):\n    # Set up plant\n    builder = DiagramBuilder()\n    plant, scene_graph = AddMultibodyPlantSceneGraph(builder, time_step=0.001)\n    iiwa = AddIiwa(plant)\n    wsg = AddWsg(plant, iiwa, welded=True, sphere=True)\n    gripper_frame = plant.GetFrameByName(\"body\", wsg)\n    plant.Finalize()\n    diagram = builder.Build()\n    context = diagram.CreateDefaultContext()\n    plant_context = plant.GetMyContextFromRoot(context)\n\n    # Initialize KinTrajOpt\n    num_positions = 7\n    num_control_points = 21\n    trajopt = KinematicTrajectoryOptimization(num_positions, num_control_points)\n    prog = trajopt.get_mutable_prog()\n\n    # Provide Initial Guess\n    q_guess = np.tile(q_Catch.reshape((num_positions,1)), (1, trajopt.num_control_points()))\n    q_guess[0,:] = np.linspace(q_Catch[0], q_Throw[0], trajopt.num_control_points())\n    path_guess = BsplineTrajectory(trajopt.basis(), q_guess)\n    trajopt.SetInitialGuess(path_guess)\n    \n    # Add Position and Velocity Bounds based on iiwa\n    trajopt.AddPositionBounds(plant.GetPositionLowerLimits()[:num_positions],\n                              plant.GetPositionUpperLimits()[:num_positions])\n    trajopt.AddVelocityBounds(plant.GetVelocityLowerLimits()[:num_positions],\n                              plant.GetVelocityUpperLimits()[:num_positions])\n    \n    # Constrain duration to be exact duration\n    trajopt.AddDurationConstraint(2 * t_duration, 2 * t_duration)\n\n    # Constrain positions in joint angles\n    trajopt.AddPathPositionConstraint(q_Catch, q_Catch, 0)\n    trajopt.AddPathPositionConstraint(q_Throw, q_Throw, 0.5)\n    trajopt.AddPathPositionConstraint(q_Catch, q_Catch, 1)\n\n    # Add Costs\n    trajopt.AddPathLengthCost(1)\n\n    prog.AddQuadraticErrorCost(np.eye(7), q_Catch,\n                               trajopt.control_points()[:, 0])\n    \n    prog.AddQuadraticErrorCost(np.eye(7), q_Throw,\n                               trajopt.control_points()[:, np.round(num_control_points/2).astype(int)])\n\n    prog.AddQuadraticErrorCost(np.eye(7), q_Catch,\n                               trajopt.control_points()[:, -1])\n\n    trajopt.AddPathVelocityConstraint(v_Catch,v_Catch, 0)\n    trajopt.AddPathVelocityConstraint(v_Throw,v_Throw, 0.5)\n    trajopt.AddPathVelocityConstraint(v_Catch,v_Catch, 1)\n\n\n    solver = SnoptSolver()\n    result = solver.Solve(prog)\n\n    if not result.is_success():\n        print(\"Trajectory optimization failed!\")\n        print(result.get_solver_id().name())\n    else:\n        print(\"Trajectory optimization succeeded!\")\n    \n    pos_traj = trajopt.ReconstructTrajectory(result)\n    # vel_traj = pos_traj.MakeDerivative()\n    # acc_traj = vel_traj.MakeDerivative()\n    \n    return pos_traj",
   "execution_count": null,
   "outputs": []
  },
  {
   "cell_type": "markdown",
   "source": "## EvalDerivative and MakeDerivative Work Different",
   "metadata": {
    "formattedRanges": [],
    "is_collapsed": false,
    "cell_id": "734d35a7cf6243ee8a1ea63af87ab471",
    "tags": [],
    "deepnote_cell_type": "text-cell-h2"
   }
  },
  {
   "cell_type": "markdown",
   "source": "### MakeDerivative returns result beyond trajectory duration while EvalDerivative does not.",
   "metadata": {
    "formattedRanges": [],
    "is_collapsed": false,
    "cell_id": "9476b2b7-f120-496e-9106-c6ad233547f4",
    "tags": [],
    "deepnote_cell_type": "text-cell-h3"
   }
  },
  {
   "cell_type": "markdown",
   "source": "Our total trajectory time is 2 * t_duration. Both EvalDerivative and MakeDerivative work fine within [0, 2*t_duration].",
   "metadata": {
    "formattedRanges": [],
    "is_collapsed": false,
    "cell_id": "69e6c27d-eb93-479a-b9a0-97fa9eb43534",
    "tags": [],
    "deepnote_cell_type": "text-cell-p"
   }
  },
  {
   "cell_type": "markdown",
   "source": "When t > 2*t_duration, MakeDerivative still returns the result but EvalDerivative raises\nan error.",
   "metadata": {
    "formattedRanges": [],
    "is_collapsed": false,
    "cell_id": "2ebeb44a-7bf1-474b-a159-9c6cecc5d893",
    "tags": [],
    "deepnote_cell_type": "text-cell-p"
   }
  },
  {
   "cell_type": "markdown",
   "source": "Our question is why MakeDerivation still returns a result beyond the time period. If this is correct, what does that mean and why EvalDerivation raises an error?",
   "metadata": {
    "formattedRanges": [],
    "is_collapsed": false,
    "cell_id": "00cfb35d-fa5a-4665-8d8f-f4a6bbed3c47",
    "tags": [],
    "deepnote_cell_type": "text-cell-p"
   }
  },
  {
   "cell_type": "code",
   "metadata": {
    "tags": [],
    "deepnote_to_be_reexecuted": false,
    "source_hash": "17e7bc0d",
    "execution_start": 1669754299011,
    "execution_millis": 379,
    "cell_id": "00002-6c5014f4-16e7-4ad4-9fda-8d409b1f7cb0",
    "deepnote_cell_type": "code",
    "deepnote_cell_height": 745.234375
   },
   "source": "t_duration = 0.782\nq_Catch = np.array([-0.74, 0.58, 0, -1.79, 0, -0.79, 0])\nq_Throw = np.array([-0.54, 0.58, 0, -1.79, 0, -0.79, 0])\nv_Catch = np.array([[-0.151], [3.974], [-0.121], [-0.673],[0.039], [1.305], [-0.000]])\nv_Throw = np.array([[-0.151], [-4.050], [-0.121], [0.559], [0.039], [-1.322], [0.000]])\n\npos_traj = make_kin_traj_opt_trajectory(q_Throw, q_Catch, v_Throw, v_Catch, t_duration)\n\nprint()\nprint(f'Vel at {2*t_duration} using MakeDerivative')\nprint(pos_traj.MakeDerivative().value(2*t_duration).flatten())\nprint(f'Vel at {2*t_duration} using EvalDerivative')\nprint(pos_traj.EvalDerivative(2*t_duration, 2).flatten())\n\nprint()\nprint(f'Vel at {2*t_duration+0.001} using MakeDerivative')\nprint(pos_traj.MakeDerivative().value(2*t_duration+0.01).flatten())\nprint(f'Vel at {2*t_duration+0.001} using EvalDerivative')\nprint(pos_traj.EvalDerivative(2*t_duration+0.01, 2).flatten()) # This raises error!",
   "execution_count": null,
   "outputs": [
    {
     "name": "stdout",
     "text": "Trajectory optimization succeeded!\n\nVel at 1.564 using MakeDerivative\n[-0.09654731  2.54092072 -0.07736573 -0.43030691  0.02493606  0.83439898\n  0.        ]\nVel at 1.564 using EvalDerivative\n[11.894913   40.66929479 -2.83542911 -7.7167628   0.91389506 13.40725652\n  0.        ]\n\nVel at 1.565 using MakeDerivative\n[-0.09654731  2.54092072 -0.07736573 -0.43030691  0.02493606  0.83439898\n  0.        ]\nVel at 1.565 using EvalDerivative\n",
     "output_type": "stream"
    },
    {
     "output_type": "error",
     "ename": "IndexError",
     "evalue": "vector::_M_range_check: __n (which is 21) >= this->size() (which is 21)",
     "traceback": [
      "\u001b[0;31m---------------------------------------------------------------------------\u001b[0m",
      "\u001b[0;31mIndexError\u001b[0m                                Traceback (most recent call last)",
      "Cell \u001b[0;32mIn [27], line 21\u001b[0m\n\u001b[1;32m     19\u001b[0m \u001b[38;5;28mprint\u001b[39m(pos_traj\u001b[38;5;241m.\u001b[39mMakeDerivative()\u001b[38;5;241m.\u001b[39mvalue(\u001b[38;5;241m2\u001b[39m\u001b[38;5;241m*\u001b[39mt_duration\u001b[38;5;241m+\u001b[39m\u001b[38;5;241m0.01\u001b[39m)\u001b[38;5;241m.\u001b[39mflatten())\n\u001b[1;32m     20\u001b[0m \u001b[38;5;28mprint\u001b[39m(\u001b[38;5;124mf\u001b[39m\u001b[38;5;124m'\u001b[39m\u001b[38;5;124mVel at \u001b[39m\u001b[38;5;132;01m{\u001b[39;00m\u001b[38;5;241m2\u001b[39m\u001b[38;5;241m*\u001b[39mt_duration\u001b[38;5;241m+\u001b[39m\u001b[38;5;241m0.001\u001b[39m\u001b[38;5;132;01m}\u001b[39;00m\u001b[38;5;124m using EvalDerivative\u001b[39m\u001b[38;5;124m'\u001b[39m)\n\u001b[0;32m---> 21\u001b[0m \u001b[38;5;28mprint\u001b[39m(\u001b[43mpos_traj\u001b[49m\u001b[38;5;241;43m.\u001b[39;49m\u001b[43mEvalDerivative\u001b[49m\u001b[43m(\u001b[49m\u001b[38;5;241;43m2\u001b[39;49m\u001b[38;5;241;43m*\u001b[39;49m\u001b[43mt_duration\u001b[49m\u001b[38;5;241;43m+\u001b[39;49m\u001b[38;5;241;43m0.01\u001b[39;49m\u001b[43m,\u001b[49m\u001b[43m \u001b[49m\u001b[38;5;241;43m2\u001b[39;49m\u001b[43m)\u001b[49m\u001b[38;5;241m.\u001b[39mflatten())\n",
      "\u001b[0;31mIndexError\u001b[0m: vector::_M_range_check: __n (which is 21) >= this->size() (which is 21)"
     ]
    }
   ]
  },
  {
   "cell_type": "code",
   "metadata": {
    "tags": [],
    "deepnote_to_be_reexecuted": true,
    "source_hash": "b623e53d",
    "execution_start": 1669752600690,
    "execution_millis": 1,
    "cell_id": "00004-0d013266-abdd-4560-b063-2f25b3086f90",
    "deepnote_cell_type": "code",
    "deepnote_cell_height": 76
   },
   "source": "",
   "execution_count": null,
   "outputs": []
  },
  {
   "cell_type": "markdown",
   "source": "<a style='text-decoration:none;line-height:16px;display:flex;color:#5B5B62;padding:10px;justify-content:end;' href='https://deepnote.com?utm_source=created-in-deepnote-cell&projectId=68a898be-bd4e-4046-916a-6293aadf6c5d' target=\"_blank\">\n<img alt='Created in deepnote.com' style='display:inline;max-height:16px;margin:0px;margin-right:7.5px;' src='data:image/svg+xml;base64,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' > </img>\nCreated in <span style='font-weight:600;margin-left:4px;'>Deepnote</span></a>",
   "metadata": {
    "tags": [],
    "created_in_deepnote_cell": true,
    "deepnote_cell_type": "markdown"
   }
  }
 ],
 "nbformat": 4,
 "nbformat_minor": 1,
 "metadata": {
  "colab": {
   "collapsed_sections": [],
   "name": "Robotic Manipulation - Geometric Pose Estimation.ipynb",
   "provenance": [],
   "toc_visible": true
  },
  "deepnote": {},
  "deepnote_execution_queue": [],
  "deepnote_notebook_id": "5e8bb8da-1edc-4b70-8a18-55029a9ec752",
  "kernelspec": {
   "display_name": "Python 3.10.8 64-bit",
   "language": "python",
   "name": "python3"
  },
  "language_info": {
   "codemirror_mode": {
    "name": "ipython",
    "version": 3
   },
   "file_extension": ".py",
   "mimetype": "text/x-python",
   "name": "python",
   "nbconvert_exporter": "python",
   "pygments_lexer": "ipython3",
   "version": "3.10.8"
  },
  "metadata": {
   "interpreter": {
    "hash": "aee8b7b246df8f9039afb4144a1f6fd8d2ca17a180786b69acc140d282b71a49"
   }
  },
  "vscode": {
   "interpreter": {
    "hash": "aee8b7b246df8f9039afb4144a1f6fd8d2ca17a180786b69acc140d282b71a49"
   }
  }
 }
}