{
 "cells": [
  {
   "cell_type": "code",
   "metadata": {
    "colab": {},
    "colab_type": "code",
    "deepnote_to_be_reexecuted": false,
    "execution_millis": 320,
    "execution_start": 1670649641124,
    "id": "eeMrMI0-1Dhu",
    "source_hash": "87c1a053",
    "cell_id": "bea65a24-cb71-4059-85df-c99f66790666",
    "deepnote_cell_type": "code",
    "deepnote_cell_height": 711
   },
   "source": "import logging\nfrom copy import copy\nfrom enum import Enum\n\nimport numpy as np\nnp.set_printoptions(suppress=True)\nnp.set_printoptions(formatter={'float': lambda x: \"{0:0.3f}\".format(x)})\n\nfrom IPython.display import clear_output\nfrom pydrake.all import (AbstractValue, AddMultibodyPlantSceneGraph, AngleAxis,\n                         Concatenate, DiagramBuilder, InputPortIndex,\n                         LeafSystem, MeshcatVisualizer, Parser,\n                         PiecewisePolynomial, PiecewisePose, PointCloud, RandomGenerator, RigidTransform,\n                         RollPitchYaw, Simulator, StartMeshcat,\n                         UniformlyRandomRotationMatrix,\n                         BsplineTrajectory, Sphere, Rgba,\n                         KinematicTrajectoryOptimization, Solve, MinimumDistanceConstraint,\n                         PositionConstraint, ModelInstanceIndex,\n                         SpatialVelocity, LinearConstraint, LogVectorOutput,\n                         IpoptSolver,SnoptSolver)\n\nfrom manipulation import FindResource, running_as_notebook\nfrom manipulation.meshcat_utils import AddMeshcatTriad\nfrom manipulation.scenarios import (AddPackagePaths,\n                                    MakeManipulationStation, AddIiwa, AddShape, AddWsg, AddMultibodyTriad)\n\nclass NoDiffIKWarnings(logging.Filter):\n    def filter(self, record):\n        return not record.getMessage().startswith('Differential IK')\n\nlogging.getLogger(\"drake\").addFilter(NoDiffIKWarnings())\n\nimport matplotlib.pyplot as plt\nfrom matplotlib.widgets import TextBox\n\nfrom utils import *",
   "execution_count": 1,
   "outputs": []
  },
  {
   "cell_type": "code",
   "metadata": {
    "deepnote_to_be_reexecuted": false,
    "execution_millis": 4,
    "execution_start": 1670649641448,
    "source_hash": "6d42057f",
    "output_cleared": false,
    "cell_id": "00001-36371187-5fb5-42ea-a9be-8e60c1ea94ff",
    "deepnote_cell_type": "code",
    "deepnote_cell_height": 180.375,
    "deepnote_output_heights": [
     null,
     20.1875
    ]
   },
   "source": "# Start the visualizer.\nmeshcat = StartMeshcat()",
   "execution_count": 2,
   "outputs": [
    {
     "name": "stderr",
     "text": "INFO:drake:Meshcat listening for connections at https://68a898be-bd4e-4046-916a-6293aadf6c5d.deepnoteproject.com/7001/\n",
     "output_type": "stream"
    },
    {
     "data": {
      "text/plain": "<IPython.core.display.HTML object>",
      "text/html": "Meshcat URL: <a href='https://68a898be-bd4e-4046-916a-6293aadf6c5d.deepnoteproject.com/7001/' target='_blank'>https://68a898be-bd4e-4046-916a-6293aadf6c5d.deepnoteproject.com/7001/</a>"
     },
     "metadata": {},
     "output_type": "display_data"
    }
   ]
  },
  {
   "cell_type": "markdown",
   "source": "The order of operations:\n1. We start with comfortable joint angles for the iiwa q_throw and q_catch.\n1. We use forward kinematics to get spatial positions p_WThrow and p_WCatch\n1. we translate those by the offset between the ball and the gripper p_GB_G, to get the spatial positions the ball will be in at the point of being thrown (release) and caught X_WThrowB_W, X_WCatchB_W\n1. we calculate using simple physics the spatial velocity of the ball at the point of being thrown and caught V_WThrowB_W, V_WCatchB_W, as well as the joint angle for the last iiwa link (rotation of the gripper such that it will parallel to the velocity of the ball), given a particular max height h that it reaches.\n1. we use the Jacobian to transform the spatial velocities of the ball into joint velocities of the iiwa v_Throw and v_Catch, using the known offset between the gripper and the ball to create the Jacobian\n1. We feed the joint positions and velocities into kin traj opt so they can be used as constraints to optimize the trajectory.\n",
   "metadata": {
    "tags": [],
    "cell_id": "00002-5e8b1535-ae42-47aa-bf90-952291dc915a",
    "deepnote_cell_type": "markdown",
    "deepnote_cell_height": 341.78125
   }
  },
  {
   "cell_type": "code",
   "metadata": {
    "deepnote_to_be_reexecuted": false,
    "execution_millis": 126,
    "execution_start": 1670649641789,
    "source_hash": "9851e47a",
    "tags": [],
    "cell_id": "00003-bdbee6b5-1026-4340-918a-584e81932cc7",
    "deepnote_cell_type": "code",
    "deepnote_cell_height": 1407.6875
   },
   "source": "internal_model = make_internal_model()\n# Manipulation Station Parameters\ntime_step=0.001\n# use_direct determines whether to feed the desired q, v, a into InverseDynamicsController\n# or to use the default position based iiwa controller\nuse_direct = True\n\nt_settle = 0.0\nsquash_ball_radius = 0.02\np_GB_G = [0, 0.11, 0]\ndef add_target_objects(X_WThrow, X_WCatch):\n    p_ThrowB_W = X_WThrow.rotation() @ p_GB_G\n    X_WThrowB_W = RigidTransform(X_WThrow.rotation(), X_WThrow.translation() +  p_ThrowB_W)\n    p_CatchB_W = X_WCatch.rotation() @ p_GB_G\n    X_WCatchB_W = RigidTransform(X_WCatch.rotation(), X_WCatch.translation() +  p_CatchB_W)\n    meshcat.SetObject(\"throw\", Sphere(squash_ball_radius), rgba=Rgba(.9, .1, .1, 1))\n    meshcat.SetTransform(\"throw\", X_WThrowB_W)\n    meshcat.SetObject(\"catch\", Sphere(squash_ball_radius), rgba=Rgba(.1, .9, .1, 1))\n    meshcat.SetTransform(\"catch\", X_WCatchB_W)\n    return X_WThrowB_W, X_WCatchB_W\n\nq_Throw = np.array([-0.54, 0.58, 0, -1.79, 0, -0.79, 0])\np_WThrow = [0.57, -0.34, 0.39]\nR_WThrow = RollPitchYaw([-np.pi, 0.00, 1.03])\n\nq_Catch = np.array([-0.74, 0.58, 0, -1.79, 0, -0.79, 0])\np_WCatch = [0.49, -0.45, 0.39]\nR_WCatch = RollPitchYaw([-np.pi, 0.00, 0.83])\n\nX_WThrow = RigidTransform(R_WThrow, p_WThrow)\nX_WCatch = RigidTransform(R_WCatch, p_WCatch)\n\nX_WThrowB_W, X_WCatchB_W = add_target_objects(X_WThrow, X_WCatch)\n\nmax_height = 0.25 # Max height ball will reach in meters\nV_ThrowB, V_CatchB, t_duration = calculate_ball_vels(X_WThrowB_W.translation(), X_WCatchB_W.translation(), max_height)\noriginal_t_duration = round(t_duration,3)\ntime_scale_factor = 1 #0.936\nt_duration = t_duration * time_scale_factor\nt_duration = round(t_duration,3)\n# print(f\"original t_duration: {original_t_duration}\")\n# print(f\"scaled t_duration: {t_duration}\")\n\nsim_duration = 2.5 * t_duration\n\nvelocity_scale_factor = 1 # 1.32\noriginal_V_ThrowB = V_ThrowB\noriginal_V_CatchB = V_CatchB\ndef scale_vector(vec, scale_factor):\n    return vec * scale_factor\nV_ThrowB = scale_vector(V_ThrowB, velocity_scale_factor)\nV_CatchB = scale_vector(V_CatchB, velocity_scale_factor)\n\n# print(f\"velocity_scale_factor: {velocity_scale_factor}\")\n# print(f\"original V_ThrowB: {original_V_ThrowB}, scaled V_ThrowB: {V_ThrowB}\")\n# print(f\"original V_CatchB: {original_V_CatchB}, scaled V_CatchB: {V_CatchB}\")\n\nv_Throw = convert_spatial_vel_ball_to_joint_vel_arm(q_Throw, V_ThrowB, p_GB_G)\nv_Catch = convert_spatial_vel_ball_to_joint_vel_arm(q_Throw, V_CatchB, p_GB_G)\n\n# WSG gripper\nshould_release_ball = False\nif should_release_ball:\n    opened = np.array([0.035]) #[0.035]\nelse:\n    opened = np.array([0.02]) #[0.035]\nclosed = np.array([0.02])\n\n# Kin Traj Opt Parameters\nnum_control_points = 21\nuse_spatial_constraints = False\n\nprint(t_duration)",
   "execution_count": 3,
   "outputs": [
    {
     "name": "stdout",
     "text": "0.452\n",
     "output_type": "stream"
    }
   ]
  },
  {
   "cell_type": "code",
   "metadata": {
    "deepnote_to_be_reexecuted": false,
    "execution_millis": 1,
    "execution_start": 1670649641905,
    "source_hash": "79321968",
    "tags": [],
    "cell_id": "00004-791b3193-00a6-465b-a1cd-dfde96febef1",
    "deepnote_cell_type": "code",
    "deepnote_cell_height": 2187
   },
   "source": "# Joint position and velocity constraints\ndef make_kin_traj_opt_trajectory(q_Throw, q_Catch, v_Throw, v_Catch, t_duration):\n    context = internal_model.CreateDefaultContext()\n    plant = internal_model.GetSubsystemByName(\"plant\")\n    plant_context = plant.GetMyContextFromRoot(context)\n    \n    # print(f\"plant.num_positions()={plant.num_positions()}\")\n    # print(f\"plant.GetPositionLowerLimits()={plant.GetPositionLowerLimits()}\")\n    # print(f\"plant.GetVelocityUpperLimits()={plant.GetVelocityUpperLimits()}\")\n\n    num_positions = 7\n    trajopt = KinematicTrajectoryOptimization(num_positions, num_control_points)\n    prog = trajopt.get_mutable_prog()\n\n    q_guess = np.tile(q_Catch.reshape((num_positions,1)), (1, trajopt.num_control_points()))\n    q_guess[0,:] = np.linspace(q_Catch[0], q_Throw[0], trajopt.num_control_points())\n    path_guess = BsplineTrajectory(trajopt.basis(), q_guess)\n    trajopt.SetInitialGuess(path_guess)\n    \n    trajopt.AddPathLengthCost(1)\n\n    trajopt.AddPositionBounds(plant.GetPositionLowerLimits()[:num_positions],\n                              plant.GetPositionUpperLimits()[:num_positions])\n    trajopt.AddVelocityBounds(plant.GetVelocityLowerLimits()[:num_positions],\n                              plant.GetVelocityUpperLimits()[:num_positions])\n\n    trajopt.AddDurationConstraint(2 * t_duration, 2 * t_duration) # DIFF\n\n    eps = 0.0\n    def offset_vec_by_eps(vec, eps):\n        return vec - eps * np.linalg.norm(vec), vec + eps * np.linalg.norm(vec)\n\n    lb_Catch, ub_Catch = offset_vec_by_eps(q_Catch, eps)\n    lb_Throw, ub_Throw = offset_vec_by_eps(q_Throw, eps)\n\n    # constrain positions in joint angles\n    trajopt.AddPathPositionConstraint(q_Catch, q_Catch, 0)\n    trajopt.AddPathPositionConstraint(q_Throw, q_Throw, 0.5)\n    trajopt.AddPathPositionConstraint(q_Catch, q_Catch, 1)\n\n    prog.AddQuadraticErrorCost(np.eye(7), q_Catch,\n                               trajopt.control_points()[:, 0])\n    \n    prog.AddQuadraticErrorCost(np.eye(7), q_Throw,\n                               trajopt.control_points()[:, np.round(num_control_points/2).astype(int)])\n\n    # return to start\n    prog.AddQuadraticErrorCost(np.eye(7), q_Catch,\n                               trajopt.control_points()[:, -1])\n    \n\n    # velocity_constraint = LinearConstraint(np.eye(6),\n    #                                         lb=np.zeros((6, 1)),\n    #                                         ub=np.zeros((6, 1)))\n    # trajopt.AddVelocityConstraintAtNormalizedTime(velocity_constraint, s=0)\n    \n\n    v_Throw.reshape(7,1)\n    v_Catch.reshape(7,1)\n    # trajopt.AddPathVelocityConstraint(v_Catch,v_Catch, 0)\n    # trajopt.AddPathVelocityConstraint(v_Throw,v_Throw, 0.5)\n    # trajopt.AddPathVelocityConstraint(v_Catch,v_Catch, 1)\n\n    lb_Catch, ub_Catch = offset_vec_by_eps(v_Catch, eps)\n    lb_Throw, ub_Throw = offset_vec_by_eps(v_Throw, eps)\n\n    trajopt.AddPathVelocityConstraint(lb_Catch, ub_Catch, 0)\n    trajopt.AddPathVelocityConstraint(lb_Throw, ub_Throw, 0.5)\n    trajopt.AddPathVelocityConstraint(lb_Catch, ub_Catch, 1)\n\n    # print(prog)\n    # Solve once without the collisions and set that as the initial guess for\n    # the version with collisions.\n    solver = SnoptSolver()\n    result = solver.Solve(prog)\n    if not result.is_success():\n        print(\"Trajectory optimization failed, even without collisions!\")\n        print(result.get_solver_id().name())\n    \n    pos_traj = trajopt.ReconstructTrajectory(result)\n    vel_traj = pos_traj.MakeDerivative()\n    acc_traj = vel_traj.MakeDerivative()\n    # print(f\"kin traj opt initial t:{traj.start_time()} q: {traj.InitialValue()}\")\n    # print(f\"kin traj opt final t:{traj.end_time()} q: {traj.FinalValue()}\")\n\n    # def PlotPath(control_points):\n    #     traj = BsplineTrajectory(trajopt.basis(),\n    #                              control_points.reshape((3, -1)))\n    #     meshcat.SetLine('positions_path',\n    #                      traj.vector_values(np.linspace(0, 1, 50)))\n\n    # PlotPath(trajopt.control_points().reshape((-1,)))\n    return pos_traj, vel_traj, acc_traj\n    \n    trajopt.SetPathInitialGuess(trajopt.ReconstructTrajectory(result))\n\n    PublishPositionTrajectory(trajopt.ReconstructTrajectory(result), context, plant,\n                              visualizer)\n    collision_visualizer.Publish(\n        collision_visualizer.GetMyContextFromRoot(context))\n\n    \n    # collision constraints\n    collision_constraint = MinimumDistanceConstraint(plant, 0.001,\n                                                     plant_context, None, 0.01)\n    evaluate_at_s = np.linspace(0, 1, 25)\n    for s in evaluate_at_s:\n        trajopt.AddPathConstraint(collision_constraint, s)\n\n    result = Solve(prog)\n    if not result.is_success():\n        print(\"Trajectory optimization failed\")\n        print(result.get_solver_id().name())\n\n    PublishPositionTrajectory(trajopt.ReconstructTrajectory(result), context, plant,\n                              visualizer)\n    collision_visualizer.Publish(\n        collision_visualizer.GetMyContextFromRoot(context))",
   "execution_count": 4,
   "outputs": []
  },
  {
   "cell_type": "code",
   "metadata": {
    "deepnote_to_be_reexecuted": false,
    "source_hash": "c77709ce",
    "tags": [],
    "allow_embed": false,
    "execution_start": 1670649641924,
    "execution_millis": 1,
    "cell_id": "00005-bfc6759f-513d-417e-832f-a1e30d24a502",
    "deepnote_cell_type": "code",
    "deepnote_cell_height": 2259
   },
   "source": "# from pydrake.all import (SpatialVelocityConstraint)\n\ndef make_kin_traj_opt_trajectory_spatial_constraints(q_Throw, q_Catch, V_ThrowB, V_CatchB, t_duration):\n    # context = internal_model.CreateDefaultContext()\n    # plant = internal_model.GetSubsystemByName(\"plant\")\n    # plant_context = plant.GetMyContextFromRoot(context)\n    # wsg = plant.GetModelInstanceByName(\"wsg\")\n    # gripper_frame = plant.GetFrameByName(\"body\", wsg)\n\n    builder = DiagramBuilder()\n\n    plant, scene_graph = AddMultibodyPlantSceneGraph(builder, time_step=time_step)\n    iiwa = AddIiwa(plant)\n    wsg = AddWsg(plant, iiwa, welded=True, sphere=True)\n    gripper_frame = plant.GetFrameByName(\"body\", wsg)\n    plant.Finalize()\n\n    diagram = builder.Build()\n    context = diagram.CreateDefaultContext()\n    plant_context = plant.GetMyContextFromRoot(context)\n\n    # print(f\"plant.num_positions()={plant.num_positions()}\")\n    # print(f\"plant.GetPositionLowerLimits()={plant.GetPositionLowerLimits()}\")\n    # print(f\"plant.GetVelocityUpperLimits()={plant.GetVelocityUpperLimits()}\")\n\n    num_positions = 7\n    trajopt = KinematicTrajectoryOptimization(num_positions, num_control_points)\n    prog = trajopt.get_mutable_prog()\n\n    q_guess = np.tile(q_Catch.reshape((num_positions,1)), (1, trajopt.num_control_points()))\n    q_guess[0,:] = np.linspace(q_Catch[0], q_Throw[0], trajopt.num_control_points())\n    path_guess = BsplineTrajectory(trajopt.basis(), q_guess)\n    trajopt.SetInitialGuess(path_guess)\n    \n    trajopt.AddPathLengthCost(1)\n\n    trajopt.AddPositionBounds(plant.GetPositionLowerLimits()[:num_positions],\n                              plant.GetPositionUpperLimits()[:num_positions])\n    trajopt.AddVelocityBounds(plant.GetVelocityLowerLimits()[:num_positions],\n                              plant.GetVelocityUpperLimits()[:num_positions])\n\n    trajopt.AddDurationConstraint(2 * t_duration, 2 * t_duration)\n\n    eps = 0.0\n    def offset_vec_by_eps(vec, eps):\n        return vec - eps * np.linalg.norm(vec), vec + eps * np.linalg.norm(vec)\n\n    lb_Catch, ub_Catch = offset_vec_by_eps(q_Catch, eps)\n    lb_Throw, ub_Throw = offset_vec_by_eps(q_Throw, eps)\n\n    # constrain positions in cartesian coordinates\n    pos_constraint_catch = PositionConstraint(plant, plant.world_frame(),\n                                            X_WCatchB_W.translation(),\n                                            X_WCatchB_W.translation(), gripper_frame,\n                                            p_GB_G, plant_context)\n\n    pos_constraint_throw = PositionConstraint(plant, plant.world_frame(),\n                                            X_WThrowB_W.translation(),\n                                            X_WThrowB_W.translation(), gripper_frame,\n                                            p_GB_G, plant_context)\n    \n    trajopt.AddPathPositionConstraint(pos_constraint_catch, 0)\n    trajopt.AddPathPositionConstraint(pos_constraint_throw, 0.5)\n    trajopt.AddPathPositionConstraint(pos_constraint_catch, 1)\n\n\n    # add costs in terms of joint angles\n    prog.AddQuadraticErrorCost(np.eye(7), q_Catch,\n                               trajopt.control_points()[:, 0])\n    \n    prog.AddQuadraticErrorCost(np.eye(7), q_Throw,\n                               trajopt.control_points()[:, np.round(num_control_points/2).astype(int)])\n\n    prog.AddQuadraticErrorCost(np.eye(7), q_Catch,\n                               trajopt.control_points()[:, -1])\n    \n\n    vel_constraint_catch = SpatialVelocityConstraint(\n                                plant = plant,\n                                frameA = plant.world_frame(),\n                                v_AC_lower = V_CatchB,\n                                v_AC_upper = V_CatchB,\n                                frameB = gripper_frame,\n                                p_BCo = p_GB_G,\n                                plant_context = plant_context)\n\n    vel_constraint_throw = SpatialVelocityConstraint(\n                                plant = plant,\n                                frameA = plant.world_frame(),\n                                v_AC_lower = V_ThrowB,\n                                v_AC_upper = V_ThrowB,\n                                frameB = gripper_frame,\n                                p_BCo = p_GB_G,\n                                plant_context = plant_context)\n    \n    trajopt.AddVelocityConstraintAtNormalizedTime(vel_constraint_catch, s=0)\n    trajopt.AddVelocityConstraintAtNormalizedTime(vel_constraint_throw, s=0.5)\n    trajopt.AddVelocityConstraintAtNormalizedTime(vel_constraint_catch, s=1)\n\n    # print(prog)\n    # Solve once without the collisions and set that as the initial guess for\n    # the version with collisions.\n    solver = SnoptSolver()\n    result = solver.Solve(prog)\n    if not result.is_success():\n        print(\"Trajectory optimization failed, even without collisions!\")\n        print(result.get_solver_id().name())\n    \n    pos_traj = trajopt.ReconstructTrajectory(result)\n    vel_traj = pos_traj.MakeDerivative()\n    acc_traj = vel_traj.MakeDerivative()\n    # print(f\"kin traj opt initial t:{traj.start_time()} q: {traj.InitialValue()}\")\n    # print(f\"kin traj opt final t:{traj.end_time()} q: {traj.FinalValue()}\")\n\n    # def PlotPath(control_points):\n    #     traj = BsplineTrajectory(trajopt.basis(),\n    #                              control_points.reshape((3, -1)))\n    #     meshcat.SetLine('positions_path',\n    #                      traj.vector_values(np.linspace(0, 1, 50)))\n\n    # PlotPath(trajopt.control_points().reshape((-1,)))\n    return pos_traj, vel_traj, acc_traj",
   "execution_count": 5,
   "outputs": []
  },
  {
   "cell_type": "code",
   "metadata": {
    "deepnote_to_be_reexecuted": false,
    "execution_millis": 7,
    "execution_start": 1670649641935,
    "source_hash": "47b885a8",
    "cell_id": "00006-24576d4b-10b5-404b-ada7-96c713513d14",
    "deepnote_cell_type": "code",
    "deepnote_cell_height": 3861
   },
   "source": "rs = np.random.RandomState()  # this is for python\ngenerator = RandomGenerator(rs.randint(1000))  # this is for c++\n\nclass PlannerState(Enum):\n    WAIT_FOR_OBJECTS_TO_SETTLE = 1\n    PERPETUAL_MOTION = 2\n    THINKING = 3\n\nclass Planner(LeafSystem):\n    def __init__(self, plant):\n        LeafSystem.__init__(self)\n        self.DeclareAbstractInputPort(\n            \"body_poses\", AbstractValue.Make([RigidTransform()]))\n        self._throw_pose_index = self.DeclareAbstractInputPort(\n            \"throw_pose\", AbstractValue.Make(\n                (np.inf, RigidTransform()))).get_index()\n        self._catch_pose_index = self.DeclareAbstractInputPort(\n            \"catch_pose\", AbstractValue.Make(\n                (np.inf, RigidTransform()))).get_index()\n        self._wsg_state_index = self.DeclareVectorInputPort(\"wsg_state\",\n                                                            2).get_index()\n\n        self._mode_index = self.DeclareAbstractState(\n            AbstractValue.Make(PlannerState.PERPETUAL_MOTION))\n        self._traj_wsg_index = self.DeclareAbstractState(\n            AbstractValue.Make(PiecewisePolynomial()))\n        self._times_index = self.DeclareAbstractState(AbstractValue.Make(\n            {\"initial\": 0.0}))\n        \n        self._traj_start_time_index = self.DeclareAbstractState(\n            AbstractValue.Make(0.0)\n        )\n\n        self.DeclareVectorOutputPort(\"wsg_position\", 1, self.CalcWsgPosition)\n        self.DeclareVectorOutputPort(\"traj_start_time\", 1, self.GetTrajStartTime)\n        # For Perpetual Motion mode.\n        num_positions = 7\n        self._iiwa_position_index = self.DeclareVectorInputPort(\n            \"iiwa_position\", num_positions).get_index()\n                \n        self.DeclareVectorOutputPort(\"iiwa_state_desired\", 2 * num_positions,\n                                     self.CalcIiwaDesiredState)\n        self.DeclareVectorOutputPort(\"iiwa_acceleration_desired\", num_positions,\n                                     self.CalcIiwaDesiredAcceleration)\n        self.DeclareVectorOutputPort(\"iiwa_position_command\", num_positions,\n                                     self.CalcIiwaPosition)\n\n        self._traj_arm_q_index = self.DeclareAbstractState(\n            AbstractValue.Make(BsplineTrajectory())\n        )\n        self._traj_arm_v_index = self.DeclareAbstractState(\n            AbstractValue.Make(BsplineTrajectory())\n        )\n        self._traj_arm_a_index = self.DeclareAbstractState(\n            AbstractValue.Make(BsplineTrajectory())\n        )\n\n        self.DeclareInitializationUnrestrictedUpdateEvent(self.Initialize)\n\n        self.DeclarePeriodicUnrestrictedUpdateEvent(0.1, 0.0, self.Update)\n\n    def Update(self, context, state):\n        mode = context.get_abstract_state(int(self._mode_index)).get_value()\n\n        current_time = context.get_time()\n        times = context.get_abstract_state(int(\n            self._times_index)).get_value()\n\n        if mode == PlannerState.WAIT_FOR_OBJECTS_TO_SETTLE:\n            if context.get_time() - times[\"initial\"] > t_settle:\n                self.GoCatchThrow(context, state)\n            return\n        if mode == PlannerState.PERPETUAL_MOTION:\n            traj_q = context.get_mutable_abstract_state(int(\n                self._traj_arm_q_index)).get_value()\n            traj_start_time = context.get_mutable_abstract_state(int(\n                self._traj_start_time_index)).get_value()\n            if traj_start_time + traj_q.end_time() <= current_time:\n                state.get_mutable_abstract_state(int(\n                    self._traj_start_time_index)).set_value(current_time)\n                # print(\"restarting loop\")\n                # self.GoCatchThrow(context, state)\n            return\n        return\n\n    def GoCatchThrow(self, context, state):        \n        current_time = context.get_time()\n        if use_spatial_constraints:\n            q_traj, v_traj, a_traj= make_kin_traj_opt_trajectory_spatial_constraints(q_Throw, q_Catch, V_ThrowB, V_CatchB, t_duration)\n        else:\n            q_traj, v_traj, a_traj= make_kin_traj_opt_trajectory(q_Throw, q_Catch, v_Throw, v_Catch, t_duration)\n        # Store them in states\n        state.get_mutable_abstract_state(int(\n            self._traj_start_time_index)).set_value(current_time)\n        state.get_mutable_abstract_state(int(\n            self._traj_arm_q_index)).set_value(q_traj)\n        state.get_mutable_abstract_state(int(\n            self._traj_arm_v_index)).set_value(v_traj)\n        state.get_mutable_abstract_state(int(\n            self._traj_arm_a_index)).set_value(a_traj)\n        \n        state.get_mutable_abstract_state(int(\n            self._mode_index)).set_value(\n                PlannerState.PERPETUAL_MOTION)\n\n        # WSG Gripper Trajectory\n        throw_time = original_t_duration\n        catch_time = original_t_duration*2\n        buff = 0.02 # ball-park good buff value = 0.035\n        # Throw - Catch - Throw\n        # times = [0, catch_time-buff, catch_time, throw_time-buff, throw_time]\n        # positions = np.hstack([[opened], [opened], [closed], [closed], [opened]])\n        # Catch - Throw - Catch Original\n        # times = [0, throw_time-buff, throw_time, catch_time-buff, catch_time]\n        # positions = np.hstack([[closed], [closed], [opened], [opened], [closed]])\n        # Catch - Throw - Catch tuned\n        times = [0, throw_time, throw_time+buff, catch_time-buff, catch_time]\n        positions = np.hstack([[closed], [closed], [opened], [opened], [closed]])\n        traj_wsg_command = PiecewisePolynomial.FirstOrderHold(times, positions)\n\n        state.get_mutable_abstract_state(int(\n            self._traj_wsg_index)).set_value(traj_wsg_command)\n\n    def Plan(self, context, state):\n        mode = copy(\n            state.get_mutable_abstract_state(int(self._mode_index)).get_value())\n\n    def CalcWsgPosition(self, context, output):\n        mode = context.get_abstract_state(int(self._mode_index)).get_value()\n\n        if mode == PlannerState.PERPETUAL_MOTION:\n            traj_wsg = context.get_abstract_state(int(\n                self._traj_wsg_index)).get_value()\n            traj_start_time = context.get_mutable_abstract_state(int(\n                    self._traj_start_time_index)).get_value()\n            # Evaluate the trajectory at the current time, and write it to the\n            # output port.\n            output.SetFromVector(traj_wsg.value(context.get_time()-traj_start_time))\n\n            traj_start_time = context.get_mutable_abstract_state(int(\n                    self._traj_start_time_index)).get_value()\n\n        else:\n            # Command the open position\n            output.SetFromVector([closed])\n            return\n\n    def CalcIiwaPosition(self, context, output):\n        mode = context.get_abstract_state(int(self._mode_index)).get_value()\n        \n        if mode == PlannerState.PERPETUAL_MOTION:\n            traj_q = context.get_mutable_abstract_state(int(\n                    self._traj_arm_q_index)).get_value()\n            traj_start_time = context.get_mutable_abstract_state(int(\n                    self._traj_start_time_index)).get_value()\n            output.SetFromVector(\n                traj_q.value(\n                    context.get_time()-traj_start_time))\n        else:\n            output.SetFromVector(q_Catch)\n\n    def GetTrajStartTime(self, context, output):\n        traj_start_time = context.get_abstract_state(int(self._traj_start_time_index)).get_value()\n        output.SetFromVector([traj_start_time])\n\n    def Initialize(self, context, state):\n        self.GoCatchThrow(context, state)\n        pass\n\n    def CalcIiwaDesiredState(self, context, output):\n        mode = context.get_abstract_state(int(self._mode_index)).get_value()\n        \n        if mode == PlannerState.PERPETUAL_MOTION:\n            traj_q = context.get_mutable_abstract_state(int(\n                    self._traj_arm_q_index)).get_value()\n            # traj_v = context.get_mutable_abstract_state(int(\n            #         self._traj_arm_v_index)).get_value()\n            traj_start_time = context.get_mutable_abstract_state(int(\n                    self._traj_start_time_index)).get_value()\n\n            # CONCATENATE HERE TO MAKE STATE\n            # print(context.get_time()-traj_start_time)\n            print(f'Current time: {context.get_time()-traj_start_time}')\n            traj_v_value = traj_q.EvalDerivative(context.get_time()-traj_start_time, 1)\n            traj_q_value = traj_q.value(context.get_time()-traj_start_time)\n            traj_state_value = np.concatenate((traj_q_value, traj_v_value), axis=0)\n            output.SetFromVector(traj_state_value)\n\n        else:\n            output.SetFromVector(q_Catch)\n    \n    def CalcIiwaDesiredAcceleration(self, context, output):\n        mode = context.get_abstract_state(int(self._mode_index)).get_value()\n        \n        if mode == PlannerState.PERPETUAL_MOTION:\n            # traj_q = context.get_mutable_abstract_state(int(\n            #         self._traj_arm_q_index)).get_value()\n            traj_a = context.get_mutable_abstract_state(int(\n                    self._traj_arm_a_index)).get_value()\n            traj_start_time = context.get_mutable_abstract_state(int(\n                    self._traj_start_time_index)).get_value()\n\n            traj_a_value = traj_a.value(context.get_time()-traj_start_time)\n            output.SetFromVector(traj_a_value)            \n            # output.SetFromVector(\n            #     traj_q.value(\n            #         context.get_time()-traj_start_time))\n        else:\n            output.SetFromVector(q_Catch)\n\n",
   "execution_count": 6,
   "outputs": []
  },
  {
   "cell_type": "code",
   "metadata": {
    "tags": [],
    "deepnote_to_be_reexecuted": false,
    "source_hash": "843e07da",
    "execution_start": 1670649641960,
    "execution_millis": 0,
    "cell_id": "00007-ea90842a-2a87-424d-a8c9-662c969e57b8",
    "deepnote_cell_type": "code",
    "deepnote_cell_height": 1143
   },
   "source": "def vectors_within_eps(vec_a, vec_b, eps=0.005):\n    return (vec_a <= vec_b + eps * np.linalg.norm(vec_b)).all() and (vec_a >= vec_b - eps * np.linalg.norm(vec_b)).all()\n\nclass BallValidator(LeafSystem):\n    def __init__(self, name, body_index):\n        LeafSystem.__init__(self)\n        self._body_index = body_index\n        self._traj_start_time_index = self.DeclareVectorInputPort(\"traj_start_time\",1).get_index()\n        self._body_poses_index = self.DeclareAbstractInputPort(\"body_poses\",\n                                    AbstractValue.Make([RigidTransform()])).get_index()\n        self._body_spatial_velocities_index = self.DeclareAbstractInputPort(\"body_spatial_velocities\",\n                                    AbstractValue.Make([SpatialVelocity()])).get_index()\n        self.DeclareForcedPublishEvent(self.Publish)\n\n        self.DeclarePeriodicUnrestrictedUpdateEvent(0.001, 0.0, self.Update)\n\n        self.find_pos_match = False\n    \n    def Update(self, context, state):\n        traj_start_time = self.get_input_port(self._traj_start_time_index).Eval(context)\n        pose = self.get_input_port(self._body_poses_index).Eval(context)[self._body_index]\n        velocity = self.get_input_port(self._body_spatial_velocities_index).Eval(context)[self._body_index]\n\n        if (context.get_time() == traj_start_time + original_t_duration): # traj_start_time + original_t_duration\n            print(f\"\\nWe are at throw time! ({context.get_time()})\")\n            print(f\"actual ball position = {pose.translation()}\")\n            print(f\"actual ball velocity: {velocity.translational()}\")\n            meshcat.SetObject(\"actual_throw\", Sphere(squash_ball_radius), rgba=Rgba(.1, .1, .9, 1))\n            meshcat.SetTransform(\"actual_throw\", pose)\n            self.find_pos_match = True\n\n        if (context.get_time() == 2 * original_t_duration): # traj_start_time + 2 * original_t_duration\n            print(f\"\\nWe are at catch time! ({context.get_time()})\")\n            print(f\"actual ball position = {pose.translation()}\")\n            print(f\"actual ball velocity: {velocity.translational()}\")\n            meshcat.SetObject(\"actual_catch\", Sphere(squash_ball_radius), rgba=Rgba(.9, .1, .9, 1))\n            meshcat.SetTransform(\"actual_catch\", pose)\n            self.find_pos_match = True\n\n        if self.find_pos_match and vectors_within_eps(pose.translation(), X_WCatchB_W.translation()):\n            print(f\"\\nBall pose matches catch pose at ({context.get_time()})\")\n            print(f\"actual ball velocity: {velocity.translational()}\")\n            self.find_pos_match = False\n\n        if self.find_pos_match and vectors_within_eps(pose.translation(), X_WThrowB_W.translation()):\n            print(f\"\\nBall pose matches throw pose at ({context.get_time()})\")\n            print(f\"actual ball velocity: {velocity.translational()}\")\n            self.find_pos_match = False\n\n        vel_eps = 0.001\n        if vectors_within_eps(velocity.translational(), V_CatchB, vel_eps):\n            print(f\"\\nBall velocity matches catch velocity at ({context.get_time()})\")\n            print(f\"actual ball velocity: {velocity.translational()}\")\n            print(f\"actual ball position = {pose.translation()}\")\n        \n        if vectors_within_eps(velocity.translational(), V_ThrowB, vel_eps):\n            print(f\"\\nBall velocity matches throw velocity at ({context.get_time()})\")\n            print(f\"actual ball velocity: {velocity.translational()}\")\n            print(f\"actual ball position = {pose.translation()}\")\n",
   "execution_count": 7,
   "outputs": []
  },
  {
   "cell_type": "code",
   "metadata": {
    "tags": [],
    "deepnote_to_be_reexecuted": false,
    "source_hash": "73036d15",
    "execution_start": 1670649641961,
    "execution_millis": 0,
    "cell_id": "00008-ce0fbd8c-029c-45ad-b8d9-768b55d7dd2e",
    "deepnote_cell_type": "code",
    "deepnote_cell_height": 567
   },
   "source": "class TrajValidator(LeafSystem):\n    def __init__(self, name, body_index):\n        LeafSystem.__init__(self)\n        self._body_index = body_index\n        self._traj_start_time_index = self.DeclareVectorInputPort(\"traj_start_time\",1).get_index()\n\n        # PORTS\n        self._desired_state_index = self.DeclareVectorInputPort(\n            \"desired_state\", 2 * num_positions).get_index()\n        self._current_state_index = self.DeclareVectorInputPort(\n            \"current_state\", 2 * num_positions).get_index()\n        self._desired_accerleration_index = self.DeclareVectorInputPort(\n            \"desired_accerleration\", num_positions).get_index()\n        self._current_accerleration_index = self.DeclareVectorInputPort(\n            \"current_accerleration\", num_positions).get_index()\n\n        self.DeclareForcedPublishEvent(self.Publish)\n\n        self.DeclarePeriodicUnrestrictedUpdateEvent(0.001, 0.0, self.Update)\n\n        self.find_pos_match = False\n    \n    def Update(self, context, state):\n        traj_start_time = self.get_input_port(self._traj_start_time_index).Eval(context)\n        pose = self.get_input_port(self._body_poses_index).Eval(context)[self._body_index]\n        velocity = self.get_input_port(self._body_spatial_velocities_index).Eval(context)[self._body_index]\n\n",
   "execution_count": 8,
   "outputs": []
  },
  {
   "cell_type": "code",
   "metadata": {
    "deepnote_to_be_reexecuted": false,
    "execution_start": 1670649642232,
    "source_hash": "a052ac2c",
    "execution_millis": 4,
    "output_cleared": false,
    "cell_id": "00009-1b8a3c73-eb31-4473-a762-fcab936c2fd9",
    "deepnote_cell_type": "code",
    "deepnote_cell_height": 3888.859375,
    "deepnote_output_heights": [
     58.578125
    ]
   },
   "source": "def clutter_clearing_demo():\n    meshcat.Delete()\n    builder = DiagramBuilder()\n\n    model_directives = \"\"\"\ndirectives:\n\"\"\"\n\n    for i in range(1 if running_as_notebook else 2):\n        model_directives += f\"\"\"\n- add_model:\n    name: ball{i}\n    file: package://one_arm_juggling/models/ball.sdf\n\"\"\"\n    # use_direct determines whether to feed the desired q, v, a into InverseDynamicsController\n    # or to use the default position based iiwa controller\n    if use_direct:\n        station = builder.AddSystem(\n                            MakeDirectManipulationStation(\n                                model_directives,\n                                filename=\"./models/one_arm_juggling.dmd.yaml\",\n                                package_xmls=[\"./package.xml\"],\n                                time_step=time_step))\n    else:\n        station = builder.AddSystem(\n                            MyMakeManipulationStation(\n                                model_directives,\n                                filename=\"./models/one_arm_juggling.dmd.yaml\",\n                                package_xmls=[\"./package.xml\"],\n                                time_step=time_step))\n\n    plant = station.GetSubsystemByName(\"plant\")\n    planner = builder.AddSystem(Planner(plant))\n    builder.Connect(station.GetOutputPort(\"body_poses\"),\n                    planner.GetInputPort(\"body_poses\"))\n    # # TODO: another system should output the throw and catch points\n    # # builder.Connect(x_bin_grasp_selector.get_output_port(),\n    # #                 planner.GetInputPort(\"x_bin_grasp\"))\n    # # builder.Connect(y_bin_grasp_selector.get_output_port(),\n    # #                 planner.GetInputPort(\"y_bin_grasp\"))\n    builder.Connect(station.GetOutputPort(\"wsg_state_measured\"),\n                    planner.GetInputPort(\"wsg_state\"))\n    builder.Connect(station.GetOutputPort(\"iiwa_position_measured\"),\n                    planner.GetInputPort(\"iiwa_position\"))\n\n    builder.Connect(planner.GetOutputPort(\"wsg_position\"),\n                    station.GetInputPort(\"wsg_position\"))\n\n    if use_direct:\n        builder.Connect(planner.GetOutputPort(\"iiwa_state_desired\"),\n                        station.GetInputPort(\"iiwa_state_desired\"))\n\n        builder.Connect(planner.GetOutputPort(\"iiwa_acceleration_desired\"),\n                        station.GetInputPort(\"iiwa_acceleration_desired\"))\n    else:       \n        builder.Connect(planner.GetOutputPort(\"iiwa_position_command\"),\n                        station.GetInputPort(\"iiwa_position\"))\n    \n    ball = plant.GetBodyByName(\"ball\")\n\n    ball_validator = builder.AddSystem(\n                                BallValidator(\n                                    ball.name(), \n                                    ball.index()))\n    builder.Connect(station.GetOutputPort(\"body_poses\"),\n                    ball_validator.GetInputPort(\"body_poses\"))\n    builder.Connect(planner.GetOutputPort(\"traj_start_time\"),\n                    ball_validator.GetInputPort(\"traj_start_time\"))\n    builder.Connect(station.GetOutputPort(\"body_spatial_velocities\"),\n                    ball_validator.GetInputPort(\"body_spatial_velocities\"))\n\n\n    visualizer = MeshcatVisualizer.AddToBuilder(\n        builder, station.GetOutputPort(\"query_object\"), meshcat)\n    # collision_visualizer = MeshcatVisualizer.AddToBuilder(\n    #      builder, station.GetOutputPort(\"query_object\"), meshcat,\n    #     MeshcatVisualizerParams(prefix=\"collision\", role=Role.kProximity))\n    # meshcat.SetProperty(\"collision\", \"visible\", False)\n\n    display_plot = True\n\n    if display_plot:\n        logger_state_desired = LogVectorOutput(\n            planner.GetOutputPort(\"iiwa_state_desired\"), builder\n            )\n        logger_state_estimated = LogVectorOutput(\n            station.GetOutputPort(\"iiwa_state_estimated\"), builder\n            )\n        logger_acceleration_desired = LogVectorOutput(\n            planner.GetOutputPort(\"iiwa_acceleration_desired\"), builder\n            )\n        # logger_acceleration_estimated = LogVectorOutput(\n        #     station.GetOutputPort(\"iiwa_acceleration_estimated\"), builder\n        #     )\n\n    diagram = builder.Build()\n    simulator = Simulator(diagram)\n    context = simulator.get_context()\n    X_WThrowB_W, X_WCatchB_W = add_target_objects(X_WThrow, X_WCatch)\n\n    plant_context = plant.GetMyMutableContextFromRoot(context)\n    for body_index in plant.GetFloatingBaseBodies():\n        tf = RigidTransform(X_WCatchB_W.rotation(), X_WCatchB_W.translation()) \n        # for starting from drop add to translation np.array([0,0,6])\n        # np.array([0,0,-0.015])\n        plant.SetFreeBodyPose(plant_context,\n                              plant.get_body(body_index),\n                              tf)\n\n    # collision_visualizer.Publish(\n    #     collision_visualizer.GetMyContextFromRoot(context))\n    \n    print(f\"--- Experiment Parameters ---\")\n    print(f\"Controller: Feed in desired q,v,a : {use_direct}\")\n    print(f\"simulation duration: {sim_duration}\")\n    print(f\"manipulation station time step: {time_step}\")\n    print(f\"kin traj opt num control points: {num_control_points}\")\n    print(f\"max height: {max_height}\")\n    print(f\"-----------------------------\")\n    print(f\"planned ball THROW time: {original_t_duration}\")\n    print(f\"planned ball THROW position: {X_WThrowB_W.translation()}\")\n    print(f\"planned ball THROW velocity: {original_V_ThrowB}\")\n    # print(f\"planned ball THROW velocity (joints): {v_Throw.flatten()}\")\n    print(f\"planned ball CATCH time: {2 * original_t_duration}\")\n    print(f\"planned ball CATCH position: {X_WCatchB_W.translation()}\")\n    print(f\"planned ball CATCH velocity: {original_V_CatchB}\")\n    # print(f\"planned ball CATCH velocity (joints): {v_Catch.flatten()}\")\n\n    q0 = plant.GetPositions(plant_context)\n    non_iiwa_q0 = q0[7:]\n    gap = closed[0]\n    non_iiwa_q0[0]=-gap/2\n    non_iiwa_q0[1]=gap/2\n    plant.SetPositions(plant_context, np.concatenate((q_Catch, non_iiwa_q0)))\n    simulator.AdvanceTo(0)\n    meshcat.Flush()  # Wait for the large object meshes to get to meshcat.\n    RecordInterval(0, sim_duration, simulator, context, plant, visualizer)\n    # if running_as_notebook:\n    #     simulator.set_target_realtime_rate(0.05)\n    #     meshcat.AddButton(\"Stop Simulation\", \"Escape\")\n    #     print(\"Press Escape to stop the simulation\")\n    #     while meshcat.GetButtonClicks(\"Stop Simulation\") < 1:\n    #         simulator.AdvanceTo(simulator.get_context().get_time() + 2.0)\n    #     meshcat.DeleteButton(\"Stop Simulation\")\n        \n    if display_plot:\n        log_state_desired = logger_state_desired.FindLog(context)\n        log_state_estimated = logger_state_estimated.FindLog(context)\n\n        f = plt.figure(figsize=(21,42))\n\n        print('--- Catch at t=0 ---')\n        catch_time_indices = np.where(log_state_desired.sample_times() == 0)\n        for i in range(7):\n            print(f\"v_e_{i}: {log_state_estimated.data()[7+i,:].transpose()[catch_time_indices[0]][:1]}   v_d_{i}: {log_state_desired.data()[7+i,:].transpose()[catch_time_indices[0]][:1]}   v_Catch: {v_Catch[i][:1]}\")\n\n        print(f'--- Throw at t={t_duration}---')\n        throw_time_indices = np.where(log_state_desired.sample_times() == t_duration)\n        for i in range(7):\n            print(f\"v_e_{i}: {log_state_estimated.data()[7+i,:].transpose()[throw_time_indices[0]]}   v_d_{i}: {log_state_desired.data()[7+i,:].transpose()[throw_time_indices[0]]}   v_Throw: {v_Throw[i]}\")\n            plt.subplot(8, 3, 4 + i*3)\n            plt.plot(log_state_desired.sample_times(),\n                    log_state_desired.data()[i,:].transpose(),\n                    log_state_estimated.sample_times(),\n                    log_state_estimated.data()[i,:].transpose())\n            plt.axvline(x = t_duration, color = 'b', alpha=0.3)\n            plt.legend([f'q_d_{i}(t)', f'q_e_{i}(t)'])\n            plt.xlabel('t');\n\n\n            plt.subplot(8, 3, 5 + i*3)\n            plt.plot(log_state_desired.sample_times(),\n                    log_state_desired.data()[7+i,:].transpose(),\n                    log_state_estimated.sample_times(),\n                    log_state_estimated.data()[7+i,:].transpose())\n            plt.axvline(x = t_duration, color = 'b', alpha=0.3)\n            plt.legend([f'v_d_{i}(t)', f'v_e_{i}(t)'])\n            plt.xlabel('t');\n\n            plt.subplot(8, 3, 6 + i*3)\n            plt.plot(log_state_desired.sample_times(),\n                    log_state_desired.data()[7+i,:].transpose() - log_state_estimated.data()[7+i,:].transpose())\n            plt.axvline(x = t_duration, color = 'b', alpha=0.3)\n            plt.axhline(y = 0, color = 'b', alpha=0.3)\n            plt.legend([f'delta_v_{i}(t)'])\n            plt.xlabel('t');\n\n        print(f'--- Catch at t={2*t_duration} ---')\n        catch_time_indices = np.where(log_state_desired.sample_times() == 2*t_duration)\n        for i in range(7):\n            print(f\"v_e_{i}: {log_state_estimated.data()[7+i,:].transpose()[catch_time_indices[0]][:1]}   v_d_{i}: {log_state_desired.data()[7+i,:].transpose()[catch_time_indices[0]][:1]}   v_Catch: {v_Catch[i][:1]}\")\n\n\n        plt.subplot(4, 1, 1)\n        plt.axis('off')\n        plt.text(0, 0, print_output, fontsize='x-large')\n        plt.savefig('plots/test.pdf')\n        plt.show()\n\nclutter_clearing_demo()",
   "execution_count": 9,
   "outputs": [
    {
     "output_type": "error",
     "ename": "SystemExit",
     "evalue": "Failure at multibody/meshcat/contact_visualizer.cc:43 in ContactVisualizer(): condition 'meshcat_ != nullptr' failed.",
     "traceback": [
      "An exception has occurred, use %tb to see the full traceback.\n",
      "\u001b[0;31mSystemExit\u001b[0m\u001b[0;31m:\u001b[0m Failure at multibody/meshcat/contact_visualizer.cc:43 in ContactVisualizer(): condition 'meshcat_ != nullptr' failed.\n"
     ]
    },
    {
     "name": "stderr",
     "text": "/shared-libs/python3.8/py-core/lib/python3.8/site-packages/IPython/core/interactiveshell.py:3386: UserWarning: To exit: use 'exit', 'quit', or Ctrl-D.\n  warn(\"To exit: use 'exit', 'quit', or Ctrl-D.\", stacklevel=1)\n",
     "output_type": "stream"
    }
   ]
  },
  {
   "cell_type": "code",
   "metadata": {
    "tags": [],
    "deepnote_to_be_reexecuted": true,
    "source_hash": "68eba0dd",
    "execution_start": 1669753872419,
    "execution_millis": 4,
    "cell_id": "00010-9667441e-f795-4a2c-946b-de539fdfe579",
    "deepnote_cell_type": "code",
    "deepnote_cell_height": 139.1875
   },
   "source": "print_output",
   "execution_count": null,
   "outputs": [
    {
     "output_type": "error",
     "ename": "NameError",
     "evalue": "name 'print_output' is not defined",
     "traceback": [
      "\u001b[0;31m---------------------------------------------------------------------------\u001b[0m",
      "\u001b[0;31mNameError\u001b[0m                                 Traceback (most recent call last)",
      "Cell \u001b[0;32mIn [13], line 1\u001b[0m\n\u001b[0;32m----> 1\u001b[0m \u001b[43mprint_output\u001b[49m\n",
      "\u001b[0;31mNameError\u001b[0m: name 'print_output' is not defined"
     ]
    }
   ]
  },
  {
   "cell_type": "code",
   "metadata": {
    "tags": [],
    "deepnote_to_be_reexecuted": true,
    "source_hash": "bf8f78a6",
    "execution_start": 1669753977685,
    "execution_millis": 9,
    "cell_id": "00011-2c764365-443c-49c7-bcff-2b32e4bd3ec5",
    "deepnote_cell_type": "code",
    "deepnote_cell_height": 112.1875,
    "deepnote_output_heights": [
     20.1875
    ]
   },
   "source": "2 * t_duration",
   "execution_count": null,
   "outputs": [
    {
     "output_type": "execute_result",
     "execution_count": 10,
     "data": {
      "text/plain": "0.904"
     },
     "metadata": {}
    }
   ]
  },
  {
   "cell_type": "code",
   "metadata": {
    "cell_id": "440a914273b94fd7a41723a1e49d0510",
    "tags": [],
    "deepnote_to_be_reexecuted": true,
    "source_hash": "b623e53d",
    "deepnote_cell_type": "code",
    "deepnote_cell_height": 76
   },
   "source": "",
   "execution_count": null,
   "outputs": []
  },
  {
   "cell_type": "markdown",
   "source": "<a style='text-decoration:none;line-height:16px;display:flex;color:#5B5B62;padding:10px;justify-content:end;' href='https://deepnote.com?utm_source=created-in-deepnote-cell&projectId=68a898be-bd4e-4046-916a-6293aadf6c5d' target=\"_blank\">\n<img alt='Created in deepnote.com' style='display:inline;max-height:16px;margin:0px;margin-right:7.5px;' src='data:image/svg+xml;base64,PD94bWwgdmVyc2lvbj0iMS4wIiBlbmNvZGluZz0iVVRGLTgiPz4KPHN2ZyB3aWR0aD0iODBweCIgaGVpZ2h0PSI4MHB4IiB2aWV3Qm94PSIwIDAgODAgODAiIHZlcnNpb249IjEuMSIgeG1sbnM9Imh0dHA6Ly93d3cudzMub3JnLzIwMDAvc3ZnIiB4bWxuczp4bGluaz0iaHR0cDovL3d3dy53My5vcmcvMTk5OS94bGluayI+CiAgICA8IS0tIEdlbmVyYXRvcjogU2tldGNoIDU0LjEgKDc2NDkwKSAtIGh0dHBzOi8vc2tldGNoYXBwLmNvbSAtLT4KICAgIDx0aXRsZT5Hcm91cCAzPC90aXRsZT4KICAgIDxkZXNjPkNyZWF0ZWQgd2l0aCBTa2V0Y2guPC9kZXNjPgogICAgPGcgaWQ9IkxhbmRpbmciIHN0cm9rZT0ibm9uZSIgc3Ryb2tlLXdpZHRoPSIxIiBmaWxsPSJub25lIiBmaWxsLXJ1bGU9ImV2ZW5vZGQiPgogICAgICAgIDxnIGlkPSJBcnRib2FyZCIgdHJhbnNmb3JtPSJ0cmFuc2xhdGUoLTEyMzUuMDAwMDAwLCAtNzkuMDAwMDAwKSI+CiAgICAgICAgICAgIDxnIGlkPSJHcm91cC0zIiB0cmFuc2Zvcm09InRyYW5zbGF0ZSgxMjM1LjAwMDAwMCwgNzkuMDAwMDAwKSI+CiAgICAgICAgICAgICAgICA8cG9seWdvbiBpZD0iUGF0aC0yMCIgZmlsbD0iIzAyNjVCNCIgcG9pbnRzPSIyLjM3NjIzNzYyIDgwIDM4LjA0NzY2NjcgODAgNTcuODIxNzgyMiA3My44MDU3NTkyIDU3LjgyMTc4MjIgMzIuNzU5MjczOSAzOS4xNDAyMjc4IDMxLjY4MzE2ODMiPjwvcG9seWdvbj4KICAgICAgICAgICAgICAgIDxwYXRoIGQ9Ik0zNS4wMDc3MTgsODAgQzQyLjkwNjIwMDcsNzYuNDU0OTM1OCA0Ny41NjQ5MTY3LDcxLjU0MjI2NzEgNDguOTgzODY2LDY1LjI2MTk5MzkgQzUxLjExMjI4OTksNTUuODQxNTg0MiA0MS42NzcxNzk1LDQ5LjIxMjIyODQgMjUuNjIzOTg0Niw0OS4yMTIyMjg0IEMyNS40ODQ5Mjg5LDQ5LjEyNjg0NDggMjkuODI2MTI5Niw0My4yODM4MjQ4IDM4LjY0NzU4NjksMzEuNjgzMTY4MyBMNzIuODcxMjg3MSwzMi41NTQ0MjUgTDY1LjI4MDk3Myw2Ny42NzYzNDIxIEw1MS4xMTIyODk5LDc3LjM3NjE0NCBMMzUuMDA3NzE4LDgwIFoiIGlkPSJQYXRoLTIyIiBmaWxsPSIjMDAyODY4Ij48L3BhdGg+CiAgICAgICAgICAgICAgICA8cGF0aCBkPSJNMCwzNy43MzA0NDA1IEwyNy4xMTQ1MzcsMC4yNTcxMTE0MzYgQzYyLjM3MTUxMjMsLTEuOTkwNzE3MDEgODAsMTAuNTAwMzkyNyA4MCwzNy43MzA0NDA1IEM4MCw2NC45NjA0ODgyIDY0Ljc3NjUwMzgsNzkuMDUwMzQxNCAzNC4zMjk1MTEzLDgwIEM0Ny4wNTUzNDg5LDc3LjU2NzA4MDggNTMuNDE4MjY3Nyw3MC4zMTM2MTAzIDUzLjQxODI2NzcsNTguMjM5NTg4NSBDNTMuNDE4MjY3Nyw0MC4xMjg1NTU3IDM2LjMwMzk1NDQsMzcuNzMwNDQwNSAyNS4yMjc0MTcsMzcuNzMwNDQwNSBDMTcuODQzMDU4NiwzNy43MzA0NDA1IDkuNDMzOTE5NjYsMzcuNzMwNDQwNSAwLDM3LjczMDQ0MDUgWiIgaWQ9IlBhdGgtMTkiIGZpbGw9IiMzNzkzRUYiPjwvcGF0aD4KICAgICAgICAgICAgPC9nPgogICAgICAgIDwvZz4KICAgIDwvZz4KPC9zdmc+' > </img>\nCreated in <span style='font-weight:600;margin-left:4px;'>Deepnote</span></a>",
   "metadata": {
    "tags": [],
    "created_in_deepnote_cell": true,
    "deepnote_cell_type": "markdown"
   }
  }
 ],
 "nbformat": 4,
 "nbformat_minor": 1,
 "metadata": {
  "colab": {
   "collapsed_sections": [],
   "name": "Robotic Manipulation - Geometric Pose Estimation.ipynb",
   "provenance": [],
   "toc_visible": true
  },
  "deepnote": {},
  "deepnote_execution_queue": [],
  "deepnote_notebook_id": "7442582b-9ec4-4938-9426-94b53c0eb83a",
  "kernelspec": {
   "display_name": "Python 3.10.8 64-bit",
   "language": "python",
   "name": "python3"
  },
  "language_info": {
   "codemirror_mode": {
    "name": "ipython",
    "version": 3
   },
   "file_extension": ".py",
   "mimetype": "text/x-python",
   "name": "python",
   "nbconvert_exporter": "python",
   "pygments_lexer": "ipython3",
   "version": "3.10.8"
  },
  "metadata": {
   "interpreter": {
    "hash": "aee8b7b246df8f9039afb4144a1f6fd8d2ca17a180786b69acc140d282b71a49"
   }
  },
  "vscode": {
   "interpreter": {
    "hash": "aee8b7b246df8f9039afb4144a1f6fd8d2ca17a180786b69acc140d282b71a49"
   }
  }
 }
}