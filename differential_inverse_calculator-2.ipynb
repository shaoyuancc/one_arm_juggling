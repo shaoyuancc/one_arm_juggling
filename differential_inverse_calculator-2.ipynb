{
 "cells": [
  {
   "cell_type": "markdown",
   "source": "# Differential Inverse Calculator",
   "metadata": {
    "cell_id": "d0cd12c0-17f3-433b-912e-90d234e8fb60",
    "deepnote_cell_type": "markdown",
    "deepnote_cell_height": 82
   }
  },
  {
   "cell_type": "markdown",
   "source": "",
   "metadata": {
    "cell_id": "00001-ce040476-02de-427f-84c1-fc8cafbb962c",
    "deepnote_cell_type": "markdown",
    "deepnote_cell_height": 46
   }
  },
  {
   "cell_type": "code",
   "metadata": {
    "deepnote_to_be_reexecuted": false,
    "source_hash": "2b084176",
    "execution_start": 1670358807414,
    "execution_millis": 283,
    "cell_id": "00002-172cfd68-4085-4b0d-86a3-cf23aae0bb4d",
    "deepnote_cell_type": "code",
    "deepnote_cell_height": 531
   },
   "source": "import time\n\nimport numpy as np\nfrom pydrake.all import (AddMultibodyPlantSceneGraph, BsplineTrajectory,\n                         DiagramBuilder, KinematicTrajectoryOptimization,\n                         MeshcatVisualizer, MeshcatVisualizerParams,\n                         MinimumDistanceConstraint, Parser, PositionConstraint,\n                         Rgba, RigidTransform, Role, Solve, Sphere,\n                         StartMeshcat, JacobianWrtVariable, RollPitchYaw,\n                         JointSliders, RotationMatrix,\n                         InverseKinematics,\n                         LeafSystem, AbstractValue,\n                         Simulator, FixedOffsetFrame\n                        )\n\nfrom manipulation import running_as_notebook\nfrom manipulation.meshcat_utils import (PublishPositionTrajectory,\n                                        MeshcatPoseSliders,\n                                        WsgButton)\nfrom manipulation.scenarios import AddIiwaDifferentialIK, MakeManipulationStation, AddIiwa, AddPlanarIiwa, AddShape, AddWsg, AddMultibodyTriad \nfrom manipulation.utils import AddPackagePaths, FindResource\n\nfrom IPython.display import clear_output\n\nfrom utils import *\n",
   "outputs": [],
   "execution_count": null
  },
  {
   "cell_type": "code",
   "metadata": {
    "deepnote_to_be_reexecuted": false,
    "source_hash": "6d42057f",
    "execution_start": 1670358807715,
    "execution_millis": 13,
    "cell_id": "00003-a8bb0d8a-d578-4d5f-b4c6-692791b9b4a9",
    "deepnote_cell_type": "code",
    "deepnote_cell_height": 175.875,
    "deepnote_output_heights": [
     null,
     20.1875
    ]
   },
   "source": "# Start the visualizer.\nmeshcat = StartMeshcat()",
   "outputs": [
    {
     "name": "stderr",
     "text": "INFO:drake:Meshcat listening for connections at https://68a898be-bd4e-4046-916a-6293aadf6c5d.deepnoteproject.com/7000/\n",
     "output_type": "stream"
    },
    {
     "data": {
      "text/plain": "<IPython.core.display.HTML object>",
      "text/html": "Meshcat URL: <a href='https://68a898be-bd4e-4046-916a-6293aadf6c5d.deepnoteproject.com/7000/' target='_blank'>https://68a898be-bd4e-4046-916a-6293aadf6c5d.deepnoteproject.com/7000/</a>"
     },
     "metadata": {},
     "output_type": "display_data"
    }
   ],
   "execution_count": null
  },
  {
   "cell_type": "markdown",
   "source": "To visualize throw and catch points",
   "metadata": {
    "cell_id": "00004-a766397a-ba6d-461f-b23d-d8f7b83e5dbb",
    "deepnote_cell_type": "markdown",
    "deepnote_cell_height": 52.390625
   }
  },
  {
   "cell_type": "code",
   "metadata": {
    "deepnote_to_be_reexecuted": false,
    "source_hash": "9a37980f",
    "execution_start": 1670358807729,
    "execution_millis": 5,
    "cell_id": "00005-350e271b-4c36-4555-8be6-f9aa70d09b01",
    "deepnote_cell_type": "code",
    "deepnote_cell_height": 256
   },
   "source": "squash_ball_radius = 0.02\np_GB_G = [0, 0.07, 0]\ndef add_target_objects(X_WThrow, X_WCatch):\n    p_ThrowB_W = X_WThrow.rotation() @ p_GB_G\n    X_WThrowB_W = RigidTransform(X_WThrow.rotation(), X_WThrow.translation() +  p_ThrowB_W)\n    p_CatchB_W = X_WCatch.rotation() @ p_GB_G\n    X_WCatchB_W = RigidTransform(X_WCatch.rotation(), X_WCatch.translation() +  p_CatchB_W)\n    meshcat.SetObject(\"throw\", Sphere(squash_ball_radius), rgba=Rgba(.9, .1, .1, 1))\n    meshcat.SetTransform(\"throw\", X_WThrowB_W)\n    meshcat.SetObject(\"catch\", Sphere(squash_ball_radius), rgba=Rgba(.1, .9, .1, 1))\n    meshcat.SetTransform(\"catch\", X_WCatchB_W)",
   "outputs": [],
   "execution_count": null
  },
  {
   "cell_type": "markdown",
   "source": "Manually set the throw and catch points",
   "metadata": {
    "cell_id": "00006-bfca90b7-a03e-441a-ab16-76f89292812f",
    "deepnote_cell_type": "markdown",
    "deepnote_cell_height": 52.390625
   }
  },
  {
   "cell_type": "code",
   "metadata": {
    "deepnote_to_be_reexecuted": false,
    "source_hash": "5a3442da",
    "execution_start": 1670358807739,
    "execution_millis": 0,
    "cell_id": "00007-8af0543b-1a87-41e2-bcd7-4c49337e28a1",
    "deepnote_cell_type": "code",
    "deepnote_cell_height": 706
   },
   "source": "p_GB_G = [0, 0.11, 0]\ndef add_target_objects(X_WThrow, X_WCatch):\n    p_ThrowB_W = X_WThrow.rotation() @ p_GB_G\n    X_WThrowB_W = RigidTransform(X_WThrow.rotation(), X_WThrow.translation() +  p_ThrowB_W)\n    p_CatchB_W = X_WCatch.rotation() @ p_GB_G\n    X_WCatchB_W = RigidTransform(X_WCatch.rotation(), X_WCatch.translation() +  p_CatchB_W)\n    meshcat.SetObject(\"throw\", Sphere(squash_ball_radius), rgba=Rgba(.9, .1, .1, 1))\n    meshcat.SetTransform(\"throw\", X_WThrowB_W)\n    meshcat.SetObject(\"catch\", Sphere(squash_ball_radius), rgba=Rgba(.1, .9, .1, 1))\n    meshcat.SetTransform(\"catch\", X_WCatchB_W)\n    return X_WThrowB_W, X_WCatchB_W\n\nq_Throw = np.array([-0.54, 0.58, 0, -1.79, 0, -0.79, 0])\np_WThrow = [0.57, -0.34, 0.39]\nR_WThrow = RollPitchYaw([-np.pi, 0.00, 1.03])\n\nq_Catch = np.array([-0.74, 0.58, 0, -1.79, 0, -0.79, 0])\np_WCatch = [0.49, -0.45, 0.39]\nR_WCatch = RollPitchYaw([-np.pi, 0.00, 0.83])\n\nX_WThrow = RigidTransform(R_WThrow, p_WThrow)\nX_WCatch = RigidTransform(R_WCatch, p_WCatch)\n\nX_WThrowB_W, X_WCatchB_W = add_target_objects(X_WThrow, X_WCatch)\n#####\n\n\n\n# final joint positions [-0.901 1.465 -0.690 -0.143 -0.908 -1.823 0.001 -0.053 0.054]\n\n\np_WCatch_adj = [[0.47, -0.43, 0.35], [0.2, -0.2, 0.2], [0.573, -0.526, 0.375]]\n\n# WSG gripper\nopened = np.array([0.035]) #[0.035]\nclosed = np.array([0.02])",
   "outputs": [],
   "execution_count": null
  },
  {
   "cell_type": "markdown",
   "source": "# Differential IK Controller",
   "metadata": {
    "formattedRanges": [],
    "is_collapsed": false,
    "tags": [],
    "cell_id": "00008-c9a6f868-1f9c-4242-a729-4b315211e57c",
    "deepnote_cell_type": "text-cell-h1"
   }
  },
  {
   "cell_type": "markdown",
   "source": "Use diffIK controller to get other joint configurations around the key points, navigated to using spatial translation",
   "metadata": {
    "formattedRanges": [],
    "is_collapsed": false,
    "tags": [],
    "cell_id": "00009-7890700b-549e-4943-ad97-9ef864589a2e",
    "deepnote_cell_type": "text-cell-p"
   }
  },
  {
   "cell_type": "code",
   "source": "def get_q_with_diffik(q_original, p_target):\n    builder = DiagramBuilder()\n    model_directives = \"\"\"\ndirectives:\n- add_model:\n    name: iiwa\n    file: package://one_arm_juggling/models/iiwa_7_no_collision_modified.sdf\n    default_joint_positions:\n        iiwa_joint_1: [-1.57]\n        iiwa_joint_2: [0.1]\n        iiwa_joint_3: [0]\n        iiwa_joint_4: [-1.2]\n        iiwa_joint_5: [0]\n        iiwa_joint_6: [ 1.6]\n        iiwa_joint_7: [0]\n- add_weld:\n    parent: world\n    child: iiwa::iiwa_link_0\n- add_model:\n    name: wsg\n    file: package://one_arm_juggling/models/schunk_wsg_50_with_tip_modified_origin.sdf\n- add_weld:\n    parent: iiwa::iiwa_link_7\n    child: wsg::body\n    X_PC:\n        translation: [0, 0, 0.09]\n        rotation: !Rpy { deg: [90, 0, 90]}\n    \"\"\"\n    time_step = 0.001\n    # def manipulation_station_callback(plant):\n    #     plant.AddFrame(\n    #         FixedOffsetFrame(\"extra_frame\", plant.GetFrameByName(\"iiwa_link_7\"), RigidTransform(RotationMatrix(), [0.5,0,0]))\n    #     )\n    #     print(\"inside prefinalize callback\")\n    station = builder.AddSystem(\n        MyMakeManipulationStation(model_directives=model_directives,\n        package_xmls=[\"./package.xml\"], time_step=time_step))\n    plant = station.GetSubsystemByName(\"plant\")\n    controller_plant = station.GetSubsystemByName(\n        \"iiwa_controller\").get_multibody_plant_for_control()\n\n    # Add a meshcat visualizer.\n    visualizer = MeshcatVisualizer.AddToBuilder(\n        builder, station.GetOutputPort(\"query_object\"), meshcat)\n    meshcat.ResetRenderMode()\n    meshcat.DeleteAddedControls()\n\n    # print(controller_plant.GetFrameByName(\"extra_frame\"))\n    # Set up differential inverse kinematics.\n    differential_ik = AddIiwaDifferentialIK(\n        builder,\n        plant,\n        frame=controller_plant.GetFrameByName(\"extra_frame\"))\n\n    \n    builder.Connect(differential_ik.get_output_port(),\n                    station.GetInputPort(\"iiwa_position\"))\n    builder.Connect(station.GetOutputPort(\"iiwa_state_estimated\"),\n                    differential_ik.GetInputPort(\"robot_state\"))\n\n    # p_I7B_I7 = [0, 0, 0.11 + 0.09]\n    # Set up teleop widgets.\n    teleop = builder.AddSystem(\n        MeshcatPoseSliders(\n            meshcat,\n            min_range=MeshcatPoseSliders.MinRange(roll=0,\n                                                  pitch=-0.5,\n                                                  yaw=-np.pi,\n                                                  x=-0.6,\n                                                  y=-0.8,\n                                                  z=0.0),\n            max_range=MeshcatPoseSliders.MaxRange(roll=2 * np.pi,\n                                                  pitch=np.pi,\n                                                  yaw=np.pi,\n                                                  x=0.8,\n                                                  y=0.3,\n                                                  z=1.1),\n            body_index=plant.GetBodyByName(\"iiwa_link_7\").index()))\n    builder.Connect(teleop.get_output_port(0),\n                    differential_ik.get_input_port(0))\n    builder.Connect(station.GetOutputPort(\"body_poses\"),\n                    teleop.GetInputPort(\"body_poses\"))\n\n    # wsg_teleop = builder.AddSystem(WsgButton(meshcat))\n    # builder.Connect(wsg_teleop.get_output_port(0),\n    #                 station.GetInputPort(\"wsg_position\"))\n\n    diagram = builder.Build()\n    simulator = Simulator(diagram)\n    context = simulator.get_mutable_context()\n\n    target = RigidTransform(RotationMatrix(), p_target)\n    meshcat.SetObject(\"target\", Sphere(squash_ball_radius), rgba=Rgba(.3, .1, .1, 1))\n    meshcat.SetTransform(\"target\", target)\n    \n    plant_context = plant.GetMyMutableContextFromRoot(context)\n    q0 = plant.GetPositions(plant_context)\n    non_iiwa_q0 = q0[7:]\n    plant.SetPositions(plant_context, np.concatenate((q_original, non_iiwa_q0)))\n    print(f\"initial joint positions {plant.GetPositions(plant_context)[0:7]}\")\n    print(f\"planned initial joint position {q_original}\")\n    simulator.AdvanceTo(0.1)\n    while simulator.get_context().get_time() < 10:\n        simulator.set_target_realtime_rate(0.1)\n        teleop.SetXyz(p_target)\n        simulator.AdvanceTo(simulator.get_context().get_time() + 1.0)\n        \n    print(f\"final spatial positions {teleop._get_transform()}\")\n    print(f\"planned final spatial position {p_target}\")\n    print(f\"final joint positions {plant.GetPositions(plant_context)}\")\n    \n    \n    return plant.GetPositions(plant_context)[:7]\n\nget_q_with_diffik(q_Catch,p_WCatch_adj[2]) #p_WCatch_adj[0] p_WCatch",
   "metadata": {
    "tags": [],
    "deepnote_to_be_reexecuted": false,
    "source_hash": "85d2001b",
    "execution_start": 1670358807955,
    "execution_millis": 572,
    "cell_id": "00010-2fc74e19-b13a-46e7-af1c-68ca26192d09",
    "deepnote_cell_type": "code",
    "deepnote_cell_height": 2629,
    "deepnote_output_heights": [
     58.578125,
     58.578125
    ]
   },
   "outputs": [
    {
     "output_type": "error",
     "ename": "SystemExit",
     "evalue": "Failure at bazel-out/k8-opt/bin/tools/install/libdrake/_virtual_includes/drake_shared_library/drake/manipulation/planner/differential_inverse_kinematics.h:257 in set_joint_velocity_limits(): condition 'v_bounds.first.size() == get_num_velocities()' failed.",
     "traceback": [
      "An exception has occurred, use %tb to see the full traceback.\n",
      "\u001b[0;31mSystemExit\u001b[0m\u001b[0;31m:\u001b[0m Failure at bazel-out/k8-opt/bin/tools/install/libdrake/_virtual_includes/drake_shared_library/drake/manipulation/planner/differential_inverse_kinematics.h:257 in set_joint_velocity_limits(): condition 'v_bounds.first.size() == get_num_velocities()' failed.\n"
     ]
    },
    {
     "name": "stderr",
     "text": "/shared-libs/python3.8/py-core/lib/python3.8/site-packages/IPython/core/interactiveshell.py:3386: UserWarning: To exit: use 'exit', 'quit', or Ctrl-D.\n  warn(\"To exit: use 'exit', 'quit', or Ctrl-D.\", stacklevel=1)\n",
     "output_type": "stream"
    }
   ],
   "execution_count": null
  },
  {
   "cell_type": "markdown",
   "source": "<a style='text-decoration:none;line-height:16px;display:flex;color:#5B5B62;padding:10px;justify-content:end;' href='https://deepnote.com?utm_source=created-in-deepnote-cell&projectId=68a898be-bd4e-4046-916a-6293aadf6c5d' target=\"_blank\">\n<img alt='Created in deepnote.com' style='display:inline;max-height:16px;margin:0px;margin-right:7.5px;' src='data:image/svg+xml;base64,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' > </img>\nCreated in <span style='font-weight:600;margin-left:4px;'>Deepnote</span></a>",
   "metadata": {
    "tags": [],
    "created_in_deepnote_cell": true,
    "deepnote_cell_type": "markdown"
   }
  }
 ],
 "nbformat": 4,
 "nbformat_minor": 2,
 "metadata": {
  "kernelspec": {
   "display_name": "Python 3.10.8 64-bit",
   "language": "python",
   "name": "python3"
  },
  "language_info": {
   "codemirror_mode": {
    "name": "ipython",
    "version": 3
   },
   "file_extension": ".py",
   "mimetype": "text/x-python",
   "name": "python",
   "nbconvert_exporter": "python",
   "pygments_lexer": "ipython3",
   "version": "3.10.8"
  },
  "orig_nbformat": 4,
  "vscode": {
   "interpreter": {
    "hash": "aee8b7b246df8f9039afb4144a1f6fd8d2ca17a180786b69acc140d282b71a49"
   }
  },
  "deepnote_notebook_id": "574e5aaf-69d4-4c41-8d5e-e47052f06bfd",
  "deepnote": {},
  "deepnote_execution_queue": []
 }
}