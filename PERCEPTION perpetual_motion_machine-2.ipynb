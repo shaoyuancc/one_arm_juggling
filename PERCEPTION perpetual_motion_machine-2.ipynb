{
 "cells": [
  {
   "cell_type": "code",
   "source": "import logging\nfrom copy import copy\nfrom enum import Enum\nfrom IPython.display import SVG,display\nimport pydot\n\nimport numpy as np\nfrom numpy import inf\nimport matplotlib.pyplot as plt\n\nfrom pydrake.all import (AbstractValue, AddMultibodyPlantSceneGraph, AngleAxis,\n                         Concatenate, DiagramBuilder, InputPortIndex,\n                         LeafSystem, MeshcatVisualizer, Parser,\n                         PiecewisePolynomial, PiecewisePose, PointCloud, RandomGenerator, RigidTransform,\n                         RollPitchYaw, Simulator, StartMeshcat,\n                         UniformlyRandomRotationMatrix,\n                         BsplineTrajectory, Sphere, Rgba,\n                         KinematicTrajectoryOptimization, Solve, MinimumDistanceConstraint,\n                         PositionConstraint, MeshcatPointCloudVisualizer,\n                         ImageLabel16I)\nfrom manipulation.utils import colorize_labels\nfrom manipulation import FindResource, running_as_notebook\nfrom manipulation.meshcat_utils import AddMeshcatTriad\nfrom manipulation.scenarios import (AddPackagePaths,\n                                    MakeManipulationStation, AddIiwa, AddShape, AddWsg, AddMultibodyTriad)\n\nclass NoDiffIKWarnings(logging.Filter):\n    def filter(self, record):\n        return not record.getMessage().startswith('Differential IK')\n\nlogging.getLogger(\"drake\").addFilter(NoDiffIKWarnings())\n\nfrom utils import *",
   "metadata": {
    "colab": {},
    "colab_type": "code",
    "deepnote_to_be_reexecuted": false,
    "execution_millis": 791,
    "execution_start": 1670554561570,
    "id": "eeMrMI0-1Dhu",
    "source_hash": "46b36f9e",
    "cell_id": "99e7fbd9-9758-4a0e-badc-49042e25097e",
    "deepnote_cell_type": "code",
    "deepnote_cell_height": 657
   },
   "outputs": [],
   "execution_count": null
  },
  {
   "cell_type": "code",
   "metadata": {
    "deepnote_to_be_reexecuted": false,
    "execution_millis": 39,
    "execution_start": 1670554562365,
    "source_hash": "6d42057f",
    "cell_id": "00001-aecdaa66-e15c-4edb-b4e9-a1113731301f",
    "deepnote_cell_type": "code",
    "deepnote_cell_height": 200.078125,
    "deepnote_output_heights": [
     null,
     20.1875
    ]
   },
   "source": "# Start the visualizer.\nmeshcat = StartMeshcat()",
   "outputs": [
    {
     "name": "stderr",
     "text": "INFO:drake:Meshcat listening for connections at https://68a898be-bd4e-4046-916a-6293aadf6c5d.deepnoteproject.com/7000/\nInstalling NginX server for MeshCat on Deepnote...\n",
     "output_type": "stream"
    },
    {
     "data": {
      "text/plain": "<IPython.core.display.HTML object>",
      "text/html": "Meshcat URL: <a href='https://68a898be-bd4e-4046-916a-6293aadf6c5d.deepnoteproject.com/7000/' target='_blank'>https://68a898be-bd4e-4046-916a-6293aadf6c5d.deepnoteproject.com/7000/</a>"
     },
     "metadata": {},
     "output_type": "display_data"
    }
   ],
   "execution_count": null
  },
  {
   "cell_type": "markdown",
   "source": "The order of operations:\n1. We start with comfortable joint angles for the iiwa q_throw and q_catch.\n1. We use forward kinematics to get spatial positions p_WThrow and p_WCatch\n1. we translate those by the offset between the ball and the gripper p_GB_G, to get the spatial positions the ball will be in at the point of being thrown (release) and caught X_WThrowB_W, X_WCatchB_W\n1. we calculate using simple physics the spatial velocity of the ball at the point of being thrown and caught V_WThrowB_W, V_WCatchB_W, as well as the joint angle for the last iiwa link (rotation of the gripper such that it will parallel to the velocity of the ball), given a particular max height h that it reaches.\n1. we use the Jacobian to transform the spatial velocities of the ball into joint velocities of the iiwa v_Throw and v_Catch, using the known offset between the gripper and the ball to create the Jacobian\n1. We feed the joint positions and velocities into kin traj opt so they can be used as constraints to optimize the trajectory.\n",
   "metadata": {
    "tags": [],
    "cell_id": "00002-48ce9cc1-214a-476a-828e-df2da6663226",
    "deepnote_cell_type": "markdown",
    "deepnote_cell_height": 341.78125
   }
  },
  {
   "cell_type": "code",
   "metadata": {
    "deepnote_to_be_reexecuted": false,
    "execution_millis": 6,
    "execution_start": 1670554563064,
    "source_hash": "a684d013",
    "tags": [],
    "cell_id": "00003-cb90ce34-a1fe-4a2d-8a4b-491ffc9707f1",
    "deepnote_cell_type": "code",
    "deepnote_cell_height": 837
   },
   "source": "meshcat.Delete()\n\ninternal_model = make_internal_model()\n\nsquash_ball_radius = 0.02\np_GB_G = [0, 0.11, 0]\ndef add_target_objects(X_WThrow, X_WCatch):\n    p_ThrowB_W = X_WThrow.rotation() @ p_GB_G\n    X_WThrowB_W = RigidTransform(X_WThrow.rotation(), X_WThrow.translation() +  p_ThrowB_W)\n    p_CatchB_W = X_WCatch.rotation() @ p_GB_G\n    X_WCatchB_W = RigidTransform(X_WCatch.rotation(), X_WCatch.translation() +  p_CatchB_W)\n    meshcat.SetObject(\"throw\", Sphere(squash_ball_radius), rgba=Rgba(.9, .1, .1, 1))\n    meshcat.SetTransform(\"throw\", X_WThrowB_W)\n    meshcat.SetObject(\"catch\", Sphere(squash_ball_radius), rgba=Rgba(.1, .9, .1, 1))\n    meshcat.SetTransform(\"catch\", X_WCatchB_W)\n    return X_WThrowB_W, X_WCatchB_W\n\nq_Throw = np.array([-0.54, 0.58, 0, -1.79, 0, -0.79, 0])\np_WThrow = [0.57, -0.34, 0.39]\nR_WThrow = RollPitchYaw([-np.pi, 0.00, 1.03])\n\nq_Catch = np.array([-0.74, 0.58, 0, -1.79, 0, -0.79, 0])\np_WCatch = [0.49, -0.45, 0.39]\nR_WCatch = RollPitchYaw([-np.pi, 0.00, 0.83])\n\nq_Test = np.array([-0.74, 0.58, 0, -1.79, 0, -0.79, 0])\np_Wtest = [-0.1, -0.4, 0.2]\nR_Wtest = RollPitchYaw([-np.pi, 0.00, 0.83])\n\nX_WThrow = RigidTransform(R_WThrow, p_WThrow)\nX_WCatch = RigidTransform(R_WCatch, p_WCatch)\nX_Wtest = RigidTransform(R_Wtest, p_Wtest)\n\nX_WThrowB_W, X_WCatchB_W = add_target_objects(X_WThrow, X_WCatch)\n\n\nmax_height = 0.5 # Max height ball will reach in meters\nV_ThrowB, V_CatchB, t_duration = calculate_ball_vels(X_WThrowB_W.translation(), X_WCatchB_W.translation(), max_height)\nv_Throw = convert_spatial_vel_ball_to_joint_vel_arm(q_Throw, V_ThrowB, p_GB_G)\nv_Catch = convert_spatial_vel_ball_to_joint_vel_arm(q_Throw, V_CatchB, p_GB_G)\n# WSG gripper\nopened = np.array([0.035])\nclosed = np.array([0.02])",
   "outputs": [],
   "execution_count": null
  },
  {
   "cell_type": "code",
   "metadata": {
    "deepnote_to_be_reexecuted": false,
    "execution_millis": 3,
    "execution_start": 1670554563081,
    "source_hash": "dbb5b5a7",
    "tags": [],
    "cell_id": "00004-ac86b4da-c83d-42f8-859d-13aaf2ad74a9",
    "deepnote_cell_type": "code",
    "deepnote_cell_height": 1629
   },
   "source": "def make_kin_traj_opt_trajectory(q_Throw, q_Catch, v_Throw, v_Catch, t_duration):\n    context = internal_model.CreateDefaultContext()\n    plant = internal_model.GetSubsystemByName(\"plant\")\n    plant_context = plant.GetMyContextFromRoot(context)\n    \n    # print(f\"plant.num_positions()={plant.num_positions()}\")\n    # print(f\"plant.GetPositionLowerLimits()={plant.GetPositionLowerLimits()}\")\n    # print(f\"plant.GetVelocityUpperLimits()={plant.GetVelocityUpperLimits()}\")\n\n    num_control_points = 21\n    num_positions = 7\n    trajopt = KinematicTrajectoryOptimization(num_positions, num_control_points)\n    prog = trajopt.get_mutable_prog()\n\n    q_guess = np.tile(q_Catch.reshape((num_positions,1)), (1, trajopt.num_control_points()))\n    q_guess[0,:] = np.linspace(q_Catch[0], q_Throw[0], trajopt.num_control_points())\n    path_guess = BsplineTrajectory(trajopt.basis(), q_guess)\n    trajopt.SetInitialGuess(path_guess)\n    \n    trajopt.AddPathLengthCost(1)\n\n    trajopt.AddPositionBounds(plant.GetPositionLowerLimits()[:num_positions],\n                              plant.GetPositionUpperLimits()[:num_positions])\n    trajopt.AddVelocityBounds(plant.GetVelocityLowerLimits()[:num_positions],\n                              plant.GetVelocityUpperLimits()[:num_positions])\n\n    trajopt.AddDurationConstraint(2 * t_duration, 2 * t_duration) # DIFF\n\n    # constrain positions in joint angles\n    trajopt.AddPathPositionConstraint(q_Catch, q_Catch, 0)\n    trajopt.AddPathPositionConstraint(q_Throw, q_Throw, 0.5)\n    trajopt.AddPathPositionConstraint(q_Catch, q_Catch, 1)\n\n    prog.AddQuadraticErrorCost(np.eye(7), q_Catch,\n                               trajopt.control_points()[:, 0])\n    \n    prog.AddQuadraticErrorCost(np.eye(7), q_Throw,\n                               trajopt.control_points()[:, np.round(num_control_points/2).astype(int)])\n\n    # return to start\n    prog.AddQuadraticErrorCost(np.eye(7), q_Catch,\n                               trajopt.control_points()[:, -1])\n    \n\n    v_Throw.reshape(7,1)\n    v_Catch.reshape(7,1)\n    trajopt.AddPathVelocityConstraint(v_Catch,v_Catch, 0)\n    trajopt.AddPathVelocityConstraint(v_Throw,v_Throw, 0.5)\n    trajopt.AddPathVelocityConstraint(v_Catch,v_Catch, 1)\n\n    # print(prog)\n    # Solve once without the collisions and set that as the initial guess for\n    # the version with collisions.\n    result = Solve(prog)\n    if not result.is_success():\n        print(\"Trajectory optimization failed, even without collisions!\")\n        print(result.get_solver_id().name())\n    \n    traj = trajopt.ReconstructTrajectory(result)\n    # print(f\"kin traj opt initial t:{traj.start_time()} q: {traj.InitialValue()}\")\n    # print(f\"kin traj opt final t:{traj.end_time()} q: {traj.FinalValue()}\")\n    return traj\n    \n    trajopt.SetPathInitialGuess(trajopt.ReconstructTrajectory(result))\n\n    PublishPositionTrajectory(trajopt.ReconstructTrajectory(result), context, plant,\n                              visualizer)\n    collision_visualizer.Publish(\n        collision_visualizer.GetMyContextFromRoot(context))\n\n    \n    # collision constraints\n    collision_constraint = MinimumDistanceConstraint(plant, 0.001,\n                                                     plant_context, None, 0.01)\n    evaluate_at_s = np.linspace(0, 1, 25)\n    for s in evaluate_at_s:\n        trajopt.AddPathConstraint(collision_constraint, s)\n\n    result = Solve(prog)\n    if not result.is_success():\n        print(\"Trajectory optimization failed\")\n        print(result.get_solver_id().name())\n\n    PublishPositionTrajectory(trajopt.ReconstructTrajectory(result), context, plant,\n                              visualizer)\n    collision_visualizer.Publish(\n        collision_visualizer.GetMyContextFromRoot(context))",
   "outputs": [],
   "execution_count": null
  },
  {
   "cell_type": "code",
   "source": "class GraspSelector(LeafSystem):\n    def __init__(self, plant, camera_body_indices):\n        LeafSystem.__init__(self)\n        model_point_cloud = AbstractValue.Make(PointCloud(0))\n        self.DeclareAbstractInputPort(\"cloud0_W\", model_point_cloud)\n        self.DeclareAbstractInputPort(\"cloud1_W\", model_point_cloud)\n        self.DeclareAbstractInputPort(\"cloud2_W\", model_point_cloud)\n        \n        self.DeclareAbstractInputPort(\n            \"body_poses\", AbstractValue.Make([RigidTransform()]))\n        \n        self._camera0_label_image_index = self.DeclareAbstractInputPort(\"camera0_label_image\", AbstractValue.Make(ImageLabel16I())).get_index()\n\n\n        port = self.DeclareAbstractOutputPort(\"ball_pose_estimate\"\n            , lambda: AbstractValue.Make(\n                (np.inf, RigidTransform())), self.BallPoseEstimate)\n        port.disable_caching_by_default()\n        \n        self._ball_pose_index = self.DeclareAbstractState(\n            AbstractValue.Make([0,0,0])\n        )\n\n        self.DeclarePeriodicUnrestrictedUpdateEvent(0.1, 0.0, self.Update)\n\n        # Compute crop box.\n        context = plant.CreateDefaultContext()\n        # bin_body = plant.GetBodyByName(\"bin_base\", bin_instance)\n        # X_B = plant.EvalBodyPoseInWorld(context, bin_body)\n        # margin = 0.001  # only because simulation is perfect!\n        # a = X_B.multiply([-.22+0.025+margin, -.29+0.025+margin, 0.015+margin])\n        # b = X_B.multiply([.22-0.1-margin, .29-0.025-margin, 2.0])\n        # self._crop_lower = np.minimum(a,b)\n        # self._crop_upper = np.maximum(a,b)\n\n        # self._internal_model = make_internal_model()\n        # self._internal_model_context = self._internal_model.CreateDefaultContext()\n        self._rng = np.random.default_rng()\n        self._camera_body_indices = camera_body_indices\n        meshcat.SetObject(\"test\", Sphere(squash_ball_radius), rgba=Rgba(.9, .1, .1,1))\n        ball_pose = RigidTransform(RotationMatrix(),[1,1,1])\n        meshcat.SetTransform(\"test\", ball_pose)\n        print(\"GraspSelector init\")\n\n    def Update(self, context, state):\n        label_image = self.get_input_port(self._camera0_label_image_index).Eval(context)\n        plt.figure()\n        plt.imshow(colorize_labels(label_image.data))\n        plt.axis('off')\n        plt.show()\n        print(\"shape: \", np.shape(label_image.data))\n        print(\"unique: \", np.unique(label_image.data))\n\n        body_poses = self.get_input_port(3).Eval(context)\n        pcd = []\n        for i in range(3):\n            cloud = self.get_input_port(i).Eval(context)\n            pcd.append(cloud)#.Crop(self._crop_lower, self._crop_upper))\n            #pcd[i].EstimateNormals(radius=0.1, num_closest=30)\n\n            # Flip normals toward camera\n            #X_WC = body_poses[self._camera_body_indices[i]]\n            #pcd[i].FlipNormalsTowardPoint(X_WC.translation())\n        merged_pcd = Concatenate(pcd)\n        pos = merged_pcd.xyzs()\n        # print(np.shape(pos))\n        pos_ball = [sum(pos[0])/len(pos[0]),sum(pos[1])/len(pos[1]),sum(pos[2])/len(pos[2])]\n        if (pos_ball != [inf,inf,inf]):\n            print(f\"pos: {pos}\")\n            print (pos_ball)\n            print (type(pos_ball))\n            ball_pose = RigidTransform(RotationMatrix(),pos_ball)\n            meshcat.SetTransform(\"test\", ball_pose)\n\n        state.get_mutable_abstract_state(int(\n            self._ball_pose_index)).set_value(pos_ball)\n\n\n    def BallPoseEstimate(self, context, output): #time1 timestep time3 pos1 pos2\n        ball_pose = context.get_abstract_state(int(self._ball_pose_index)).get_value()\n        output.set_value(ball_pose)\n    \n# label generation for segmantation\n# merged point cloud notebook (masking mustard bottle)\n# know where the point cloud of the robot and subtract, \n",
   "metadata": {
    "tags": [],
    "deepnote_to_be_reexecuted": false,
    "source_hash": "a452e697",
    "execution_start": 1670554563098,
    "execution_millis": 1,
    "cell_id": "00005-ac7f9ff1-f616-43f2-943c-7c556d95f47a",
    "deepnote_cell_type": "code",
    "deepnote_cell_height": 1611
   },
   "outputs": [],
   "execution_count": null
  },
  {
   "cell_type": "markdown",
   "source": "Fitting Sphere to point cloud",
   "metadata": {
    "formattedRanges": [],
    "is_collapsed": false,
    "tags": [],
    "cell_id": "00006-e6e89b2d-513a-4762-85f7-7e5d24ccd2e3",
    "deepnote_cell_type": "text-cell-p"
   }
  },
  {
   "cell_type": "code",
   "metadata": {
    "tags": [],
    "deepnote_to_be_reexecuted": false,
    "source_hash": "91314d38",
    "execution_start": 1670554563100,
    "execution_millis": 58,
    "cell_id": "00007-3d97f962-4681-4b38-96b5-02b4de9b4af3",
    "deepnote_cell_type": "code",
    "deepnote_cell_height": 328
   },
   "source": "# # takes in concatenated point cloud, remove gripper, return partial sphere point cloud\n# def remove_gripper_points(concatenated_point_cloud)\n#     steps: 1. take in concatenated point cloud and create a labeled image\n#            2. remove the gripper from the labeled image\n#            3. turn labeled image back into point cloud\n    \n# return reduced_point_cloud    \n#     questions: 1. can labeled image tell what the gripper looks like\n#                2. is the above assumed steps correct\n           \n\n# # fitting a spehere to partial point cloud\n# def sphere_fit(reduced_point_cloud)\n\n# return (radius,sphere_center)",
   "outputs": [],
   "execution_count": null
  },
  {
   "cell_type": "code",
   "metadata": {
    "tags": [],
    "deepnote_to_be_reexecuted": false,
    "source_hash": "798c0f4e",
    "execution_start": 1670554563172,
    "execution_millis": 1,
    "cell_id": "00008-35c46a88-dcaf-4562-b11d-ee0b90195277",
    "deepnote_cell_type": "code",
    "deepnote_cell_height": 814
   },
   "source": "# https://programming-surgeon.com/en/sphere-fit-python/\ndef sphere_fit(point_cloud):\n    \"\"\"\n    input\n        point_cloud: xyz of the point clouds　numpy array\n    output\n        radius : radius of the sphere\n        sphere_center : xyz of the sphere center\n    \"\"\"\n\n    A_1 = np.zeros((3,3))\n    #A_1 : 1st item of A\n    v_1 = np.array([0.0,0.0,0.0])\n    v_2 = 0.0\n    v_3 = np.array([0.0,0.0,0.0])\n    # mean of multiplier of point vector of the point_clouds\n    # v_1, v_3 : vector, v_2 : scalar\n\n    N = len(point_cloud)\n    #N : number of the points\n\n    \"\"\"Calculation of the sum(sigma)\"\"\"\n    for v in point_cloud:\n        v_1 += v\n        v_2 += np.dot(v, v)\n        v_3 += np.dot(v, v) * v\n\n        A_1 += np.dot(np.array([v]).T, np.array([v]))\n\n    v_1 /= N\n    v_2 /= N\n    v_3 /= N\n    A = 2 * (A_1 / N - np.dot(np.array([v_1]).T, np.array([v_1])))\n    # formula ②\n    b = v_3 - v_2 * v_1\n    # formula ③\n    sphere_center = np.dot(np.linalg.inv(A), b)\n    #　formula ①\n    radius = (sum(np.linalg.norm(np.array(point_cloud) - sphere_center, axis=1))\n              /len(point_cloud))\n\n    return(radius, sphere_center)",
   "outputs": [],
   "execution_count": null
  },
  {
   "cell_type": "code",
   "metadata": {
    "deepnote_to_be_reexecuted": false,
    "execution_millis": 8,
    "execution_start": 1670554563174,
    "source_hash": "667db261",
    "cell_id": "00009-507133c0-63ee-4580-af0d-3d90c9785b10",
    "deepnote_cell_type": "code",
    "deepnote_cell_height": 2799
   },
   "source": "rs = np.random.RandomState()  # this is for python\ngenerator = RandomGenerator(rs.randint(1000))  # this is for c++\n\nclass PlannerState(Enum):\n    WAIT_FOR_OBJECTS_TO_SETTLE = 1\n    PERPETUAL_MOTION = 2\n    THINKING = 3\n\nclass Planner(LeafSystem):\n    def __init__(self, plant):\n        LeafSystem.__init__(self)\n        self.DeclareAbstractInputPort(\n            \"body_poses\", AbstractValue.Make([RigidTransform()]))\n        self._throw_pose_index = self.DeclareAbstractInputPort(\n            \"throw_pose\", AbstractValue.Make(\n                (np.inf, RigidTransform()))).get_index()\n        self._catch_pose_index = self.DeclareAbstractInputPort(\n            \"catch_pose\", AbstractValue.Make(\n                (np.inf, RigidTransform()))).get_index()\n        self._wsg_state_index = self.DeclareVectorInputPort(\"wsg_state\",\n                                                            2).get_index()\n        self._ball_pose_index = self.DeclareAbstractInputPort(\n            \"ball_pose\",AbstractValue.Make(\n                (np.inf, RigidTransform()))).get_index()\n\n        self._mode_index = self.DeclareAbstractState(\n            AbstractValue.Make(PlannerState.WAIT_FOR_OBJECTS_TO_SETTLE))\n        self._traj_wsg_index = self.DeclareAbstractState(\n            AbstractValue.Make(PiecewisePolynomial()))\n        self._times_index = self.DeclareAbstractState(AbstractValue.Make(\n            {\"initial\": 0.0}))\n        \n        self._traj_start_time_index = self.DeclareAbstractState(\n            AbstractValue.Make(0.0)\n        )\n\n        self.DeclareVectorOutputPort(\"wsg_position\", 1, self.CalcWsgPosition)\n\n        # For Perpetual Motion mode.\n        num_positions = 7\n        self._iiwa_position_index = self.DeclareVectorInputPort(\n            \"iiwa_position\", num_positions).get_index()\n                \n        self.DeclareVectorOutputPort(\"iiwa_position_command\", num_positions,\n                                     self.CalcIiwaPosition)\n        \n        self._traj_arm_q_index = self.DeclareAbstractState(\n            AbstractValue.Make(BsplineTrajectory())\n        )\n\n        self.DeclareInitializationUnrestrictedUpdateEvent(self.Initialize)\n\n        self.DeclarePeriodicUnrestrictedUpdateEvent(0.1, 0.0, self.Update)\n\n    def Update(self, context, state):\n        mode = context.get_abstract_state(int(self._mode_index)).get_value()\n\n        current_time = context.get_time()\n        times = context.get_abstract_state(int(\n            self._times_index)).get_value()\n\n        if mode == PlannerState.WAIT_FOR_OBJECTS_TO_SETTLE:\n            if context.get_time() - times[\"initial\"] > 0.02:\n                self.GoCatchThrow(context, state)\n            return\n        if mode == PlannerState.PERPETUAL_MOTION:\n            traj_q = context.get_mutable_abstract_state(int(\n                self._traj_arm_q_index)).get_value()\n            traj_start_time = context.get_mutable_abstract_state(int(\n                self._traj_start_time_index)).get_value()\n            if traj_start_time + traj_q.end_time() <= current_time:\n                state.get_mutable_abstract_state(int(\n                    self._traj_start_time_index)).set_value(current_time)\n                # print(\"restarting loop\")\n                # self.GoCatchThrow(context, state)\n            return\n        return\n\n    def GoCatchThrow(self, context, state):\n        print(\"GoCatchThrow\")\n        \n        current_time = context.get_time()\n        q_traj = make_kin_traj_opt_trajectory(q_Throw, q_Catch, v_Throw, v_Catch, t_duration)\n        \n        state.get_mutable_abstract_state(int(\n            self._traj_start_time_index)).set_value(current_time)\n        state.get_mutable_abstract_state(int(\n            self._traj_arm_q_index)).set_value(q_traj)\n        \n        state.get_mutable_abstract_state(int(\n            self._mode_index)).set_value(\n                PlannerState.PERPETUAL_MOTION)\n\n        # WSG Gripper Trajectory\n        throw_time = t_duration\n        catch_time = t_duration*2\n        buff = 0.05 # ball-park good buff value = 0.035\n        # Throw - Catch - Throw\n        # times = [0, catch_time-buff, catch_time, throw_time-buff, throw_time]\n        # positions = np.hstack([[opened], [opened], [closed], [closed], [opened]])\n        # Catch - Throw - Catch Original\n        # times = [0, throw_time-buff, throw_time, catch_time-buff, catch_time]\n        # positions = np.hstack([[closed], [closed], [opened], [opened], [closed]])\n        # Catch - Throw - Catch tuned\n        times = [0, throw_time, throw_time+buff, catch_time-buff, catch_time]\n        positions = np.hstack([[closed], [closed], [opened], [opened], [closed]])\n        traj_wsg_command = PiecewisePolynomial.FirstOrderHold(times, positions)\n\n        state.get_mutable_abstract_state(int(\n            self._traj_wsg_index)).set_value(traj_wsg_command)\n\n    def Plan(self, context, state):\n        mode = copy(\n            state.get_mutable_abstract_state(int(self._mode_index)).get_value())\n\n    def CalcWsgPosition(self, context, output):\n        mode = context.get_abstract_state(int(self._mode_index)).get_value()\n\n        if mode == PlannerState.PERPETUAL_MOTION:\n            traj_wsg = context.get_abstract_state(int(\n                self._traj_wsg_index)).get_value()\n            traj_start_time = context.get_mutable_abstract_state(int(\n                    self._traj_start_time_index)).get_value()\n\n            # Evaluate the trajectory at the current time, and write it to the\n            # output port.\n            output.SetFromVector(traj_wsg.value(context.get_time()-traj_start_time))\n            return\n        else:\n            # Command the open position\n            output.SetFromVector([closed])\n            return\n\n    def Initialize(self, context, state):\n        # self.GoCatchThrow(context, state)\n        pass\n\n    def CalcIiwaPosition(self, context, output):\n        mode = context.get_abstract_state(int(self._mode_index)).get_value()\n        \n        if mode == PlannerState.PERPETUAL_MOTION:\n            traj_q = context.get_mutable_abstract_state(int(\n                    self._traj_arm_q_index)).get_value()\n            traj_start_time = context.get_mutable_abstract_state(int(\n                    self._traj_start_time_index)).get_value()\n            output.SetFromVector(\n                traj_q.value(\n                    context.get_time()-traj_start_time))\n        else:\n            output.SetFromVector(q_Catch)\n\n",
   "outputs": [],
   "execution_count": null
  },
  {
   "cell_type": "code",
   "source": "def clutter_clearing_demo():\n    # meshcat.Delete()\n    builder = DiagramBuilder()\n\n    model_directives = \"\"\"\ndirectives:\n\"\"\"\n\n    for i in range(1 if running_as_notebook else 2):\n        model_directives += f\"\"\"\n- add_model:\n    name: ball{i}\n    file: package://one_arm_juggling/models/ball.sdf\n\"\"\"\n   \n    # # estaiblishing ball_position_estimator \n    station = builder.AddSystem(\n                        MakeManipulationStation(\n                            model_directives,\n                            filename=\"./models/one_arm_juggling.dmd.yaml\",\n                            package_xmls=[\"./package.xml\"],\n                            time_step=0.001))\n    plant = station.GetSubsystemByName(\"plant\")\n   \n    # # establishing planner\n    planner = builder.AddSystem(Planner(plant))\n    builder.Connect(station.GetOutputPort(\"body_poses\"),\n                    planner.GetInputPort(\"body_poses\"))\n    builder.Connect(station.GetOutputPort(\"wsg_state_measured\"),\n                    planner.GetInputPort(\"wsg_state\"))\n    builder.Connect(station.GetOutputPort(\"iiwa_position_measured\"),\n                    planner.GetInputPort(\"iiwa_position\"))\n\n    builder.Connect(planner.GetOutputPort(\"wsg_position\"),\n                    station.GetInputPort(\"wsg_position\"))\n\n    builder.Connect(planner.GetOutputPort(\"iiwa_position_command\"),\n                    station.GetInputPort(\"iiwa_position\"))\n    \n    # # estaiblishing ball_position_estimator  \n    ball_position_estimator = builder.AddSystem(\n        GraspSelector(plant,\n                      camera_body_indices=[\n                          plant.GetBodyIndices(\n                              plant.GetModelInstanceByName(\"camera0\"))[0],\n                          plant.GetBodyIndices(\n                              plant.GetModelInstanceByName(\"camera1\"))[0],\n                          plant.GetBodyIndices(\n                              plant.GetModelInstanceByName(\"camera2\"))[0]\n                      ]))\n    builder.Connect(ball_position_estimator.get_output_port(),\n                        planner.GetInputPort(\"ball_pose\"))\n    builder.Connect(station.GetOutputPort(\"camera0_point_cloud\"),\n                    ball_position_estimator.get_input_port(0))\n    builder.Connect(station.GetOutputPort(\"camera1_point_cloud\"),\n                    ball_position_estimator.get_input_port(1))\n    builder.Connect(station.GetOutputPort(\"camera2_point_cloud\"),\n                    ball_position_estimator.get_input_port(2))\n    builder.Connect(station.GetOutputPort(\"body_poses\"),\n                    ball_position_estimator.GetInputPort(\"body_poses\"))\n    builder.Connect(station.GetOutputPort(\"camera0_label_image\"),\n                    ball_position_estimator.GetInputPort(\"camera0_label_image\"))\n\n    # builder.ExportOutput(station.GetOutputPort(\"camera0_label_image\"), \"label_image\")\n    # label_image = diagram.GetOutputPort(\"label_image\").Eval(context)\n    \n    # visualizing point cloud\n    point_cloud_visualizer = builder.AddSystem(\n        MeshcatPointCloudVisualizer(meshcat, \"cloud\"))\n    builder.Connect(station.GetOutputPort(\"camera0_point_cloud\"),\n                    point_cloud_visualizer.cloud_input_port())\n    # builder.ExportOutput(station.GetOutputPort(\"camera0_point_cloud\"),\n    #                      \"point_cloud\")\n\n    visualizer = MeshcatVisualizer.AddToBuilder(\n        builder, station.GetOutputPort(\"query_object\"), meshcat)\n    collision_visualizer = MeshcatVisualizer.AddToBuilder(\n         builder, station.GetOutputPort(\"query_object\"), meshcat,\n        MeshcatVisualizerParams(prefix=\"collision\", role=Role.kProximity))\n    meshcat.SetProperty(\"collision\", \"visible\", False)\n    diagram = builder.Build()\n\n    simulator = Simulator(diagram)\n    context = simulator.get_context()\n\n    plant_context = plant.GetMyMutableContextFromRoot(context)\n\n    p_Wtest = [-0.1, -0.4, 1]\n    R_Wtest = RollPitchYaw([-np.pi, 0.00, 0.83])\n    X_Wtest = RigidTransform(R_Wtest, p_Wtest)\n\n    for body_index in plant.GetFloatingBaseBodies():\n        tf = RigidTransform(X_WCatchB_W.rotation(), X_WCatchB_W.translation())\n        # for starting from drop add to translation np.array([0,0,6])\n        # np.array([0,0,-0.015])\n        plant.SetFreeBodyPose(plant_context,\n                              plant.get_body(body_index),\n                              X_Wtest)\n        print(f\"ball body index {body_index}\")\n\n\n    collision_visualizer.Publish(\n        collision_visualizer.GetMyContextFromRoot(context))\n    \n    q0 = plant.GetPositions(plant_context)\n    non_iiwa_q0 = q0[7:]\n    gap = closed[0]\n    non_iiwa_q0[0]=-gap/2\n    non_iiwa_q0[1]=gap/2\n    plant.SetPositions(plant_context, np.concatenate((q_Catch, non_iiwa_q0)))\n    simulator.AdvanceTo(0)\n    meshcat.Flush()  # Wait for the large object meshes to get to meshcat.\n    RecordInterval(0, 2, simulator, context, plant, visualizer)\n    # if running_as_notebook:\n    #     simulator.set_target_realtime_rate(0.1)\n    #     meshcat.AddButton(\"Stop Simulation\", \"Escape\")\n    #     print(\"Press Escape to stop the simulation\")\n    #     while meshcat.GetButtonClicks(\"Stop Simulation\") < 1:\n    #         simulator.AdvanceTo(simulator.get_context().get_time() + 2.0)\n    #     meshcat.DeleteButton(\"Stop Simulation\")\n\n\n    \n\n    # display(SVG(pydot.graph_from_dot_data(diagram.GetGraphvizString())[0].create_svg()))\n    # pydot.graph_from_dot_data(diagram.GetGraphvizString())[0].write_svg(\"diagram.svg\")\n\n\n    # plt.figure()\n    # plt.subplot(121)\n    # plt.imshow(color_image.data)\n    # plt.axis('off')\n    # plt.subplot(122)\n    # plt.imshow(colorize_labels(label_image.data))\n    # plt.axis('off')\n    # plt.show()\n\n    #def plot_camera_images():\n    #system = DepthCameraDemoSystem()\n\n    # Evaluate the camera output ports to get the images.\n    #context = system.CreateDefaultContext()\n    #system.Publish(context)\n    #color_image = station.GetOutputPort(\"camera0_rgb_image\").Eval(context)\n    #depth_image = station.GetOutputPort(\"camera0_depth_image\").Eval(context)\n    # point_cloud = station.GetOutputPort(\"point_cloud\").Eval(context)\n    # # Plot the two images.\n    # # plt.subplot(121)\n    # # plt.imshow(color_image.data)\n    # # plt.title('Color image')\n    # # plt.subplot(122)\n    # # plt.imshow(np.squeeze(depth_image.data))\n    # # plt.title('Depth image')\n    # plt.subplot(123)\n    # plt.imshow(np.squeeze(point_cloud.data))\n    # plt.title('Point_cloud')\n    # #mpld3.display()\n    # plt.show()\n\nclutter_clearing_demo()",
   "metadata": {
    "deepnote_to_be_reexecuted": false,
    "execution_start": 1670554563795,
    "source_hash": "2cc44c0",
    "execution_millis": 17275,
    "output_cleared": false,
    "cell_id": "00010-b262ce04-503d-4b42-b0bb-e65b28f5a4de",
    "deepnote_cell_type": "code",
    "deepnote_cell_height": 12878.765625,
    "deepnote_output_heights": [
     null,
     390,
     null,
     390,
     null,
     390,
     null,
     390,
     null,
     390,
     null,
     390,
     null,
     390,
     null,
     390,
     null,
     390,
     null,
     390,
     null,
     390,
     null,
     390,
     null,
     390,
     null,
     390,
     null,
     390,
     null,
     390,
     null,
     390,
     null,
     390,
     null,
     390,
     null,
     390
    ]
   },
   "outputs": [
    {
     "name": "stdout",
     "text": "GraspSelector init\nball body index BodyIndex(1)\n/tmp/ipykernel_107/2688737291.py:102: DrakeDeprecationWarning: (Deprecated) See ForcedPublish() \n*/ (Deprecated.)\n\nDeprecated:\n    Use ForcedPublish() instead This will be removed from Drake on or\n    after 2023-03-01.\n  collision_visualizer.Publish(\n",
     "output_type": "stream"
    },
    {
     "data": {
      "text/plain": "<Figure size 640x480 with 1 Axes>",
      "image/png": "[encoded data removed]"
     },
     "metadata": {
      "image/png": {
       "width": 512,
       "height": 389
      }
     },
     "output_type": "display_data"
    },
    {
     "name": "stdout",
     "text": "shape:  (480, 640, 1)\nunique:  [32766]\nGoCatchThrow\n",
     "output_type": "stream"
    },
    {
     "data": {
      "text/plain": "<Figure size 640x480 with 1 Axes>",
      "image/png": "[encoded data removed]"
     },
     "metadata": {
      "image/png": {
       "width": 512,
       "height": 389
      }
     },
     "output_type": "display_data"
    },
    {
     "name": "stdout",
     "text": "shape:  (480, 640, 1)\nunique:  [32766]\n",
     "output_type": "stream"
    },
    {
     "data": {
      "text/plain": "<Figure size 640x480 with 1 Axes>",
      "image/png": "[encoded data removed]"
     },
     "metadata": {
      "image/png": {
       "width": 512,
       "height": 389
      }
     },
     "output_type": "display_data"
    },
    {
     "name": "stdout",
     "text": "shape:  (480, 640, 1)\nunique:  [32766]\n",
     "output_type": "stream"
    },
    {
     "data": {
      "text/plain": "<Figure size 640x480 with 1 Axes>",
      "image/png": "[encoded data removed]"
     },
     "metadata": {
      "image/png": {
       "width": 512,
       "height": 389
      }
     },
     "output_type": "display_data"
    },
    {
     "name": "stdout",
     "text": "shape:  (480, 640, 1)\nunique:  [32766]\n",
     "output_type": "stream"
    },
    {
     "data": {
      "text/plain": "<Figure size 640x480 with 1 Axes>",
      "image/png": "[encoded data removed]"
     },
     "metadata": {
      "image/png": {
       "width": 512,
       "height": 389
      }
     },
     "output_type": "display_data"
    },
    {
     "name": "stdout",
     "text": "shape:  (480, 640, 1)\nunique:  [    1 32766]\n",
     "output_type": "stream"
    },
    {
     "data": {
      "text/plain": "<Figure size 640x480 with 1 Axes>",
      "image/png": "[encoded data removed]"
     },
     "metadata": {
      "image/png": {
       "width": 512,
       "height": 389
      }
     },
     "output_type": "display_data"
    },
    {
     "name": "stdout",
     "text": "shape:  (480, 640, 1)\nunique:  [    1 32766]\n",
     "output_type": "stream"
    },
    {
     "data": {
      "text/plain": "<Figure size 640x480 with 1 Axes>",
      "image/png": "[encoded data removed]"
     },
     "metadata": {
      "image/png": {
       "width": 512,
       "height": 389
      }
     },
     "output_type": "display_data"
    },
    {
     "name": "stdout",
     "text": "shape:  (480, 640, 1)\nunique:  [32766]\n",
     "output_type": "stream"
    },
    {
     "data": {
      "text/plain": "<Figure size 640x480 with 1 Axes>",
      "image/png": "[encoded data removed]"
     },
     "metadata": {
      "image/png": {
       "width": 512,
       "height": 389
      }
     },
     "output_type": "display_data"
    },
    {
     "name": "stdout",
     "text": "shape:  (480, 640, 1)\nunique:  [32766]\n",
     "output_type": "stream"
    },
    {
     "data": {
      "text/plain": "<Figure size 640x480 with 1 Axes>",
      "image/png": "[encoded data removed]"
     },
     "metadata": {
      "image/png": {
       "width": 512,
       "height": 389
      }
     },
     "output_type": "display_data"
    },
    {
     "name": "stdout",
     "text": "shape:  (480, 640, 1)\nunique:  [32766]\n",
     "output_type": "stream"
    },
    {
     "data": {
      "text/plain": "<Figure size 640x480 with 1 Axes>",
      "image/png": "[encoded data removed]"
     },
     "metadata": {
      "image/png": {
       "width": 512,
       "height": 389
      }
     },
     "output_type": "display_data"
    },
    {
     "name": "stdout",
     "text": "shape:  (480, 640, 1)\nunique:  [32766]\n",
     "output_type": "stream"
    },
    {
     "data": {
      "text/plain": "<Figure size 640x480 with 1 Axes>",
      "image/png": "[encoded data removed]"
     },
     "metadata": {
      "image/png": {
       "width": 512,
       "height": 389
      }
     },
     "output_type": "display_data"
    },
    {
     "name": "stdout",
     "text": "shape:  (480, 640, 1)\nunique:  [32766]\n",
     "output_type": "stream"
    },
    {
     "data": {
      "text/plain": "<Figure size 640x480 with 1 Axes>",
      "image/png": "[encoded data removed]"
     },
     "metadata": {
      "image/png": {
       "width": 512,
       "height": 389
      }
     },
     "output_type": "display_data"
    },
    {
     "name": "stdout",
     "text": "shape:  (480, 640, 1)\nunique:  [32766]\n",
     "output_type": "stream"
    },
    {
     "data": {
      "text/plain": "<Figure size 640x480 with 1 Axes>",
      "image/png": "[encoded data removed]"
     },
     "metadata": {
      "image/png": {
       "width": 512,
       "height": 389
      }
     },
     "output_type": "display_data"
    },
    {
     "name": "stdout",
     "text": "shape:  (480, 640, 1)\nunique:  [32766]\n",
     "output_type": "stream"
    },
    {
     "data": {
      "text/plain": "<Figure size 640x480 with 1 Axes>",
      "image/png": "[encoded data removed]"
     },
     "metadata": {
      "image/png": {
       "width": 512,
       "height": 389
      }
     },
     "output_type": "display_data"
    },
    {
     "name": "stdout",
     "text": "shape:  (480, 640, 1)\nunique:  [32766]\n",
     "output_type": "stream"
    },
    {
     "data": {
      "text/plain": "<Figure size 640x480 with 1 Axes>",
      "image/png": "[encoded data removed]"
     },
     "metadata": {
      "image/png": {
       "width": 512,
       "height": 389
      }
     },
     "output_type": "display_data"
    },
    {
     "name": "stdout",
     "text": "shape:  (480, 640, 1)\nunique:  [32766]\n",
     "output_type": "stream"
    },
    {
     "data": {
      "text/plain": "<Figure size 640x480 with 1 Axes>",
      "image/png": "[encoded data removed]"
     },
     "metadata": {
      "image/png": {
       "width": 512,
       "height": 389
      }
     },
     "output_type": "display_data"
    },
    {
     "name": "stdout",
     "text": "shape:  (480, 640, 1)\nunique:  [32766]\n",
     "output_type": "stream"
    },
    {
     "data": {
      "text/plain": "<Figure size 640x480 with 1 Axes>",
      "image/png": "[encoded data removed]"
     },
     "metadata": {
      "image/png": {
       "width": 512,
       "height": 389
      }
     },
     "output_type": "display_data"
    },
    {
     "name": "stdout",
     "text": "shape:  (480, 640, 1)\nunique:  [32766]\n",
     "output_type": "stream"
    },
    {
     "data": {
      "text/plain": "<Figure size 640x480 with 1 Axes>",
      "image/png": "[encoded data removed]"
     },
     "metadata": {
      "image/png": {
       "width": 512,
       "height": 389
      }
     },
     "output_type": "display_data"
    },
    {
     "name": "stdout",
     "text": "shape:  (480, 640, 1)\nunique:  [32766]\n",
     "output_type": "stream"
    },
    {
     "data": {
      "text/plain": "<Figure size 640x480 with 1 Axes>",
      "image/png": "[encoded data removed]"
     },
     "metadata": {
      "image/png": {
       "width": 512,
       "height": 389
      }
     },
     "output_type": "display_data"
    },
    {
     "name": "stdout",
     "text": "shape:  (480, 640, 1)\nunique:  [32766]\n",
     "output_type": "stream"
    },
    {
     "data": {
      "text/plain": "<Figure size 640x480 with 1 Axes>",
      "image/png": "[encoded data removed]"
     },
     "metadata": {
      "image/png": {
       "width": 512,
       "height": 389
      }
     },
     "output_type": "display_data"
    },
    {
     "name": "stdout",
     "text": "shape:  (480, 640, 1)\nunique:  [32766]\n",
     "output_type": "stream"
    }
   ],
   "execution_count": null
  },
  {
   "cell_type": "code",
   "metadata": {
    "tags": [],
    "deepnote_to_be_reexecuted": false,
    "source_hash": "b623e53d",
    "execution_start": 1670554581072,
    "execution_millis": 2,
    "cell_id": "00011-a4e3dee6-b62c-410c-be85-ff43915435de",
    "deepnote_cell_type": "code",
    "deepnote_cell_height": 76
   },
   "source": "",
   "outputs": [],
   "execution_count": null
  },
  {
   "cell_type": "markdown",
   "source": "<a style='text-decoration:none;line-height:16px;display:flex;color:#5B5B62;padding:10px;justify-content:end;' href='https://deepnote.com?utm_source=created-in-deepnote-cell&projectId=68a898be-bd4e-4046-916a-6293aadf6c5d' target=\"_blank\">\n<img alt='Created in deepnote.com' style='display:inline;max-height:16px;margin:0px;margin-right:7.5px;' src='data:image/svg+xml;base64,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' > </img>\nCreated in <span style='font-weight:600;margin-left:4px;'>Deepnote</span></a>",
   "metadata": {
    "tags": [],
    "created_in_deepnote_cell": true,
    "deepnote_cell_type": "markdown"
   }
  }
 ],
 "nbformat": 4,
 "nbformat_minor": 1,
 "metadata": {
  "colab": {
   "collapsed_sections": [],
   "name": "Robotic Manipulation - Geometric Pose Estimation.ipynb",
   "provenance": [],
   "toc_visible": true
  },
  "deepnote": {},
  "deepnote_execution_queue": [],
  "deepnote_notebook_id": "98069878-44d2-40da-89db-40328873b6e2",
  "kernelspec": {
   "display_name": "Python 3.10.8 64-bit",
   "language": "python",
   "name": "python3"
  },
  "language_info": {
   "codemirror_mode": {
    "name": "ipython",
    "version": 3
   },
   "file_extension": ".py",
   "mimetype": "text/x-python",
   "name": "python",
   "nbconvert_exporter": "python",
   "pygments_lexer": "ipython3",
   "version": "3.10.8"
  },
  "metadata": {
   "interpreter": {
    "hash": "aee8b7b246df8f9039afb4144a1f6fd8d2ca17a180786b69acc140d282b71a49"
   }
  },
  "vscode": {
   "interpreter": {
    "hash": "aee8b7b246df8f9039afb4144a1f6fd8d2ca17a180786b69acc140d282b71a49"
   }
  }
 }
}