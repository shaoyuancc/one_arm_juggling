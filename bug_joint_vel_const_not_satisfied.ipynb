{
 "cells": [
  {
   "cell_type": "code",
   "source": "import numpy as np\n\nfrom pydrake.all import (AddMultibodyPlantSceneGraph,\n                         DiagramBuilder,\n                         RigidTransform,\n                         BsplineTrajectory,\n                         KinematicTrajectoryOptimization,\n                         SnoptSolver)\n\nfrom manipulation.scenarios import (AddIiwa, AddWsg)",
   "metadata": {
    "colab": {},
    "colab_type": "code",
    "deepnote_to_be_reexecuted": false,
    "execution_millis": 1,
    "execution_start": 1669752835744,
    "id": "eeMrMI0-1Dhu",
    "source_hash": "6ad5a005",
    "cell_id": "52e98b00-ac17-431f-a482-ce4bd78db3fc",
    "deepnote_cell_type": "code",
    "deepnote_cell_height": 238
   },
   "outputs": [],
   "execution_count": null
  },
  {
   "cell_type": "code",
   "source": "# Joint position and velocity constraints\ndef make_kin_traj_opt_trajectory(q_Throw, q_Catch, v_Throw, v_Catch, t_duration):\n    # Set up plant\n    builder = DiagramBuilder()\n    plant, scene_graph = AddMultibodyPlantSceneGraph(builder, time_step=0.001)\n    iiwa = AddIiwa(plant)\n    wsg = AddWsg(plant, iiwa, welded=True, sphere=True)\n    gripper_frame = plant.GetFrameByName(\"body\", wsg)\n    plant.Finalize()\n    diagram = builder.Build()\n    context = diagram.CreateDefaultContext()\n    plant_context = plant.GetMyContextFromRoot(context)\n\n    # Initialize KinTrajOpt\n    num_positions = 7\n    num_control_points = 21\n    trajopt = KinematicTrajectoryOptimization(num_positions, num_control_points)\n    prog = trajopt.get_mutable_prog()\n\n    # Provide Initial Guess\n    q_guess = np.tile(q_Catch.reshape((num_positions,1)), (1, trajopt.num_control_points()))\n    q_guess[0,:] = np.linspace(q_Catch[0], q_Throw[0], trajopt.num_control_points())\n    path_guess = BsplineTrajectory(trajopt.basis(), q_guess)\n    trajopt.SetInitialGuess(path_guess)\n    \n    # Add Position and Velocity Bounds based on iiwa\n    trajopt.AddPositionBounds(plant.GetPositionLowerLimits()[:num_positions],\n                              plant.GetPositionUpperLimits()[:num_positions])\n    trajopt.AddVelocityBounds(plant.GetVelocityLowerLimits()[:num_positions],\n                              plant.GetVelocityUpperLimits()[:num_positions])\n    \n    # Constrain duration to be exact duration\n    trajopt.AddDurationConstraint(2 * t_duration, 2 * t_duration)\n\n    # Constrain positions in joint angles\n    trajopt.AddPathPositionConstraint(q_Catch, q_Catch, 0)\n    trajopt.AddPathPositionConstraint(q_Throw, q_Throw, 0.5)\n    trajopt.AddPathPositionConstraint(q_Catch, q_Catch, 1)\n\n    # Add Costs\n    trajopt.AddPathLengthCost(1)\n\n    prog.AddQuadraticErrorCost(np.eye(7), q_Catch,\n                               trajopt.control_points()[:, 0])\n    \n    prog.AddQuadraticErrorCost(np.eye(7), q_Throw,\n                               trajopt.control_points()[:, np.round(num_control_points/2).astype(int)])\n\n    prog.AddQuadraticErrorCost(np.eye(7), q_Catch,\n                               trajopt.control_points()[:, -1])\n\n    trajopt.AddPathVelocityConstraint(v_Catch,v_Catch, 0)\n    trajopt.AddPathVelocityConstraint(v_Throw,v_Throw, 0.5)\n    trajopt.AddPathVelocityConstraint(v_Catch,v_Catch, 1)\n\n\n    solver = SnoptSolver()\n    result = solver.Solve(prog)\n\n    if not result.is_success():\n        print(\"Trajectory optimization failed!\")\n        print(result.get_solver_id().name())\n    else:\n        print(\"Trajectory optimization succeeded!\")\n    \n    pos_traj = trajopt.ReconstructTrajectory(result)\n    vel_traj = pos_traj.MakeDerivative()\n    acc_traj = vel_traj.MakeDerivative()\n    \n    return pos_traj, vel_traj, acc_traj",
   "metadata": {
    "deepnote_to_be_reexecuted": false,
    "execution_millis": 5,
    "execution_start": 1669752849596,
    "source_hash": "8570e2d5",
    "tags": [],
    "cell_id": "00004-7c3b6769-e3e8-468c-a34a-106f07aed194",
    "deepnote_cell_type": "code",
    "deepnote_cell_height": 1318
   },
   "outputs": [],
   "execution_count": null
  },
  {
   "cell_type": "code",
   "source": "t_duration = 0.782\nq_Catch = np.array([-0.74, 0.58, 0, -1.79, 0, -0.79, 0])\nq_Throw = np.array([-0.54, 0.58, 0, -1.79, 0, -0.79, 0])\nv_Catch = np.array([[-0.151], [3.974], [-0.121], [-0.673],[0.039], [1.305], [-0.000]])\nv_Throw = np.array([[-0.151], [-4.050], [-0.121], [0.559], [0.039], [-1.322], [0.000]])\n\npos_traj, vel_traj, acc_traj = make_kin_traj_opt_trajectory(q_Throw, q_Catch, v_Throw, v_Catch, t_duration)\n\nprint(f\"traj vel at time 0:\\n{vel_traj.value(0).flatten()}\")\nprint(f\"joint velocities set as constraint at time 0:\\n{v_Catch.flatten()}\")\nprint()\nprint(f\"traj vel at time {t_duration}:\\n{vel_traj.value(t_duration).flatten()}\")\nprint(f\"joint velocities set as constraint at time {t_duration}:\\n{v_Throw.flatten()}\")\nprint()\nprint(f\"traj vel at time {2*t_duration}:\\n{vel_traj.value(2*t_duration).flatten()}\")\nprint(f\"joint velocities set as constraint at time {2*t_duration}:\\n{v_Catch.flatten()}\")",
   "metadata": {
    "tags": [],
    "deepnote_to_be_reexecuted": false,
    "source_hash": "3273b846",
    "execution_start": 1669752851033,
    "execution_millis": 572,
    "cell_id": "00011-9d0bd78f-6a3b-40c7-b164-0047ece325d2",
    "deepnote_cell_type": "code",
    "deepnote_cell_height": 716.515625
   },
   "outputs": [
    {
     "name": "stdout",
     "text": "Trajectory optimization succeeded!\ntraj vel at time 0:\n[-0.09654731  2.54092072 -0.07736573 -0.43030691  0.02493606  0.83439898\n  0.        ]\njoint velocities set as constraint at time 0:\n[-0.151  3.974 -0.121 -0.673  0.039  1.305 -0.   ]\n\ntraj vel at time 0.782:\n[-0.09654731 -2.58951407 -0.07736573  0.35741688  0.02493606 -0.84526854\n  0.        ]\njoint velocities set as constraint at time 0.782:\n[-0.151 -4.05  -0.121  0.559  0.039 -1.322  0.   ]\n\ntraj vel at time 1.564:\n[-0.09654731  2.54092072 -0.07736573 -0.43030691  0.02493606  0.83439898\n  0.        ]\njoint velocities set as constraint at time 1.564:\n[-0.151  3.974 -0.121 -0.673  0.039  1.305 -0.   ]\n",
     "output_type": "stream"
    }
   ],
   "execution_count": null
  },
  {
   "cell_type": "code",
   "source": "t_duration = 0.452\nq_Catch = np.array([-0.74, 0.58, 0, -1.79, 0, -0.79, 0])\nq_Throw = np.array([-0.54, 0.58, 0, -1.79, 0, -0.79, 0])\nv_Catch = np.array([[-0.261], [2.250], [-0.210], [-0.455], [0.067], [0.743], [-0.000]])\nv_Throw = np.array([[-0.261], [-2.382], [-0.210], [0.257], [0.067], [-0.773], [0.000]])\n\npos_traj, vel_traj, acc_traj = make_kin_traj_opt_trajectory(q_Throw, q_Catch, v_Throw, v_Catch, t_duration)\n\nprint(f\"traj vel at time 0:\\n{vel_traj.value(0).flatten()}\")\nprint(f\"joint velocities set as constraint at time 0:\\n{v_Catch.flatten()}\")\nprint()\nprint(f\"traj vel at time {t_duration}:\\n{vel_traj.value(t_duration).flatten()}\")\nprint(f\"joint velocities set as constraint at time {t_duration}:\\n{v_Throw.flatten()}\")\nprint()\nprint(f\"traj vel at time {2*t_duration}:\\n{vel_traj.value(2*t_duration).flatten()}\")\nprint(f\"joint velocities set as constraint at time {2*t_duration}:\\n{v_Catch.flatten()}\")",
   "metadata": {
    "cell_id": "6258aad33d5f430c93ce29706547dfa3",
    "tags": [],
    "deepnote_to_be_reexecuted": false,
    "source_hash": "ac5c8589",
    "execution_start": 1669753058912,
    "execution_millis": 5,
    "deepnote_cell_type": "code",
    "deepnote_cell_height": 716.515625
   },
   "outputs": [
    {
     "name": "stdout",
     "text": "Trajectory optimization succeeded!\ntraj vel at time 0:\n[-0.28871681  2.48893805 -0.23230088 -0.50331858  0.07411504  0.82190265\n  0.        ]\njoint velocities set as constraint at time 0:\n[-0.261  2.25  -0.21  -0.455  0.067  0.743 -0.   ]\n\ntraj vel at time 0.452:\n[-0.28871681 -2.63495575 -0.23230088  0.28429204  0.07411504 -0.8550885\n  0.        ]\njoint velocities set as constraint at time 0.452:\n[-0.261 -2.382 -0.21   0.257  0.067 -0.773  0.   ]\n\ntraj vel at time 0.904:\n[-0.28871681  2.48893805 -0.23230088 -0.50331858  0.07411504  0.82190265\n  0.        ]\njoint velocities set as constraint at time 0.904:\n[-0.261  2.25  -0.21  -0.455  0.067  0.743 -0.   ]\n",
     "output_type": "stream"
    }
   ],
   "execution_count": null
  },
  {
   "cell_type": "code",
   "source": "",
   "metadata": {
    "cell_id": "bdd36c564ad843978c9358e70e52fabb",
    "tags": [],
    "deepnote_to_be_reexecuted": false,
    "source_hash": "b623e53d",
    "execution_start": 1669752600690,
    "execution_millis": 1,
    "deepnote_cell_type": "code",
    "deepnote_cell_height": 76
   },
   "outputs": [],
   "execution_count": null
  },
  {
   "cell_type": "markdown",
   "source": "<a style='text-decoration:none;line-height:16px;display:flex;color:#5B5B62;padding:10px;justify-content:end;' href='https://deepnote.com?utm_source=created-in-deepnote-cell&projectId=68a898be-bd4e-4046-916a-6293aadf6c5d' target=\"_blank\">\n<img alt='Created in deepnote.com' style='display:inline;max-height:16px;margin:0px;margin-right:7.5px;' src='data:image/svg+xml;base64,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' > </img>\nCreated in <span style='font-weight:600;margin-left:4px;'>Deepnote</span></a>",
   "metadata": {
    "tags": [],
    "created_in_deepnote_cell": true,
    "deepnote_cell_type": "markdown"
   }
  }
 ],
 "nbformat": 4,
 "nbformat_minor": 1,
 "metadata": {
  "colab": {
   "collapsed_sections": [],
   "name": "Robotic Manipulation - Geometric Pose Estimation.ipynb",
   "provenance": [],
   "toc_visible": true
  },
  "deepnote": {},
  "deepnote_execution_queue": [],
  "deepnote_notebook_id": "b5fb11ff-b660-478d-aa74-2c320c5d3b34",
  "kernelspec": {
   "display_name": "Python 3.10.8 64-bit",
   "language": "python",
   "name": "python3"
  },
  "language_info": {
   "codemirror_mode": {
    "name": "ipython",
    "version": 3
   },
   "file_extension": ".py",
   "mimetype": "text/x-python",
   "name": "python",
   "nbconvert_exporter": "python",
   "pygments_lexer": "ipython3",
   "version": "3.10.8"
  },
  "metadata": {
   "interpreter": {
    "hash": "aee8b7b246df8f9039afb4144a1f6fd8d2ca17a180786b69acc140d282b71a49"
   }
  },
  "vscode": {
   "interpreter": {
    "hash": "aee8b7b246df8f9039afb4144a1f6fd8d2ca17a180786b69acc140d282b71a49"
   }
  }
 }
}