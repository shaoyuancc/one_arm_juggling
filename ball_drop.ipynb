{
 "cells": [
  {
   "cell_type": "markdown",
   "source": "# Ball Drop",
   "metadata": {
    "cell_id": "ac71546c-73c9-440e-b9e0-cd2ad7bcc1af",
    "deepnote_cell_type": "markdown",
    "deepnote_cell_height": 82.15625
   }
  },
  {
   "cell_type": "markdown",
   "source": "",
   "metadata": {
    "cell_id": "00001-adfc0343-82ec-4d11-ac7b-622e724a5cac",
    "deepnote_cell_type": "markdown",
    "deepnote_cell_height": 46.1875
   }
  },
  {
   "cell_type": "code",
   "source": "from IPython.display import display, SVG\nimport numpy as np\nimport pydot\n\nfrom pydrake.all import (AbstractValue, AddMultibodyPlantSceneGraph, AngleAxis,\n                         Concatenate, DiagramBuilder, InputPortIndex,\n                         LeafSystem, MeshcatVisualizer, Parser,\n                         PiecewisePolynomial, PiecewisePose, PointCloud, RandomGenerator, RigidTransform,\n                         RollPitchYaw, Simulator, StartMeshcat,\n                         UniformlyRandomRotationMatrix,\n                         BsplineTrajectory, Sphere, Rgba,\n                         KinematicTrajectoryOptimization, Solve, MinimumDistanceConstraint,\n                         PositionConstraint)\n\nfrom manipulation.scenarios import (AddFloatingRpyJoint, AddRgbdSensor,\n                                    AddShape, ycb)\n\nfrom scenarios import *\n#from controllers import *",
   "metadata": {
    "cell_id": "00002-1b7b5b99-5fb2-4691-be50-4eaf1fb4395a",
    "deepnote_to_be_reexecuted": false,
    "source_hash": "bcefe52c",
    "execution_start": 1667875465281,
    "execution_millis": 6,
    "deepnote_cell_type": "code",
    "deepnote_cell_height": 405.171875
   },
   "outputs": [],
   "execution_count": null
  },
  {
   "cell_type": "code",
   "metadata": {
    "cell_id": "00003-c5884a29-4e1b-4f86-8e04-a6998b1a140a",
    "deepnote_to_be_reexecuted": false,
    "source_hash": "6d42057f",
    "execution_start": 1667875465816,
    "execution_millis": 8,
    "deepnote_cell_type": "code",
    "deepnote_cell_height": 180.15625,
    "deepnote_output_heights": [
     null,
     20.171875
    ]
   },
   "source": "# Start the visualizer.\nmeshcat = StartMeshcat()",
   "outputs": [
    {
     "name": "stderr",
     "text": "INFO:drake:Meshcat listening for connections at https://68a898be-bd4e-4046-916a-6293aadf6c5d.deepnoteproject.com/7006/\n",
     "output_type": "stream"
    },
    {
     "data": {
      "text/plain": "<IPython.core.display.HTML object>",
      "text/html": "Meshcat URL: <a href='https://68a898be-bd4e-4046-916a-6293aadf6c5d.deepnoteproject.com/7006/' target='_blank'>https://68a898be-bd4e-4046-916a-6293aadf6c5d.deepnoteproject.com/7006/</a>"
     },
     "metadata": {},
     "output_type": "display_data"
    }
   ],
   "execution_count": null
  },
  {
   "cell_type": "code",
   "source": "import numpy as np\n\nimport pydrake.all\nfrom pydrake.all import *\n\n\n# Adds a ball to the scene\ndef AddBall(plant, name='ball'):\n    parser = pydrake.multibody.parsing.Parser(plant)\n    ball = parser.AddModelFromFile(\"models/ball.sdf\", name)\n    return ball\n\n\n\n\ndef SetupBall(scenario, context, pos=[0,0,0], vel=[0,0,0]):\n    plant = scenario.plant\n    ball = scenario.ball\n    plant_context = plant.GetMyMutableContextFromRoot(context)\n\n    plant.SetPositions(plant_context, ball, np.hstack((1,0,0,0,pos)))\n    plant.SetVelocities(plant_context, ball, np.hstack((0,0,0,vel)))\n\n\ndef SimulateWithMeshcat():\n    builder = DiagramBuilder()\n    scenario = Scenario()\n    station = builder.AddSystem(scenario.get_diagram())\n    \n\n    #integrator1 = SetupController(builder, scenario, station, name='iiwa1')\n    #integrator2 = SetupController(builder, scenario, station, name='iiwa2')\n\n    visualizer = MeshcatVisualizer.AddToBuilder(\n        builder, station.GetOutputPort(\"geometry_query\"), meshcat)\n\n    diagram = builder.Build()\n    context = diagram.CreateDefaultContext()\n    diagram.Publish(context)\n\n    #SetupIntegrator(integrator1, context)\n    #SetupIntegrator(integrator2, context)\n\n    # Change these values to change the ball's initial position\n    # and velocity\n    SetupBall(scenario, context, \n        pos=[2, 0, 1.2], \n        vel=[0.01, 0, 0]\n    )\n\n    plant, scene_graph = AddMultibodyPlantSceneGraph(builder, time_step=0.0005)\n\n    camera = AddRgbdSensor(builder, scene_graph, RigidTransform(\n        RollPitchYaw(np.pi, 0, np.pi / 2.0), [0, 0, .8]))  #add camera with a certain pose to the scene\n    builder.ExportOutput(camera.color_image_output_port(), \"color_image\")\n\n    simulator = Simulator(diagram, context)\n    # simulator.set_target_realtime_rate(1.0)\n    # simulator.AdvanceTo(0.01)\n\n    return simulator, visualizer\n\nsimulator, visualizer = SimulateWithMeshcat()",
   "metadata": {
    "cell_id": "34aa3c973799464e8b0d7d693dcd62fe",
    "tags": [],
    "deepnote_to_be_reexecuted": false,
    "source_hash": "d64d3e22",
    "execution_start": 1667875499826,
    "execution_millis": 40,
    "deepnote_cell_type": "code",
    "deepnote_cell_height": 1756.03125,
    "deepnote_output_heights": [
     461.40625
    ]
   },
   "outputs": [
    {
     "output_type": "error",
     "ename": "RuntimeError",
     "evalue": "DiagramBuilder: Build() or BuildInto() has already been called to create a Diagram; this DiagramBuilder may no longer be used.",
     "traceback": [
      "\u001b[0;31m---------------------------------------------------------------------------\u001b[0m",
      "\u001b[0;31mRuntimeError\u001b[0m                              Traceback (most recent call last)",
      "Cell \u001b[0;32mIn [24], line 63\u001b[0m\n\u001b[1;32m     58\u001b[0m     \u001b[38;5;66;03m# simulator.set_target_realtime_rate(1.0)\u001b[39;00m\n\u001b[1;32m     59\u001b[0m     \u001b[38;5;66;03m# simulator.AdvanceTo(0.01)\u001b[39;00m\n\u001b[1;32m     61\u001b[0m     \u001b[38;5;28;01mreturn\u001b[39;00m simulator, visualizer\n\u001b[0;32m---> 63\u001b[0m simulator, visualizer \u001b[38;5;241m=\u001b[39m \u001b[43mSimulateWithMeshcat\u001b[49m\u001b[43m(\u001b[49m\u001b[43m)\u001b[49m\n",
      "Cell \u001b[0;32mIn [24], line 51\u001b[0m, in \u001b[0;36mSimulateWithMeshcat\u001b[0;34m()\u001b[0m\n\u001b[1;32m     41\u001b[0m \u001b[38;5;66;03m#SetupIntegrator(integrator1, context)\u001b[39;00m\n\u001b[1;32m     42\u001b[0m \u001b[38;5;66;03m#SetupIntegrator(integrator2, context)\u001b[39;00m\n\u001b[1;32m     43\u001b[0m \n\u001b[1;32m     44\u001b[0m \u001b[38;5;66;03m# Change these values to change the ball's initial position\u001b[39;00m\n\u001b[1;32m     45\u001b[0m \u001b[38;5;66;03m# and velocity\u001b[39;00m\n\u001b[1;32m     46\u001b[0m SetupBall(scenario, context, \n\u001b[1;32m     47\u001b[0m     pos\u001b[38;5;241m=\u001b[39m[\u001b[38;5;241m2\u001b[39m, \u001b[38;5;241m0\u001b[39m, \u001b[38;5;241m1.2\u001b[39m], \n\u001b[1;32m     48\u001b[0m     vel\u001b[38;5;241m=\u001b[39m[\u001b[38;5;241m0.01\u001b[39m, \u001b[38;5;241m0\u001b[39m, \u001b[38;5;241m0\u001b[39m]\n\u001b[1;32m     49\u001b[0m )\n\u001b[0;32m---> 51\u001b[0m plant, scene_graph \u001b[38;5;241m=\u001b[39m \u001b[43mAddMultibodyPlantSceneGraph\u001b[49m\u001b[43m(\u001b[49m\u001b[43mbuilder\u001b[49m\u001b[43m,\u001b[49m\u001b[43m \u001b[49m\u001b[43mtime_step\u001b[49m\u001b[38;5;241;43m=\u001b[39;49m\u001b[38;5;241;43m0.0005\u001b[39;49m\u001b[43m)\u001b[49m\n\u001b[1;32m     53\u001b[0m camera \u001b[38;5;241m=\u001b[39m AddRgbdSensor(builder, scene_graph, RigidTransform(\n\u001b[1;32m     54\u001b[0m     RollPitchYaw(np\u001b[38;5;241m.\u001b[39mpi, \u001b[38;5;241m0\u001b[39m, np\u001b[38;5;241m.\u001b[39mpi \u001b[38;5;241m/\u001b[39m \u001b[38;5;241m2.0\u001b[39m), [\u001b[38;5;241m0\u001b[39m, \u001b[38;5;241m0\u001b[39m, \u001b[38;5;241m.8\u001b[39m]))  \u001b[38;5;66;03m#add camera with a certain pose to the scene\u001b[39;00m\n\u001b[1;32m     55\u001b[0m builder\u001b[38;5;241m.\u001b[39mExportOutput(camera\u001b[38;5;241m.\u001b[39mcolor_image_output_port(), \u001b[38;5;124m\"\u001b[39m\u001b[38;5;124mcolor_image\u001b[39m\u001b[38;5;124m\"\u001b[39m)\n",
      "\u001b[0;31mRuntimeError\u001b[0m: DiagramBuilder: Build() or BuildInto() has already been called to create a Diagram; this DiagramBuilder may no longer be used."
     ]
    }
   ],
   "execution_count": null
  },
  {
   "cell_type": "code",
   "source": "simulator.set_target_realtime_rate(0.5)\nmeshcat.AddButton(\"Stop Simulation\", \"Escape\")\nprint(\"Press Escape to stop the simulation\")\nwhile meshcat.GetButtonClicks(\"Stop Simulation\") < 1:\n    simulator.AdvanceTo(simulator.get_context().get_time() + .05)\nmeshcat.DeleteButton(\"Stop Simulation\")",
   "metadata": {
    "cell_id": "4000aa32580a4edbb1d849812182fa8c",
    "tags": [],
    "deepnote_to_be_reexecuted": false,
    "source_hash": "2dc49fa6",
    "execution_start": 1667874812301,
    "execution_millis": 53663,
    "deepnote_cell_type": "code",
    "deepnote_cell_height": 196.4375
   },
   "outputs": [
    {
     "name": "stdout",
     "text": "Press Escape to stop the simulation\n",
     "output_type": "stream"
    }
   ],
   "execution_count": null
  },
  {
   "cell_type": "code",
   "source": "",
   "metadata": {
    "cell_id": "4556fe8c878a49f0882616a88490315a",
    "tags": [],
    "deepnote_to_be_reexecuted": false,
    "source_hash": "b623e53d",
    "execution_start": 1667858897368,
    "execution_millis": 2,
    "deepnote_cell_type": "code",
    "deepnote_cell_height": 76.15625
   },
   "outputs": [],
   "execution_count": null
  },
  {
   "cell_type": "markdown",
   "source": "<a style='text-decoration:none;line-height:16px;display:flex;color:#5B5B62;padding:10px;justify-content:end;' href='https://deepnote.com?utm_source=created-in-deepnote-cell&projectId=68a898be-bd4e-4046-916a-6293aadf6c5d' target=\"_blank\">\n<img alt='Created in deepnote.com' style='display:inline;max-height:16px;margin:0px;margin-right:7.5px;' src='data:image/svg+xml;base64,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' > </img>\nCreated in <span style='font-weight:600;margin-left:4px;'>Deepnote</span></a>",
   "metadata": {
    "tags": [],
    "created_in_deepnote_cell": true,
    "deepnote_cell_type": "markdown"
   }
  }
 ],
 "nbformat": 4,
 "nbformat_minor": 2,
 "metadata": {
  "kernelspec": {
   "display_name": "Python 3.10.8 64-bit",
   "language": "python",
   "name": "python3"
  },
  "language_info": {
   "codemirror_mode": {
    "name": "ipython",
    "version": 3
   },
   "file_extension": ".py",
   "mimetype": "text/x-python",
   "name": "python",
   "nbconvert_exporter": "python",
   "pygments_lexer": "ipython3",
   "version": "3.10.8"
  },
  "orig_nbformat": 4,
  "vscode": {
   "interpreter": {
    "hash": "aee8b7b246df8f9039afb4144a1f6fd8d2ca17a180786b69acc140d282b71a49"
   }
  },
  "deepnote_notebook_id": "15e82474-a181-450c-a759-537b913d8ebc",
  "deepnote": {},
  "deepnote_execution_queue": []
 }
}