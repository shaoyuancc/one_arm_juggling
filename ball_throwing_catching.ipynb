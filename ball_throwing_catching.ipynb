{
 "cells": [
  {
   "cell_type": "markdown",
   "metadata": {},
   "source": [
    "# Kinematic Trajectory Optimization\n",
    "## Evaluating throw and catch points"
   ]
  },
  {
   "cell_type": "markdown",
   "metadata": {},
   "source": []
  },
  {
   "cell_type": "code",
   "execution_count": 1,
   "metadata": {},
   "outputs": [],
   "source": [
    "import time\n",
    "\n",
    "import numpy as np\n",
    "from pydrake.all import (AddMultibodyPlantSceneGraph, BsplineTrajectory,\n",
    "                         DiagramBuilder, KinematicTrajectoryOptimization,\n",
    "                         MeshcatVisualizer, MeshcatVisualizerParams,\n",
    "                         MinimumDistanceConstraint, Parser, PositionConstraint,\n",
    "                         Rgba, RigidTransform, Role, Solve, Sphere,\n",
    "                         StartMeshcat, JacobianWrtVariable, RollPitchYaw,\n",
    "                         JointSliders, RotationMatrix,\n",
    "                         InverseKinematics,\n",
    "                         LeafSystem, AbstractValue\n",
    "                        )\n",
    "\n",
    "from manipulation import running_as_notebook\n",
    "from manipulation.meshcat_utils import (PublishPositionTrajectory,\n",
    "                                        model_inspector,\n",
    "                                        MeshcatPoseSliders)\n",
    "from manipulation.scenarios import AddIiwa, AddPlanarIiwa, AddShape, AddWsg, AddMultibodyTriad \n",
    "from manipulation.utils import AddPackagePaths, FindResource\n",
    "\n",
    "from IPython.display import clear_output\n"
   ]
  },
  {
   "cell_type": "code",
   "execution_count": 2,
   "metadata": {},
   "outputs": [
    {
     "name": "stderr",
     "output_type": "stream",
     "text": [
      "INFO:drake:Meshcat listening for connections at http://localhost:7000\n"
     ]
    }
   ],
   "source": [
    "# Start the visualizer.\n",
    "meshcat = StartMeshcat()"
   ]
  },
  {
   "cell_type": "markdown",
   "metadata": {},
   "source": [
    "To visualize throw and catch points"
   ]
  },
  {
   "cell_type": "code",
   "execution_count": 3,
   "metadata": {},
   "outputs": [],
   "source": [
    "squash_ball_radius = 0.02\n",
    "p_GB_G = [0, 0.07, 0]\n",
    "def add_target_objects(X_WThrow, X_WCatch):\n",
    "    p_ThrowB_W = X_WThrow.rotation() @ p_GB_G\n",
    "    X_WThrowB_W = RigidTransform(X_WThrow.rotation(), X_WThrow.translation() +  p_ThrowB_W)\n",
    "    p_CatchB_W = X_WCatch.rotation() @ p_GB_G\n",
    "    X_WCatchB_W = RigidTransform(X_WCatch.rotation(), X_WCatch.translation() +  p_CatchB_W)\n",
    "    meshcat.SetObject(\"throw\", Sphere(squash_ball_radius), rgba=Rgba(.9, .1, .1, 1))\n",
    "    meshcat.SetTransform(\"throw\", X_WThrowB_W)\n",
    "    meshcat.SetObject(\"catch\", Sphere(squash_ball_radius), rgba=Rgba(.1, .9, .1, 1))\n",
    "    meshcat.SetTransform(\"catch\", X_WCatchB_W)"
   ]
  },
  {
   "cell_type": "markdown",
   "metadata": {},
   "source": [
    "## Forward Kinematics approach\n",
    "To finding comfortable throw and catch positions"
   ]
  },
  {
   "cell_type": "code",
   "execution_count": null,
   "metadata": {},
   "outputs": [],
   "source": [
    "import numpy as np\n",
    "from IPython.display import clear_output, display\n",
    "from pydrake.all import (AbstractValue, AddMultibodyPlantSceneGraph,\n",
    "                         DiagramBuilder, JointSliders, LeafSystem,\n",
    "                         MeshcatVisualizer, Parser, RigidTransform,\n",
    "                         RollPitchYaw, StartMeshcat)\n",
    "\n",
    "from manipulation import FindResource, running_as_notebook\n",
    "from manipulation.scenarios import AddMultibodyTriad, AddPackagePaths\n",
    "\n",
    "meshcat = StartMeshcat()"
   ]
  },
  {
   "cell_type": "code",
   "execution_count": 4,
   "metadata": {},
   "outputs": [],
   "source": [
    "def gripper_forward_kinematics_example():\n",
    "    builder = DiagramBuilder()\n",
    "\n",
    "    plant, scene_graph = AddMultibodyPlantSceneGraph(builder, time_step=0)\n",
    "    parser = Parser(plant)\n",
    "    AddPackagePaths(parser)\n",
    "    parser.AddAllModelsFromFile(FindResource(\"models/iiwa_and_wsg.dmd.yaml\"))\n",
    "    plant.Finalize()\n",
    "\n",
    "    # Draw the frames\n",
    "    for body_name in [\"iiwa_link_1\", \"iiwa_link_2\", \"iiwa_link_3\", \"iiwa_link_4\", \"iiwa_link_5\", \"iiwa_link_6\", \"iiwa_link_7\", \"body\"]:\n",
    "        AddMultibodyTriad(plant.GetFrameByName(body_name), scene_graph)\n",
    "\n",
    "    meshcat.Delete()\n",
    "    meshcat.DeleteAddedControls()\n",
    "    visualizer = MeshcatVisualizer.AddToBuilder(\n",
    "        builder, scene_graph.get_query_output_port(), meshcat)\n",
    "\n",
    "    wsg = plant.GetModelInstanceByName(\"wsg\")\n",
    "    gripper = plant.GetBodyByName(\"body\", wsg)\n",
    "\n",
    "    X_WResult = None\n",
    "    my_context = None\n",
    "    class PrintPose(LeafSystem):\n",
    "        def __init__(self, body_index):\n",
    "            LeafSystem.__init__(self)\n",
    "            self._body_index = body_index\n",
    "            self.DeclareAbstractInputPort(\"body_poses\",\n",
    "                                        AbstractValue.Make([RigidTransform()]))\n",
    "            self.DeclareForcedPublishEvent(self.Publish)\n",
    "\n",
    "        def Publish(self, context):\n",
    "            pose = self.get_input_port().Eval(context)[self._body_index]\n",
    "            clear_output(wait=True)\n",
    "            print(\"gripper position (m): \" + np.array2string(\n",
    "                pose.translation(), formatter={\n",
    "                    'float': lambda x: \"{:3.2f}\".format(x)}))\n",
    "            print(\"gripper roll-pitch-yaw (rad):\" + np.array2string(\n",
    "                RollPitchYaw(pose.rotation()).vector(),\n",
    "                            formatter={'float': lambda x: \"{:3.2f}\".format(x)}))\n",
    "            nonlocal X_WResult\n",
    "            X_WResult = pose\n",
    "\n",
    "    print_pose = builder.AddSystem(PrintPose(gripper.index()))\n",
    "    builder.Connect(plant.get_body_poses_output_port(),\n",
    "                    print_pose.get_input_port())\n",
    "\n",
    "    default_interactive_timeout = None if running_as_notebook else 1.0\n",
    "    sliders = builder.AddSystem(JointSliders(meshcat, plant))\n",
    "    diagram = builder.Build()\n",
    "    \n",
    "\n",
    "    sliders.Run(diagram, default_interactive_timeout)\n",
    "    context = diagram.CreateDefaultContext()\n",
    "    plant_context = plant.GetMyContextFromRoot(context)\n",
    "    meshcat.DeleteAddedControls()\n",
    "    return plant.GetPositions(plant_context), X_WResult"
   ]
  },
  {
   "cell_type": "markdown",
   "metadata": {},
   "source": [
    "Set throw point via forward kinematics teleop"
   ]
  },
  {
   "cell_type": "code",
   "execution_count": 5,
   "metadata": {},
   "outputs": [
    {
     "name": "stdout",
     "output_type": "stream",
     "text": [
      "gripper position (m): [0.40 -0.24 0.68]\n",
      "gripper roll-pitch-yaw (rad):[-1.81 0.00 1.03]\n",
      "q_Throw: [-1.57  0.1   0.   -1.2   0.    1.6   0.    0.    0.  ]\n",
      "X_WThrow: RigidTransform(\n",
      "  R=RotationMatrix([\n",
      "    [0.5141359916531135, 0.20520622667730418, -0.8327992474898938],\n",
      "    [0.8577086813638249, -0.1230066911277729, 0.49920453909287205],\n",
      "    [-1.7156031564295772e-18, -0.970958165149591, -0.23924932921398243],\n",
      "  ]),\n",
      "  p=[0.39936370505596896, -0.2393904352264749, 0.6793215789060887],\n",
      ")\n"
     ]
    }
   ],
   "source": [
    "q_Throw, X_WThrow = gripper_forward_kinematics_example()\n",
    "print(f\"q_Throw: {q_Throw}\")\n",
    "print(f\"X_WThrow: {X_WThrow}\")"
   ]
  },
  {
   "cell_type": "markdown",
   "metadata": {},
   "source": [
    "Manually set the throw and catch points\n",
    "\n",
    "gripper position (m): [-0.08 -0.66 0.39]\n",
    "gripper roll-pitch-yaw (rad):[-3.13 0.00 -0.12]\n",
    "---\n",
    "gripper position (m): [0.00 -0.47 0.68]\n",
    "gripper roll-pitch-yaw (rad):[-1.81 0.00 0.00]"
   ]
  },
  {
   "cell_type": "code",
   "execution_count": 4,
   "metadata": {},
   "outputs": [],
   "source": [
    "\n",
    "q_Throw = np.array([-0.54, 0.58, 0, -1.79, 0, -0.79, 0])\n",
    "p_WThrow = [0.6, -0.3, 0.39] # [0.55 -0.38 0.39]\n",
    "R_WThrow = RollPitchYaw([-np.pi, 0.00, 1.10]) #[-3.13 0.00 0.97]\n",
    "\n",
    "q_Catch = np.array([-0.74, 0.58, 0, -1.79, 0, -0.79, 0])\n",
    "p_WCatch = [0.50, -0.45, 0.39]\n",
    "R_WCatch = RollPitchYaw([-np.pi, 0.00, 0.84])\n",
    "\n",
    "X_WThrow = RigidTransform(R_WThrow, p_WThrow)\n",
    "X_WCatch = RigidTransform(R_WCatch, p_WCatch)"
   ]
  },
  {
   "cell_type": "markdown",
   "metadata": {},
   "source": [
    "## Inverse Kinematics Approach"
   ]
  },
  {
   "cell_type": "markdown",
   "metadata": {},
   "source": [
    "#### Start with the throw and catch spatial positions in XYZ"
   ]
  },
  {
   "cell_type": "code",
   "execution_count": null,
   "metadata": {},
   "outputs": [],
   "source": [
    "a = 0.4\n",
    "b = 0.6\n",
    "z = 0.2\n",
    "p_WThrow = [b,-a,z]\n",
    "R_WThrow = RollPitchYaw([-np.pi, 0, np.arctan(a/b)])\n",
    "print(R_WThrow)\n",
    "p_WCatch = [a,-b,z]\n",
    "R_WCatch = RollPitchYaw([-np.pi, 0, np.arctan(b/a)])\n",
    "print(R_WCatch)\n",
    "X_WThrow = RigidTransform(R_WThrow, p_WThrow)\n",
    "X_WCatch = RigidTransform(R_WCatch, p_WCatch)"
   ]
  },
  {
   "cell_type": "code",
   "execution_count": 7,
   "metadata": {},
   "outputs": [],
   "source": [
    "add_target_objects(X_WThrow, X_WCatch)"
   ]
  },
  {
   "cell_type": "markdown",
   "metadata": {},
   "source": [
    "### Use interactive inverse kinematics to get joint angles for throw and catch points"
   ]
  },
  {
   "cell_type": "code",
   "execution_count": null,
   "metadata": {},
   "outputs": [],
   "source": [
    "\n",
    "def get_joints_inverse_kinematics(X_WTarget, use_full_pose = True):\n",
    "    builder = DiagramBuilder()\n",
    "\n",
    "    plant, scene_graph = AddMultibodyPlantSceneGraph(builder, time_step=0.001)\n",
    "    iiwa = AddIiwa(plant, \"with_box_collision\")\n",
    "    wsg = AddWsg(plant, iiwa, welded=True)\n",
    "    plant.Finalize()\n",
    "\n",
    "    meshcat.DeleteAddedControls()\n",
    "    visualizer = MeshcatVisualizer.AddToBuilder(\n",
    "        builder, \n",
    "        scene_graph, \n",
    "        meshcat,\n",
    "        MeshcatVisualizerParams(prefix=\"Spatial\"))\n",
    "    joint_sliders = builder.AddSystem(JointSliders(meshcat, plant))\n",
    "\n",
    "    diagram = builder.Build()\n",
    "    context = diagram.CreateDefaultContext()\n",
    "    plant_context = plant.GetMyContextFromRoot(context)\n",
    "\n",
    "    q0 = plant.GetPositions(plant_context)\n",
    "    gripper_frame = plant.GetFrameByName(\"body\", wsg)\n",
    "    q_result = None\n",
    "    def my_callback(context, pose):\n",
    "        nonlocal q_result\n",
    "        ik = InverseKinematics(plant, plant_context)\n",
    "        ik.AddPositionConstraint(\n",
    "            gripper_frame, p_GO, plant.world_frame(),\n",
    "            pose.translation(), pose.translation())\n",
    "        ik.AddOrientationConstraint(\n",
    "            gripper_frame, RotationMatrix(), plant.world_frame(),\n",
    "            pose.rotation(), 0.0)\n",
    "        ik.AddMinimumDistanceConstraint(0.001, 0.1)\n",
    "        prog = ik.get_mutable_prog()\n",
    "        q = ik.q()\n",
    "        prog.AddQuadraticErrorCost(np.identity(len(q)), q0, q)\n",
    "        prog.SetInitialGuess(q, q0)\n",
    "        result = Solve(ik.prog())\n",
    "        # clear_output(wait=True)\n",
    "        if result.is_success():\n",
    "            print(\"IK success\")\n",
    "            joint_sliders.SetPositions(result.GetSolution())\n",
    "            print(f\"Joint positions: {result.GetSolution()}\")\n",
    "            q_result = result.GetSolution()\n",
    "        else:\n",
    "            print(\"IK failure\")\n",
    "\n",
    "    sliders = MeshcatPoseSliders(meshcat)\n",
    "    sliders.SetPose(plant.EvalBodyPoseInWorld(\n",
    "        plant_context, plant.GetBodyByName(\"body\", wsg)))\n",
    "    if use_full_pose:\n",
    "        sliders.SetPose(X_WTarget)\n",
    "    else:\n",
    "        sliders.SetXyz(X_WTarget.translation())\n",
    "    sliders.Run(visualizer, context, my_callback)\n",
    "    return q_result\n"
   ]
  },
  {
   "cell_type": "code",
   "execution_count": null,
   "metadata": {},
   "outputs": [],
   "source": [
    "q_Throw = get_joints_inverse_kinematics(X_WThrow, use_full_pose=True)\n",
    "print(q_Throw)"
   ]
  },
  {
   "cell_type": "code",
   "execution_count": null,
   "metadata": {},
   "outputs": [],
   "source": [
    "q_Catch = get_joints_inverse_kinematics(X_WCatch, use_full_pose=False)\n",
    "print(q_Catch)"
   ]
  },
  {
   "cell_type": "markdown",
   "metadata": {},
   "source": [
    "## Calculate spatial velocities at throw and catch points"
   ]
  },
  {
   "cell_type": "code",
   "execution_count": 5,
   "metadata": {},
   "outputs": [],
   "source": [
    "def calculate_ball_vels(p1, p2, height):\n",
    "    # p1: (x, y, z), ndarray\n",
    "    # p2: (x, y, z), ndarray\n",
    "    # height, pos real number\n",
    "\n",
    "    g = 9.8\n",
    "\n",
    "    t = np.sqrt(2 * height / g)\n",
    "\n",
    "    vx = (p2[0] - p1[0]) / (2 * t)\n",
    "    vy = (p2[1] - p1[1]) / (2 * t)\n",
    "    vz = t * g\n",
    "\n",
    "    throw_vel = np.array([vx, vy, vz])\n",
    "    catch_vel = np.array([vx, vy, -vz])\n",
    "    total_duration =  2 * t\n",
    "    return (throw_vel, catch_vel, total_duration)"
   ]
  },
  {
   "cell_type": "code",
   "execution_count": 6,
   "metadata": {},
   "outputs": [
    {
     "name": "stdout",
     "output_type": "stream",
     "text": [
      "V_Throw [-0.15652476 -0.23478714  3.13049517]\n",
      "V_Catch [-0.15652476 -0.23478714 -3.13049517]\n",
      "t_duration 0.6388765649999398\n"
     ]
    }
   ],
   "source": [
    "\n",
    "max_height = 0.5 # Max height ball will reach in meters\n",
    "V_Throw, V_Catch, t_duration = calculate_ball_vels(X_WThrow.translation(), X_WCatch.translation(), max_height)\n",
    "print(f\"V_Throw {V_Throw}\")\n",
    "print(f\"V_Catch {V_Catch}\")\n",
    "print(f\"t_duration {t_duration}\")"
   ]
  },
  {
   "cell_type": "code",
   "execution_count": 7,
   "metadata": {},
   "outputs": [],
   "source": [
    "# Override to reduce velocities\n",
    "# not necessary\n",
    "# V_Throw[2] = 1\n",
    "# V_Catch[2] = -1"
   ]
  },
  {
   "cell_type": "code",
   "execution_count": 8,
   "metadata": {},
   "outputs": [],
   "source": [
    "def SpatialVelToJointVelConverter():\n",
    "    builder = DiagramBuilder()\n",
    "\n",
    "    plant, scene_graph = AddMultibodyPlantSceneGraph(builder, time_step=0.001)\n",
    "    iiwa = AddIiwa(plant)\n",
    "    wsg = AddWsg(plant, iiwa, welded=True, sphere=True)\n",
    "    gripper_frame = plant.GetFrameByName(\"body\", wsg)\n",
    "    plant.Finalize()\n",
    "\n",
    "    diagram = builder.Build()\n",
    "    context = diagram.CreateDefaultContext()\n",
    "    plant_context = plant.GetMyContextFromRoot(context)\n",
    "\n",
    "    def convert_spatial_vel_to_joint_vel(q, V_Gdesired):\n",
    "        plant.SetPositions(plant_context, q)\n",
    "        diagram.Publish(context)\n",
    "\n",
    "        clear_output(wait=True)\n",
    "        J_G = plant.CalcJacobianTranslationalVelocity(plant_context,\n",
    "                                                      JacobianWrtVariable.kQDot,\n",
    "                                                      gripper_frame, [0, 0, 0],\n",
    "                                                      plant.world_frame(),\n",
    "                                                      plant.world_frame())\n",
    "        # print(\"J_G = \")\n",
    "        # print(\n",
    "        #     np.array2string(J_G,\n",
    "                            # formatter={'float': lambda x: \"{:5.2f}\".format(x)}))\n",
    "        # print(np.shape(J_G))\n",
    "        # print(np.shape())\n",
    "        V_Gdesired = V_Gdesired.reshape(3,1)\n",
    "        v = np.linalg.pinv(J_G).dot(V_Gdesired)\n",
    "        # print(\"Joint velocities\")\n",
    "        # print(np.array2string(v,\n",
    "        #                     formatter={'float': lambda x: \"{:5.3f}\".format(x)}))\n",
    "        return v\n",
    "\n",
    "    return convert_spatial_vel_to_joint_vel\n",
    "\n",
    "converter = SpatialVelToJointVelConverter()"
   ]
  },
  {
   "cell_type": "code",
   "execution_count": 9,
   "metadata": {},
   "outputs": [
    {
     "name": "stdout",
     "output_type": "stream",
     "text": [
      "(7, 1)\n",
      "[[-0.253]\n",
      " [-4.044]\n",
      " [-0.202]\n",
      " [0.597]\n",
      " [0.046]\n",
      " [-0.943]\n",
      " [-0.000]]\n"
     ]
    }
   ],
   "source": [
    "v_Throw = converter(q_Throw, V_Throw)\n",
    "print(np.shape(v_Throw))\n",
    "print(np.array2string(v_Throw, formatter={'float': lambda x: \"{:5.3f}\".format(x)}))\n",
    "# v_Throw = np.array([[-0.253],[-4.044],[-0.202],[0.597],[0.046],[-0.943],[-0.000]])"
   ]
  },
  {
   "cell_type": "code",
   "execution_count": 10,
   "metadata": {},
   "outputs": [
    {
     "name": "stdout",
     "output_type": "stream",
     "text": [
      "[[-0.250]\n",
      " [4.103]\n",
      " [-0.200]\n",
      " [-0.505]\n",
      " [0.045]\n",
      " [0.953]\n",
      " [0.000]]\n"
     ]
    }
   ],
   "source": [
    "v_Catch = converter(q_Catch,V_Catch)\n",
    "print(np.array2string(v_Catch, formatter={'float': lambda x: \"{:5.3f}\".format(x)}))\n",
    "# v_Catch = np.array([[-0.250],[4.103],[-0.200],[-0.505],[0.045],[0.953],[0.000]])"
   ]
  },
  {
   "cell_type": "markdown",
   "metadata": {},
   "source": []
  },
  {
   "cell_type": "code",
   "execution_count": 12,
   "metadata": {},
   "outputs": [
    {
     "ename": "AttributeError",
     "evalue": "'pydrake.systems.trajectory_optimization.KinematicT' object has no attribute 'AddDurationConstraint'",
     "output_type": "error",
     "traceback": [
      "\u001b[0;31m---------------------------------------------------------------------------\u001b[0m",
      "\u001b[0;31mAttributeError\u001b[0m                            Traceback (most recent call last)",
      "\u001b[1;32m/Users/chewchiashaoyuan/Documents/Software/one_arm_juggling/ball_throwing_catching.ipynb Cell 30\u001b[0m in \u001b[0;36m<cell line: 126>\u001b[0;34m()\u001b[0m\n\u001b[1;32m    <a href='vscode-notebook-cell:/Users/chewchiashaoyuan/Documents/Software/one_arm_juggling/ball_throwing_catching.ipynb#X41sZmlsZQ%3D%3D?line=118'>119</a>\u001b[0m     PublishPositionTrajectory(trajopt\u001b[39m.\u001b[39mReconstructPath(result), context, plant,\n\u001b[1;32m    <a href='vscode-notebook-cell:/Users/chewchiashaoyuan/Documents/Software/one_arm_juggling/ball_throwing_catching.ipynb#X41sZmlsZQ%3D%3D?line=119'>120</a>\u001b[0m                               visualizer)\n\u001b[1;32m    <a href='vscode-notebook-cell:/Users/chewchiashaoyuan/Documents/Software/one_arm_juggling/ball_throwing_catching.ipynb#X41sZmlsZQ%3D%3D?line=120'>121</a>\u001b[0m     collision_visualizer\u001b[39m.\u001b[39mPublish(\n\u001b[1;32m    <a href='vscode-notebook-cell:/Users/chewchiashaoyuan/Documents/Software/one_arm_juggling/ball_throwing_catching.ipynb#X41sZmlsZQ%3D%3D?line=121'>122</a>\u001b[0m         collision_visualizer\u001b[39m.\u001b[39mGetMyContextFromRoot(context))\n\u001b[0;32m--> <a href='vscode-notebook-cell:/Users/chewchiashaoyuan/Documents/Software/one_arm_juggling/ball_throwing_catching.ipynb#X41sZmlsZQ%3D%3D?line=125'>126</a>\u001b[0m trajopt_pv_pair_demo()\n",
      "\u001b[1;32m/Users/chewchiashaoyuan/Documents/Software/one_arm_juggling/ball_throwing_catching.ipynb Cell 30\u001b[0m in \u001b[0;36mtrajopt_pv_pair_demo\u001b[0;34m()\u001b[0m\n\u001b[1;32m     <a href='vscode-notebook-cell:/Users/chewchiashaoyuan/Documents/Software/one_arm_juggling/ball_throwing_catching.ipynb#X41sZmlsZQ%3D%3D?line=43'>44</a>\u001b[0m trajopt\u001b[39m.\u001b[39mAddVelocityBounds(plant\u001b[39m.\u001b[39mGetVelocityLowerLimits(),\n\u001b[1;32m     <a href='vscode-notebook-cell:/Users/chewchiashaoyuan/Documents/Software/one_arm_juggling/ball_throwing_catching.ipynb#X41sZmlsZQ%3D%3D?line=44'>45</a>\u001b[0m                           plant\u001b[39m.\u001b[39mGetVelocityUpperLimits())\n\u001b[1;32m     <a href='vscode-notebook-cell:/Users/chewchiashaoyuan/Documents/Software/one_arm_juggling/ball_throwing_catching.ipynb#X41sZmlsZQ%3D%3D?line=46'>47</a>\u001b[0m \u001b[39m# trajopt.AddDurationBounds(t_start, t_start + 2 * t_duration) # Assume t_duration each way\u001b[39;00m\n\u001b[0;32m---> <a href='vscode-notebook-cell:/Users/chewchiashaoyuan/Documents/Software/one_arm_juggling/ball_throwing_catching.ipynb#X41sZmlsZQ%3D%3D?line=47'>48</a>\u001b[0m trajopt\u001b[39m.\u001b[39;49mAddDurationConstraint(t_start, t_start \u001b[39m+\u001b[39m \u001b[39m2\u001b[39m \u001b[39m*\u001b[39m t_duration)\n\u001b[1;32m     <a href='vscode-notebook-cell:/Users/chewchiashaoyuan/Documents/Software/one_arm_juggling/ball_throwing_catching.ipynb#X41sZmlsZQ%3D%3D?line=48'>49</a>\u001b[0m trajopt\u001b[39m.\u001b[39mAddEqualTimeIntervalConstraints()\n\u001b[1;32m     <a href='vscode-notebook-cell:/Users/chewchiashaoyuan/Documents/Software/one_arm_juggling/ball_throwing_catching.ipynb#X41sZmlsZQ%3D%3D?line=50'>51</a>\u001b[0m \u001b[39m# Constrain positions in spatial positions\u001b[39;00m\n\u001b[1;32m     <a href='vscode-notebook-cell:/Users/chewchiashaoyuan/Documents/Software/one_arm_juggling/ball_throwing_catching.ipynb#X41sZmlsZQ%3D%3D?line=51'>52</a>\u001b[0m \u001b[39m# start constraint\u001b[39;00m\n\u001b[1;32m     <a href='vscode-notebook-cell:/Users/chewchiashaoyuan/Documents/Software/one_arm_juggling/ball_throwing_catching.ipynb#X41sZmlsZQ%3D%3D?line=52'>53</a>\u001b[0m \u001b[39m# start_constraint = PositionConstraint(plant, plant.world_frame(),\u001b[39;00m\n\u001b[0;32m   (...)\u001b[0m\n\u001b[1;32m     <a href='vscode-notebook-cell:/Users/chewchiashaoyuan/Documents/Software/one_arm_juggling/ball_throwing_catching.ipynb#X41sZmlsZQ%3D%3D?line=55'>56</a>\u001b[0m \u001b[39m#                                       [0, 0.1, 0], plant_context)\u001b[39;00m\n\u001b[1;32m     <a href='vscode-notebook-cell:/Users/chewchiashaoyuan/Documents/Software/one_arm_juggling/ball_throwing_catching.ipynb#X41sZmlsZQ%3D%3D?line=56'>57</a>\u001b[0m \u001b[39m# trajopt.AddPathConstraint(start_constraint, 0)\u001b[39;00m\n",
      "\u001b[0;31mAttributeError\u001b[0m: 'pydrake.systems.trajectory_optimization.KinematicT' object has no attribute 'AddDurationConstraint'"
     ]
    }
   ],
   "source": [
    "def trajopt_pv_pair_demo():\n",
    "    meshcat.Delete()\n",
    "    builder = DiagramBuilder()\n",
    "\n",
    "    plant, scene_graph = AddMultibodyPlantSceneGraph(builder, time_step=0.001)\n",
    "\n",
    "    parser = Parser(plant)\n",
    "    AddPackagePaths(parser)\n",
    "    iiwa = AddIiwa(plant)\n",
    "    wsg = AddWsg(plant, iiwa, welded=True, sphere=True)\n",
    "    \n",
    "    add_target_objects(X_WThrow, X_WCatch)\n",
    "\n",
    "    t_start = 0.0 # 0.5\n",
    "    num_control_points = 11\n",
    "\n",
    "    plant.Finalize()\n",
    "\n",
    "    visualizer = MeshcatVisualizer.AddToBuilder(\n",
    "        builder, scene_graph, meshcat,\n",
    "        MeshcatVisualizerParams(role=Role.kIllustration))\n",
    "    collision_visualizer = MeshcatVisualizer.AddToBuilder(\n",
    "        builder, scene_graph, meshcat,\n",
    "        MeshcatVisualizerParams(prefix=\"collision\", role=Role.kProximity))\n",
    "    meshcat.SetProperty(\"collision\", \"visible\", False)\n",
    "\n",
    "    diagram = builder.Build()\n",
    "    context = diagram.CreateDefaultContext()\n",
    "    plant_context = plant.GetMyContextFromRoot(context)\n",
    "    # print(q_Throw)\n",
    "    plant.SetPositions(plant_context, q_Throw)\n",
    "    q0 = plant.GetPositions(plant_context)\n",
    "    # print(q0)\n",
    "    \n",
    "    gripper_frame = plant.GetFrameByName(\"body\", wsg)\n",
    "    trajopt = KinematicTrajectoryOptimization(plant.num_positions(), num_control_points)\n",
    "    prog = trajopt.get_mutable_prog()\n",
    "    \n",
    "    trajopt.AddPathLengthCost(2)\n",
    "    # Add cost for acceleration?\n",
    "\n",
    "    trajopt.AddPositionBounds(plant.GetPositionLowerLimits(),\n",
    "                              plant.GetPositionUpperLimits())\n",
    "    trajopt.AddVelocityBounds(plant.GetVelocityLowerLimits(),\n",
    "                              plant.GetVelocityUpperLimits())\n",
    "\n",
    "    # trajopt.AddDurationBounds(t_start, t_start + 2 * t_duration) # Assume t_duration each way\n",
    "    trajopt.AddDurationConstraint(t_start, t_start + 2 * t_duration)\n",
    "    trajopt.AddEqualTimeIntervalConstraints()\n",
    "\n",
    "    # Constrain positions in spatial positions\n",
    "    # start constraint\n",
    "    # start_constraint = PositionConstraint(plant, plant.world_frame(),\n",
    "    #                                       X_WThrow.translation(),\n",
    "    #                                       X_WThrow.translation(), gripper_frame,\n",
    "    #                                       [0, 0.1, 0], plant_context)\n",
    "    # trajopt.AddPathConstraint(start_constraint, 0)\n",
    "    prog.AddQuadraticErrorCost(np.eye(7), q0,\n",
    "                               trajopt.path_control_points()[:, 0])\n",
    "    \n",
    "    # goal constraint\n",
    "    # goal_constraint = PositionConstraint(plant, plant.world_frame(),\n",
    "    #                                      X_WCatch.translation(),\n",
    "    #                                      X_WCatch.translation(), gripper_frame,\n",
    "    #                                      [0, 0.1, 0], plant_context)\n",
    "    \n",
    "    # trajopt.AddPathConstraint(goal_constraint, 0.5)\n",
    "    prog.AddQuadraticErrorCost(np.eye(7), q_Catch,\n",
    "                               trajopt.path_control_points()[:, np.round(num_control_points/2).astype(int)])\n",
    "\n",
    "    # return to start\n",
    "    # trajopt.AddPathConstraint(start_constraint, 1)\n",
    "    prog.AddQuadraticErrorCost(np.eye(7), q0,\n",
    "                               trajopt.path_control_points()[:, -1])\n",
    "    \n",
    "    # constrain positions in joint angles\n",
    "    trajopt.AddFixedPathPositionConstraint(q_Throw, 0)\n",
    "    trajopt.AddFixedPathPositionConstraint(q_Catch, 0.5)\n",
    "    trajopt.AddFixedPathPositionConstraint(q_Throw, 1)\n",
    "\n",
    "    # print(v_Throw)\n",
    "    trajopt.AddFixedPathVelocityConstraint(v_Throw, 0)\n",
    "    trajopt.AddFixedPathVelocityConstraint(v_Catch, 0.5)\n",
    "    trajopt.AddFixedPathVelocityConstraint(v_Throw, 1)\n",
    "\n",
    "    # Solve once without the collisions and set that as the initial guess for\n",
    "    # the version with collisions.\n",
    "    result = Solve(prog)\n",
    "    if not result.is_success():\n",
    "        print(\"Trajectory optimization failed, even without collisions!\")\n",
    "        print(result.get_solver_id().name())\n",
    "    \n",
    "    # BsplineTrajectory()\n",
    "    # trajopt.SetPathInitialGuess()\n",
    "    traj = trajopt.ReconstructPath(result)\n",
    "    print(f\"kin traj opt initial t:{traj.start_time()} q: {traj.InitialValue()}\")\n",
    "    print(f\"kin traj opt final t:{traj.end_time()} q: {traj.FinalValue()}\")\n",
    "\n",
    "    trajopt.SetPathInitialGuess(trajopt.ReconstructPath(result))\n",
    "\n",
    "    PublishPositionTrajectory(trajopt.ReconstructPath(result), context, plant,\n",
    "                              visualizer)\n",
    "    collision_visualizer.Publish(\n",
    "        collision_visualizer.GetMyContextFromRoot(context))\n",
    "\n",
    "    return\n",
    "    # collision constraints\n",
    "    collision_constraint = MinimumDistanceConstraint(plant, 0.001,\n",
    "                                                     plant_context, None, 0.01)\n",
    "    evaluate_at_s = np.linspace(0, 1, 25)\n",
    "    for s in evaluate_at_s:\n",
    "        trajopt.AddPathConstraint(collision_constraint, s)\n",
    "\n",
    "    result = Solve(prog)\n",
    "    if not result.is_success():\n",
    "        print(\"Trajectory optimization failed\")\n",
    "        print(result.get_solver_id().name())\n",
    "\n",
    "    PublishPositionTrajectory(trajopt.ReconstructPath(result), context, plant,\n",
    "                              visualizer)\n",
    "    collision_visualizer.Publish(\n",
    "        collision_visualizer.GetMyContextFromRoot(context))\n",
    "    \n",
    "    \n",
    "\n",
    "trajopt_pv_pair_demo()\n"
   ]
  },
  {
   "cell_type": "code",
   "execution_count": 33,
   "metadata": {},
   "outputs": [],
   "source": [
    "meshcat.Delete()"
   ]
  },
  {
   "cell_type": "code",
   "execution_count": null,
   "metadata": {},
   "outputs": [],
   "source": []
  }
 ],
 "metadata": {
  "kernelspec": {
   "display_name": "Python 3.10.8 64-bit",
   "language": "python",
   "name": "python3"
  },
  "language_info": {
   "codemirror_mode": {
    "name": "ipython",
    "version": 3
   },
   "file_extension": ".py",
   "mimetype": "text/x-python",
   "name": "python",
   "nbconvert_exporter": "python",
   "pygments_lexer": "ipython3",
   "version": "3.10.8"
  },
  "orig_nbformat": 4,
  "vscode": {
   "interpreter": {
    "hash": "aee8b7b246df8f9039afb4144a1f6fd8d2ca17a180786b69acc140d282b71a49"
   }
  }
 },
 "nbformat": 4,
 "nbformat_minor": 2
}
