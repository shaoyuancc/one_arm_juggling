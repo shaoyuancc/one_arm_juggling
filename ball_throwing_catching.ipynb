{
 "cells": [
  {
   "cell_type": "markdown",
   "source": "# Kinematic Trajectory Optimization\n## Evaluating throw and catch points",
   "metadata": {
    "cell_id": "fd0d4897-1ae5-4363-a73c-9c1c7a182947",
    "deepnote_cell_type": "markdown",
    "deepnote_cell_height": 138
   }
  },
  {
   "cell_type": "markdown",
   "source": "",
   "metadata": {
    "cell_id": "00001-1d8c5c8f-34d7-413d-a259-0b913cc5ff2f",
    "deepnote_cell_type": "markdown",
    "deepnote_cell_height": 46
   }
  },
  {
   "cell_type": "code",
   "source": "import time\n\nimport numpy as np\nfrom pydrake.all import (AddMultibodyPlantSceneGraph, BsplineTrajectory,\n                         DiagramBuilder, KinematicTrajectoryOptimization,\n                         MeshcatVisualizer, MeshcatVisualizerParams,\n                         MinimumDistanceConstraint, Parser, PositionConstraint,\n                         Rgba, RigidTransform, Role, Solve, Sphere,\n                         StartMeshcat, JacobianWrtVariable, RollPitchYaw,\n                         JointSliders, RotationMatrix,\n                         InverseKinematics,\n                         LeafSystem, AbstractValue,\n                         Simulator\n                        )\n\nfrom manipulation import running_as_notebook\nfrom manipulation.meshcat_utils import (PublishPositionTrajectory,\n                                        MeshcatPoseSliders,\n                                        WsgButton)\nfrom manipulation.scenarios import AddIiwaDifferentialIK, MakeManipulationStation, AddIiwa, AddPlanarIiwa, AddShape, AddWsg, AddMultibodyTriad \nfrom manipulation.utils import AddPackagePaths, FindResource\n\nfrom IPython.display import clear_output\n",
   "metadata": {
    "cell_id": "00002-1c45c621-2171-4a24-b6fc-f7bf12bec709",
    "deepnote_to_be_reexecuted": false,
    "source_hash": "121bf193",
    "execution_start": 1669140473414,
    "execution_millis": 5,
    "deepnote_cell_type": "code",
    "deepnote_cell_height": 495
   },
   "outputs": [],
   "execution_count": null
  },
  {
   "cell_type": "code",
   "metadata": {
    "cell_id": "00003-a9ebb619-2497-4b70-b19a-7730f0993ff5",
    "deepnote_to_be_reexecuted": false,
    "source_hash": "6d42057f",
    "execution_start": 1669140290813,
    "execution_millis": 88,
    "deepnote_cell_type": "code",
    "deepnote_cell_height": 200.078125,
    "deepnote_output_heights": [
     null,
     20.1875
    ]
   },
   "source": "# Start the visualizer.\nmeshcat = StartMeshcat()",
   "outputs": [
    {
     "name": "stderr",
     "text": "INFO:drake:Meshcat listening for connections at https://68a898be-bd4e-4046-916a-6293aadf6c5d.deepnoteproject.com/7000/\nInstalling NginX server for MeshCat on Deepnote...\n",
     "output_type": "stream"
    },
    {
     "data": {
      "text/plain": "<IPython.core.display.HTML object>",
      "text/html": "Meshcat URL: <a href='https://68a898be-bd4e-4046-916a-6293aadf6c5d.deepnoteproject.com/7000/' target='_blank'>https://68a898be-bd4e-4046-916a-6293aadf6c5d.deepnoteproject.com/7000/</a>"
     },
     "metadata": {},
     "output_type": "display_data"
    }
   ],
   "execution_count": null
  },
  {
   "cell_type": "markdown",
   "source": "To visualize throw and catch points",
   "metadata": {
    "cell_id": "00004-89e2eb2a-e5cd-47d6-87d1-3ff03a8e4eb6",
    "deepnote_cell_type": "markdown",
    "deepnote_cell_height": 52.390625
   }
  },
  {
   "cell_type": "code",
   "metadata": {
    "cell_id": "00005-ddb9e059-e544-4f78-a45c-45c24ec8b8d7",
    "deepnote_to_be_reexecuted": false,
    "source_hash": "9a37980f",
    "execution_start": 1668204039384,
    "execution_millis": 1,
    "deepnote_cell_type": "code",
    "deepnote_cell_height": 261
   },
   "source": "squash_ball_radius = 0.02\np_GB_G = [0, 0.07, 0]\ndef add_target_objects(X_WThrow, X_WCatch):\n    p_ThrowB_W = X_WThrow.rotation() @ p_GB_G\n    X_WThrowB_W = RigidTransform(X_WThrow.rotation(), X_WThrow.translation() +  p_ThrowB_W)\n    p_CatchB_W = X_WCatch.rotation() @ p_GB_G\n    X_WCatchB_W = RigidTransform(X_WCatch.rotation(), X_WCatch.translation() +  p_CatchB_W)\n    meshcat.SetObject(\"throw\", Sphere(squash_ball_radius), rgba=Rgba(.9, .1, .1, 1))\n    meshcat.SetTransform(\"throw\", X_WThrowB_W)\n    meshcat.SetObject(\"catch\", Sphere(squash_ball_radius), rgba=Rgba(.1, .9, .1, 1))\n    meshcat.SetTransform(\"catch\", X_WCatchB_W)",
   "execution_count": null,
   "outputs": []
  },
  {
   "cell_type": "markdown",
   "source": "## Forward Kinematics approach\nTo finding comfortable throw and catch positions",
   "metadata": {
    "cell_id": "00006-8257cd10-502b-4964-aefa-064d4dc66cde",
    "deepnote_cell_type": "markdown",
    "deepnote_cell_height": 108.390625
   }
  },
  {
   "cell_type": "code",
   "metadata": {
    "cell_id": "00007-69546452-0750-4406-8896-cfc51c5561f6",
    "deepnote_cell_type": "code",
    "deepnote_cell_height": 241
   },
   "source": "import numpy as np\nfrom IPython.display import clear_output, display\nfrom pydrake.all import (AbstractValue, AddMultibodyPlantSceneGraph,\n                         DiagramBuilder, JointSliders, LeafSystem,\n                         MeshcatVisualizer, Parser, RigidTransform,\n                         RollPitchYaw, StartMeshcat)\n\nfrom manipulation import FindResource, running_as_notebook\nfrom manipulation.scenarios import AddMultibodyTriad, AddPackagePaths\n\nmeshcat = StartMeshcat()",
   "execution_count": null,
   "outputs": []
  },
  {
   "cell_type": "code",
   "metadata": {
    "cell_id": "00008-01db6bb2-999c-4291-b3b6-7fedc753c203",
    "deepnote_cell_type": "code",
    "deepnote_cell_height": 1074
   },
   "source": "def gripper_forward_kinematics_example():\n    builder = DiagramBuilder()\n\n    plant, scene_graph = AddMultibodyPlantSceneGraph(builder, time_step=0)\n    parser = Parser(plant)\n    AddPackagePaths(parser)\n    parser.AddAllModelsFromFile(FindResource(\"models/iiwa_and_wsg.dmd.yaml\"))\n    plant.Finalize()\n\n    # Draw the frames\n    for body_name in [\"iiwa_link_1\", \"iiwa_link_2\", \"iiwa_link_3\", \"iiwa_link_4\", \"iiwa_link_5\", \"iiwa_link_6\", \"iiwa_link_7\", \"body\"]:\n        AddMultibodyTriad(plant.GetFrameByName(body_name), scene_graph)\n\n    meshcat.Delete()\n    meshcat.DeleteAddedControls()\n    visualizer = MeshcatVisualizer.AddToBuilder(\n        builder, scene_graph.get_query_output_port(), meshcat)\n\n    wsg = plant.GetModelInstanceByName(\"wsg\")\n    gripper = plant.GetBodyByName(\"body\", wsg)\n\n    X_WResult = None\n    my_context = None\n    class PrintPose(LeafSystem):\n        def __init__(self, body_index):\n            LeafSystem.__init__(self)\n            self._body_index = body_index\n            self.DeclareAbstractInputPort(\"body_poses\",\n                                        AbstractValue.Make([RigidTransform()]))\n            self.DeclareForcedPublishEvent(self.Publish)\n\n        def Publish(self, context):\n            pose = self.get_input_port().Eval(context)[self._body_index]\n            clear_output(wait=True)\n            print(\"gripper position (m): \" + np.array2string(\n                pose.translation(), formatter={\n                    'float': lambda x: \"{:3.2f}\".format(x)}))\n            print(\"gripper roll-pitch-yaw (rad):\" + np.array2string(\n                RollPitchYaw(pose.rotation()).vector(),\n                            formatter={'float': lambda x: \"{:3.2f}\".format(x)}))\n            nonlocal X_WResult\n            X_WResult = pose\n\n    print_pose = builder.AddSystem(PrintPose(gripper.index()))\n    builder.Connect(plant.get_body_poses_output_port(),\n                    print_pose.get_input_port())\n\n    default_interactive_timeout = None if running_as_notebook else 1.0\n    sliders = builder.AddSystem(JointSliders(meshcat, plant))\n    diagram = builder.Build()\n    \n\n    sliders.Run(diagram, default_interactive_timeout)\n    context = diagram.CreateDefaultContext()\n    plant_context = plant.GetMyContextFromRoot(context)\n    meshcat.DeleteAddedControls()\n    return plant.GetPositions(plant_context), X_WResult",
   "execution_count": null,
   "outputs": []
  },
  {
   "cell_type": "markdown",
   "source": "Set throw point via forward kinematics teleop",
   "metadata": {
    "cell_id": "00009-80ed257d-f710-4be9-b597-0fcea8194aaf",
    "deepnote_cell_type": "markdown",
    "deepnote_cell_height": 52.390625
   }
  },
  {
   "cell_type": "code",
   "metadata": {
    "cell_id": "00010-2168bfa0-8231-4aa7-8964-dd5433bcab29",
    "deepnote_cell_type": "code",
    "deepnote_cell_height": 339.640625
   },
   "source": "q_Throw, X_WThrow = gripper_forward_kinematics_example()\nprint(f\"q_Throw: {q_Throw}\")\nprint(f\"X_WThrow: {X_WThrow}\")",
   "execution_count": null,
   "outputs": [
    {
     "name": "stdout",
     "output_type": "stream",
     "text": "gripper position (m): [0.40 -0.24 0.68]\ngripper roll-pitch-yaw (rad):[-1.81 0.00 1.03]\nq_Throw: [-1.57  0.1   0.   -1.2   0.    1.6   0.    0.    0.  ]\nX_WThrow: RigidTransform(\n  R=RotationMatrix([\n    [0.5141359916531135, 0.20520622667730418, -0.8327992474898938],\n    [0.8577086813638249, -0.1230066911277729, 0.49920453909287205],\n    [-1.7156031564295772e-18, -0.970958165149591, -0.23924932921398243],\n  ]),\n  p=[0.39936370505596896, -0.2393904352264749, 0.6793215789060887],\n)\n"
    }
   ]
  },
  {
   "cell_type": "markdown",
   "source": "Manually set the throw and catch points",
   "metadata": {
    "cell_id": "00011-8dcbed4f-772c-483a-b3f0-ed26b294bf21",
    "deepnote_cell_type": "markdown",
    "deepnote_cell_height": 52.390625
   }
  },
  {
   "cell_type": "code",
   "source": "q_Throw = np.array([-0.54, 0.58, 0, -1.79, 0, -0.79, 0])\np_WThrow = [0.57, -0.34, 0.39]\nR_WThrow = RollPitchYaw([-np.pi, 0.00, 1.03])\n\nq_Catch = np.array([-0.74, 0.58, 0, -1.79, 0, -0.79, 0])\np_WCatch = [0.49, -0.45, 0.39]\nR_WCatch = RollPitchYaw([-np.pi, 0.00, 0.83])\n\nX_WThrow = RigidTransform(R_WThrow, p_WThrow)\nX_WCatch = RigidTransform(R_WCatch, p_WCatch)\n\n# WSG gripper\nopened = np.array([0.035]) #[0.035]\nclosed = np.array([0.02])",
   "metadata": {
    "cell_id": "00012-eb335774-96a6-4041-bfa3-c23398ecb4dc",
    "deepnote_to_be_reexecuted": false,
    "source_hash": "dda1a39",
    "execution_start": 1669140512985,
    "execution_millis": 1,
    "deepnote_cell_type": "code",
    "deepnote_cell_height": 310
   },
   "outputs": [],
   "execution_count": null
  },
  {
   "cell_type": "markdown",
   "source": "# Differential IK Controller",
   "metadata": {
    "is_collapsed": false,
    "cell_id": "c62a927df02641919cb85eec7821c23a",
    "tags": [],
    "formattedRanges": [],
    "deepnote_cell_type": "text-cell-h1"
   }
  },
  {
   "cell_type": "markdown",
   "source": "Use diffIK controller to get other joint configurations around the key points, navigated to using spatial translation",
   "metadata": {
    "is_collapsed": false,
    "cell_id": "d7663be3-986c-4154-8235-768d2c2550ea",
    "tags": [],
    "formattedRanges": [],
    "deepnote_cell_type": "text-cell-p"
   }
  },
  {
   "cell_type": "code",
   "source": "def teleop_3d():\n    builder = DiagramBuilder()\n\n    time_step = 0.001\n    station = builder.AddSystem(\n        MakeManipulationStation(filename=\"./models/one_arm_juggling.dmd.yaml\", time_step=time_step))\n    plant = station.GetSubsystemByName(\"plant\")\n    controller_plant = station.GetSubsystemByName(\n        \"iiwa_controller\").get_multibody_plant_for_control()\n\n    # Add a meshcat visualizer.\n    visualizer = MeshcatVisualizer.AddToBuilder(\n        builder, station.GetOutputPort(\"query_object\"), meshcat)\n    meshcat.ResetRenderMode()\n    meshcat.DeleteAddedControls()\n\n    # Set up differential inverse kinematics.\n    differential_ik = AddIiwaDifferentialIK(\n        builder,\n        controller_plant,\n        frame=controller_plant.GetFrameByName(\"iiwa_link_7\"))\n    builder.Connect(differential_ik.get_output_port(),\n                    station.GetInputPort(\"iiwa_position\"))\n    builder.Connect(station.GetOutputPort(\"iiwa_state_estimated\"),\n                    differential_ik.GetInputPort(\"robot_state\"))\n\n    # Set up teleop widgets.\n    teleop = builder.AddSystem(\n        MeshcatPoseSliders(\n            meshcat,\n            min_range=MeshcatPoseSliders.MinRange(roll=0,\n                                                  pitch=-0.5,\n                                                  yaw=-np.pi,\n                                                  x=-0.6,\n                                                  y=-0.8,\n                                                  z=0.0),\n            max_range=MeshcatPoseSliders.MaxRange(roll=2 * np.pi,\n                                                  pitch=np.pi,\n                                                  yaw=np.pi,\n                                                  x=0.8,\n                                                  y=0.3,\n                                                  z=1.1),\n            body_index=plant.GetBodyByName(\"iiwa_link_7\").index()))\n    builder.Connect(teleop.get_output_port(0),\n                    differential_ik.get_input_port(0))\n    builder.Connect(station.GetOutputPort(\"body_poses\"),\n                    teleop.GetInputPort(\"body_poses\"))\n    wsg_teleop = builder.AddSystem(WsgButton(meshcat))\n    builder.Connect(wsg_teleop.get_output_port(0),\n                    station.GetInputPort(\"wsg_position\"))\n\n    diagram = builder.Build()\n    simulator = Simulator(diagram)\n    context = simulator.get_mutable_context()\n\n    plant_context = plant.GetMyMutableContextFromRoot(context)\n    q0 = plant.GetPositions(plant_context)\n    non_iiwa_q0 = q0[7:]\n    gap = closed[0]\n    non_iiwa_q0[0]=-gap/2\n    non_iiwa_q0[1]=gap/2\n    plant.SetPositions(plant_context, np.concatenate((q_Catch, non_iiwa_q0)))\n\n    if running_as_notebook:  # Then we're not just running as a test on CI.\n        simulator.set_target_realtime_rate(1.0)\n\n        meshcat.AddButton(\"Stop Simulation\", \"Escape\")\n        print(\"Press Escape to stop the simulation\")\n        while meshcat.GetButtonClicks(\"Stop Simulation\") < 1:\n            simulator.AdvanceTo(simulator.get_context().get_time() + 2.0)\n            print(plant.get_positi)\n        meshcat.DeleteButton(\"Stop Simulation\")\n\n    else:\n        simulator.AdvanceTo(0.1)\n\n\nteleop_3d()",
   "metadata": {
    "cell_id": "b44a7eae37e04b798f916fe2f0e024a8",
    "tags": [],
    "deepnote_to_be_reexecuted": false,
    "source_hash": "c0a75da7",
    "execution_start": 1669140515032,
    "execution_millis": 58948,
    "deepnote_cell_type": "code",
    "deepnote_cell_height": 1655.25,
    "deepnote_output_heights": [
     null,
     288.921875
    ]
   },
   "outputs": [
    {
     "name": "stdout",
     "text": "Keyboard Controls:\nroll : KeyQ / KeyE\npitch : KeyW / KeyS\nyaw : KeyA / KeyD\nx : KeyJ / KeyL\ny : KeyI / KeyK\nz : KeyO / KeyU\nPress Space to open/close the gripper\nPress Escape to stop the simulation\n",
     "output_type": "stream"
    }
   ],
   "execution_count": null
  },
  {
   "cell_type": "markdown",
   "source": "## Inverse Kinematics Approach",
   "metadata": {
    "cell_id": "00013-8c0f34eb-b965-4883-acc1-2de355c6f2af",
    "deepnote_cell_type": "markdown",
    "deepnote_cell_height": 70
   }
  },
  {
   "cell_type": "markdown",
   "source": "#### Start with the throw and catch spatial positions in XYZ",
   "metadata": {
    "cell_id": "00014-1e296d89-a92d-405d-9ad5-c3157d2afa6c",
    "deepnote_cell_type": "markdown",
    "deepnote_cell_height": 54
   }
  },
  {
   "cell_type": "code",
   "metadata": {
    "cell_id": "00015-c690c2ee-ff65-4ace-a553-c271f73d3ec9",
    "deepnote_cell_type": "code",
    "deepnote_cell_height": 241
   },
   "source": "a = 0.4\nb = 0.6\nz = 0.2\np_WThrow = [b,-a,z]\nR_WThrow = RollPitchYaw([-np.pi, 0, np.arctan(a/b)])\nprint(R_WThrow)\np_WCatch = [a,-b,z]\nR_WCatch = RollPitchYaw([-np.pi, 0, np.arctan(b/a)])\nprint(R_WCatch)\nX_WThrow = RigidTransform(R_WThrow, p_WThrow)\nX_WCatch = RigidTransform(R_WCatch, p_WCatch)",
   "execution_count": null,
   "outputs": []
  },
  {
   "cell_type": "code",
   "metadata": {
    "cell_id": "00016-c6c054bd-aab1-4a23-838b-96fad301ad16",
    "deepnote_cell_type": "code",
    "deepnote_cell_height": 61
   },
   "source": "add_target_objects(X_WThrow, X_WCatch)",
   "execution_count": null,
   "outputs": []
  },
  {
   "cell_type": "markdown",
   "source": "### Use interactive inverse kinematics to get joint angles for throw and catch points",
   "metadata": {
    "cell_id": "00017-a2fbdd1f-5418-4add-b495-8699441905d0",
    "deepnote_cell_type": "markdown",
    "deepnote_cell_height": 94
   }
  },
  {
   "cell_type": "code",
   "metadata": {
    "cell_id": "00018-fdd5de1f-8bf8-414b-9139-ed5d74cb1445",
    "deepnote_cell_type": "code",
    "deepnote_cell_height": 1087
   },
   "source": "\ndef get_joints_inverse_kinematics(X_WTarget, use_full_pose = True):\n    builder = DiagramBuilder()\n\n    plant, scene_graph = AddMultibodyPlantSceneGraph(builder, time_step=0.001)\n    iiwa = AddIiwa(plant, \"with_box_collision\")\n    wsg = AddWsg(plant, iiwa, welded=True)\n    plant.Finalize()\n\n    meshcat.DeleteAddedControls()\n    visualizer = MeshcatVisualizer.AddToBuilder(\n        builder, \n        scene_graph, \n        meshcat,\n        MeshcatVisualizerParams(prefix=\"Spatial\"))\n    joint_sliders = builder.AddSystem(JointSliders(meshcat, plant))\n\n    diagram = builder.Build()\n    context = diagram.CreateDefaultContext()\n    plant_context = plant.GetMyContextFromRoot(context)\n\n    q0 = plant.GetPositions(plant_context)\n    gripper_frame = plant.GetFrameByName(\"body\", wsg)\n    q_result = None\n    def my_callback(context, pose):\n        nonlocal q_result\n        ik = InverseKinematics(plant, plant_context)\n        ik.AddPositionConstraint(\n            gripper_frame, p_GO, plant.world_frame(),\n            pose.translation(), pose.translation())\n        ik.AddOrientationConstraint(\n            gripper_frame, RotationMatrix(), plant.world_frame(),\n            pose.rotation(), 0.0)\n        ik.AddMinimumDistanceConstraint(0.001, 0.1)\n        prog = ik.get_mutable_prog()\n        q = ik.q()\n        prog.AddQuadraticErrorCost(np.identity(len(q)), q0, q)\n        prog.SetInitialGuess(q, q0)\n        result = Solve(ik.prog())\n        # clear_output(wait=True)\n        if result.is_success():\n            print(\"IK success\")\n            joint_sliders.SetPositions(result.GetSolution())\n            print(f\"Joint positions: {result.GetSolution()}\")\n            q_result = result.GetSolution()\n        else:\n            print(\"IK failure\")\n\n    sliders = MeshcatPoseSliders(meshcat)\n    sliders.SetPose(plant.EvalBodyPoseInWorld(\n        plant_context, plant.GetBodyByName(\"body\", wsg)))\n    if use_full_pose:\n        sliders.SetPose(X_WTarget)\n    else:\n        sliders.SetXyz(X_WTarget.translation())\n    sliders.Run(visualizer, context, my_callback)\n    return q_result\n",
   "execution_count": null,
   "outputs": []
  },
  {
   "cell_type": "code",
   "metadata": {
    "cell_id": "00019-961d0e16-7fdb-4d77-9cb6-597036a326e9",
    "deepnote_cell_type": "code",
    "deepnote_cell_height": 79
   },
   "source": "q_Throw = get_joints_inverse_kinematics(X_WThrow, use_full_pose=True)\nprint(q_Throw)",
   "execution_count": null,
   "outputs": []
  },
  {
   "cell_type": "code",
   "metadata": {
    "cell_id": "00020-21e232c8-178b-4ee0-9d91-ec9d2689716d",
    "deepnote_cell_type": "code",
    "deepnote_cell_height": 79
   },
   "source": "q_Catch = get_joints_inverse_kinematics(X_WCatch, use_full_pose=False)\nprint(q_Catch)",
   "execution_count": null,
   "outputs": []
  },
  {
   "cell_type": "markdown",
   "source": "## Calculate spatial velocities at throw and catch points",
   "metadata": {
    "cell_id": "00021-0ed07607-8279-4b68-a111-f25dcf767f9c",
    "deepnote_cell_type": "markdown",
    "deepnote_cell_height": 110
   }
  },
  {
   "cell_type": "code",
   "metadata": {
    "cell_id": "00022-00898afd-a34d-4928-a0b1-86f6b4958fb0",
    "deepnote_to_be_reexecuted": false,
    "source_hash": "656fb688",
    "execution_start": 1668204499822,
    "execution_millis": 1,
    "deepnote_cell_type": "code",
    "deepnote_cell_height": 364
   },
   "source": "def calculate_ball_vels(p1, p2, height):\n    # p1: (x, y, z), ndarray\n    # p2: (x, y, z), ndarray\n    # height, pos real number\n\n    g = 9.8\n\n    t = np.sqrt(2 * height / g)\n\n    vx = (p2[0] - p1[0]) / (2 * t)\n    vy = (p2[1] - p1[1]) / (2 * t)\n    vz = t * g\n\n    throw_vel = np.array([vx, vy, vz])\n    catch_vel = np.array([vx, vy, -vz])\n    total_duration =  2 * t\n    return (throw_vel, catch_vel, total_duration)",
   "execution_count": null,
   "outputs": []
  },
  {
   "cell_type": "code",
   "metadata": {
    "cell_id": "00023-6621e6e6-76cd-4183-a528-28bae8eaefb9",
    "deepnote_to_be_reexecuted": false,
    "source_hash": "bcccb93",
    "execution_start": 1668204501838,
    "execution_millis": 722,
    "deepnote_cell_type": "code",
    "deepnote_cell_height": 241.078125
   },
   "source": "\nmax_height = 0.5 # Max height ball will reach in meters\nV_Throw, V_Catch, t_duration = calculate_ball_vels(X_WThrow.translation(), X_WCatch.translation(), max_height)\nprint(f\"V_Throw {V_Throw}\")\nprint(f\"V_Catch {V_Catch}\")\nprint(f\"t_duration {t_duration}\")",
   "execution_count": null,
   "outputs": [
    {
     "name": "stdout",
     "text": "V_Throw [-0.12521981 -0.17217723  3.13049517]\nV_Catch [-0.12521981 -0.17217723 -3.13049517]\nt_duration 0.6388765649999398\n",
     "output_type": "stream"
    }
   ]
  },
  {
   "cell_type": "code",
   "metadata": {
    "cell_id": "00024-d1150942-8b09-4ea4-b2c8-a434f1a6dfaf",
    "deepnote_cell_type": "code",
    "deepnote_cell_height": 115
   },
   "source": "# Override to reduce velocities\n# not necessary\n# V_Throw[2] = 1\n# V_Catch[2] = -1",
   "execution_count": null,
   "outputs": []
  },
  {
   "cell_type": "code",
   "metadata": {
    "cell_id": "00025-2870edf6-3430-4012-a352-6bfb6d2c5799",
    "deepnote_cell_type": "code",
    "deepnote_cell_height": 745
   },
   "source": "def SpatialVelToJointVelConverter():\n    builder = DiagramBuilder()\n\n    plant, scene_graph = AddMultibodyPlantSceneGraph(builder, time_step=0.001)\n    iiwa = AddIiwa(plant)\n    wsg = AddWsg(plant, iiwa, welded=True, sphere=True)\n    gripper_frame = plant.GetFrameByName(\"body\", wsg)\n    plant.Finalize()\n\n    diagram = builder.Build()\n    context = diagram.CreateDefaultContext()\n    plant_context = plant.GetMyContextFromRoot(context)\n\n    def convert_spatial_vel_to_joint_vel(q, V_Gdesired):\n        plant.SetPositions(plant_context, q)\n        diagram.Publish(context)\n\n        clear_output(wait=True)\n        J_G = plant.CalcJacobianTranslationalVelocity(plant_context,\n                                                      JacobianWrtVariable.kQDot,\n                                                      gripper_frame, [0, 0, 0],\n                                                      plant.world_frame(),\n                                                      plant.world_frame())\n        # print(\"J_G = \")\n        # print(\n        #     np.array2string(J_G,\n                            # formatter={'float': lambda x: \"{:5.2f}\".format(x)}))\n        # print(np.shape(J_G))\n        # print(np.shape())\n        V_Gdesired = V_Gdesired.reshape(3,1)\n        v = np.linalg.pinv(J_G).dot(V_Gdesired)\n        # print(\"Joint velocities\")\n        # print(np.array2string(v,\n        #                     formatter={'float': lambda x: \"{:5.3f}\".format(x)}))\n        return v\n\n    return convert_spatial_vel_to_joint_vel\n\nconverter = SpatialVelToJointVelConverter()",
   "execution_count": null,
   "outputs": []
  },
  {
   "cell_type": "code",
   "metadata": {
    "cell_id": "00026-3ebd3c05-8447-42de-9f37-221a16ac4954",
    "deepnote_cell_type": "code",
    "deepnote_cell_height": 303.5625
   },
   "source": "v_Throw = converter(q_Throw, V_Throw)\nprint(np.shape(v_Throw))\nprint(np.array2string(v_Throw, formatter={'float': lambda x: \"{:5.3f}\".format(x)}))\n# v_Throw = np.array([[-0.253],[-4.044],[-0.202],[0.597],[0.046],[-0.943],[-0.000]])",
   "execution_count": null,
   "outputs": [
    {
     "name": "stdout",
     "output_type": "stream",
     "text": "(7, 1)\n[[-0.253]\n [-4.044]\n [-0.202]\n [0.597]\n [0.046]\n [-0.943]\n [-0.000]]\n"
    }
   ]
  },
  {
   "cell_type": "code",
   "metadata": {
    "cell_id": "00027-2e08e910-377d-4558-bfe1-d162662e977f",
    "deepnote_cell_type": "code",
    "deepnote_cell_height": 265.859375
   },
   "source": "v_Catch = converter(q_Catch,V_Catch)\nprint(np.array2string(v_Catch, formatter={'float': lambda x: \"{:5.3f}\".format(x)}))\n# v_Catch = np.array([[-0.250],[4.103],[-0.200],[-0.505],[0.045],[0.953],[0.000]])",
   "execution_count": null,
   "outputs": [
    {
     "name": "stdout",
     "output_type": "stream",
     "text": "[[-0.250]\n [4.103]\n [-0.200]\n [-0.505]\n [0.045]\n [0.953]\n [0.000]]\n"
    }
   ]
  },
  {
   "cell_type": "markdown",
   "source": "",
   "metadata": {
    "cell_id": "00028-d629b5c6-afed-4746-aec2-2b93271da807",
    "deepnote_cell_type": "markdown",
    "deepnote_cell_height": 46
   }
  },
  {
   "cell_type": "code",
   "metadata": {
    "cell_id": "00029-2c107a58-1c52-4082-8e52-58216a3bae9d",
    "deepnote_cell_type": "code",
    "deepnote_cell_height": 2431.390625
   },
   "source": "def trajopt_pv_pair_demo():\n    meshcat.Delete()\n    builder = DiagramBuilder()\n\n    plant, scene_graph = AddMultibodyPlantSceneGraph(builder, time_step=0.001)\n\n    parser = Parser(plant)\n    AddPackagePaths(parser)\n    iiwa = AddIiwa(plant)\n    wsg = AddWsg(plant, iiwa, welded=True, sphere=True)\n    \n    add_target_objects(X_WThrow, X_WCatch)\n\n    t_start = 0.0 # 0.5\n    num_control_points = 11\n\n    plant.Finalize()\n\n    visualizer = MeshcatVisualizer.AddToBuilder(\n        builder, scene_graph, meshcat,\n        MeshcatVisualizerParams(role=Role.kIllustration))\n    collision_visualizer = MeshcatVisualizer.AddToBuilder(\n        builder, scene_graph, meshcat,\n        MeshcatVisualizerParams(prefix=\"collision\", role=Role.kProximity))\n    meshcat.SetProperty(\"collision\", \"visible\", False)\n\n    diagram = builder.Build()\n    context = diagram.CreateDefaultContext()\n    plant_context = plant.GetMyContextFromRoot(context)\n    # print(q_Throw)\n    plant.SetPositions(plant_context, q_Throw)\n    q0 = plant.GetPositions(plant_context)\n    # print(q0)\n    \n    gripper_frame = plant.GetFrameByName(\"body\", wsg)\n    trajopt = KinematicTrajectoryOptimization(plant.num_positions(), num_control_points)\n    prog = trajopt.get_mutable_prog()\n    \n    trajopt.AddPathLengthCost(2)\n    # Add cost for acceleration?\n\n    trajopt.AddPositionBounds(plant.GetPositionLowerLimits(),\n                              plant.GetPositionUpperLimits())\n    trajopt.AddVelocityBounds(plant.GetVelocityLowerLimits(),\n                              plant.GetVelocityUpperLimits())\n\n    # trajopt.AddDurationBounds(t_start, t_start + 2 * t_duration) # Assume t_duration each way\n    trajopt.AddDurationConstraint(t_start + 2 * t_duration, t_start + 2 * t_duration)\n    # trajopt.AddEqualTimeIntervalConstraints()\n\n    # Constrain positions in spatial positions\n    # start constraint\n    # start_constraint = PositionConstraint(plant, plant.world_frame(),\n    #                                       X_WThrow.translation(),\n    #                                       X_WThrow.translation(), gripper_frame,\n    #                                       [0, 0.1, 0], plant_context)\n    # trajopt.AddPathConstraint(start_constraint, 0)\n    prog.AddQuadraticErrorCost(np.eye(7), q0,\n                               trajopt.path_control_points()[:, 0])\n    \n    # goal constraint\n    # goal_constraint = PositionConstraint(plant, plant.world_frame(),\n    #                                      X_WCatch.translation(),\n    #                                      X_WCatch.translation(), gripper_frame,\n    #                                      [0, 0.1, 0], plant_context)\n    \n    # trajopt.AddPathConstraint(goal_constraint, 0.5)\n    prog.AddQuadraticErrorCost(np.eye(7), q_Catch,\n                               trajopt.path_control_points()[:, np.round(num_control_points/2).astype(int)])\n\n    # return to start\n    # trajopt.AddPathConstraint(start_constraint, 1)\n    prog.AddQuadraticErrorCost(np.eye(7), q0,\n                               trajopt.path_control_points()[:, -1])\n    \n    # constrain positions in joint angles\n    trajopt.AddFixedPathPositionConstraint(q_Throw, 0)\n    trajopt.AddFixedPathPositionConstraint(q_Catch, 0.5)\n    trajopt.AddFixedPathPositionConstraint(q_Throw, 1)\n\n    # print(v_Throw)\n    trajopt.AddFixedPathVelocityConstraint(v_Throw, 0)\n    trajopt.AddFixedPathVelocityConstraint(v_Catch, 0.5)\n    trajopt.AddFixedPathVelocityConstraint(v_Throw, 1)\n\n    # Solve once without the collisions and set that as the initial guess for\n    # the version with collisions.\n    result = Solve(prog)\n    if not result.is_success():\n        print(\"Trajectory optimization failed, even without collisions!\")\n        print(result.get_solver_id().name())\n    \n    # BsplineTrajectory()\n    # trajopt.SetPathInitialGuess()\n    traj = trajopt.ReconstructPath(result)\n    print(f\"kin traj opt initial t:{traj.start_time()} q: {traj.InitialValue()}\")\n    print(f\"kin traj opt final t:{traj.end_time()} q: {traj.FinalValue()}\")\n\n    trajopt.SetPathInitialGuess(trajopt.ReconstructPath(result))\n\n    PublishPositionTrajectory(trajopt.ReconstructPath(result), context, plant,\n                              visualizer)\n    collision_visualizer.Publish(\n        collision_visualizer.GetMyContextFromRoot(context))\n\n    return\n    # collision constraints\n    collision_constraint = MinimumDistanceConstraint(plant, 0.001,\n                                                     plant_context, None, 0.01)\n    evaluate_at_s = np.linspace(0, 1, 25)\n    for s in evaluate_at_s:\n        trajopt.AddPathConstraint(collision_constraint, s)\n\n    result = Solve(prog)\n    if not result.is_success():\n        print(\"Trajectory optimization failed\")\n        print(result.get_solver_id().name())\n\n    PublishPositionTrajectory(trajopt.ReconstructPath(result), context, plant,\n                              visualizer)\n    collision_visualizer.Publish(\n        collision_visualizer.GetMyContextFromRoot(context))\n    \n    \n\ntrajopt_pv_pair_demo()\n",
   "execution_count": null,
   "outputs": [
    {
     "ename": "AttributeError",
     "evalue": "'pydrake.systems.trajectory_optimization.KinematicT' object has no attribute 'AddDurationConstraint'",
     "output_type": "error",
     "traceback": [
      "\u001b[0;31m---------------------------------------------------------------------------\u001b[0m",
      "\u001b[0;31mAttributeError\u001b[0m                            Traceback (most recent call last)",
      "\u001b[1;32m/Users/chewchiashaoyuan/Documents/Software/one_arm_juggling/ball_throwing_catching.ipynb Cell 30\u001b[0m in \u001b[0;36m<cell line: 126>\u001b[0;34m()\u001b[0m\n\u001b[1;32m    <a href='vscode-notebook-cell:/Users/chewchiashaoyuan/Documents/Software/one_arm_juggling/ball_throwing_catching.ipynb#X41sZmlsZQ%3D%3D?line=118'>119</a>\u001b[0m     PublishPositionTrajectory(trajopt\u001b[39m.\u001b[39mReconstructPath(result), context, plant,\n\u001b[1;32m    <a href='vscode-notebook-cell:/Users/chewchiashaoyuan/Documents/Software/one_arm_juggling/ball_throwing_catching.ipynb#X41sZmlsZQ%3D%3D?line=119'>120</a>\u001b[0m                               visualizer)\n\u001b[1;32m    <a href='vscode-notebook-cell:/Users/chewchiashaoyuan/Documents/Software/one_arm_juggling/ball_throwing_catching.ipynb#X41sZmlsZQ%3D%3D?line=120'>121</a>\u001b[0m     collision_visualizer\u001b[39m.\u001b[39mPublish(\n\u001b[1;32m    <a href='vscode-notebook-cell:/Users/chewchiashaoyuan/Documents/Software/one_arm_juggling/ball_throwing_catching.ipynb#X41sZmlsZQ%3D%3D?line=121'>122</a>\u001b[0m         collision_visualizer\u001b[39m.\u001b[39mGetMyContextFromRoot(context))\n\u001b[0;32m--> <a href='vscode-notebook-cell:/Users/chewchiashaoyuan/Documents/Software/one_arm_juggling/ball_throwing_catching.ipynb#X41sZmlsZQ%3D%3D?line=125'>126</a>\u001b[0m trajopt_pv_pair_demo()\n",
      "\u001b[1;32m/Users/chewchiashaoyuan/Documents/Software/one_arm_juggling/ball_throwing_catching.ipynb Cell 30\u001b[0m in \u001b[0;36mtrajopt_pv_pair_demo\u001b[0;34m()\u001b[0m\n\u001b[1;32m     <a href='vscode-notebook-cell:/Users/chewchiashaoyuan/Documents/Software/one_arm_juggling/ball_throwing_catching.ipynb#X41sZmlsZQ%3D%3D?line=43'>44</a>\u001b[0m trajopt\u001b[39m.\u001b[39mAddVelocityBounds(plant\u001b[39m.\u001b[39mGetVelocityLowerLimits(),\n\u001b[1;32m     <a href='vscode-notebook-cell:/Users/chewchiashaoyuan/Documents/Software/one_arm_juggling/ball_throwing_catching.ipynb#X41sZmlsZQ%3D%3D?line=44'>45</a>\u001b[0m                           plant\u001b[39m.\u001b[39mGetVelocityUpperLimits())\n\u001b[1;32m     <a href='vscode-notebook-cell:/Users/chewchiashaoyuan/Documents/Software/one_arm_juggling/ball_throwing_catching.ipynb#X41sZmlsZQ%3D%3D?line=46'>47</a>\u001b[0m \u001b[39m# trajopt.AddDurationBounds(t_start, t_start + 2 * t_duration) # Assume t_duration each way\u001b[39;00m\n\u001b[0;32m---> <a href='vscode-notebook-cell:/Users/chewchiashaoyuan/Documents/Software/one_arm_juggling/ball_throwing_catching.ipynb#X41sZmlsZQ%3D%3D?line=47'>48</a>\u001b[0m trajopt\u001b[39m.\u001b[39;49mAddDurationConstraint(t_start, t_start \u001b[39m+\u001b[39m \u001b[39m2\u001b[39m \u001b[39m*\u001b[39m t_duration)\n\u001b[1;32m     <a href='vscode-notebook-cell:/Users/chewchiashaoyuan/Documents/Software/one_arm_juggling/ball_throwing_catching.ipynb#X41sZmlsZQ%3D%3D?line=48'>49</a>\u001b[0m trajopt\u001b[39m.\u001b[39mAddEqualTimeIntervalConstraints()\n\u001b[1;32m     <a href='vscode-notebook-cell:/Users/chewchiashaoyuan/Documents/Software/one_arm_juggling/ball_throwing_catching.ipynb#X41sZmlsZQ%3D%3D?line=50'>51</a>\u001b[0m \u001b[39m# Constrain positions in spatial positions\u001b[39;00m\n\u001b[1;32m     <a href='vscode-notebook-cell:/Users/chewchiashaoyuan/Documents/Software/one_arm_juggling/ball_throwing_catching.ipynb#X41sZmlsZQ%3D%3D?line=51'>52</a>\u001b[0m \u001b[39m# start constraint\u001b[39;00m\n\u001b[1;32m     <a href='vscode-notebook-cell:/Users/chewchiashaoyuan/Documents/Software/one_arm_juggling/ball_throwing_catching.ipynb#X41sZmlsZQ%3D%3D?line=52'>53</a>\u001b[0m \u001b[39m# start_constraint = PositionConstraint(plant, plant.world_frame(),\u001b[39;00m\n\u001b[0;32m   (...)\u001b[0m\n\u001b[1;32m     <a href='vscode-notebook-cell:/Users/chewchiashaoyuan/Documents/Software/one_arm_juggling/ball_throwing_catching.ipynb#X41sZmlsZQ%3D%3D?line=55'>56</a>\u001b[0m \u001b[39m#                                       [0, 0.1, 0], plant_context)\u001b[39;00m\n\u001b[1;32m     <a href='vscode-notebook-cell:/Users/chewchiashaoyuan/Documents/Software/one_arm_juggling/ball_throwing_catching.ipynb#X41sZmlsZQ%3D%3D?line=56'>57</a>\u001b[0m \u001b[39m# trajopt.AddPathConstraint(start_constraint, 0)\u001b[39;00m\n",
      "\u001b[0;31mAttributeError\u001b[0m: 'pydrake.systems.trajectory_optimization.KinematicT' object has no attribute 'AddDurationConstraint'"
     ]
    }
   ]
  },
  {
   "cell_type": "code",
   "metadata": {
    "cell_id": "00030-32d3f138-fa7b-4e97-8c09-60b255493c7b",
    "deepnote_cell_type": "code",
    "deepnote_cell_height": 61
   },
   "source": "meshcat.Delete()",
   "execution_count": null,
   "outputs": []
  },
  {
   "cell_type": "code",
   "metadata": {
    "cell_id": "00031-11e7b0ac-6e60-44d8-a32e-ca285b0bfaac",
    "deepnote_cell_type": "code",
    "deepnote_cell_height": 61
   },
   "source": "",
   "execution_count": null,
   "outputs": []
  },
  {
   "cell_type": "markdown",
   "source": "<a style='text-decoration:none;line-height:16px;display:flex;color:#5B5B62;padding:10px;justify-content:end;' href='https://deepnote.com?utm_source=created-in-deepnote-cell&projectId=68a898be-bd4e-4046-916a-6293aadf6c5d' target=\"_blank\">\n<img alt='Created in deepnote.com' style='display:inline;max-height:16px;margin:0px;margin-right:7.5px;' src='data:image/svg+xml;base64,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' > </img>\nCreated in <span style='font-weight:600;margin-left:4px;'>Deepnote</span></a>",
   "metadata": {
    "tags": [],
    "created_in_deepnote_cell": true,
    "deepnote_cell_type": "markdown"
   }
  }
 ],
 "nbformat": 4,
 "nbformat_minor": 2,
 "metadata": {
  "kernelspec": {
   "display_name": "Python 3.10.8 64-bit",
   "language": "python",
   "name": "python3"
  },
  "language_info": {
   "codemirror_mode": {
    "name": "ipython",
    "version": 3
   },
   "file_extension": ".py",
   "mimetype": "text/x-python",
   "name": "python",
   "nbconvert_exporter": "python",
   "pygments_lexer": "ipython3",
   "version": "3.10.8"
  },
  "orig_nbformat": 4,
  "vscode": {
   "interpreter": {
    "hash": "aee8b7b246df8f9039afb4144a1f6fd8d2ca17a180786b69acc140d282b71a49"
   }
  },
  "deepnote_notebook_id": "1f2c12c1-6c2c-4039-b316-88bff0839e04",
  "deepnote": {},
  "deepnote_execution_queue": []
 }
}