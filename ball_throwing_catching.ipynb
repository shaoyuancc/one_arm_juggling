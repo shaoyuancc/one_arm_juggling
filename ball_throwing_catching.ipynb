{
 "cells": [
  {
   "cell_type": "markdown",
   "metadata": {},
   "source": [
    "# Kinematic Trajectory Optimization\n",
    "## Ball throwing and catching"
   ]
  },
  {
   "cell_type": "code",
   "execution_count": 1,
   "metadata": {},
   "outputs": [],
   "source": [
    "import time\n",
    "\n",
    "import numpy as np\n",
    "from pydrake.all import (AddMultibodyPlantSceneGraph, BsplineTrajectory,\n",
    "                         DiagramBuilder, KinematicTrajectoryOptimization,\n",
    "                         MeshcatVisualizer, MeshcatVisualizerParams,\n",
    "                         MinimumDistanceConstraint, Parser, PositionConstraint,\n",
    "                         Rgba, RigidTransform, Role, Solve, Sphere,\n",
    "                         StartMeshcat)\n",
    "\n",
    "from manipulation import running_as_notebook\n",
    "from manipulation.meshcat_utils import (PublishPositionTrajectory,\n",
    "                                        model_inspector)\n",
    "from manipulation.scenarios import AddIiwa, AddPlanarIiwa, AddShape, AddWsg\n",
    "from manipulation.utils import AddPackagePaths, FindResource\n"
   ]
  },
  {
   "cell_type": "code",
   "execution_count": 2,
   "metadata": {},
   "outputs": [
    {
     "name": "stderr",
     "output_type": "stream",
     "text": [
      "INFO:drake:Meshcat listening for connections at http://localhost:7001\n"
     ]
    }
   ],
   "source": [
    "# Start the visualizer.\n",
    "meshcat = StartMeshcat()"
   ]
  },
  {
   "cell_type": "code",
   "execution_count": 8,
   "metadata": {},
   "outputs": [],
   "source": [
    "def trajopt_pv_pair_demo():\n",
    "    meshcat.Delete()\n",
    "    builder = DiagramBuilder()\n",
    "\n",
    "    plant, scene_graph = AddMultibodyPlantSceneGraph(builder, time_step=0.001)\n",
    "\n",
    "    parser = Parser(plant)\n",
    "    AddPackagePaths(parser)\n",
    "    iiwa = AddIiwa(plant)\n",
    "    wsg = AddWsg(plant, iiwa, welded=True, sphere=True)\n",
    "    X_WStart = RigidTransform([0.5, 0, 0.15])\n",
    "    meshcat.SetObject(\"start\", Sphere(0.02), rgba=Rgba(.9, .1, .1, 1))\n",
    "    meshcat.SetTransform(\"start\", X_WStart)\n",
    "    X_WGoal = RigidTransform([0, -0.6, 0.15])\n",
    "    meshcat.SetObject(\"goal\", Sphere(0.02), rgba=Rgba(.1, .9, .1, 1))\n",
    "    meshcat.SetTransform(\"goal\", X_WGoal)\n",
    "\n",
    "    plant.Finalize()\n",
    "\n",
    "    visualizer = MeshcatVisualizer.AddToBuilder(\n",
    "        builder, scene_graph, meshcat,\n",
    "        MeshcatVisualizerParams(role=Role.kIllustration))\n",
    "    collision_visualizer = MeshcatVisualizer.AddToBuilder(\n",
    "        builder, scene_graph, meshcat,\n",
    "        MeshcatVisualizerParams(prefix=\"collision\", role=Role.kProximity))\n",
    "    meshcat.SetProperty(\"collision\", \"visible\", False)\n",
    "\n",
    "    diagram = builder.Build()\n",
    "    context = diagram.CreateDefaultContext()\n",
    "    plant_context = plant.GetMyContextFromRoot(context)\n",
    "\n",
    "    q0 = plant.GetPositions(plant_context)\n",
    "    gripper_frame = plant.GetFrameByName(\"body\", wsg)\n",
    "    num_control_points = 10\n",
    "    trajopt = KinematicTrajectoryOptimization(plant.num_positions(), num_control_points)\n",
    "    prog = trajopt.get_mutable_prog()\n",
    "    # trajopt.AddDurationCost(1.0)\n",
    "    trajopt.AddPathLengthCost(1.0)\n",
    "    trajopt.AddPositionBounds(plant.GetPositionLowerLimits(),\n",
    "                              plant.GetPositionUpperLimits())\n",
    "    trajopt.AddVelocityBounds(plant.GetVelocityLowerLimits(),\n",
    "                              plant.GetVelocityUpperLimits())\n",
    "\n",
    "    trajopt.AddDurationBounds(.5, 100)\n",
    "    trajopt.AddEqualTimeIntervalConstraints()\n",
    "\n",
    "    # start constraint\n",
    "    start_constraint = PositionConstraint(plant, plant.world_frame(),\n",
    "                                          X_WStart.translation(),\n",
    "                                          X_WStart.translation(), gripper_frame,\n",
    "                                          [0, 0.1, 0], plant_context)\n",
    "    trajopt.AddPathConstraint(start_constraint, 0)\n",
    "    prog.AddQuadraticErrorCost(np.eye(7), q0,\n",
    "                               trajopt.path_control_points()[:, 0])\n",
    "\n",
    "    # goal constraint\n",
    "    goal_constraint = PositionConstraint(plant, plant.world_frame(),\n",
    "                                         X_WGoal.translation(),\n",
    "                                         X_WGoal.translation(), gripper_frame,\n",
    "                                         [0, 0.1, 0], plant_context)\n",
    "    \n",
    "    trajopt.AddPathConstraint(goal_constraint, 0.5)\n",
    "    prog.AddQuadraticErrorCost(np.eye(7), q0,\n",
    "                               trajopt.path_control_points()[:, int(num_control_points/2)])\n",
    "\n",
    "    # return to start\n",
    "    trajopt.AddPathConstraint(start_constraint, 1)\n",
    "    prog.AddQuadraticErrorCost(np.eye(7), q0,\n",
    "                               trajopt.path_control_points()[:, -1])\n",
    "\n",
    "    # start and end with zero velocity\n",
    "    start_V = np.zeros((7,1))\n",
    "    end_V = np.zeros((7,1))\n",
    "    \n",
    "    # end_V[6]=-0.3\n",
    "    trajopt.AddFixedPathVelocityConstraint(start_V, 0)\n",
    "    trajopt.AddFixedPathVelocityConstraint(end_V, 0.5)\n",
    "    trajopt.AddFixedPathVelocityConstraint(start_V, 1)\n",
    "\n",
    "    # Solve once without the collisions and set that as the initial guess for\n",
    "    # the version with collisions.\n",
    "    result = Solve(prog)\n",
    "    if not result.is_success():\n",
    "        print(\"Trajectory optimization failed, even without collisions!\")\n",
    "        print(result.get_solver_id().name())\n",
    "    trajopt.SetPathInitialGuess(trajopt.ReconstructPath(result))\n",
    "\n",
    "    PublishPositionTrajectory(trajopt.ReconstructPath(result), context, plant,\n",
    "                              visualizer)\n",
    "    collision_visualizer.Publish(\n",
    "        collision_visualizer.GetMyContextFromRoot(context))\n",
    "\n",
    "    return\n",
    "    # collision constraints\n",
    "    collision_constraint = MinimumDistanceConstraint(plant, 0.001,\n",
    "                                                     plant_context, None, 0.01)\n",
    "    evaluate_at_s = np.linspace(0, 1, 25)\n",
    "    for s in evaluate_at_s:\n",
    "        trajopt.AddPathConstraint(collision_constraint, s)\n",
    "\n",
    "    result = Solve(prog)\n",
    "    if not result.is_success():\n",
    "        print(\"Trajectory optimization failed\")\n",
    "        print(result.get_solver_id().name())\n",
    "\n",
    "    PublishPositionTrajectory(trajopt.ReconstructPath(result), context, plant,\n",
    "                              visualizer)\n",
    "    collision_visualizer.Publish(\n",
    "        collision_visualizer.GetMyContextFromRoot(context))\n",
    "    \n",
    "    \n",
    "\n",
    "trajopt_pv_pair_demo()\n"
   ]
  },
  {
   "cell_type": "code",
   "execution_count": null,
   "metadata": {},
   "outputs": [],
   "source": []
  }
 ],
 "metadata": {
  "kernelspec": {
   "display_name": "Python 3.10.8 64-bit",
   "language": "python",
   "name": "python3"
  },
  "language_info": {
   "codemirror_mode": {
    "name": "ipython",
    "version": 3
   },
   "file_extension": ".py",
   "mimetype": "text/x-python",
   "name": "python",
   "nbconvert_exporter": "python",
   "pygments_lexer": "ipython3",
   "version": "3.10.8"
  },
  "orig_nbformat": 4,
  "vscode": {
   "interpreter": {
    "hash": "aee8b7b246df8f9039afb4144a1f6fd8d2ca17a180786b69acc140d282b71a49"
   }
  }
 },
 "nbformat": 4,
 "nbformat_minor": 2
}
