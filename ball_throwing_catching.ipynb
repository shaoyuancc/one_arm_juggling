{
 "cells": [
  {
   "cell_type": "markdown",
   "metadata": {},
   "source": [
    "# Kinematic Trajectory Optimization\n",
    "## Ball throwing and catching"
   ]
  },
  {
   "cell_type": "code",
   "execution_count": 8,
   "metadata": {},
   "outputs": [],
   "source": [
    "import time\n",
    "\n",
    "import numpy as np\n",
    "from pydrake.all import (AddMultibodyPlantSceneGraph, BsplineTrajectory,\n",
    "                         DiagramBuilder, KinematicTrajectoryOptimization,\n",
    "                         MeshcatVisualizer, MeshcatVisualizerParams,\n",
    "                         MinimumDistanceConstraint, Parser, PositionConstraint,\n",
    "                         Rgba, RigidTransform, Role, Solve, Sphere,\n",
    "                         StartMeshcat, JacobianWrtVariable, RollPitchYaw)\n",
    "\n",
    "from manipulation import running_as_notebook\n",
    "from manipulation.meshcat_utils import (PublishPositionTrajectory,\n",
    "                                        model_inspector)\n",
    "from manipulation.scenarios import AddIiwa, AddPlanarIiwa, AddShape, AddWsg\n",
    "from manipulation.utils import AddPackagePaths, FindResource\n"
   ]
  },
  {
   "cell_type": "code",
   "execution_count": 9,
   "metadata": {},
   "outputs": [
    {
     "name": "stderr",
     "output_type": "stream",
     "text": [
      "INFO:drake:Meshcat listening for connections at http://localhost:7001\n"
     ]
    }
   ],
   "source": [
    "# Start the visualizer.\n",
    "meshcat = StartMeshcat()"
   ]
  },
  {
   "cell_type": "code",
   "execution_count": 17,
   "metadata": {},
   "outputs": [],
   "source": [
    "X_WStart = RigidTransform([0.5, 0, 0.15])\n",
    "X_WGoal = RigidTransform(RollPitchYaw([-0.16, 3.14, -1.92]),[0, -0.6, 0.15])\n",
    "q_start = np.array([-0.54617387, 1.13925077, 0.13639149, -1.50426796, 1.0835878, 1.701366, 0.50004928])\n",
    "q_goal = np.array([-2.00188489, 1.23067234, 0.03573024, -1.42203902, 1.57121904, 1.71564864, -2.64577454])\n",
    "V_Start_translational = np.array([-0.55339859, -0.66407831,  4.42718872])\n",
    "V_Goal_translational = V_Start_translational * [1,1,-1]\n",
    "t_duration = 0.9035079029052512"
   ]
  },
  {
   "cell_type": "code",
   "execution_count": 19,
   "metadata": {},
   "outputs": [],
   "source": [
    "import time\n",
    "\n",
    "import numpy as np\n",
    "from IPython.display import clear_output\n",
    "from pydrake.all import (AddMultibodyPlantSceneGraph, DiagramBuilder,\n",
    "                         JacobianWrtVariable, MathematicalProgram,\n",
    "                         MeshcatVisualizer, PiecewisePolynomial, Solve,\n",
    "                         StartMeshcat)\n",
    "\n",
    "from manipulation import running_as_notebook\n",
    "from manipulation.meshcat_utils import plot_mathematical_program\n",
    "\n",
    "\n",
    "def SpatialVelToJointVelConverter():\n",
    "    builder = DiagramBuilder()\n",
    "\n",
    "    plant, scene_graph = AddMultibodyPlantSceneGraph(builder, time_step=0.001)\n",
    "    iiwa = AddIiwa(plant)\n",
    "    wsg = AddWsg(plant, iiwa, welded=True, sphere=True)\n",
    "    gripper_frame = plant.GetFrameByName(\"body\", wsg)\n",
    "    plant.Finalize()\n",
    "\n",
    "    diagram = builder.Build()\n",
    "    context = diagram.CreateDefaultContext()\n",
    "    plant_context = plant.GetMyContextFromRoot(context)\n",
    "\n",
    "    def convert_spatial_vel_to_joint_vel(q, v_Gdesired):\n",
    "        plant.SetPositions(plant_context, q)\n",
    "        diagram.Publish(context)\n",
    "\n",
    "        clear_output(wait=True)\n",
    "        J_G = plant.CalcJacobianTranslationalVelocity(plant_context,\n",
    "                                                      JacobianWrtVariable.kQDot,\n",
    "                                                      gripper_frame, [0, 0, 0],\n",
    "                                                      plant.world_frame(),\n",
    "                                                      plant.world_frame())\n",
    "        print(\"J_G = \")\n",
    "        print(\n",
    "            np.array2string(J_G,\n",
    "                            formatter={'float': lambda x: \"{:5.2f}\".format(x)}))\n",
    "        print(np.shape(J_G))\n",
    "        print(np.shape(v_Gdesired))\n",
    "        # print(J_G @ v_Gdesired.T)\n",
    "\n",
    "    return convert_spatial_vel_to_joint_vel\n",
    "\n",
    "converter = SpatialVelToJointVelConverter()"
   ]
  },
  {
   "cell_type": "code",
   "execution_count": 20,
   "metadata": {},
   "outputs": [
    {
     "name": "stdout",
     "output_type": "stream",
     "text": [
      "J_G = \n",
      "[[ 0.07 -0.15  0.11  0.32  0.15 -0.08 -0.00]\n",
      " [ 0.50  0.09  0.35 -0.19  0.00  0.00  0.00]\n",
      " [ 0.00 -0.46  0.18  0.11  0.08  0.15  0.00]]\n"
     ]
    },
    {
     "ename": "ValueError",
     "evalue": "matmul: Input operand 1 has a mismatch in its core dimension 0, with gufunc signature (n?,k),(k,m?)->(n?,m?) (size 3 is different from 7)",
     "output_type": "error",
     "traceback": [
      "\u001b[0;31m---------------------------------------------------------------------------\u001b[0m",
      "\u001b[0;31mValueError\u001b[0m                                Traceback (most recent call last)",
      "\u001b[1;32m/Users/chewchiashaoyuan/Documents/Software/one_arm_juggling/ball_throwing_catching.ipynb Cell 6\u001b[0m in \u001b[0;36m<cell line: 1>\u001b[0;34m()\u001b[0m\n\u001b[0;32m----> <a href='vscode-notebook-cell:/Users/chewchiashaoyuan/Documents/Software/one_arm_juggling/ball_throwing_catching.ipynb#X11sZmlsZQ%3D%3D?line=0'>1</a>\u001b[0m converter(q_start, V_Start_translational)\n",
      "\u001b[1;32m/Users/chewchiashaoyuan/Documents/Software/one_arm_juggling/ball_throwing_catching.ipynb Cell 6\u001b[0m in \u001b[0;36mSpatialVelToJointVelConverter.<locals>.convert_spatial_vel_to_joint_vel\u001b[0;34m(q, v_Gdesired)\u001b[0m\n\u001b[1;32m     <a href='vscode-notebook-cell:/Users/chewchiashaoyuan/Documents/Software/one_arm_juggling/ball_throwing_catching.ipynb#X11sZmlsZQ%3D%3D?line=36'>37</a>\u001b[0m \u001b[39mprint\u001b[39m(\u001b[39m\"\u001b[39m\u001b[39mJ_G = \u001b[39m\u001b[39m\"\u001b[39m)\n\u001b[1;32m     <a href='vscode-notebook-cell:/Users/chewchiashaoyuan/Documents/Software/one_arm_juggling/ball_throwing_catching.ipynb#X11sZmlsZQ%3D%3D?line=37'>38</a>\u001b[0m \u001b[39mprint\u001b[39m(\n\u001b[1;32m     <a href='vscode-notebook-cell:/Users/chewchiashaoyuan/Documents/Software/one_arm_juggling/ball_throwing_catching.ipynb#X11sZmlsZQ%3D%3D?line=38'>39</a>\u001b[0m     np\u001b[39m.\u001b[39marray2string(J_G,\n\u001b[1;32m     <a href='vscode-notebook-cell:/Users/chewchiashaoyuan/Documents/Software/one_arm_juggling/ball_throwing_catching.ipynb#X11sZmlsZQ%3D%3D?line=39'>40</a>\u001b[0m                     formatter\u001b[39m=\u001b[39m{\u001b[39m'\u001b[39m\u001b[39mfloat\u001b[39m\u001b[39m'\u001b[39m: \u001b[39mlambda\u001b[39;00m x: \u001b[39m\"\u001b[39m\u001b[39m{:5.2f}\u001b[39;00m\u001b[39m\"\u001b[39m\u001b[39m.\u001b[39mformat(x)}))\n\u001b[0;32m---> <a href='vscode-notebook-cell:/Users/chewchiashaoyuan/Documents/Software/one_arm_juggling/ball_throwing_catching.ipynb#X11sZmlsZQ%3D%3D?line=40'>41</a>\u001b[0m \u001b[39mprint\u001b[39m(J_G \u001b[39m@\u001b[39;49m v_Gdesired\u001b[39m.\u001b[39;49mT)\n",
      "\u001b[0;31mValueError\u001b[0m: matmul: Input operand 1 has a mismatch in its core dimension 0, with gufunc signature (n?,k),(k,m?)->(n?,m?) (size 3 is different from 7)"
     ]
    }
   ],
   "source": [
    "converter(q_start, V_Start_translational)"
   ]
  },
  {
   "cell_type": "code",
   "execution_count": 14,
   "metadata": {},
   "outputs": [
    {
     "name": "stdout",
     "output_type": "stream",
     "text": [
      "J_G = \n",
      "[[ 0.58  0.08  0.36 -0.14 -0.06  0.01 -0.00]\n",
      " [-0.06  0.17 -0.10 -0.30 -0.13  0.08  0.00]\n",
      " [ 0.00 -0.55  0.17  0.18  0.08  0.15  0.00]]\n"
     ]
    }
   ],
   "source": [
    "converter(q_goal,X_WGoal)"
   ]
  },
  {
   "cell_type": "code",
   "execution_count": 5,
   "metadata": {},
   "outputs": [],
   "source": [
    "def trajopt_pv_pair_demo():\n",
    "    meshcat.Delete()\n",
    "    builder = DiagramBuilder()\n",
    "\n",
    "    plant, scene_graph = AddMultibodyPlantSceneGraph(builder, time_step=0.001)\n",
    "\n",
    "    parser = Parser(plant)\n",
    "    AddPackagePaths(parser)\n",
    "    iiwa = AddIiwa(plant)\n",
    "    wsg = AddWsg(plant, iiwa, welded=True, sphere=True)\n",
    "    X_WStart = RigidTransform([0.5, 0, 0.15])\n",
    "    meshcat.SetObject(\"start\", Sphere(0.02), rgba=Rgba(.9, .1, .1, 1))\n",
    "    meshcat.SetTransform(\"start\", X_WStart)\n",
    "    X_WGoal = RigidTransform([0, -0.6, 0.15])\n",
    "    meshcat.SetObject(\"goal\", Sphere(0.02), rgba=Rgba(.1, .9, .1, 1))\n",
    "    meshcat.SetTransform(\"goal\", X_WGoal)\n",
    "\n",
    "    t_start = 0.5\n",
    "    num_control_points = 11\n",
    "\n",
    "    plant.Finalize()\n",
    "\n",
    "    visualizer = MeshcatVisualizer.AddToBuilder(\n",
    "        builder, scene_graph, meshcat,\n",
    "        MeshcatVisualizerParams(role=Role.kIllustration))\n",
    "    collision_visualizer = MeshcatVisualizer.AddToBuilder(\n",
    "        builder, scene_graph, meshcat,\n",
    "        MeshcatVisualizerParams(prefix=\"collision\", role=Role.kProximity))\n",
    "    meshcat.SetProperty(\"collision\", \"visible\", False)\n",
    "\n",
    "    diagram = builder.Build()\n",
    "    context = diagram.CreateDefaultContext()\n",
    "    plant_context = plant.GetMyContextFromRoot(context)\n",
    "\n",
    "    q0 = plant.GetPositions(plant_context)\n",
    "    gripper_frame = plant.GetFrameByName(\"body\", wsg)\n",
    "    trajopt = KinematicTrajectoryOptimization(plant.num_positions(), num_control_points)\n",
    "    prog = trajopt.get_mutable_prog()\n",
    "    \n",
    "    trajopt.AddPathLengthCost(1.0)\n",
    "    # Add cost for acceleration?\n",
    "\n",
    "    trajopt.AddPositionBounds(plant.GetPositionLowerLimits(),\n",
    "                              plant.GetPositionUpperLimits())\n",
    "    trajopt.AddVelocityBounds(plant.GetVelocityLowerLimits(),\n",
    "                              plant.GetVelocityUpperLimits())\n",
    "\n",
    "    trajopt.AddDurationBounds(t_start, t_start + 2 * t_duration) # Assume t_duration each way\n",
    "    trajopt.AddEqualTimeIntervalConstraints()\n",
    "\n",
    "    # start constraint\n",
    "    start_constraint = PositionConstraint(plant, plant.world_frame(),\n",
    "                                          X_WStart.translation(),\n",
    "                                          X_WStart.translation(), gripper_frame,\n",
    "                                          [0, 0.1, 0], plant_context)\n",
    "    trajopt.AddPathConstraint(start_constraint, 0)\n",
    "    prog.AddQuadraticErrorCost(np.eye(7), q0,\n",
    "                               trajopt.path_control_points()[:, 0])\n",
    "\n",
    "    # goal constraint\n",
    "    goal_constraint = PositionConstraint(plant, plant.world_frame(),\n",
    "                                         X_WGoal.translation(),\n",
    "                                         X_WGoal.translation(), gripper_frame,\n",
    "                                         [0, 0.1, 0], plant_context)\n",
    "    \n",
    "    trajopt.AddPathConstraint(goal_constraint, 0.5)\n",
    "    prog.AddQuadraticErrorCost(np.eye(7), q0,\n",
    "                               trajopt.path_control_points()[:, np.round(num_control_points/2).astype(int)])\n",
    "\n",
    "    # return to start\n",
    "    trajopt.AddPathConstraint(start_constraint, 1)\n",
    "    prog.AddQuadraticErrorCost(np.eye(7), q0,\n",
    "                               trajopt.path_control_points()[:, -1])\n",
    "\n",
    "    \n",
    "    # start and end with zero velocity\n",
    "    start_V = np.zeros((7,1))\n",
    "    end_V = np.zeros((7,1))\n",
    "    \n",
    "    # end_V[6]=-0.3\n",
    "    trajopt.AddFixedPathVelocityConstraint(start_V, 0)\n",
    "    trajopt.AddFixedPathVelocityConstraint(end_V, 0.5)\n",
    "    trajopt.AddFixedPathVelocityConstraint(start_V, 1)\n",
    "\n",
    "    # Solve once without the collisions and set that as the initial guess for\n",
    "    # the version with collisions.\n",
    "    result = Solve(prog)\n",
    "    if not result.is_success():\n",
    "        print(\"Trajectory optimization failed, even without collisions!\")\n",
    "        print(result.get_solver_id().name())\n",
    "    trajopt.SetPathInitialGuess(trajopt.ReconstructPath(result))\n",
    "\n",
    "    PublishPositionTrajectory(trajopt.ReconstructPath(result), context, plant,\n",
    "                              visualizer)\n",
    "    collision_visualizer.Publish(\n",
    "        collision_visualizer.GetMyContextFromRoot(context))\n",
    "\n",
    "    return\n",
    "    # collision constraints\n",
    "    collision_constraint = MinimumDistanceConstraint(plant, 0.001,\n",
    "                                                     plant_context, None, 0.01)\n",
    "    evaluate_at_s = np.linspace(0, 1, 25)\n",
    "    for s in evaluate_at_s:\n",
    "        trajopt.AddPathConstraint(collision_constraint, s)\n",
    "\n",
    "    result = Solve(prog)\n",
    "    if not result.is_success():\n",
    "        print(\"Trajectory optimization failed\")\n",
    "        print(result.get_solver_id().name())\n",
    "\n",
    "    PublishPositionTrajectory(trajopt.ReconstructPath(result), context, plant,\n",
    "                              visualizer)\n",
    "    collision_visualizer.Publish(\n",
    "        collision_visualizer.GetMyContextFromRoot(context))\n",
    "    \n",
    "    \n",
    "\n",
    "trajopt_pv_pair_demo()\n"
   ]
  },
  {
   "cell_type": "code",
   "execution_count": null,
   "metadata": {},
   "outputs": [],
   "source": []
  }
 ],
 "metadata": {
  "kernelspec": {
   "display_name": "Python 3.10.8 64-bit",
   "language": "python",
   "name": "python3"
  },
  "language_info": {
   "codemirror_mode": {
    "name": "ipython",
    "version": 3
   },
   "file_extension": ".py",
   "mimetype": "text/x-python",
   "name": "python",
   "nbconvert_exporter": "python",
   "pygments_lexer": "ipython3",
   "version": "3.10.8"
  },
  "orig_nbformat": 4,
  "vscode": {
   "interpreter": {
    "hash": "aee8b7b246df8f9039afb4144a1f6fd8d2ca17a180786b69acc140d282b71a49"
   }
  }
 },
 "nbformat": 4,
 "nbformat_minor": 2
}
