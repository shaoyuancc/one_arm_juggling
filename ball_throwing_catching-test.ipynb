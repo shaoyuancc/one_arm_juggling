{
 "cells": [
  {
   "cell_type": "markdown",
   "source": "# Kinematic Trajectory Optimization\n## Evaluating throw and catch points",
   "metadata": {
    "cell_id": "a1f0d0fd-fd4f-446a-8f27-4abfabc5225f",
    "deepnote_cell_type": "markdown",
    "deepnote_cell_height": 137.953125
   }
  },
  {
   "cell_type": "markdown",
   "source": "",
   "metadata": {
    "cell_id": "00001-65222f03-2e64-4ac3-8112-541199647a58",
    "deepnote_cell_type": "markdown",
    "deepnote_cell_height": 45.96875
   }
  },
  {
   "cell_type": "code",
   "metadata": {
    "deepnote_to_be_reexecuted": false,
    "source_hash": "d8bfe82a",
    "execution_start": 1668206915091,
    "execution_millis": 457,
    "cell_id": "00002-3e8bfb51-a38d-4c7e-9e16-70899d551779",
    "deepnote_cell_type": "code",
    "deepnote_cell_height": 471.953125
   },
   "source": "import time\n\nimport numpy as np\nfrom pydrake.all import (AddMultibodyPlantSceneGraph, BsplineTrajectory,\n                         DiagramBuilder, KinematicTrajectoryOptimization,\n                         MeshcatVisualizer, MeshcatVisualizerParams,\n                         MinimumDistanceConstraint, Parser, PositionConstraint,\n                         Rgba, RigidTransform, Role, Solve, Sphere,\n                         StartMeshcat, JacobianWrtVariable, RollPitchYaw,\n                         JointSliders, RotationMatrix,\n                         InverseKinematics,\n                         LeafSystem, AbstractValue\n                        )\n\nfrom manipulation import running_as_notebook\nfrom manipulation.meshcat_utils import (PublishPositionTrajectory,\n                                        model_inspector,\n                                        MeshcatPoseSliders)\nfrom manipulation.scenarios import AddIiwa, AddPlanarIiwa, AddShape, AddWsg, AddMultibodyTriad \nfrom manipulation.utils import AddPackagePaths, FindResource\n\nfrom IPython.display import clear_output\n",
   "execution_count": null,
   "outputs": []
  },
  {
   "cell_type": "code",
   "metadata": {
    "cell_id": "00003-3da32f7b-cbaa-4938-8ca4-c4f73931b053",
    "deepnote_to_be_reexecuted": false,
    "source_hash": "6d42057f",
    "execution_start": 1668206915574,
    "execution_millis": 45,
    "deepnote_cell_type": "code"
   },
   "source": "# Start the visualizer.\nmeshcat = StartMeshcat()",
   "execution_count": null,
   "outputs": [
    {
     "name": "stderr",
     "text": "INFO:drake:Meshcat listening for connections at https://68a898be-bd4e-4046-916a-6293aadf6c5d.deepnoteproject.com/7004/\n",
     "output_type": "stream"
    },
    {
     "data": {
      "text/plain": "<IPython.core.display.HTML object>",
      "text/html": "Meshcat URL: <a href='https://68a898be-bd4e-4046-916a-6293aadf6c5d.deepnoteproject.com/7004/' target='_blank'>https://68a898be-bd4e-4046-916a-6293aadf6c5d.deepnoteproject.com/7004/</a>"
     },
     "metadata": {},
     "output_type": "display_data"
    }
   ]
  },
  {
   "cell_type": "markdown",
   "source": "To visualize throw and catch points",
   "metadata": {
    "cell_id": "00004-288c33b1-5a5f-4651-b5c8-f2da2aa03cff",
    "deepnote_cell_type": "markdown"
   }
  },
  {
   "cell_type": "code",
   "metadata": {
    "cell_id": "00005-397a1035-16d7-4bae-8500-6bb3cfcaa73b",
    "deepnote_to_be_reexecuted": false,
    "source_hash": "9a37980f",
    "execution_start": 1668206915665,
    "execution_millis": 1,
    "deepnote_cell_type": "code"
   },
   "source": "squash_ball_radius = 0.02\np_GB_G = [0, 0.07, 0]\ndef add_target_objects(X_WThrow, X_WCatch):\n    p_ThrowB_W = X_WThrow.rotation() @ p_GB_G\n    X_WThrowB_W = RigidTransform(X_WThrow.rotation(), X_WThrow.translation() +  p_ThrowB_W)\n    p_CatchB_W = X_WCatch.rotation() @ p_GB_G\n    X_WCatchB_W = RigidTransform(X_WCatch.rotation(), X_WCatch.translation() +  p_CatchB_W)\n    meshcat.SetObject(\"throw\", Sphere(squash_ball_radius), rgba=Rgba(.9, .1, .1, 1))\n    meshcat.SetTransform(\"throw\", X_WThrowB_W)\n    meshcat.SetObject(\"catch\", Sphere(squash_ball_radius), rgba=Rgba(.1, .9, .1, 1))\n    meshcat.SetTransform(\"catch\", X_WCatchB_W)",
   "execution_count": null,
   "outputs": []
  },
  {
   "cell_type": "markdown",
   "source": "## Forward Kinematics approach\nTo finding comfortable throw and catch positions",
   "metadata": {
    "cell_id": "00006-29ec04a2-d149-4ea9-94ee-2c80fb3c8826",
    "deepnote_cell_type": "markdown"
   }
  },
  {
   "cell_type": "code",
   "metadata": {
    "cell_id": "00007-a5aaab03-fcd1-4426-a03d-8a5c5a132867",
    "deepnote_to_be_reexecuted": false,
    "source_hash": "b2cff403",
    "execution_start": 1668206915666,
    "execution_millis": 24,
    "deepnote_cell_type": "code"
   },
   "source": "import numpy as np\nfrom IPython.display import clear_output, display\nfrom pydrake.all import (AbstractValue, AddMultibodyPlantSceneGraph,\n                         DiagramBuilder, JointSliders, LeafSystem,\n                         MeshcatVisualizer, Parser, RigidTransform,\n                         RollPitchYaw, StartMeshcat)\n\nfrom manipulation import FindResource, running_as_notebook\nfrom manipulation.scenarios import AddMultibodyTriad, AddPackagePaths\n\nmeshcat = StartMeshcat()",
   "execution_count": null,
   "outputs": [
    {
     "name": "stderr",
     "text": "INFO:drake:Meshcat listening for connections at https://68a898be-bd4e-4046-916a-6293aadf6c5d.deepnoteproject.com/7005/\n",
     "output_type": "stream"
    },
    {
     "data": {
      "text/plain": "<IPython.core.display.HTML object>",
      "text/html": "Meshcat URL: <a href='https://68a898be-bd4e-4046-916a-6293aadf6c5d.deepnoteproject.com/7005/' target='_blank'>https://68a898be-bd4e-4046-916a-6293aadf6c5d.deepnoteproject.com/7005/</a>"
     },
     "metadata": {},
     "output_type": "display_data"
    }
   ]
  },
  {
   "cell_type": "code",
   "metadata": {
    "cell_id": "00008-94258a82-6655-4efe-b740-61ff080b3280",
    "deepnote_to_be_reexecuted": false,
    "source_hash": "ea2b50f4",
    "execution_start": 1668206915688,
    "execution_millis": 1,
    "deepnote_cell_type": "code"
   },
   "source": "def gripper_forward_kinematics_example():\n    builder = DiagramBuilder()\n\n    plant, scene_graph = AddMultibodyPlantSceneGraph(builder, time_step=0)\n    parser = Parser(plant)\n    AddPackagePaths(parser)\n    parser.AddAllModelsFromFile(FindResource(\"models/iiwa_and_wsg.dmd.yaml\"))\n    plant.Finalize()\n\n    # Draw the frames\n    for body_name in [\"iiwa_link_1\", \"iiwa_link_2\", \"iiwa_link_3\", \"iiwa_link_4\", \"iiwa_link_5\", \"iiwa_link_6\", \"iiwa_link_7\", \"body\"]:\n        AddMultibodyTriad(plant.GetFrameByName(body_name), scene_graph)\n\n    meshcat.Delete()\n    meshcat.DeleteAddedControls()\n    visualizer = MeshcatVisualizer.AddToBuilder(\n        builder, scene_graph.get_query_output_port(), meshcat)\n\n    wsg = plant.GetModelInstanceByName(\"wsg\")\n    gripper = plant.GetBodyByName(\"body\", wsg)\n\n    X_WResult = None\n    my_context = None\n    class PrintPose(LeafSystem):\n        def __init__(self, body_index):\n            LeafSystem.__init__(self)\n            self._body_index = body_index\n            self.DeclareAbstractInputPort(\"body_poses\",\n                                        AbstractValue.Make([RigidTransform()]))\n            self.DeclareForcedPublishEvent(self.Publish)\n\n        def Publish(self, context):\n            pose = self.get_input_port().Eval(context)[self._body_index]\n            clear_output(wait=True)\n            print(\"gripper position (m): \" + np.array2string(\n                pose.translation(), formatter={\n                    'float': lambda x: \"{:3.2f}\".format(x)}))\n            print(\"gripper roll-pitch-yaw (rad):\" + np.array2string(\n                RollPitchYaw(pose.rotation()).vector(),\n                            formatter={'float': lambda x: \"{:3.2f}\".format(x)}))\n            nonlocal X_WResult\n            X_WResult = pose\n\n    print_pose = builder.AddSystem(PrintPose(gripper.index()))\n    builder.Connect(plant.get_body_poses_output_port(),\n                    print_pose.get_input_port())\n\n    default_interactive_timeout = None if running_as_notebook else 1.0\n    sliders = builder.AddSystem(JointSliders(meshcat, plant))\n    diagram = builder.Build()\n    \n\n    sliders.Run(diagram, default_interactive_timeout)\n    context = diagram.CreateDefaultContext()\n    plant_context = plant.GetMyContextFromRoot(context)\n    meshcat.DeleteAddedControls()\n    return plant.GetPositions(plant_context), X_WResult",
   "execution_count": null,
   "outputs": []
  },
  {
   "cell_type": "markdown",
   "source": "Set throw point via forward kinematics teleop",
   "metadata": {
    "cell_id": "00009-bc2608e1-929b-4111-b2ff-37694dbbf7e5",
    "deepnote_cell_type": "markdown"
   }
  },
  {
   "cell_type": "code",
   "metadata": {
    "cell_id": "00010-f94a1001-3d60-4a8b-a38d-004c88c111b5",
    "deepnote_to_be_reexecuted": false,
    "source_hash": "4f6c8747",
    "execution_start": 1668206915892,
    "deepnote_cell_type": "code"
   },
   "source": "q_Throw, X_WThrow = gripper_forward_kinematics_example()\nprint(f\"q_Throw: {q_Throw}\")\nprint(f\"X_WThrow: {X_WThrow}\")",
   "execution_count": null,
   "outputs": [
    {
     "name": "stderr",
     "text": "INFO:drake:Press the 'Stop JointSliders' button in Meshcat or press 'Escape' to continue.\n",
     "output_type": "stream"
    },
    {
     "output_type": "error",
     "ename": "KernelInterrupted",
     "evalue": "Execution interrupted by the Jupyter kernel.",
     "traceback": [
      "\u001b[0;31m---------------------------------------------------------------------------\u001b[0m",
      "\u001b[0;31mKernelInterrupted\u001b[0m: Execution interrupted by the Jupyter kernel."
     ]
    }
   ]
  },
  {
   "cell_type": "markdown",
   "source": "Manually set the throw and catch points\n\ngripper position (m): [-0.08 -0.66 0.39]\ngripper roll-pitch-yaw (rad):[-3.13 0.00 -0.12]\n---\ngripper position (m): [0.00 -0.47 0.68]\ngripper roll-pitch-yaw (rad):[-1.81 0.00 0.00]",
   "metadata": {
    "cell_id": "00011-d324029a-675c-4ead-92ef-ee9b210ff95a",
    "deepnote_cell_type": "markdown"
   }
  },
  {
   "cell_type": "code",
   "metadata": {
    "cell_id": "00012-c6129fd4-bddb-4230-8d52-e3e6ef2f88cb",
    "deepnote_to_be_reexecuted": true,
    "source_hash": "ddb24ee4",
    "deepnote_cell_type": "code",
    "deepnote_cell_height": 255.953125
   },
   "source": "\nq_Throw = np.array([-0.54, 0.58, 0, -1.79, 0, -0.79, 0])\np_WThrow = [0.6, -0.3, 0.39] # [0.55 -0.38 0.39]\nR_WThrow = RollPitchYaw([-np.pi, 0.00, 1.10]) #[-3.13 0.00 0.97]\n\nq_Catch = np.array([-0.74, 0.58, 0, -1.79, 0, -0.79, 0])\np_WCatch = [0.50, -0.45, 0.39]\nR_WCatch = RollPitchYaw([-np.pi, 0.00, 0.84])\n\nX_WThrow = RigidTransform(R_WThrow, p_WThrow)\nX_WCatch = RigidTransform(R_WCatch, p_WCatch)",
   "execution_count": null,
   "outputs": []
  },
  {
   "cell_type": "markdown",
   "source": "## Inverse Kinematics Approach",
   "metadata": {
    "cell_id": "00013-390fdc14-f961-4e8b-9804-04deaf57b710",
    "deepnote_cell_type": "markdown",
    "deepnote_cell_height": 69.953125
   }
  },
  {
   "cell_type": "markdown",
   "source": "#### Start with the throw and catch spatial positions in XYZ",
   "metadata": {
    "cell_id": "00014-90d6c3af-e0a9-44b5-8298-12f8fc4070b4",
    "deepnote_cell_type": "markdown",
    "deepnote_cell_height": 53.953125
   }
  },
  {
   "cell_type": "code",
   "metadata": {
    "cell_id": "00015-2e135920-4e29-49ad-9053-6f131d845932",
    "deepnote_to_be_reexecuted": true,
    "source_hash": "b6dd0c27",
    "deepnote_cell_type": "code",
    "deepnote_cell_height": 255.953125
   },
   "source": "a = 0.4\nb = 0.6\nz = 0.2\np_WThrow = [b,-a,z]\nR_WThrow = RollPitchYaw([-np.pi, 0, np.arctan(a/b)])\nprint(R_WThrow)\np_WCatch = [a,-b,z]\nR_WCatch = RollPitchYaw([-np.pi, 0, np.arctan(b/a)])\nprint(R_WCatch)\nX_WThrow = RigidTransform(R_WThrow, p_WThrow)\nX_WCatch = RigidTransform(R_WCatch, p_WCatch)",
   "execution_count": null,
   "outputs": []
  },
  {
   "cell_type": "code",
   "metadata": {
    "cell_id": "00016-3f41d696-3c97-488e-b09d-a9afdc5998b8",
    "deepnote_to_be_reexecuted": true,
    "source_hash": "ca0aa7d2",
    "deepnote_cell_type": "code",
    "deepnote_cell_height": 75.953125
   },
   "source": "add_target_objects(X_WThrow, X_WCatch)",
   "execution_count": null,
   "outputs": []
  },
  {
   "cell_type": "markdown",
   "source": "### Use interactive inverse kinematics to get joint angles for throw and catch points",
   "metadata": {
    "cell_id": "00017-bcb0e849-1710-496a-8f65-2b43ee6cc6d3",
    "deepnote_cell_type": "markdown",
    "deepnote_cell_height": 93.953125
   }
  },
  {
   "cell_type": "code",
   "metadata": {
    "cell_id": "00018-0ee6af60-8d1e-4fd9-be93-d47196f95fc2",
    "deepnote_to_be_reexecuted": true,
    "source_hash": "9d9f518c",
    "deepnote_cell_type": "code",
    "deepnote_cell_height": 1101.953125
   },
   "source": "\ndef get_joints_inverse_kinematics(X_WTarget, use_full_pose = True):\n    builder = DiagramBuilder()\n\n    plant, scene_graph = AddMultibodyPlantSceneGraph(builder, time_step=0.001)\n    iiwa = AddIiwa(plant, \"with_box_collision\")\n    wsg = AddWsg(plant, iiwa, welded=True)\n    plant.Finalize()\n\n    meshcat.DeleteAddedControls()\n    visualizer = MeshcatVisualizer.AddToBuilder(\n        builder, \n        scene_graph, \n        meshcat,\n        MeshcatVisualizerParams(prefix=\"Spatial\"))\n    joint_sliders = builder.AddSystem(JointSliders(meshcat, plant))\n\n    diagram = builder.Build()\n    context = diagram.CreateDefaultContext()\n    plant_context = plant.GetMyContextFromRoot(context)\n\n    q0 = plant.GetPositions(plant_context)\n    gripper_frame = plant.GetFrameByName(\"body\", wsg)\n    q_result = None\n    def my_callback(context, pose):\n        nonlocal q_result\n        ik = InverseKinematics(plant, plant_context)\n        ik.AddPositionConstraint(\n            gripper_frame, p_GO, plant.world_frame(),\n            pose.translation(), pose.translation())\n        ik.AddOrientationConstraint(\n            gripper_frame, RotationMatrix(), plant.world_frame(),\n            pose.rotation(), 0.0)\n        ik.AddMinimumDistanceConstraint(0.001, 0.1)\n        prog = ik.get_mutable_prog()\n        q = ik.q()\n        prog.AddQuadraticErrorCost(np.identity(len(q)), q0, q)\n        prog.SetInitialGuess(q, q0)\n        result = Solve(ik.prog())\n        # clear_output(wait=True)\n        if result.is_success():\n            print(\"IK success\")\n            joint_sliders.SetPositions(result.GetSolution())\n            print(f\"Joint positions: {result.GetSolution()}\")\n            q_result = result.GetSolution()\n        else:\n            print(\"IK failure\")\n\n    sliders = MeshcatPoseSliders(meshcat)\n    sliders.SetPose(plant.EvalBodyPoseInWorld(\n        plant_context, plant.GetBodyByName(\"body\", wsg)))\n    if use_full_pose:\n        sliders.SetPose(X_WTarget)\n    else:\n        sliders.SetXyz(X_WTarget.translation())\n    sliders.Run(visualizer, context, my_callback)\n    return q_result\n",
   "execution_count": null,
   "outputs": []
  },
  {
   "cell_type": "code",
   "metadata": {
    "cell_id": "00019-df7ec1cc-9210-459d-9df1-d2758155a66d",
    "deepnote_to_be_reexecuted": true,
    "source_hash": "a7358aa3",
    "deepnote_cell_type": "code"
   },
   "source": "q_Throw = get_joints_inverse_kinematics(X_WThrow, use_full_pose=True)\nprint(q_Throw)",
   "execution_count": null,
   "outputs": []
  },
  {
   "cell_type": "code",
   "metadata": {
    "cell_id": "00020-10637179-bf65-4281-871c-deb1bfc46f7c",
    "deepnote_to_be_reexecuted": true,
    "source_hash": "a06b0f29",
    "deepnote_cell_type": "code"
   },
   "source": "q_Catch = get_joints_inverse_kinematics(X_WCatch, use_full_pose=False)\nprint(q_Catch)",
   "execution_count": null,
   "outputs": []
  },
  {
   "cell_type": "markdown",
   "source": "## Calculate spatial velocities at throw and catch points",
   "metadata": {
    "cell_id": "00021-5f0f8653-2ff8-4bb9-9ac9-8b472cea7297",
    "deepnote_cell_type": "markdown"
   }
  },
  {
   "cell_type": "code",
   "metadata": {
    "cell_id": "00022-931ef345-7ed0-4871-b836-c15676417e9f",
    "deepnote_to_be_reexecuted": true,
    "source_hash": "656fb688",
    "deepnote_cell_type": "code"
   },
   "source": "def calculate_ball_vels(p1, p2, height):\n    # p1: (x, y, z), ndarray\n    # p2: (x, y, z), ndarray\n    # height, pos real number\n\n    g = 9.8\n\n    t = np.sqrt(2 * height / g)\n\n    vx = (p2[0] - p1[0]) / (2 * t)\n    vy = (p2[1] - p1[1]) / (2 * t)\n    vz = t * g\n\n    throw_vel = np.array([vx, vy, vz])\n    catch_vel = np.array([vx, vy, -vz])\n    total_duration =  2 * t\n    return (throw_vel, catch_vel, total_duration)",
   "execution_count": null,
   "outputs": []
  },
  {
   "cell_type": "code",
   "metadata": {
    "cell_id": "00023-ebbf8c12-7f36-4054-8311-c48f84bb9a58",
    "deepnote_to_be_reexecuted": true,
    "source_hash": "bcccb93",
    "deepnote_cell_type": "code"
   },
   "source": "\nmax_height = 0.5 # Max height ball will reach in meters\nV_Throw, V_Catch, t_duration = calculate_ball_vels(X_WThrow.translation(), X_WCatch.translation(), max_height)\nprint(f\"V_Throw {V_Throw}\")\nprint(f\"V_Catch {V_Catch}\")\nprint(f\"t_duration {t_duration}\")",
   "execution_count": null,
   "outputs": [
    {
     "name": "stdout",
     "output_type": "stream",
     "text": "V_Throw [-0.15652476 -0.23478714  3.13049517]\nV_Catch [-0.15652476 -0.23478714 -3.13049517]\nt_duration 0.6388765649999398\n"
    }
   ]
  },
  {
   "cell_type": "code",
   "metadata": {
    "cell_id": "00024-87cd5e14-d591-43b5-b452-577920a41e48",
    "deepnote_to_be_reexecuted": true,
    "source_hash": "165bcad4",
    "deepnote_cell_type": "code"
   },
   "source": "# Override to reduce velocities\n# not necessary\n# V_Throw[2] = 1\n# V_Catch[2] = -1",
   "execution_count": null,
   "outputs": []
  },
  {
   "cell_type": "code",
   "metadata": {
    "cell_id": "00025-35afc9ff-c00d-4e0b-8f74-43951da0ae94",
    "deepnote_to_be_reexecuted": true,
    "source_hash": "978e318c",
    "deepnote_cell_type": "code"
   },
   "source": "def SpatialVelToJointVelConverter():\n    builder = DiagramBuilder()\n\n    plant, scene_graph = AddMultibodyPlantSceneGraph(builder, time_step=0.001)\n    iiwa = AddIiwa(plant)\n    wsg = AddWsg(plant, iiwa, welded=True, sphere=True)\n    gripper_frame = plant.GetFrameByName(\"body\", wsg)\n    plant.Finalize()\n\n    diagram = builder.Build()\n    context = diagram.CreateDefaultContext()\n    plant_context = plant.GetMyContextFromRoot(context)\n\n    def convert_spatial_vel_to_joint_vel(q, V_Gdesired):\n        plant.SetPositions(plant_context, q)\n        diagram.Publish(context)\n\n        clear_output(wait=True)\n        J_G = plant.CalcJacobianTranslationalVelocity(plant_context,\n                                                      JacobianWrtVariable.kQDot,\n                                                      gripper_frame, [0, 0, 0],\n                                                      plant.world_frame(),\n                                                      plant.world_frame())\n        # print(\"J_G = \")\n        # print(\n        #     np.array2string(J_G,\n                            # formatter={'float': lambda x: \"{:5.2f}\".format(x)}))\n        # print(np.shape(J_G))\n        # print(np.shape())\n        V_Gdesired = V_Gdesired.reshape(3,1)\n        v = np.linalg.pinv(J_G).dot(V_Gdesired)\n        # print(\"Joint velocities\")\n        # print(np.array2string(v,\n        #                     formatter={'float': lambda x: \"{:5.3f}\".format(x)}))\n        return v\n\n    return convert_spatial_vel_to_joint_vel\n\nconverter = SpatialVelToJointVelConverter()",
   "execution_count": null,
   "outputs": []
  },
  {
   "cell_type": "code",
   "metadata": {
    "cell_id": "00026-fecaa61e-f78a-499a-8717-63de67b9e8f2",
    "deepnote_to_be_reexecuted": true,
    "source_hash": "d7b629b6",
    "deepnote_cell_type": "code"
   },
   "source": "v_Throw = converter(q_Throw, V_Throw)\nprint(np.shape(v_Throw))\nprint(np.array2string(v_Throw, formatter={'float': lambda x: \"{:5.3f}\".format(x)}))\n# v_Throw = np.array([[-0.253],[-4.044],[-0.202],[0.597],[0.046],[-0.943],[-0.000]])",
   "execution_count": null,
   "outputs": [
    {
     "name": "stdout",
     "output_type": "stream",
     "text": "(7, 1)\n[[-0.253]\n [-4.044]\n [-0.202]\n [0.597]\n [0.046]\n [-0.943]\n [-0.000]]\n"
    }
   ]
  },
  {
   "cell_type": "code",
   "metadata": {
    "cell_id": "00027-52a275c0-0b9b-4e7c-b3bb-547baaf68cda",
    "deepnote_to_be_reexecuted": true,
    "source_hash": "f012ee27",
    "deepnote_cell_type": "code"
   },
   "source": "v_Catch = converter(q_Catch,V_Catch)\nprint(np.array2string(v_Catch, formatter={'float': lambda x: \"{:5.3f}\".format(x)}))\n# v_Catch = np.array([[-0.250],[4.103],[-0.200],[-0.505],[0.045],[0.953],[0.000]])",
   "execution_count": null,
   "outputs": [
    {
     "name": "stdout",
     "output_type": "stream",
     "text": "[[-0.250]\n [4.103]\n [-0.200]\n [-0.505]\n [0.045]\n [0.953]\n [0.000]]\n"
    }
   ]
  },
  {
   "cell_type": "markdown",
   "source": "",
   "metadata": {
    "cell_id": "00028-f068b5f6-7ab5-4df4-be01-548af103db0a",
    "deepnote_cell_type": "markdown"
   }
  },
  {
   "cell_type": "code",
   "metadata": {
    "cell_id": "00029-bc1dbc58-4a9d-448b-b88f-319f55ced4ab",
    "deepnote_to_be_reexecuted": true,
    "source_hash": "245bbe9f",
    "deepnote_cell_type": "code"
   },
   "source": "def trajopt_pv_pair_demo():\n    meshcat.Delete()\n    builder = DiagramBuilder()\n\n    plant, scene_graph = AddMultibodyPlantSceneGraph(builder, time_step=0.001)\n\n    parser = Parser(plant)\n    AddPackagePaths(parser)\n    iiwa = AddIiwa(plant)\n    wsg = AddWsg(plant, iiwa, welded=True, sphere=True)\n    \n    add_target_objects(X_WThrow, X_WCatch)\n\n    t_start = 0.0 # 0.5\n    num_control_points = 11\n\n    plant.Finalize()\n\n    visualizer = MeshcatVisualizer.AddToBuilder(\n        builder, scene_graph, meshcat,\n        MeshcatVisualizerParams(role=Role.kIllustration))\n    collision_visualizer = MeshcatVisualizer.AddToBuilder(\n        builder, scene_graph, meshcat,\n        MeshcatVisualizerParams(prefix=\"collision\", role=Role.kProximity))\n    meshcat.SetProperty(\"collision\", \"visible\", False)\n\n    diagram = builder.Build()\n    context = diagram.CreateDefaultContext()\n    plant_context = plant.GetMyContextFromRoot(context)\n    # print(q_Throw)\n    plant.SetPositions(plant_context, q_Throw)\n    q0 = plant.GetPositions(plant_context)\n    # print(q0)\n    \n    gripper_frame = plant.GetFrameByName(\"body\", wsg)\n    trajopt = KinematicTrajectoryOptimization(plant.num_positions(), num_control_points)\n    prog = trajopt.get_mutable_prog()\n    \n    trajopt.AddPathLengthCost(2)\n    # Add cost for acceleration?\n\n    trajopt.AddPositionBounds(plant.GetPositionLowerLimits(),\n                              plant.GetPositionUpperLimits())\n    trajopt.AddVelocityBounds(plant.GetVelocityLowerLimits(),\n                              plant.GetVelocityUpperLimits())\n\n    # trajopt.AddDurationBounds(t_start, t_start + 2 * t_duration) # Assume t_duration each way\n    trajopt.AddDurationConstraint(t_start + 2 * t_duration, t_start + 2 * t_duration)\n    # trajopt.AddEqualTimeIntervalConstraints()\n\n    # Constrain positions in spatial positions\n    # start constraint\n    # start_constraint = PositionConstraint(plant, plant.world_frame(),\n    #                                       X_WThrow.translation(),\n    #                                       X_WThrow.translation(), gripper_frame,\n    #                                       [0, 0.1, 0], plant_context)\n    # trajopt.AddPathConstraint(start_constraint, 0)\n    prog.AddQuadraticErrorCost(np.eye(7), q0,\n                               trajopt.path_control_points()[:, 0])\n    \n    # goal constraint\n    # goal_constraint = PositionConstraint(plant, plant.world_frame(),\n    #                                      X_WCatch.translation(),\n    #                                      X_WCatch.translation(), gripper_frame,\n    #                                      [0, 0.1, 0], plant_context)\n    \n    # trajopt.AddPathConstraint(goal_constraint, 0.5)\n    prog.AddQuadraticErrorCost(np.eye(7), q_Catch,\n                               trajopt.path_control_points()[:, np.round(num_control_points/2).astype(int)])\n\n    # return to start\n    # trajopt.AddPathConstraint(start_constraint, 1)\n    prog.AddQuadraticErrorCost(np.eye(7), q0,\n                               trajopt.path_control_points()[:, -1])\n    \n    # constrain positions in joint angles\n    trajopt.AddFixedPathPositionConstraint(q_Throw, 0)\n    trajopt.AddFixedPathPositionConstraint(q_Catch, 0.5)\n    trajopt.AddFixedPathPositionConstraint(q_Throw, 1)\n\n    # print(v_Throw)\n    trajopt.AddFixedPathVelocityConstraint(v_Throw, 0)\n    trajopt.AddFixedPathVelocityConstraint(v_Catch, 0.5)\n    trajopt.AddFixedPathVelocityConstraint(v_Throw, 1)\n\n    # Solve once without the collisions and set that as the initial guess for\n    # the version with collisions.\n    result = Solve(prog)\n    if not result.is_success():\n        print(\"Trajectory optimization failed, even without collisions!\")\n        print(result.get_solver_id().name())\n    \n    # BsplineTrajectory()\n    # trajopt.SetPathInitialGuess()\n    traj = trajopt.ReconstructPath(result)\n    print(f\"kin traj opt initial t:{traj.start_time()} q: {traj.InitialValue()}\")\n    print(f\"kin traj opt final t:{traj.end_time()} q: {traj.FinalValue()}\")\n\n    trajopt.SetPathInitialGuess(trajopt.ReconstructPath(result))\n\n    PublishPositionTrajectory(trajopt.ReconstructPath(result), context, plant,\n                              visualizer)\n    collision_visualizer.Publish(\n        collision_visualizer.GetMyContextFromRoot(context))\n\n    return\n    # collision constraints\n    collision_constraint = MinimumDistanceConstraint(plant, 0.001,\n                                                     plant_context, None, 0.01)\n    evaluate_at_s = np.linspace(0, 1, 25)\n    for s in evaluate_at_s:\n        trajopt.AddPathConstraint(collision_constraint, s)\n\n    result = Solve(prog)\n    if not result.is_success():\n        print(\"Trajectory optimization failed\")\n        print(result.get_solver_id().name())\n\n    PublishPositionTrajectory(trajopt.ReconstructPath(result), context, plant,\n                              visualizer)\n    collision_visualizer.Publish(\n        collision_visualizer.GetMyContextFromRoot(context))\n    \n    \n\ntrajopt_pv_pair_demo()\n",
   "execution_count": null,
   "outputs": [
    {
     "ename": "AttributeError",
     "evalue": "'pydrake.systems.trajectory_optimization.KinematicT' object has no attribute 'AddDurationConstraint'",
     "output_type": "error",
     "traceback": [
      "\u001b[0;31m---------------------------------------------------------------------------\u001b[0m",
      "\u001b[0;31mAttributeError\u001b[0m                            Traceback (most recent call last)",
      "\u001b[1;32m/Users/chewchiashaoyuan/Documents/Software/one_arm_juggling/ball_throwing_catching.ipynb Cell 30\u001b[0m in \u001b[0;36m<cell line: 126>\u001b[0;34m()\u001b[0m\n\u001b[1;32m    <a href='vscode-notebook-cell:/Users/chewchiashaoyuan/Documents/Software/one_arm_juggling/ball_throwing_catching.ipynb#X41sZmlsZQ%3D%3D?line=118'>119</a>\u001b[0m     PublishPositionTrajectory(trajopt\u001b[39m.\u001b[39mReconstructPath(result), context, plant,\n\u001b[1;32m    <a href='vscode-notebook-cell:/Users/chewchiashaoyuan/Documents/Software/one_arm_juggling/ball_throwing_catching.ipynb#X41sZmlsZQ%3D%3D?line=119'>120</a>\u001b[0m                               visualizer)\n\u001b[1;32m    <a href='vscode-notebook-cell:/Users/chewchiashaoyuan/Documents/Software/one_arm_juggling/ball_throwing_catching.ipynb#X41sZmlsZQ%3D%3D?line=120'>121</a>\u001b[0m     collision_visualizer\u001b[39m.\u001b[39mPublish(\n\u001b[1;32m    <a href='vscode-notebook-cell:/Users/chewchiashaoyuan/Documents/Software/one_arm_juggling/ball_throwing_catching.ipynb#X41sZmlsZQ%3D%3D?line=121'>122</a>\u001b[0m         collision_visualizer\u001b[39m.\u001b[39mGetMyContextFromRoot(context))\n\u001b[0;32m--> <a href='vscode-notebook-cell:/Users/chewchiashaoyuan/Documents/Software/one_arm_juggling/ball_throwing_catching.ipynb#X41sZmlsZQ%3D%3D?line=125'>126</a>\u001b[0m trajopt_pv_pair_demo()\n",
      "\u001b[1;32m/Users/chewchiashaoyuan/Documents/Software/one_arm_juggling/ball_throwing_catching.ipynb Cell 30\u001b[0m in \u001b[0;36mtrajopt_pv_pair_demo\u001b[0;34m()\u001b[0m\n\u001b[1;32m     <a href='vscode-notebook-cell:/Users/chewchiashaoyuan/Documents/Software/one_arm_juggling/ball_throwing_catching.ipynb#X41sZmlsZQ%3D%3D?line=43'>44</a>\u001b[0m trajopt\u001b[39m.\u001b[39mAddVelocityBounds(plant\u001b[39m.\u001b[39mGetVelocityLowerLimits(),\n\u001b[1;32m     <a href='vscode-notebook-cell:/Users/chewchiashaoyuan/Documents/Software/one_arm_juggling/ball_throwing_catching.ipynb#X41sZmlsZQ%3D%3D?line=44'>45</a>\u001b[0m                           plant\u001b[39m.\u001b[39mGetVelocityUpperLimits())\n\u001b[1;32m     <a href='vscode-notebook-cell:/Users/chewchiashaoyuan/Documents/Software/one_arm_juggling/ball_throwing_catching.ipynb#X41sZmlsZQ%3D%3D?line=46'>47</a>\u001b[0m \u001b[39m# trajopt.AddDurationBounds(t_start, t_start + 2 * t_duration) # Assume t_duration each way\u001b[39;00m\n\u001b[0;32m---> <a href='vscode-notebook-cell:/Users/chewchiashaoyuan/Documents/Software/one_arm_juggling/ball_throwing_catching.ipynb#X41sZmlsZQ%3D%3D?line=47'>48</a>\u001b[0m trajopt\u001b[39m.\u001b[39;49mAddDurationConstraint(t_start, t_start \u001b[39m+\u001b[39m \u001b[39m2\u001b[39m \u001b[39m*\u001b[39m t_duration)\n\u001b[1;32m     <a href='vscode-notebook-cell:/Users/chewchiashaoyuan/Documents/Software/one_arm_juggling/ball_throwing_catching.ipynb#X41sZmlsZQ%3D%3D?line=48'>49</a>\u001b[0m trajopt\u001b[39m.\u001b[39mAddEqualTimeIntervalConstraints()\n\u001b[1;32m     <a href='vscode-notebook-cell:/Users/chewchiashaoyuan/Documents/Software/one_arm_juggling/ball_throwing_catching.ipynb#X41sZmlsZQ%3D%3D?line=50'>51</a>\u001b[0m \u001b[39m# Constrain positions in spatial positions\u001b[39;00m\n\u001b[1;32m     <a href='vscode-notebook-cell:/Users/chewchiashaoyuan/Documents/Software/one_arm_juggling/ball_throwing_catching.ipynb#X41sZmlsZQ%3D%3D?line=51'>52</a>\u001b[0m \u001b[39m# start constraint\u001b[39;00m\n\u001b[1;32m     <a href='vscode-notebook-cell:/Users/chewchiashaoyuan/Documents/Software/one_arm_juggling/ball_throwing_catching.ipynb#X41sZmlsZQ%3D%3D?line=52'>53</a>\u001b[0m \u001b[39m# start_constraint = PositionConstraint(plant, plant.world_frame(),\u001b[39;00m\n\u001b[0;32m   (...)\u001b[0m\n\u001b[1;32m     <a href='vscode-notebook-cell:/Users/chewchiashaoyuan/Documents/Software/one_arm_juggling/ball_throwing_catching.ipynb#X41sZmlsZQ%3D%3D?line=55'>56</a>\u001b[0m \u001b[39m#                                       [0, 0.1, 0], plant_context)\u001b[39;00m\n\u001b[1;32m     <a href='vscode-notebook-cell:/Users/chewchiashaoyuan/Documents/Software/one_arm_juggling/ball_throwing_catching.ipynb#X41sZmlsZQ%3D%3D?line=56'>57</a>\u001b[0m \u001b[39m# trajopt.AddPathConstraint(start_constraint, 0)\u001b[39;00m\n",
      "\u001b[0;31mAttributeError\u001b[0m: 'pydrake.systems.trajectory_optimization.KinematicT' object has no attribute 'AddDurationConstraint'"
     ]
    }
   ]
  },
  {
   "cell_type": "code",
   "metadata": {
    "cell_id": "00030-61b0b3a7-246d-44c8-afcc-757f2e3caa0c",
    "deepnote_to_be_reexecuted": true,
    "source_hash": "c9104e02",
    "deepnote_cell_type": "code"
   },
   "source": "meshcat.Delete()",
   "execution_count": null,
   "outputs": []
  },
  {
   "cell_type": "code",
   "metadata": {
    "cell_id": "00031-4f626553-f211-40f2-a4a2-d1a928918847",
    "deepnote_to_be_reexecuted": true,
    "source_hash": "b623e53d",
    "deepnote_cell_type": "code"
   },
   "source": "",
   "execution_count": null,
   "outputs": []
  },
  {
   "cell_type": "markdown",
   "source": "<a style='text-decoration:none;line-height:16px;display:flex;color:#5B5B62;padding:10px;justify-content:end;' href='https://deepnote.com?utm_source=created-in-deepnote-cell&projectId=68a898be-bd4e-4046-916a-6293aadf6c5d' target=\"_blank\">\n<img alt='Created in deepnote.com' style='display:inline;max-height:16px;margin:0px;margin-right:7.5px;' src='data:image/svg+xml;base64,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' > </img>\nCreated in <span style='font-weight:600;margin-left:4px;'>Deepnote</span></a>",
   "metadata": {
    "tags": [],
    "created_in_deepnote_cell": true,
    "deepnote_cell_type": "markdown"
   }
  }
 ],
 "nbformat": 4,
 "nbformat_minor": 2,
 "metadata": {
  "kernelspec": {
   "display_name": "Python 3.10.8 64-bit",
   "language": "python",
   "name": "python3"
  },
  "language_info": {
   "codemirror_mode": {
    "name": "ipython",
    "version": 3
   },
   "file_extension": ".py",
   "mimetype": "text/x-python",
   "name": "python",
   "nbconvert_exporter": "python",
   "pygments_lexer": "ipython3",
   "version": "3.10.8"
  },
  "orig_nbformat": 4,
  "vscode": {
   "interpreter": {
    "hash": "aee8b7b246df8f9039afb4144a1f6fd8d2ca17a180786b69acc140d282b71a49"
   }
  },
  "deepnote_notebook_id": "e4dc2d5e-f480-4cb1-b5a3-36c947a38957",
  "deepnote": {},
  "deepnote_execution_queue": []
 }
}