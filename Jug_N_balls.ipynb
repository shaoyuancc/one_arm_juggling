{
 "cells": [
  {
   "cell_type": "code",
   "metadata": {
    "colab": {},
    "colab_type": "code",
    "deepnote_to_be_reexecuted": false,
    "execution_millis": 141,
    "execution_start": 1670538894303,
    "id": "eeMrMI0-1Dhu",
    "source_hash": "526983b3",
    "cell_id": "6b859f83-a385-4296-b3c3-363816b20a81",
    "deepnote_cell_type": "code",
    "deepnote_cell_height": 657
   },
   "source": "import logging\nfrom copy import copy\nfrom enum import Enum\n\nimport numpy as np\nnp.set_printoptions(suppress=True)\nnp.set_printoptions(formatter={'float': lambda x: \"{0:0.3f}\".format(x)})\n\nfrom IPython.display import clear_output\nfrom pydrake.all import (AbstractValue, AddMultibodyPlantSceneGraph, AngleAxis,\n                         Concatenate, DiagramBuilder, InputPortIndex,\n                         LeafSystem, MeshcatVisualizer, ContactVisualizerParams, ContactVisualizer, MeshcatVisualizerParams, Parser,\n                         PiecewisePolynomial, PiecewisePose, PointCloud, RandomGenerator, RigidTransform,\n                         RollPitchYaw, Simulator, StartMeshcat,\n                         UniformlyRandomRotationMatrix,\n                         BsplineTrajectory, Sphere, Rgba,\n                         KinematicTrajectoryOptimization, Solve, MinimumDistanceConstraint,\n                         PositionConstraint, ModelInstanceIndex,\n                         SpatialVelocity, LinearConstraint, BoundingBoxConstraint, LogVectorOutput,\n                         IpoptSolver,SnoptSolver)\n\nfrom manipulation import FindResource, running_as_notebook\nfrom manipulation.meshcat_utils import AddMeshcatTriad\nfrom manipulation.scenarios import (AddPackagePaths,\n                                    MakeManipulationStation, AddIiwa, AddShape, AddWsg, AddMultibodyTriad)\n\nimport matplotlib.pyplot as plt\nfrom matplotlib.widgets import TextBox\nfrom io import StringIO\nimport sys\n\nfrom utils import *\nfrom diff_ik_adjuster import *",
   "execution_count": 1,
   "outputs": []
  },
  {
   "cell_type": "code",
   "metadata": {
    "deepnote_to_be_reexecuted": false,
    "execution_millis": 8,
    "execution_start": 1670538894444,
    "source_hash": "c9e7a953",
    "output_cleared": false,
    "cell_id": "00001-6a944c50-216b-414d-a9c6-70717a94e8e9",
    "deepnote_cell_type": "code",
    "deepnote_cell_height": 299.765625,
    "deepnote_output_heights": [
     null,
     20.1875,
     null,
     20.1875
    ]
   },
   "source": "# Start the visualizer.\nhelper_meshcat = StartMeshcat()\nmeshcat = StartMeshcat()",
   "execution_count": 2,
   "outputs": [
    {
     "name": "stderr",
     "text": "INFO:drake:Meshcat listening for connections at https://68a898be-bd4e-4046-916a-6293aadf6c5d.deepnoteproject.com/7000/\n",
     "output_type": "stream"
    },
    {
     "data": {
      "text/plain": "<IPython.core.display.HTML object>",
      "text/html": "Meshcat URL: <a href='https://68a898be-bd4e-4046-916a-6293aadf6c5d.deepnoteproject.com/7000/' target='_blank'>https://68a898be-bd4e-4046-916a-6293aadf6c5d.deepnoteproject.com/7000/</a>"
     },
     "metadata": {},
     "output_type": "display_data"
    },
    {
     "name": "stderr",
     "text": "INFO:drake:Meshcat listening for connections at https://68a898be-bd4e-4046-916a-6293aadf6c5d.deepnoteproject.com/7001/\n",
     "output_type": "stream"
    },
    {
     "data": {
      "text/plain": "<IPython.core.display.HTML object>",
      "text/html": "Meshcat URL: <a href='https://68a898be-bd4e-4046-916a-6293aadf6c5d.deepnoteproject.com/7001/' target='_blank'>https://68a898be-bd4e-4046-916a-6293aadf6c5d.deepnoteproject.com/7001/</a>"
     },
     "metadata": {},
     "output_type": "display_data"
    }
   ]
  },
  {
   "cell_type": "markdown",
   "source": "# Configuration",
   "metadata": {
    "formattedRanges": [],
    "is_collapsed": false,
    "tags": [],
    "cell_id": "00002-0df7c918-65ac-430b-921d-087f57b442f3",
    "deepnote_cell_type": "text-cell-h1"
   }
  },
  {
   "cell_type": "code",
   "source": "num_balls = 3 # How many balls to juggle\n# Manipulation Station Parameters\ntime_step= 0.0001 if num_balls < 4 else 0.00005\n# use_direct determines whether to feed the desired q, v, a into InverseDynamicsController\n# or to use the default position based iiwa controller\nuse_direct = True\nupdate_traj_after_catch = True\nwarm_start_velocities = True\nmax_height = 0.72 # Max height ball will reach in meters\nuse_small_ball = True\n# Kin Traj Opt Parameters\nnum_control_points = 11\n\ndisplay_plot = False\nadd_text_to_pdf = False\nshould_print_contact_results = False\n\nif use_small_ball:\n    ball_radius = 0.008\nelse:\n    ball_radius = 0.02\n\np_GB_G = [0, 0.11, 0]\n\nq_Throw = np.array([-0.54, 0.58, 0, -1.79, 0, -0.79, 0])\np_WThrow = [0.57, -0.34, 0.39]\nR_WThrow = RollPitchYaw([-np.pi, 0.00, 1.03])\n\nq_Catch = np.array([-0.74, 0.58, 0, -1.79, 0, -0.79, 0])\np_WCatch = [0.49, -0.45, 0.39]\nR_WCatch = RollPitchYaw([-np.pi, 0.00, 0.83])\n\nX_WThrow = RigidTransform(R_WThrow, p_WThrow)\nX_WCatch = RigidTransform(R_WCatch, p_WCatch)\n\nX_WThrowB_W, X_WCatchB_W = get_ball_poses_from_gripper_poses(X_WThrow, X_WCatch, p_GB_G)\n\nV_ThrowB, V_CatchB, air_duration = calculate_ball_vels(X_WThrowB_W.translation(), X_WCatchB_W.translation(), max_height)\n\n# Time related variables\nt_duration = round((air_duration/(num_balls*2-1)),3)\nsim_duration = (5/num_balls) * air_duration\n\nv_Throw = convert_spatial_vel_ball_to_joint_vel_arm(q_Throw, V_ThrowB, p_GB_G)\nv_Catch = convert_spatial_vel_ball_to_joint_vel_arm(q_Catch, V_CatchB, p_GB_G)\n\n# WSG gripper\nshould_release_ball = True\nif use_small_ball:\n    wsg_buff_open = 0.001\n    wsg_buff_close = 0.09\n    closed = np.array([0.001])\n    opened = np.array([0.090])\nelse:\n    wsg_buff_open = 0.001\n    wsg_buff_close = 0.07\n    closed = np.array([0.025])\n    opened = np.array([0.090])\nif not should_release_ball:\n    opened = closed\n\ninternal_model = make_internal_model()",
   "metadata": {
    "deepnote_to_be_reexecuted": false,
    "execution_millis": 223,
    "execution_start": 1670538894621,
    "source_hash": "bbc6c76",
    "tags": [],
    "cell_id": "00003-340cc4fd-f71a-4a17-b08a-6560311d38cd",
    "deepnote_cell_type": "code",
    "deepnote_cell_height": 1179
   },
   "execution_count": 3,
   "outputs": []
  },
  {
   "cell_type": "markdown",
   "source": "The order of operations:\n1. We start with comfortable joint angles for the iiwa q_throw and q_catch.\n1. We use forward kinematics to get spatial positions p_WThrow and p_WCatch\n1. we translate those by the offset between the ball and the gripper p_GB_G, to get the spatial positions the ball will be in at the point of being thrown (release) and caught X_WThrowB_W, X_WCatchB_W\n1. we calculate using simple physics the spatial velocity of the ball at the point of being thrown and caught V_WThrowB_W, V_WCatchB_W, as well as the joint angle for the last iiwa link (rotation of the gripper such that it will parallel to the velocity of the ball), given a particular max height h that it reaches.\n1. we use the Jacobian to transform the spatial velocities of the ball into joint velocities of the iiwa v_Throw and v_Catch, taking into account the offset between the gripper and the ball.\n1. We feed the joint positions and velocities into kin traj opt so they can be used as constraints to optimize the trajectory.\n",
   "metadata": {
    "tags": [],
    "cell_id": "00004-b4d11eab-e118-41b3-af13-64228254b840",
    "deepnote_cell_type": "markdown",
    "deepnote_cell_height": 386.578125
   }
  },
  {
   "cell_type": "code",
   "source": "# Joint position and velocity constraints\ndef make_kin_traj_opt_trajectory(q0, q1, v0, v1, t_duration):\n    context = internal_model.CreateDefaultContext()\n    plant = internal_model.GetSubsystemByName(\"plant\")\n    plant_context = plant.GetMyContextFromRoot(context)\n\n    num_positions = 7\n    s = [0.0, 0.5, 1.0] # Key scaled time values\n    trajopt = KinematicTrajectoryOptimization(num_positions, num_control_points)\n    prog = trajopt.get_mutable_prog()\n\n    control_points_per_segment = int(trajopt.num_control_points()/(len(s)-1))\n    q_guess = np.tile(q0.reshape((num_positions,1)), (1, trajopt.num_control_points()))\n    # q_guess[0,:] = np.linspace(q0[0], q1[0], trajopt.num_control_points())\n    q_guess[0,:control_points_per_segment] = np.linspace(q0[0], q1[0], control_points_per_segment)\n    q_guess[0,control_points_per_segment+1:] = np.linspace(q1[0], q0[0], control_points_per_segment)\n    # q_guess[0,2*control_points_per_segment:] = np.linspace(q0[0], q1[0], control_points_per_segment)\n    path_guess = BsplineTrajectory(trajopt.basis(), q_guess)\n    trajopt.SetInitialGuess(path_guess)\n    \n    trajopt.AddPathLengthCost(1)\n    prog.AddQuadraticErrorCost(np.eye(7), q0,\n                               trajopt.control_points()[:, 0])\n    \n    # prog.AddQuadraticErrorCost(np.eye(7), q0,\n    #                            trajopt.control_points()[:, 1])\n    \n    prog.AddQuadraticErrorCost(np.eye(7), q1,\n                               trajopt.control_points()[:, np.round(num_control_points/2).astype(int)-3])\n    # Extra one to shift the gripper closer to q1 to avoid collision\n    prog.AddQuadraticErrorCost(np.eye(7), q1,\n                               trajopt.control_points()[:, np.round(num_control_points/2).astype(int)])\n\n    prog.AddQuadraticErrorCost(np.eye(7), q0,\n                               trajopt.control_points()[:, -1])\n\n    trajopt.AddPositionBounds(plant.GetPositionLowerLimits()[:num_positions],\n                              plant.GetPositionUpperLimits()[:num_positions])\n    trajopt.AddVelocityBounds(plant.GetVelocityLowerLimits()[:num_positions],\n                              plant.GetVelocityUpperLimits()[:num_positions])\n    # trajopt.AddVelocityBounds([-10] * 7, [10] * 7) # Super high velocity limits\n\n    trajopt.AddDurationConstraint(2 * t_duration, 2 * t_duration)\n\n    eps = 0.0001\n    lb0, ub0 = offset_vec_by_eps(q0, eps)\n    lb1, ub1 = offset_vec_by_eps(q1, eps)\n\n    # constrain positions in joint angles\n    trajopt.AddPathPositionConstraint(lb0, ub0, s[0])\n    trajopt.AddPathPositionConstraint(lb1, ub1, s[1])\n    trajopt.AddPathPositionConstraint(lb0, ub0, s[2])\n    # trajopt.AddPathPositionConstraint(lb1, ub1, s[3])\n    \n    q_q_dot1 = np.concatenate((q1.reshape(num_positions,1), v1.reshape(num_positions,1)), axis = 0)\n    q_q_dot0 = np.concatenate((q0.reshape(num_positions,1), v0.reshape(num_positions,1)), axis = 0)\n\n    eps = 0.0001\n    lb0, ub0 = offset_vec_by_eps(q_q_dot0, eps)\n    lb1, ub1 = offset_vec_by_eps(q_q_dot1, eps)\n\n    q_dot_bbox_constraint0 = BoundingBoxConstraint(lb0, ub0)\n    q_dot_bbox_constraint1 = BoundingBoxConstraint(lb1, ub1)\n    \n    # constrain velocities in joint angles\n    trajopt.AddVelocityConstraintAtNormalizedTime(q_dot_bbox_constraint0, s[0])\n    trajopt.AddVelocityConstraintAtNormalizedTime(q_dot_bbox_constraint1, s[1])\n    trajopt.AddVelocityConstraintAtNormalizedTime(q_dot_bbox_constraint0, s[2])\n    # trajopt.AddVelocityConstraintAtNormalizedTime(q_dot_bbox_constraint1, s[3])\n\n    solver = SnoptSolver()\n    result = solver.Solve(prog)\n    if not result.is_success():\n        print(\"Trajectory optimization failed, even without collisions!\")\n        print(result.get_solver_id().name())\n    else:\n        print(\"Trajectory optimization succeeded! (without collisions)\")\n    \n    # # collision constraints\n    # collision_constraint = MinimumDistanceConstraint(plant, 0.001,\n    #                                                  plant_context, None, 0.01)\n    # evaluate_at_s = np.linspace(0, 1, 25)\n    # for s in evaluate_at_s:\n    #     trajopt.AddPathPositionConstraint(collision_constraint, s)\n\n    # result = Solve(prog)\n    # if not result.is_success():\n    #     print(\"Trajectory optimization failed WITH collisions\")\n    #     print(result.get_solver_id().name())\n    # else:\n    #     print(\"Trajectory optimization succeeded! (WITH collisions)\")\n\n    pos_traj = trajopt.ReconstructTrajectory(result)\n    vel_traj = pos_traj.MakeDerivative()\n    acc_traj = vel_traj.MakeDerivative()\n\n    return pos_traj, vel_traj, acc_traj",
   "metadata": {
    "deepnote_to_be_reexecuted": false,
    "execution_millis": 4,
    "execution_start": 1670538894847,
    "source_hash": "6832c772",
    "tags": [],
    "cell_id": "00005-fb299327-f3d5-4bc1-8485-a6b35713e740",
    "deepnote_cell_type": "code",
    "deepnote_cell_height": 1809
   },
   "execution_count": 4,
   "outputs": []
  },
  {
   "cell_type": "code",
   "source": "class Planner(LeafSystem):\n    def __init__(self, plant, ball_body_indices):\n        LeafSystem.__init__(self)\n        self._ball_body_indices = ball_body_indices\n        self._diff_ik_adjuster = DiffIKAdjuster(helper_meshcat)\n\n        # Input ports\n        self._body_poses_index = self.DeclareAbstractInputPort(\"body_poses\",\n            AbstractValue.Make([RigidTransform()])).get_index()\n        self._body_spatial_velocities_index = self.DeclareAbstractInputPort(\"body_spatial_velocities\",\n                                                    AbstractValue.Make([SpatialVelocity()])).get_index()\n        self._wsg_state_index = self.DeclareVectorInputPort(\"wsg_state\",\n                                                    2).get_index()\n        num_positions = 7\n        self._iiwa_state_estimated_index = self.DeclareVectorInputPort(\"iiwa_state_estimated\",\n                                                    2 * num_positions).get_index()\n\n        # State\n        self._traj_wsg_index = self.DeclareAbstractState(\n            AbstractValue.Make(PiecewisePolynomial()))\n        self._traj_start_time_index = self.DeclareAbstractState(\n            AbstractValue.Make(0.0)\n        )\n        self._ball_to_catch_index = self.DeclareAbstractState(\n            AbstractValue.Make(0 if num_balls==1 else 1)\n        )\n        self._traj_arm_q_index = self.DeclareAbstractState(\n            AbstractValue.Make(BsplineTrajectory())\n        )\n        self._traj_arm_v_index = self.DeclareAbstractState(\n            AbstractValue.Make(BsplineTrajectory())\n        )\n        self._traj_arm_a_index = self.DeclareAbstractState(\n            AbstractValue.Make(BsplineTrajectory())\n        )\n\n        # Output ports\n        self.DeclareVectorOutputPort(\"wsg_position\", 1, self.CalcWsgPosition)\n        self.DeclareVectorOutputPort(\"traj_start_time\", 1, self.GetTrajStartTime)\n        self.DeclareVectorOutputPort(\"iiwa_state_desired\", 2 * num_positions,\n                                     self.CalcIiwaDesiredState)\n        self.DeclareVectorOutputPort(\"iiwa_acceleration_desired\", num_positions,\n                                     self.CalcIiwaDesiredAcceleration)\n        self.DeclareVectorOutputPort(\"iiwa_position_command\", num_positions,\n                                     self.CalcIiwaPosition)\n        \n        self.DeclareInitializationUnrestrictedUpdateEvent(self.InitializeTrajectory)\n        self.DeclarePeriodicUnrestrictedUpdateEvent(2 * t_duration, t_duration, self.TrajPostThrowUpdate) # update after throw\n        if update_traj_after_catch:\n            self.DeclarePeriodicUnrestrictedUpdateEvent(2 * t_duration, 2 * t_duration, self.TrajPostCatchUpdate) # update after catch\n    \n    def InitializeTrajectory(self, context, state):\n        # iiwa trajectory\n        q_traj, v_traj, a_traj= make_kin_traj_opt_trajectory(\n            q_Catch,\n            q_Throw, \n            v_Catch,\n            v_Throw, \n            t_duration)\n\n        # Store them in states\n        state.get_mutable_abstract_state(int(\n            self._traj_start_time_index)).set_value(0.0)\n        state.get_mutable_abstract_state(int(\n            self._traj_arm_q_index)).set_value(q_traj)\n        state.get_mutable_abstract_state(int(\n            self._traj_arm_v_index)).set_value(v_traj)\n        state.get_mutable_abstract_state(int(\n            self._traj_arm_a_index)).set_value(a_traj)\n\n        # WSG Gripper Trajectory\n        throw_time = t_duration\n        catch_time = t_duration*2\n        \n        times = [0, throw_time-wsg_buff_open, throw_time, catch_time-wsg_buff_close, catch_time]\n        positions = np.hstack([[closed], [closed], [opened], [opened], [closed]])\n        traj_wsg_command = PiecewisePolynomial.FirstOrderHold(times, positions)\n\n        state.get_mutable_abstract_state(int(\n            self._traj_wsg_index)).set_value(traj_wsg_command)\n    \n    def TrajPostThrowUpdate(self, context, state):\n        current_time = context.get_time()\n        print(f'Update trajectory after Throw at {current_time}')\n\n        curr_state = self.get_input_port(self._iiwa_state_estimated_index).Eval(context)\n        num_positions = 7\n        q_current = curr_state[:num_positions]\n        v_current = curr_state[num_positions:]\n\n        ball = context.get_abstract_state(int(\n                self._ball_to_catch_index)).get_value()\n        ball_body_index = self._ball_body_indices[ball]\n        p_WBall = self.get_input_port(self._body_poses_index).Eval(context)[ball_body_index].translation()\n        V_WBall = self.get_input_port(self._body_spatial_velocities_index).Eval(context)[ball_body_index].translational()\n        print(f\"Actual Throw Position: {p_WBall} Actual Throw Velocity: {V_WBall}\")\n        p_CatchB, V_CatchB = catch_pv_from_ball_pvt(p_WBall, V_WBall, t_duration) # calculated from p_WBall and V_WBall and t_duration\n        q_Catch_predicted  = self._diff_ik_adjuster.get_joint_pos_for_spatial_pos(\n                                        q_Catch, p_CatchB) # diff inverse kinematic towards p_CatchB using q_Catch_original        \n        v_Catch_predicted = convert_spatial_vel_ball_to_joint_vel_arm(q_Catch_predicted, V_CatchB, p_GB_G)\n        meshcat.SetObject(\"p_CatchB\", Sphere(ball_radius), rgba=Rgba(.3, .3, .3, 1))\n        meshcat.SetTransform(\"p_CatchB\", RigidTransform(RotationMatrix(),p_CatchB))\n        q_traj, v_traj, a_traj= make_kin_traj_opt_trajectory(\n            q_current, \n            q_Catch_predicted, \n            v_current, \n            v_Catch_predicted, \n            t_duration)\n\n        # Store them in states\n        state.get_mutable_abstract_state(int(\n            self._traj_start_time_index)).set_value(current_time)\n        state.get_mutable_abstract_state(int(\n            self._traj_arm_q_index)).set_value(q_traj)\n        state.get_mutable_abstract_state(int(\n            self._traj_arm_v_index)).set_value(v_traj)\n        state.get_mutable_abstract_state(int(\n            self._traj_arm_a_index)).set_value(a_traj)\n\n        # Shift to the next ball for the next round\n        state.get_mutable_abstract_state(int(\n            self._ball_to_catch_index)).set_value(0 if num_balls == 1 else ((ball+1)%(num_balls)))\n        print(f\"Now trying to catch ball {ball}, next ball to catch {0 if num_balls == 1 else ((ball+1)%(num_balls))}\")\n        return\n    \n    def TrajPostCatchUpdate(self, context, state):\n        current_time = context.get_time()\n        print(f'Update trajectory after Catch at {current_time}')\n\n        curr_state = self.get_input_port(self._iiwa_state_estimated_index).Eval(context)\n        num_positions = 7\n        q_current = curr_state[:num_positions]\n        v_current = curr_state[num_positions:]\n\n        q_traj, v_traj, a_traj= make_kin_traj_opt_trajectory(\n            q_current, \n            q_Throw, \n            v_current, \n            v_Throw, \n            t_duration)\n\n        # Store them in states\n        state.get_mutable_abstract_state(int(\n            self._traj_start_time_index)).set_value(current_time)\n        state.get_mutable_abstract_state(int(\n            self._traj_arm_q_index)).set_value(q_traj)\n        state.get_mutable_abstract_state(int(\n            self._traj_arm_v_index)).set_value(v_traj)\n        state.get_mutable_abstract_state(int(\n            self._traj_arm_a_index)).set_value(a_traj)\n\n        return\n\n    def CalcWsgPosition(self, context, output):\n        traj_wsg = context.get_abstract_state(int(\n                self._traj_wsg_index)).get_value()\n        traj_start_time = context.get_mutable_abstract_state(int(\n                self._traj_start_time_index)).get_value()\n        # Evaluate the trajectory at the current time, and write it to the\n        # output port.\n        output.SetFromVector(traj_wsg.value(context.get_time()%(2*t_duration)))\n\n        traj_start_time = context.get_mutable_abstract_state(int(\n                self._traj_start_time_index)).get_value()\n\n    def CalcIiwaPosition(self, context, output):\n        traj_q = context.get_mutable_abstract_state(int(\n                self._traj_arm_q_index)).get_value()\n        traj_start_time = context.get_mutable_abstract_state(int(\n                self._traj_start_time_index)).get_value()\n        output.SetFromVector(\n            traj_q.value(\n                context.get_time()-traj_start_time))\n            \n    def GetTrajStartTime(self, context, output):\n        traj_start_time = context.get_abstract_state(int(self._traj_start_time_index)).get_value()\n        output.SetFromVector([traj_start_time])\n\n    def CalcIiwaDesiredState(self, context, output):\n        traj_q = context.get_mutable_abstract_state(int(\n                self._traj_arm_q_index)).get_value()\n        traj_v = context.get_mutable_abstract_state(int(\n                self._traj_arm_v_index)).get_value()\n        traj_start_time = context.get_mutable_abstract_state(int(\n                self._traj_start_time_index)).get_value()\n\n        traj_v_value = traj_v.value(context.get_time()-traj_start_time)\n        traj_q_value = traj_q.value(context.get_time()-traj_start_time)\n        traj_state_value = np.concatenate((traj_q_value, traj_v_value), axis=0)\n        \n        output.SetFromVector(traj_state_value)\n    \n    def CalcIiwaDesiredAcceleration(self, context, output):\n        traj_a = context.get_mutable_abstract_state(int(\n                self._traj_arm_a_index)).get_value()\n        traj_start_time = context.get_mutable_abstract_state(int(\n                self._traj_start_time_index)).get_value()\n\n        traj_a_value = traj_a.value(context.get_time()-traj_start_time)\n        output.SetFromVector(traj_a_value)            \n\n",
   "metadata": {
    "deepnote_to_be_reexecuted": false,
    "execution_millis": 2,
    "execution_start": 1670538894865,
    "source_hash": "8824bfc7",
    "cell_id": "00006-b06e96ee-5f80-41ee-b212-72fb961c5206",
    "deepnote_cell_type": "code",
    "deepnote_cell_height": 3699
   },
   "execution_count": 5,
   "outputs": []
  },
  {
   "cell_type": "code",
   "source": "class BallValidator(LeafSystem):\n    def __init__(self, name, body_index):\n        LeafSystem.__init__(self)\n        self._body_index = body_index\n        self._traj_start_time_index = self.DeclareVectorInputPort(\"traj_start_time\",1).get_index()\n        self._body_poses_index = self.DeclareAbstractInputPort(\"body_poses\",\n                                    AbstractValue.Make([RigidTransform()])).get_index()\n        self._body_spatial_velocities_index = self.DeclareAbstractInputPort(\"body_spatial_velocities\",\n                                    AbstractValue.Make([SpatialVelocity()])).get_index()\n        self.DeclareForcedPublishEvent(self.Publish)\n\n        self.DeclarePeriodicUnrestrictedUpdateEvent(0.001, 0.0, self.Update)\n\n        self.find_pos_match = False\n    \n    def Update(self, context, state):\n        traj_start_time = self.get_input_port(self._traj_start_time_index).Eval(context)\n        pose = self.get_input_port(self._body_poses_index).Eval(context)[self._body_index]\n        velocity = self.get_input_port(self._body_spatial_velocities_index).Eval(context)[self._body_index]\n\n        if (context.get_time() == traj_start_time + t_duration): # traj_start_time + original_t_duration\n            print(f\"\\nWe are at throw time! ({context.get_time()})\")\n            print(f\"actual ball position = {pose.translation()}\")\n            print(f\"actual ball velocity: {velocity.translational()}\")\n            meshcat.SetObject(\"actual_throw\", Sphere(ball_radius), rgba=Rgba(.1, .1, .9, 1))\n            meshcat.SetTransform(\"actual_throw\", pose)\n            self.find_pos_match = True\n\n        if (context.get_time() == 2 * t_duration): # traj_start_time + 2 * t_duration\n            print(f\"\\nWe are at catch time! ({context.get_time()})\")\n            print(f\"actual ball position = {pose.translation()}\")\n            print(f\"actual ball velocity: {velocity.translational()}\")\n            meshcat.SetObject(\"actual_catch\", Sphere(ball_radius), rgba=Rgba(.9, .1, .9, 1))\n            meshcat.SetTransform(\"actual_catch\", pose)\n            self.find_pos_match = True\n\n        if self.find_pos_match and vectors_within_eps(pose.translation(), X_WCatchB_W.translation()):\n            print(f\"\\nBall pose matches catch pose at ({context.get_time()})\")\n            print(f\"actual ball velocity: {velocity.translational()}\")\n            self.find_pos_match = False\n\n        if self.find_pos_match and vectors_within_eps(pose.translation(), X_WThrowB_W.translation()):\n            print(f\"\\nBall pose matches throw pose at ({context.get_time()})\")\n            print(f\"actual ball velocity: {velocity.translational()}\")\n            self.find_pos_match = False\n\n        vel_eps = 0.001\n        if vectors_within_eps(velocity.translational(), V_CatchB, vel_eps):\n            print(f\"\\nBall velocity matches catch velocity at ({context.get_time()})\")\n            print(f\"actual ball velocity: {velocity.translational()}\")\n            print(f\"actual ball position = {pose.translation()}\")\n        \n        if vectors_within_eps(velocity.translational(), V_ThrowB, vel_eps):\n            print(f\"\\nBall velocity matches throw velocity at ({context.get_time()})\")\n            print(f\"actual ball velocity: {velocity.translational()}\")\n            print(f\"actual ball position = {pose.translation()}\")\n",
   "metadata": {
    "tags": [],
    "deepnote_to_be_reexecuted": false,
    "source_hash": "94941c85",
    "execution_start": 1670538894914,
    "execution_millis": 0,
    "cell_id": "00007-1cc83920-543b-41eb-929e-14ade074a476",
    "deepnote_cell_type": "code",
    "deepnote_cell_height": 1089
   },
   "execution_count": 6,
   "outputs": []
  },
  {
   "cell_type": "code",
   "source": "def clutter_clearing_demo():\n    meshcat.Delete()\n    builder = DiagramBuilder()\n\n    model_directives = \"\"\"\ndirectives:\n\"\"\"\n    ball_file_name = \"ball_small\" if use_small_ball else \"ball\"\n    for i in range(num_balls if running_as_notebook else 2):\n        model_directives += f\"\"\"\n- add_model:\n    name: ball{i}\n    file: package://one_arm_juggling/models/{ball_file_name}.sdf\n\"\"\"\n    # use_direct determines whether to feed the desired q, v, a into InverseDynamicsController\n    # or to use the default position based iiwa controller\n    if use_direct:\n        station = builder.AddSystem(\n                            MakeDirectManipulationStation(\n                                model_directives,\n                                filename=\"./models/one_arm_juggling_no_cams.dmd.yaml\",\n                                package_xmls=[\"./package.xml\"],\n                                time_step=time_step,\n                                meshcat=meshcat))\n    else:\n        station = builder.AddSystem(\n                            MyMakeManipulationStation(\n                                model_directives,\n                                filename=\"./models/one_arm_juggling.dmd.yaml\",\n                                package_xmls=[\"./package.xml\"],\n                                time_step=time_step))\n\n    plant = station.GetSubsystemByName(\"plant\")\n\n    ball_body_indices = list(plant.GetFloatingBaseBodies())\n    #ball_validator\n    # ball = plant.GetBodyByName(\"ball\")\n\n    # ball_validator = builder.AddSystem(\n    #                             BallValidator(\n    #                                 ball.name(), \n    #                                 ball.index()))\n\n    # planner\n    planner = builder.AddSystem(Planner(plant, ball_body_indices))\n    builder.Connect(station.GetOutputPort(\"body_poses\"),\n                    planner.GetInputPort(\"body_poses\"))\n    builder.Connect(station.GetOutputPort(\"body_spatial_velocities\"),\n                    planner.GetInputPort(\"body_spatial_velocities\"))\n    builder.Connect(station.GetOutputPort(\"iiwa_state_estimated\"),\n                    planner.GetInputPort(\"iiwa_state_estimated\"))\n    builder.Connect(station.GetOutputPort(\"wsg_state_measured\"),\n                    planner.GetInputPort(\"wsg_state\"))\n    builder.Connect(planner.GetOutputPort(\"wsg_position\"),\n                    station.GetInputPort(\"wsg_position\"))\n\n    if use_direct:\n        builder.Connect(planner.GetOutputPort(\"iiwa_state_desired\"),\n                        station.GetInputPort(\"iiwa_state_desired\"))\n        builder.Connect(planner.GetOutputPort(\"iiwa_acceleration_desired\"),\n                        station.GetInputPort(\"iiwa_acceleration_desired\"))\n    else:       \n        builder.Connect(planner.GetOutputPort(\"iiwa_position_command\"),\n                        station.GetInputPort(\"iiwa_position\"))\n    \n    # builder.Connect(station.GetOutputPort(\"body_poses\"),\n    #                 ball_validator.GetInputPort(\"body_poses\"))\n    # builder.Connect(planner.GetOutputPort(\"traj_start_time\"),\n    #                 ball_validator.GetInputPort(\"traj_start_time\"))\n    # builder.Connect(station.GetOutputPort(\"body_spatial_velocities\"),\n    #                 ball_validator.GetInputPort(\"body_spatial_velocities\"))\n\n    meshcat_param = MeshcatVisualizerParams()\n    \"\"\" kProximity for collision geometry and kIllustration for visual geometry \"\"\"\n    meshcat_param.role = Role.kIllustration\n    visualizer = MeshcatVisualizer.AddToBuilder(\n        builder, station.GetOutputPort(\"query_object\"), meshcat, meshcat_param)\n\n    if should_print_contact_results:\n        print_contact_results = builder.AddSystem(PrintContactResults())\n        builder.Connect(station.GetOutputPort(\"contact_results\"),\n                        print_contact_results.get_input_port())\n\n    if display_plot:\n        logger_state_desired = LogVectorOutput(\n            planner.GetOutputPort(\"iiwa_state_desired\"), builder\n            )\n        logger_state_estimated = LogVectorOutput(\n            station.GetOutputPort(\"iiwa_state_estimated\"), builder\n            )\n        logger_acceleration_desired = LogVectorOutput(\n            planner.GetOutputPort(\"iiwa_acceleration_desired\"), builder\n            )\n        # logger_acceleration_estimated = LogVectorOutput(\n        #     station.GetOutputPort(\"iiwa_acceleration_estimated\"), builder\n        #     )\n\n    diagram = builder.Build()\n    simulator = Simulator(diagram)\n    context = simulator.get_context()\n\n    X_WThrowB_W, X_WCatchB_W = get_ball_poses_from_gripper_poses(X_WThrow, X_WCatch, p_GB_G)\n    add_target_spheres(X_WThrowB_W, X_WCatchB_W, meshcat, radius=ball_radius)\n    \n    plant_context = plant.GetMyMutableContextFromRoot(context)\n\n    # Ball Initialization\n    plant.SetFreeBodyPose(plant_context, plant.get_body(ball_body_indices[0]), X_WCatchB_W)\n    # if warm_start_velocities:\n        # vel = SpatialVelocity([0,0,0],V_CatchB)\n        # plant.SetFreeBodySpatialVelocity(\n        #                         plant.get_body(ball_body_indices[1]),\n        #                         vel, plant_context)\n    if len(ball_body_indices) == 2:\n        p_start, v_start = catch_pv_from_ball_pvt(X_WThrowB_W.translation(), V_ThrowB, t_duration)\n        vel = SpatialVelocity([0,0,0],v_start)\n        plant.SetFreeBodyPose(plant_context, plant.get_body(ball_body_indices[1]),\n                                RigidTransform(RotationMatrix(), p_start))\n        plant.SetFreeBodySpatialVelocity(\n                                plant.get_body(ball_body_indices[1]),\n                                vel, plant_context)\n    if len(ball_body_indices) == 3:\n        p_start, v_start = catch_pv_from_ball_pvt(X_WThrowB_W.translation(), V_ThrowB, 3*t_duration)\n        vel = SpatialVelocity([0,0,0],v_start)\n        plant.SetFreeBodyPose(plant_context, plant.get_body(ball_body_indices[1]),\n                                RigidTransform(RotationMatrix(), p_start))\n        plant.SetFreeBodySpatialVelocity(\n                                plant.get_body(ball_body_indices[1]),\n                                vel, plant_context)\n        p_start, v_start = catch_pv_from_ball_pvt(X_WThrowB_W.translation(), V_ThrowB, t_duration)\n        vel = SpatialVelocity([0,0,0],v_start)\n        plant.SetFreeBodyPose(plant_context, plant.get_body(ball_body_indices[2]),\n                                RigidTransform(RotationMatrix(), p_start))\n        plant.SetFreeBodySpatialVelocity(\n                                plant.get_body(ball_body_indices[2]),\n                                vel, plant_context)\n    if len(ball_body_indices) == 4:\n        p_start, v_start = catch_pv_from_ball_pvt(X_WThrowB_W.translation(), V_ThrowB, 5*t_duration)\n        vel = SpatialVelocity([0,0,0],v_start)\n        plant.SetFreeBodyPose(plant_context, plant.get_body(ball_body_indices[1]),\n                                RigidTransform(RotationMatrix(), p_start))\n        plant.SetFreeBodySpatialVelocity(\n                                plant.get_body(ball_body_indices[1]),\n                                vel, plant_context)\n        p_start, v_start = catch_pv_from_ball_pvt(X_WThrowB_W.translation(), V_ThrowB, 3*t_duration)\n        vel = SpatialVelocity([0,0,0],v_start)\n        plant.SetFreeBodyPose(plant_context, plant.get_body(ball_body_indices[2]),\n                                RigidTransform(RotationMatrix(), p_start))\n        plant.SetFreeBodySpatialVelocity(\n                                plant.get_body(ball_body_indices[2]),\n                                vel, plant_context)\n        p_start, v_start = catch_pv_from_ball_pvt(X_WThrowB_W.translation(), V_ThrowB, t_duration)\n        vel = SpatialVelocity([0,0,0],v_start)\n        plant.SetFreeBodyPose(plant_context, plant.get_body(ball_body_indices[3]),\n                                RigidTransform(RotationMatrix(), p_start))\n        plant.SetFreeBodySpatialVelocity(\n                                plant.get_body(ball_body_indices[3]),\n                                vel, plant_context)\n    if add_text_to_pdf:\n        buffer = StringIO()\n        sys.stdout = buffer\n    \n    print(f\"--- Experiment Parameters ---\")\n    print(f\"Controller: Feed in desired q,v,a : {use_direct}, warm start velocities: {warm_start_velocities}\")\n    print(f\"simulation duration: {sim_duration}, time step: {time_step}\")\n    print(f\"kin traj opt num control points: {num_control_points}, update traj after catch: {update_traj_after_catch}\")\n    print(f\"max height: {max_height}, ball radius: {ball_radius}, WSG: open{opened} buffer({wsg_buff_open}), closed{closed} buffer({wsg_buff_close})\")\n    print(f\"-----------------------------\")\n    print(f\"planned ball THROW time: {t_duration}, position: {X_WThrowB_W.translation()}, velocity: {V_ThrowB}\")\n    print(f\"planned ball CATCH time: {2 * t_duration}, position: {X_WCatchB_W.translation()}, velocity: {V_CatchB}\")\n\n    q0 = plant.GetPositions(plant_context)\n    non_iiwa_q0 = q0[7:]\n    gap = closed[0]\n    non_iiwa_q0[0]=-gap/2\n    non_iiwa_q0[1]=gap/2\n    plant.SetPositions(plant_context, np.concatenate((q_Catch, non_iiwa_q0)))\n    if warm_start_velocities:\n        v0 = plant.GetVelocities(plant_context)\n        v0[:7] = v_Catch.reshape(7,)\n        plant.SetVelocities(plant_context, v0)\n    simulator.AdvanceTo(0)\n    meshcat.Flush()  # Wait for the large object meshes to get to meshcat.\n    # Recorder\n    RecordInterval(0, sim_duration, simulator, context, plant, visualizer)\n\n    def plot_vertical_lines():\n        num_lines = round(sim_duration/t_duration)\n        for i in range(num_lines):\n            plt.axvline(x = i*t_duration, color = 'b', alpha=0.3)\n    if display_plot:\n        log_state_desired = logger_state_desired.FindLog(context)\n        log_state_estimated = logger_state_estimated.FindLog(context)\n\n        f = plt.figure(figsize=(21,42))\n\n        # print('--- Catch at t=0 ---')\n        # catch_time_indices = np.where(log_state_desired.sample_times() == 0)\n        # for i in range(7):\n        #     print(f\"v_e_{i}: {log_state_estimated.data()[7+i,:].transpose()[catch_time_indices[0]][:1]}   v_d_{i}: {log_state_desired.data()[7+i,:].transpose()[catch_time_indices[0]][:1]}   v_Catch: {v_Catch[i][:1]}\")\n\n        # print(f'--- Throw at t={t_duration}---')\n        throw_time_indices = np.where(log_state_desired.sample_times() == t_duration)\n        for i in range(7):\n            # print(f\"v_e_{i}: {log_state_estimated.data()[7+i,:].transpose()[throw_time_indices[0]]}   v_d_{i}: {log_state_desired.data()[7+i,:].transpose()[throw_time_indices[0]]}   v_Throw: {v_Throw[i]}\")\n            plt.subplot(8, 3, 4 + i*3)\n            plt.plot(log_state_desired.sample_times(),\n                    log_state_desired.data()[i,:].transpose(),\n                    log_state_estimated.sample_times(),\n                    log_state_estimated.data()[i,:].transpose())\n            # plt.axvline(x = t_duration, color = 'b', alpha=0.3)\n            plot_vertical_lines()\n            plt.legend([f'q_d_{i}(t)', f'q_e_{i}(t)'])\n            plt.xlabel('t');\n\n\n            plt.subplot(8, 3, 5 + i*3)\n            plt.plot(log_state_desired.sample_times(),\n                    log_state_desired.data()[7+i,:].transpose(),\n                    log_state_estimated.sample_times(),\n                    log_state_estimated.data()[7+i,:].transpose())\n            plot_vertical_lines()\n            plt.legend([f'v_d_{i}(t)', f'v_e_{i}(t)'])\n            plt.xlabel('t');\n\n            plt.subplot(8, 3, 6 + i*3)\n            plt.plot(log_state_desired.sample_times(),\n                    log_state_desired.data()[7+i,:].transpose() - log_state_estimated.data()[7+i,:].transpose())\n            plot_vertical_lines()\n            plt.axhline(y = 0, color = 'b', alpha=0.3)\n            plt.legend([f'delta_v_{i}(t)'])\n            plt.xlabel('t');\n\n        # print(f'--- Catch at t={2*t_duration} ---')\n        # catch_time_indices = np.where(log_state_desired.sample_times() == 2*t_duration)\n        # for i in range(7):\n        #     print(f\"v_e_{i}: {log_state_estimated.data()[7+i,:].transpose()[catch_time_indices[0]][:1]}   v_d_{i}: {log_state_desired.data()[7+i,:].transpose()[catch_time_indices[0]][:1]}   v_Catch: {v_Catch[i][:1]}\")\n        \n\n        plt.subplot(4, 1, 1)\n        plt.axis('off')\n        if add_text_to_pdf:\n            print_output = buffer.getvalue()\n            sys.stdout = sys.__stdout__\n            plt.text(0, 0, print_output, fontsize='x-large')\n        plt.savefig('plots/test.pdf')\n        plt.show()\n\nclutter_clearing_demo()",
   "metadata": {
    "deepnote_to_be_reexecuted": false,
    "execution_start": 1670538895207,
    "source_hash": "4d698745",
    "execution_millis": 10536,
    "output_cleared": false,
    "cell_id": "00008-e9fb4d12-1fdd-4a81-9d47-d1715d3e3896",
    "deepnote_cell_type": "code",
    "deepnote_cell_height": 5092.265625,
    "deepnote_output_heights": [
     610,
     610
    ]
   },
   "execution_count": 7,
   "outputs": [
    {
     "name": "stdout",
     "text": "Press Space to open/close the gripper\n--- Experiment Parameters ---\nController: Feed in desired q,v,a : True, warm start velocities: True\nsimulation duration: 1.277319827124235, time step: 0.0001\nkin traj opt num control points: 11, update traj after catch: True\nmax height: 0.72, ball radius: 0.008, WSG: open[0.090] buffer(0.001), closed[0.001] buffer(0.09)\n-----------------------------\nplanned ball THROW time: 0.153, position: [0.664 -0.397 0.390], velocity: [-0.122 -0.167 3.758]\nplanned ball CATCH time: 0.306, position: [0.571 -0.524 0.390], velocity: [-0.122 -0.167 -3.758]\nTrajectory optimization succeeded! (without collisions)\nUpdate trajectory after Throw at 0.153\nActual Throw Position: [0.590 -0.499 0.853] Actual Throw Velocity: [-0.122 -0.167 -2.244]\nTrajectory optimization succeeded! (without collisions)\nNow trying to catch ball 1, next ball to catch 2\nUpdate trajectory after Catch at 0.306\nTrajectory optimization succeeded! (without collisions)\nUpdate trajectory after Throw at 0.45899999999999996\nActual Throw Position: [0.590 -0.499 0.853] Actual Throw Velocity: [-0.122 -0.167 -2.245]\nTrajectory optimization succeeded! (without collisions)\nNow trying to catch ball 2, next ball to catch 0\nUpdate trajectory after Catch at 0.612\nTrajectory optimization succeeded! (without collisions)\nUpdate trajectory after Throw at 0.765\nActual Throw Position: [0.647 -0.447 0.843] Actual Throw Velocity: [-0.035 -0.080 -2.249]\nTrajectory optimization succeeded! (without collisions)\nNow trying to catch ball 0, next ball to catch 1\nUpdate trajectory after Catch at 0.9179999999999999\nTrajectory optimization failed, even without collisions!\nSNOPT/fortran\nUpdate trajectory after Throw at 1.071\nActual Throw Position: [0.638 -0.459 0.844] Actual Throw Velocity: [-0.051 -0.097 -2.249]\nTrajectory optimization succeeded! (without collisions)\nNow trying to catch ball 1, next ball to catch 2\nUpdate trajectory after Catch at 1.224\nTrajectory optimization succeeded! (without collisions)\n",
     "output_type": "stream"
    }
   ]
  },
  {
   "cell_type": "code",
   "metadata": {
    "tags": [],
    "deepnote_to_be_reexecuted": false,
    "source_hash": "7df9cee2",
    "execution_start": 1670538905722,
    "execution_millis": 21,
    "cell_id": "00009-57d168c2-0df3-48c6-951f-e98d52e1dea0",
    "deepnote_cell_type": "code",
    "deepnote_cell_height": 107
   },
   "source": "%tb",
   "execution_count": 8,
   "outputs": [
    {
     "name": "stderr",
     "text": "No traceback available to show.\n",
     "output_type": "stream"
    }
   ]
  },
  {
   "cell_type": "markdown",
   "source": "<a style='text-decoration:none;line-height:16px;display:flex;color:#5B5B62;padding:10px;justify-content:end;' href='https://deepnote.com?utm_source=created-in-deepnote-cell&projectId=68a898be-bd4e-4046-916a-6293aadf6c5d' target=\"_blank\">\n<img alt='Created in deepnote.com' style='display:inline;max-height:16px;margin:0px;margin-right:7.5px;' src='data:image/svg+xml;base64,PD94bWwgdmVyc2lvbj0iMS4wIiBlbmNvZGluZz0iVVRGLTgiPz4KPHN2ZyB3aWR0aD0iODBweCIgaGVpZ2h0PSI4MHB4IiB2aWV3Qm94PSIwIDAgODAgODAiIHZlcnNpb249IjEuMSIgeG1sbnM9Imh0dHA6Ly93d3cudzMub3JnLzIwMDAvc3ZnIiB4bWxuczp4bGluaz0iaHR0cDovL3d3dy53My5vcmcvMTk5OS94bGluayI+CiAgICA8IS0tIEdlbmVyYXRvcjogU2tldGNoIDU0LjEgKDc2NDkwKSAtIGh0dHBzOi8vc2tldGNoYXBwLmNvbSAtLT4KICAgIDx0aXRsZT5Hcm91cCAzPC90aXRsZT4KICAgIDxkZXNjPkNyZWF0ZWQgd2l0aCBTa2V0Y2guPC9kZXNjPgogICAgPGcgaWQ9IkxhbmRpbmciIHN0cm9rZT0ibm9uZSIgc3Ryb2tlLXdpZHRoPSIxIiBmaWxsPSJub25lIiBmaWxsLXJ1bGU9ImV2ZW5vZGQiPgogICAgICAgIDxnIGlkPSJBcnRib2FyZCIgdHJhbnNmb3JtPSJ0cmFuc2xhdGUoLTEyMzUuMDAwMDAwLCAtNzkuMDAwMDAwKSI+CiAgICAgICAgICAgIDxnIGlkPSJHcm91cC0zIiB0cmFuc2Zvcm09InRyYW5zbGF0ZSgxMjM1LjAwMDAwMCwgNzkuMDAwMDAwKSI+CiAgICAgICAgICAgICAgICA8cG9seWdvbiBpZD0iUGF0aC0yMCIgZmlsbD0iIzAyNjVCNCIgcG9pbnRzPSIyLjM3NjIzNzYyIDgwIDM4LjA0NzY2NjcgODAgNTcuODIxNzgyMiA3My44MDU3NTkyIDU3LjgyMTc4MjIgMzIuNzU5MjczOSAzOS4xNDAyMjc4IDMxLjY4MzE2ODMiPjwvcG9seWdvbj4KICAgICAgICAgICAgICAgIDxwYXRoIGQ9Ik0zNS4wMDc3MTgsODAgQzQyLjkwNjIwMDcsNzYuNDU0OTM1OCA0Ny41NjQ5MTY3LDcxLjU0MjI2NzEgNDguOTgzODY2LDY1LjI2MTk5MzkgQzUxLjExMjI4OTksNTUuODQxNTg0MiA0MS42NzcxNzk1LDQ5LjIxMjIyODQgMjUuNjIzOTg0Niw0OS4yMTIyMjg0IEMyNS40ODQ5Mjg5LDQ5LjEyNjg0NDggMjkuODI2MTI5Niw0My4yODM4MjQ4IDM4LjY0NzU4NjksMzEuNjgzMTY4MyBMNzIuODcxMjg3MSwzMi41NTQ0MjUgTDY1LjI4MDk3Myw2Ny42NzYzNDIxIEw1MS4xMTIyODk5LDc3LjM3NjE0NCBMMzUuMDA3NzE4LDgwIFoiIGlkPSJQYXRoLTIyIiBmaWxsPSIjMDAyODY4Ij48L3BhdGg+CiAgICAgICAgICAgICAgICA8cGF0aCBkPSJNMCwzNy43MzA0NDA1IEwyNy4xMTQ1MzcsMC4yNTcxMTE0MzYgQzYyLjM3MTUxMjMsLTEuOTkwNzE3MDEgODAsMTAuNTAwMzkyNyA4MCwzNy43MzA0NDA1IEM4MCw2NC45NjA0ODgyIDY0Ljc3NjUwMzgsNzkuMDUwMzQxNCAzNC4zMjk1MTEzLDgwIEM0Ny4wNTUzNDg5LDc3LjU2NzA4MDggNTMuNDE4MjY3Nyw3MC4zMTM2MTAzIDUzLjQxODI2NzcsNTguMjM5NTg4NSBDNTMuNDE4MjY3Nyw0MC4xMjg1NTU3IDM2LjMwMzk1NDQsMzcuNzMwNDQwNSAyNS4yMjc0MTcsMzcuNzMwNDQwNSBDMTcuODQzMDU4NiwzNy43MzA0NDA1IDkuNDMzOTE5NjYsMzcuNzMwNDQwNSAwLDM3LjczMDQ0MDUgWiIgaWQ9IlBhdGgtMTkiIGZpbGw9IiMzNzkzRUYiPjwvcGF0aD4KICAgICAgICAgICAgPC9nPgogICAgICAgIDwvZz4KICAgIDwvZz4KPC9zdmc+' > </img>\nCreated in <span style='font-weight:600;margin-left:4px;'>Deepnote</span></a>",
   "metadata": {
    "tags": [],
    "created_in_deepnote_cell": true,
    "deepnote_cell_type": "markdown"
   }
  }
 ],
 "nbformat": 4,
 "nbformat_minor": 1,
 "metadata": {
  "colab": {
   "collapsed_sections": [],
   "name": "Robotic Manipulation - Geometric Pose Estimation.ipynb",
   "provenance": [],
   "toc_visible": true
  },
  "deepnote": {},
  "deepnote_execution_queue": [],
  "deepnote_notebook_id": "d270a16a-44c3-41b6-a4e8-fcab86ef6ad5",
  "kernelspec": {
   "display_name": "Python 3.10.8 64-bit",
   "language": "python",
   "name": "python3"
  },
  "language_info": {
   "codemirror_mode": {
    "name": "ipython",
    "version": 3
   },
   "file_extension": ".py",
   "mimetype": "text/x-python",
   "name": "python",
   "nbconvert_exporter": "python",
   "pygments_lexer": "ipython3",
   "version": "3.10.8"
  },
  "metadata": {
   "interpreter": {
    "hash": "aee8b7b246df8f9039afb4144a1f6fd8d2ca17a180786b69acc140d282b71a49"
   }
  },
  "vscode": {
   "interpreter": {
    "hash": "aee8b7b246df8f9039afb4144a1f6fd8d2ca17a180786b69acc140d282b71a49"
   }
  }
 }
}