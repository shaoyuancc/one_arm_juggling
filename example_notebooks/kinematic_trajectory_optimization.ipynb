{
 "cells": [
  {
   "cell_type": "markdown",
   "source": "# Kinematic Trajectory Optimization\n\nThis notebook provides examples to go along with the [textbook](http://manipulation.csail.mit.edu/trajectories.html).  I recommend having both windows open, side-by-side!\n",
   "metadata": {
    "cell_id": "ef0ee467-6d7d-487c-8c79-35014a7b0ed5",
    "id": "EgiF12Hf1Dhs",
    "deepnote_cell_type": "markdown",
    "deepnote_cell_height": 142.796875
   }
  },
  {
   "cell_type": "code",
   "metadata": {
    "cell_id": "00001-0b2b3bdb-9939-4832-b4a2-597ec66d0699",
    "id": "eeMrMI0-1Dhu",
    "deepnote_to_be_reexecuted": false,
    "source_hash": "2b1666ae",
    "execution_start": 1668206457019,
    "execution_millis": 430,
    "deepnote_cell_type": "code",
    "deepnote_cell_height": 346
   },
   "source": "import time\n\nimport numpy as np\nfrom pydrake.all import (AddMultibodyPlantSceneGraph, BsplineTrajectory,\n                         DiagramBuilder, KinematicTrajectoryOptimization,\n                         MeshcatVisualizer, MeshcatVisualizerParams,\n                         MinimumDistanceConstraint, Parser, PositionConstraint,\n                         Rgba, RigidTransform, Role, Solve, Sphere,\n                         StartMeshcat)\n\nfrom manipulation import running_as_notebook\nfrom manipulation.meshcat_utils import (PublishPositionTrajectory,\n                                        model_inspector)\nfrom manipulation.scenarios import AddIiwa, AddPlanarIiwa, AddShape, AddWsg\nfrom manipulation.utils import AddPackagePaths, FindResource\n",
   "execution_count": null,
   "outputs": []
  },
  {
   "cell_type": "code",
   "metadata": {
    "cell_id": "00002-db9cc5c3-47f3-4208-9967-b9dbc2e69e9f",
    "deepnote_to_be_reexecuted": false,
    "source_hash": "6d42057f",
    "execution_start": 1668206457475,
    "execution_millis": 45,
    "deepnote_cell_type": "code",
    "deepnote_cell_height": 180.375,
    "deepnote_output_heights": [
     null,
     20.1875
    ]
   },
   "source": "# Start the visualizer.\nmeshcat = StartMeshcat()",
   "execution_count": null,
   "outputs": [
    {
     "name": "stderr",
     "text": "INFO:drake:Meshcat listening for connections at https://68a898be-bd4e-4046-916a-6293aadf6c5d.deepnoteproject.com/7003/\n",
     "output_type": "stream"
    },
    {
     "data": {
      "text/plain": "<IPython.core.display.HTML object>",
      "text/html": "Meshcat URL: <a href='https://68a898be-bd4e-4046-916a-6293aadf6c5d.deepnoteproject.com/7003/' target='_blank'>https://68a898be-bd4e-4046-916a-6293aadf6c5d.deepnoteproject.com/7003/</a>"
     },
     "metadata": {},
     "output_type": "display_data"
    }
   ]
  },
  {
   "cell_type": "markdown",
   "source": "## Reaching into the shelves",
   "metadata": {
    "cell_id": "00003-ea414b57-eb35-49a1-98a4-a19d0df1f420",
    "deepnote_cell_type": "markdown",
    "deepnote_cell_height": 70
   }
  },
  {
   "cell_type": "code",
   "metadata": {
    "cell_id": "00004-a5643d2d-8c7c-4b32-bd5b-f0b614483964",
    "deepnote_to_be_reexecuted": false,
    "source_hash": "8e5bb752",
    "execution_start": 1668206457610,
    "execution_millis": 1351,
    "deepnote_cell_type": "code",
    "deepnote_cell_height": 2084.390625
   },
   "source": "def trajopt_shelves_demo():\n    meshcat.Delete()\n    builder = DiagramBuilder()\n\n    plant, scene_graph = AddMultibodyPlantSceneGraph(builder, time_step=0.001)\n    iiwa = AddPlanarIiwa(plant)\n    wsg = AddWsg(plant, iiwa, roll=0.0, welded=True, sphere=True)\n    X_WStart = RigidTransform([0.8, 0, 0.65])\n    meshcat.SetObject(\"start\", Sphere(0.02), rgba=Rgba(.9, .1, .1, 1))\n    meshcat.SetTransform(\"start\", X_WStart)\n    X_WGoal = RigidTransform([0.8, 0, 0.4])\n    meshcat.SetObject(\"goal\", Sphere(0.02), rgba=Rgba(.1, .9, .1, 1))\n    meshcat.SetTransform(\"goal\", X_WGoal)\n\n    parser = Parser(plant)\n    bin = parser.AddModelFromFile(\n        FindResource(\"models/shelves.sdf\"))\n    plant.WeldFrames(plant.world_frame(),\n                     plant.GetFrameByName(\"shelves_body\", bin),\n                     RigidTransform([0.88, 0, 0.4]))\n\n    plant.Finalize()\n\n    visualizer = MeshcatVisualizer.AddToBuilder(\n        builder, scene_graph, meshcat,\n        MeshcatVisualizerParams(role=Role.kIllustration))\n    collision_visualizer = MeshcatVisualizer.AddToBuilder(\n        builder, scene_graph, meshcat,\n        MeshcatVisualizerParams(prefix=\"collision\", role=Role.kProximity))\n    meshcat.SetProperty(\"collision\", \"visible\", False)\n\n    diagram = builder.Build()\n    context = diagram.CreateDefaultContext()\n    plant_context = plant.GetMyContextFromRoot(context)\n\n    q0 = plant.GetPositions(plant_context)\n    gripper_frame = plant.GetFrameByName(\"body\", wsg)\n\n    trajopt = KinematicTrajectoryOptimization(plant.num_positions(), 10)\n    prog = trajopt.get_mutable_prog()\n    trajopt.AddDurationCost(1.0)\n    trajopt.AddPathLengthCost(1.0)\n    trajopt.AddPositionBounds(plant.GetPositionLowerLimits(),\n                              plant.GetPositionUpperLimits())\n    trajopt.AddVelocityBounds(plant.GetVelocityLowerLimits(),\n                              plant.GetVelocityUpperLimits())\n\n    trajopt.AddDurationBounds(.5, 5)\n    trajopt.AddEqualTimeIntervalConstraints()\n\n    # start constraint\n    start_constraint = PositionConstraint(plant, plant.world_frame(),\n                                          X_WStart.translation(),\n                                          X_WStart.translation(), gripper_frame,\n                                          [0, 0.1, 0], plant_context)\n    trajopt.AddPathConstraint(start_constraint, 0)\n    prog.AddQuadraticErrorCost(np.eye(3), q0,\n                               trajopt.path_control_points()[:, 0])\n\n    # goal constraint\n    goal_constraint = PositionConstraint(plant, plant.world_frame(),\n                                         X_WGoal.translation(),\n                                         X_WGoal.translation(), gripper_frame,\n                                         [0, 0.1, 0], plant_context)\n    trajopt.AddPathConstraint(goal_constraint, 1)\n    prog.AddQuadraticErrorCost(np.eye(3), q0,\n                               trajopt.path_control_points()[:, -1])\n\n    # start and end with zero velocity\n    trajopt.AddFixedPathVelocityConstraint(np.zeros((3,1)), 0)\n    trajopt.AddFixedPathVelocityConstraint(np.zeros((3,1)), 1)\n\n    # Solve once without the collisions and set that as the initial guess for\n    # the version with collisions.\n    result = Solve(prog)\n    if not result.is_success():\n        print(\"Trajectory optimization failed, even without collisions!\")\n        print(result.get_solver_id().name())\n    trajopt.SetPathInitialGuess(trajopt.ReconstructPath(result))\n\n    # collision constraints\n    collision_constraint = MinimumDistanceConstraint(plant, 0.001,\n                                                     plant_context, None, 0.01)\n    evaluate_at_s = np.linspace(0, 1, 25)\n    for s in evaluate_at_s:\n        trajopt.AddPathConstraint(collision_constraint, s)\n\n    def PlotPath(path_control_points):\n        traj = BsplineTrajectory(trajopt.basis(),\n                                 path_control_points.reshape((3, -1)).T.tolist())\n        meshcat.SetLine('positions_path',\n                         traj.vector_values(np.linspace(0, 1, 50)))\n\n    prog.AddVisualizationCallback(PlotPath,\n                                  trajopt.path_control_points().reshape((-1,)))\n    result = Solve(prog)\n    if not result.is_success():\n        print(\"Trajectory optimization failed\")\n        print(result.get_solver_id().name())\n\n    PublishPositionTrajectory(trajopt.ReconstructPath(result), context, plant,\n                              visualizer)\n    collision_visualizer.Publish(\n        collision_visualizer.GetMyContextFromRoot(context))\n    \n\ntrajopt_shelves_demo()\n",
   "execution_count": null,
   "outputs": [
    {
     "output_type": "error",
     "ename": "AttributeError",
     "evalue": "'pydrake.systems.trajectory_optimization.KinematicT' object has no attribute 'AddDurationBounds'",
     "traceback": [
      "\u001b[0;31m---------------------------------------------------------------------------\u001b[0m",
      "\u001b[0;31mAttributeError\u001b[0m                            Traceback (most recent call last)",
      "Cell \u001b[0;32mIn [3], line 107\u001b[0m\n\u001b[1;32m    101\u001b[0m     PublishPositionTrajectory(trajopt\u001b[38;5;241m.\u001b[39mReconstructPath(result), context, plant,\n\u001b[1;32m    102\u001b[0m                               visualizer)\n\u001b[1;32m    103\u001b[0m     collision_visualizer\u001b[38;5;241m.\u001b[39mPublish(\n\u001b[1;32m    104\u001b[0m         collision_visualizer\u001b[38;5;241m.\u001b[39mGetMyContextFromRoot(context))\n\u001b[0;32m--> 107\u001b[0m \u001b[43mtrajopt_shelves_demo\u001b[49m\u001b[43m(\u001b[49m\u001b[43m)\u001b[49m\n",
      "Cell \u001b[0;32mIn [3], line 48\u001b[0m, in \u001b[0;36mtrajopt_shelves_demo\u001b[0;34m()\u001b[0m\n\u001b[1;32m     43\u001b[0m trajopt\u001b[38;5;241m.\u001b[39mAddPositionBounds(plant\u001b[38;5;241m.\u001b[39mGetPositionLowerLimits(),\n\u001b[1;32m     44\u001b[0m                           plant\u001b[38;5;241m.\u001b[39mGetPositionUpperLimits())\n\u001b[1;32m     45\u001b[0m trajopt\u001b[38;5;241m.\u001b[39mAddVelocityBounds(plant\u001b[38;5;241m.\u001b[39mGetVelocityLowerLimits(),\n\u001b[1;32m     46\u001b[0m                           plant\u001b[38;5;241m.\u001b[39mGetVelocityUpperLimits())\n\u001b[0;32m---> 48\u001b[0m \u001b[43mtrajopt\u001b[49m\u001b[38;5;241;43m.\u001b[39;49m\u001b[43mAddDurationBounds\u001b[49m(\u001b[38;5;241m.5\u001b[39m, \u001b[38;5;241m5\u001b[39m)\n\u001b[1;32m     49\u001b[0m trajopt\u001b[38;5;241m.\u001b[39mAddEqualTimeIntervalConstraints()\n\u001b[1;32m     51\u001b[0m \u001b[38;5;66;03m# start constraint\u001b[39;00m\n",
      "\u001b[0;31mAttributeError\u001b[0m: 'pydrake.systems.trajectory_optimization.KinematicT' object has no attribute 'AddDurationBounds'"
     ]
    }
   ]
  },
  {
   "cell_type": "markdown",
   "source": "## Moving between bins (without hitting the cameras!)",
   "metadata": {
    "cell_id": "00005-6da7a10e-cc77-437a-b397-e22ae9efbc22",
    "deepnote_cell_type": "markdown",
    "deepnote_cell_height": 70
   }
  },
  {
   "cell_type": "code",
   "metadata": {
    "cell_id": "00006-ea2c399b-fab1-402e-b44e-bb3922eb8bd0",
    "deepnote_to_be_reexecuted": true,
    "source_hash": "49418609",
    "deepnote_cell_type": "code",
    "deepnote_cell_height": 1894
   },
   "source": "def trajopt_bins_demo():\n    meshcat.Delete()\n    builder = DiagramBuilder()\n\n    plant, scene_graph = AddMultibodyPlantSceneGraph(builder, time_step=0.001)\n\n    parser = Parser(plant)\n    AddPackagePaths(parser)\n    bin = parser.AddAllModelsFromFile(\n        FindResource(\"models/two_bins_w_cameras.dmd.yaml\"))\n    iiwa = AddIiwa(plant)\n    wsg = AddWsg(plant, iiwa, welded=True, sphere=True)\n    X_WStart = RigidTransform([0.5, 0, 0.15])\n    meshcat.SetObject(\"start\", Sphere(0.02), rgba=Rgba(.9, .1, .1, 1))\n    meshcat.SetTransform(\"start\", X_WStart)\n    X_WGoal = RigidTransform([0, -0.6, 0.15])\n    meshcat.SetObject(\"goal\", Sphere(0.02), rgba=Rgba(.1, .9, .1, 1))\n    meshcat.SetTransform(\"goal\", X_WGoal)\n\n    plant.Finalize()\n\n    visualizer = MeshcatVisualizer.AddToBuilder(\n        builder, scene_graph, meshcat,\n        MeshcatVisualizerParams(role=Role.kIllustration))\n    collision_visualizer = MeshcatVisualizer.AddToBuilder(\n        builder, scene_graph, meshcat,\n        MeshcatVisualizerParams(prefix=\"collision\", role=Role.kProximity))\n    meshcat.SetProperty(\"collision\", \"visible\", False)\n\n    diagram = builder.Build()\n    context = diagram.CreateDefaultContext()\n    plant_context = plant.GetMyContextFromRoot(context)\n\n    q0 = plant.GetPositions(plant_context)\n    gripper_frame = plant.GetFrameByName(\"body\", wsg)\n\n    trajopt = KinematicTrajectoryOptimization(plant.num_positions(), 10)\n    prog = trajopt.get_mutable_prog()\n    trajopt.AddDurationCost(1.0)\n    trajopt.AddPathLengthCost(1.0)\n    trajopt.AddPositionBounds(plant.GetPositionLowerLimits(),\n                              plant.GetPositionUpperLimits())\n    trajopt.AddVelocityBounds(plant.GetVelocityLowerLimits(),\n                              plant.GetVelocityUpperLimits())\n\n    trajopt.AddDurationBounds(.5, 50)\n    trajopt.AddEqualTimeIntervalConstraints()\n\n    # start constraint\n    start_constraint = PositionConstraint(plant, plant.world_frame(),\n                                          X_WStart.translation(),\n                                          X_WStart.translation(), gripper_frame,\n                                          [0, 0.1, 0], plant_context)\n    trajopt.AddPathConstraint(start_constraint, 0)\n    prog.AddQuadraticErrorCost(np.eye(7), q0,\n                               trajopt.path_control_points()[:, 0])\n\n    # goal constraint\n    goal_constraint = PositionConstraint(plant, plant.world_frame(),\n                                         X_WGoal.translation(),\n                                         X_WGoal.translation(), gripper_frame,\n                                         [0, 0.1, 0], plant_context)\n    trajopt.AddPathConstraint(goal_constraint, 1)\n    prog.AddQuadraticErrorCost(np.eye(7), q0,\n                               trajopt.path_control_points()[:, -1])\n\n    # start and end with zero velocity\n    trajopt.AddFixedPathVelocityConstraint(np.zeros((7,1)), 0)\n    trajopt.AddFixedPathVelocityConstraint(np.zeros((7,1)), 1)\n\n    # Solve once without the collisions and set that as the initial guess for\n    # the version with collisions.\n    result = Solve(prog)\n    if not result.is_success():\n        print(\"Trajectory optimization failed, even without collisions!\")\n        print(result.get_solver_id().name())\n    trajopt.SetPathInitialGuess(trajopt.ReconstructPath(result))\n\n    PublishPositionTrajectory(trajopt.ReconstructPath(result), context, plant,\n                              visualizer)\n    collision_visualizer.Publish(\n        collision_visualizer.GetMyContextFromRoot(context))\n\n    # collision constraints\n    collision_constraint = MinimumDistanceConstraint(plant, 0.001,\n                                                     plant_context, None, 0.01)\n    evaluate_at_s = np.linspace(0, 1, 25)\n    for s in evaluate_at_s:\n        trajopt.AddPathConstraint(collision_constraint, s)\n\n    result = Solve(prog)\n    if not result.is_success():\n        print(\"Trajectory optimization failed\")\n        print(result.get_solver_id().name())\n\n    PublishPositionTrajectory(trajopt.ReconstructPath(result), context, plant,\n                              visualizer)\n    collision_visualizer.Publish(\n        collision_visualizer.GetMyContextFromRoot(context))\n    \n\ntrajopt_bins_demo()",
   "execution_count": null,
   "outputs": []
  },
  {
   "cell_type": "code",
   "metadata": {
    "cell_id": "00007-1b272bfa-cda6-4abf-89ad-ca2fdf8736c8",
    "deepnote_to_be_reexecuted": true,
    "source_hash": "752a52ee",
    "deepnote_cell_type": "code",
    "deepnote_cell_height": 1930
   },
   "source": "def trajopt_bins_demo():\n    meshcat.Delete()\n    builder = DiagramBuilder()\n\n    plant, scene_graph = AddMultibodyPlantSceneGraph(builder, time_step=0.001)\n\n    parser = Parser(plant)\n    AddPackagePaths(parser)\n    # bin = parser.AddAllModelsFromFile(\n    #     FindResource(\"models/two_bins_w_cameras.dmd.yaml\"))\n    iiwa = AddIiwa(plant)\n    wsg = AddWsg(plant, iiwa, welded=True, sphere=True)\n    X_WStart = RigidTransform([0.5, 0, 0.15])\n    meshcat.SetObject(\"start\", Sphere(0.02), rgba=Rgba(.9, .1, .1, 1))\n    meshcat.SetTransform(\"start\", X_WStart)\n    X_WGoal = RigidTransform([0, -0.6, 0.15])\n    meshcat.SetObject(\"goal\", Sphere(0.02), rgba=Rgba(.1, .9, .1, 1))\n    meshcat.SetTransform(\"goal\", X_WGoal)\n\n    plant.Finalize()\n\n    visualizer = MeshcatVisualizer.AddToBuilder(\n        builder, scene_graph, meshcat,\n        MeshcatVisualizerParams(role=Role.kIllustration))\n    collision_visualizer = MeshcatVisualizer.AddToBuilder(\n        builder, scene_graph, meshcat,\n        MeshcatVisualizerParams(prefix=\"collision\", role=Role.kProximity))\n    meshcat.SetProperty(\"collision\", \"visible\", False)\n\n    diagram = builder.Build()\n    context = diagram.CreateDefaultContext()\n    plant_context = plant.GetMyContextFromRoot(context)\n\n    q0 = plant.GetPositions(plant_context)\n    gripper_frame = plant.GetFrameByName(\"body\", wsg)\n\n    trajopt = KinematicTrajectoryOptimization(plant.num_positions(), 10)\n    prog = trajopt.get_mutable_prog()\n    trajopt.AddDurationCost(1.0)\n    trajopt.AddPathLengthCost(1.0)\n    trajopt.AddPositionBounds(plant.GetPositionLowerLimits(),\n                              plant.GetPositionUpperLimits())\n    trajopt.AddVelocityBounds(plant.GetVelocityLowerLimits(),\n                              plant.GetVelocityUpperLimits())\n\n    trajopt.AddDurationBounds(.5, 50)\n    trajopt.AddEqualTimeIntervalConstraints()\n\n    # start constraint\n    start_constraint = PositionConstraint(plant, plant.world_frame(),\n                                          X_WStart.translation(),\n                                          X_WStart.translation(), gripper_frame,\n                                          [0, 0.1, 0], plant_context)\n    trajopt.AddPathConstraint(start_constraint, 0)\n    prog.AddQuadraticErrorCost(np.eye(7), q0,\n                               trajopt.path_control_points()[:, 0])\n\n    # goal constraint\n    goal_constraint = PositionConstraint(plant, plant.world_frame(),\n                                         X_WGoal.translation(),\n                                         X_WGoal.translation(), gripper_frame,\n                                         [0, 0.1, 0], plant_context)\n    trajopt.AddPathConstraint(goal_constraint, 1)\n    prog.AddQuadraticErrorCost(np.eye(7), q0,\n                               trajopt.path_control_points()[:, -1])\n\n    # start and end with zero velocity\n    trajopt.AddFixedPathVelocityConstraint(np.zeros((7,1)), 0)\n    trajopt.AddFixedPathVelocityConstraint(np.zeros((7,1)), 1)\n\n    # Solve once without the collisions and set that as the initial guess for\n    # the version with collisions.\n    result = Solve(prog)\n    if not result.is_success():\n        print(\"Trajectory optimization failed, even without collisions!\")\n        print(result.get_solver_id().name())\n    trajopt.SetPathInitialGuess(trajopt.ReconstructPath(result))\n\n    PublishPositionTrajectory(trajopt.ReconstructPath(result), context, plant,\n                              visualizer)\n    collision_visualizer.Publish(\n        collision_visualizer.GetMyContextFromRoot(context))\n\n    return\n\n    # collision constraints\n    collision_constraint = MinimumDistanceConstraint(plant, 0.001,\n                                                     plant_context, None, 0.01)\n    evaluate_at_s = np.linspace(0, 1, 25)\n    for s in evaluate_at_s:\n        trajopt.AddPathConstraint(collision_constraint, s)\n\n    result = Solve(prog)\n    if not result.is_success():\n        print(\"Trajectory optimization failed\")\n        print(result.get_solver_id().name())\n\n    PublishPositionTrajectory(trajopt.ReconstructPath(result), context, plant,\n                              visualizer)\n    collision_visualizer.Publish(\n        collision_visualizer.GetMyContextFromRoot(context))\n    \n\ntrajopt_bins_demo()",
   "execution_count": null,
   "outputs": []
  },
  {
   "cell_type": "markdown",
   "source": "<a style='text-decoration:none;line-height:16px;display:flex;color:#5B5B62;padding:10px;justify-content:end;' href='https://deepnote.com?utm_source=created-in-deepnote-cell&projectId=68a898be-bd4e-4046-916a-6293aadf6c5d' target=\"_blank\">\n<img alt='Created in deepnote.com' style='display:inline;max-height:16px;margin:0px;margin-right:7.5px;' src='data:image/svg+xml;base64,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' > </img>\nCreated in <span style='font-weight:600;margin-left:4px;'>Deepnote</span></a>",
   "metadata": {
    "tags": [],
    "created_in_deepnote_cell": true,
    "deepnote_cell_type": "markdown"
   }
  }
 ],
 "nbformat": 4,
 "nbformat_minor": 1,
 "metadata": {
  "colab": {
   "collapsed_sections": [],
   "name": "Robotic Manipulation - Motion Planning.ipynb",
   "provenance": []
  },
  "deepnote": {},
  "deepnote_execution_queue": [],
  "deepnote_notebook_id": "0e86eace-0ac8-4d06-8cb0-ddb35aa3caaf",
  "kernelspec": {
   "display_name": "Python 3.10.8 64-bit",
   "language": "python",
   "name": "python3"
  },
  "language_info": {
   "codemirror_mode": {
    "name": "ipython",
    "version": 3
   },
   "file_extension": ".py",
   "mimetype": "text/x-python",
   "name": "python",
   "nbconvert_exporter": "python",
   "pygments_lexer": "ipython3",
   "version": "3.10.8"
  },
  "vscode": {
   "interpreter": {
    "hash": "aee8b7b246df8f9039afb4144a1f6fd8d2ca17a180786b69acc140d282b71a49"
   }
  }
 }
}