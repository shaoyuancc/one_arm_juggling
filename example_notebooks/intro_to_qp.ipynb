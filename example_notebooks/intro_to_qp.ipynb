{
 "cells": [
  {
   "cell_type": "markdown",
   "source": "# Introduction to QP",
   "metadata": {
    "cell_id": "b84157b9baf0400fb23813b2da4d8f48",
    "colab_type": "text",
    "id": "ERSps3-ac4Po",
    "deepnote_cell_type": "markdown",
    "deepnote_cell_height": 82
   }
  },
  {
   "cell_type": "code",
   "metadata": {
    "cell_id": "9fb03d1fdbbd4b85a8dbdaf7595ef268",
    "colab": {},
    "colab_type": "code",
    "deepnote_to_be_reexecuted": false,
    "execution_millis": 804,
    "execution_start": 1664326470678,
    "id": "tFMmTfbHWQfh",
    "source_hash": "b623afee",
    "deepnote_cell_type": "code",
    "deepnote_cell_height": 166
   },
   "source": "# python libraries\nimport numpy as np\n\nfrom pydrake.all import (\n    MathematicalProgram, Solve, eq, le, ge\n)",
   "outputs": [],
   "execution_count": null
  },
  {
   "cell_type": "markdown",
   "source": "# Introduction to MathematicalProgram \n\nThe purpose of this exercise is to get you familiar with the basics of what an instance of an optimization problem is, as well as how to solve it. \n\nAn optimization problem is usually written as \n\n$$\\begin{aligned} \\min_x \\quad & f(x) \\\\ \\textrm{s.t.} \\quad & g(x)\\leq 0,\\\\ \\quad &  h(x)=0 \\end{aligned}$$\n\nWe call $x$ the **decision variable**, $f(x)$ the **cost function**, $g(x)\\leq 0$ an **inequality constraint**, and $h(x)=0$ an **equality constraint**. We usually denote the optimal solution by $x^*$. Most of the times, the constraints are hard-constraints, meaning that they must be fulfilled by the optimal solution. \n\nDrake offers a very good interface to many solvers using `MathematicalProgram`. Let's try to solve a simple problem using `MathematicalProgram`: \n\n$$\\begin{aligned} \\min_x \\quad & \\frac{1}{2}x^2 \\\\ \\textrm{s.t.} \\quad & x\\geq 3 \\end{aligned}$$\n\nBefore we start coding, what do you expect the answer to be? You should persuade yourself that the optimal solution is $x^*=3$, since that is value at which minimum cost is achieved without violating the constraint.\n\n",
   "metadata": {
    "cell_id": "4d76ef6054804e54b1f89abba672f58a",
    "colab_type": "text",
    "id": "ze9gQeOVOJUA",
    "deepnote_cell_type": "markdown",
    "deepnote_cell_height": 552.703125
   }
  },
  {
   "cell_type": "code",
   "metadata": {
    "cell_id": "0c594794bfca489d8e331d3691cb4b54",
    "colab": {},
    "colab_type": "code",
    "deepnote_to_be_reexecuted": false,
    "execution_millis": 7,
    "execution_start": 1664326471491,
    "id": "Khi7GeVNcwtU",
    "source_hash": "2e0afcdc",
    "deepnote_cell_type": "code",
    "deepnote_cell_height": 466.6875
   },
   "source": "'''\nSteps to solve a optimization problem using Drake's MathematicalProgram\n'''\n# 1. Define an instance of MathematicalProgram \nprog = MathematicalProgram() \n\n# 2. Add decision varaibles\nx = prog.NewContinuousVariables(1)\n\n# 3. Add Cost function \nprog.AddCost(x.dot(x))\n\n# 4. Add Constraints\nprog.AddConstraint(x[0] >= 3)\n\n# 5. Solve the problem \nresult = Solve(prog)\n\n# 6. Get the solution\nif (result.is_success): \n  print(\"Solution: \" + str(result.GetSolution()))",
   "outputs": [
    {
     "name": "stdout",
     "output_type": "stream",
     "text": "Solution: [3.]\n"
    }
   ],
   "execution_count": null
  },
  {
   "cell_type": "markdown",
   "source": "You should have seen that we were successful in getting the expected solution of $x^*=3$. \n\nA particular class of problems that we want to focus on this problem are [Quadratic Programs (QP)](https://en.wikipedia.org/wiki/Quadratic_programming), which can be solved very efficiently in practice (even on the order of kHz).\n\nThe general formulation of these problems are defined as follows. \n\n$$\\begin{aligned} \\min_x \\quad & \\frac{1}{2}x^T\\mathbf{Q}x + c^Tx \\\\ \\textrm{s.t.} \\quad & \\mathbf{A}x\\leq b,\\\\ \\quad &  \\mathbf{A}'x=b' \\end{aligned}$$\n\nwhere $\\mathbf{Q}$ is a positive-definite, symmetric matrix. Note that the cost is a quadratic function of the decision variables, while the constraints are all linear. This is what defines a convex QP. \n\nLet's practice solving a simple QP: \n\n$$\\begin{aligned} \\min_{x_0,x_1,x_2} \\quad & x_0^2 + x_1^2 + x_2^2 \\\\ \\textrm{s.t.} \\quad & \\begin{pmatrix} 2 & 3 & 1 \\\\ 5 & 1 & 0 \\end{pmatrix} \\begin{pmatrix} x_0 \\\\ x_1 \\\\ x_2 \\end{pmatrix} = \\begin{pmatrix} 1 \\\\ 1 \\end{pmatrix}\\\\  \\quad &  \\begin{pmatrix} x_0 \\\\ x_1 \\\\ x_2 \\end{pmatrix} \\leq \\begin{pmatrix} 2 \\\\ 2 \\\\ 2\\end{pmatrix} \\end{aligned}$$\n\nTo conveniently write down constraints that are vector-valued, Drake offers `eq,le,ge` for elementwise constraints. It might take some time to learn the syntax of constraints. For a more well-written and in-depth introduction to `MathematicalProgram`, [this notebook tutorial](https://mybinder.org/v2/gh/RobotLocomotion/drake/nightly-release-binder?filepath=tutorials/mathematical_program.ipynb) is incredibly useful. \n \n",
   "metadata": {
    "cell_id": "35f86294d65440878bbefbb4522cbcc1",
    "colab_type": "text",
    "id": "HvEI7697UUZC",
    "deepnote_cell_type": "markdown",
    "deepnote_cell_height": 608.140625
   }
  },
  {
   "cell_type": "code",
   "metadata": {
    "cell_id": "298109f2b8a84848b154f94645c1cbd9",
    "colab": {},
    "colab_type": "code",
    "deepnote_to_be_reexecuted": false,
    "execution_millis": 45,
    "execution_start": 1664326471522,
    "id": "SNvpjgzxVQJC",
    "source_hash": "22232963",
    "deepnote_cell_type": "code",
    "deepnote_cell_height": 366.578125
   },
   "source": "prog = MathematicalProgram()\n\nx = prog.NewContinuousVariables(3)\n\nprog.AddCost(x.dot(x)) \nprog.AddConstraint(eq(np.array([[2, 3, 1], [5, 1, 0]]).dot(x), [1, 1]))\nprog.AddConstraint(le(x, 2 * np.ones(3)))\n\nresult = Solve(prog)\n\n# 6. Get the solution\nif (result.is_success()): \n  print(\"Solution: \" + str(result.GetSolution()))",
   "outputs": [
    {
     "name": "stdout",
     "output_type": "stream",
     "text": "Solution: [0.15897436 0.20512821 0.06666667]\n"
    }
   ],
   "execution_count": null
  },
  {
   "cell_type": "markdown",
   "source": "\n**Now, it's your turn to solve a simple problem!** \n\nYou must solve the following problem and store the result in a variable named `result_submission`. \n\n$$\\begin{aligned} \\min_{x_0,x_1,x_2} \\quad & 2x_0^2 + x_1^2 + 3x_2^2 \\\\ \\textrm{s.t.} \\quad & \\begin{pmatrix} 1 & 2 & 3 \\\\ 2 & 7 & 4 \\end{pmatrix} \\begin{pmatrix} x_0 \\\\ x_1  \\\\ x_2 \\end{pmatrix} = \\begin{pmatrix} 1 \\\\ 1 \\end{pmatrix} \\\\ \\quad &  |x| \\leq \\begin{pmatrix} 0.35 \\\\ 0.35 \\\\ 0.35\\end{pmatrix} \\end{aligned}$$\n\nNOTE: The last constraint says that the absolute value of `x[i]` must be less than the value of `b_bb[i]`. You cannot put an absolute value directly as a constraint, so there are two routes that you can take:\n- Break the constraints down to two constraints that don't involve the absolute value.  \n- Drake offers [`AddBoundingboxConstraint`](https://drake.mit.edu/doxygen_cxx/classdrake_1_1solvers_1_1_mathematical_program.html#a1b4d1c9278bc20bf599b1e74178f51c8) which you may use in your implementation.",
   "metadata": {
    "cell_id": "b732476847764d7cbb3d0042f9d35e3b",
    "colab_type": "text",
    "id": "SmYZWSewSwf6",
    "deepnote_cell_type": "markdown",
    "deepnote_cell_height": 403.40625
   }
  },
  {
   "cell_type": "code",
   "metadata": {
    "cell_id": "1b4a68d399c14f9abcb642b2def37525",
    "colab": {},
    "colab_type": "code",
    "deepnote_to_be_reexecuted": false,
    "execution_millis": 622,
    "execution_start": 1664327041356,
    "id": "qhMB4kc3asCE",
    "source_hash": "a1463e38",
    "deepnote_cell_type": "code",
    "deepnote_cell_height": 571.359375,
    "deepnote_output_heights": [
     192.953125
    ]
   },
   "source": "prog = MathematicalProgram()\n\nx = prog.NewContinuousVariables(3)\nx_sq = np.multiply(x,x)\nx_sq_coeffs = np.array([2, 1, 3])\nprog.AddCost(x_sq_coeffs.dot(x_sq))\nprog.AddConstraint(eq(np.array([[1, 2, 3], [2, 7, 4]]).dot(x), [1, 1]))\nlb = [-0.35, -0.35, -0.35]\nub = [0.35, 0.35, 0.35];\nprog.AddBoundingBoxConstraint(lb, ub, x)\n\nresult = Solve(prog)\n\n# 6. Get the solution\nif (result.is_success()): \n  print(\"Solution: \" + str(result.GetSolution()))\n\n# Modify here to get the solution to the above optimization problem. \n\nresult_submission = result.GetSolution() # store the result here. ",
   "execution_count": null,
   "outputs": [
    {
     "name": "stdout",
     "output_type": "stream",
     "text": "[Variable('x(0)', Continuous) Variable('x(1)', Continuous)\n Variable('x(2)', Continuous)]\nSolution: [ 0.15 -0.1   0.35]\n/tmp/ipykernel_74/323283239.py:5: RuntimeWarning: invalid value encountered in multiply\n  x_sq = np.multiply(x,x)\n/usr/local/lib/python3.8/dist-packages/numpy/lib/function_base.py:2246: RuntimeWarning: invalid value encountered in ? (vectorized)\n  outputs = ufunc(*inputs)\n"
    }
   ]
  },
  {
   "cell_type": "markdown",
   "source": "## How will this notebook be Graded?##\n\nIf you are enrolled in the class, this notebook will be graded using [Gradescope](www.gradescope.com). You should have gotten the enrollement code on our announcement in Piazza. \n\nFor submission of this assignment, you must do as follows:\n- Download and submit the notebook `intro_to_qp.ipynb` to Gradescope's notebook submission section, along with your notebook for the other problems.\n\nWe will evaluate the local functions in the notebook to see if the function behaves as we have expected. For this exercise, the rubric is as follows:\n- [4 pts] `result_submission` must have the correct answer to the QP. ",
   "metadata": {
    "cell_id": "b63addde19914ed99421101c565d9fe2",
    "colab_type": "text",
    "id": "zPmeRLtJk410",
    "deepnote_cell_type": "markdown",
    "deepnote_cell_height": 335.1875
   }
  },
  {
   "cell_type": "markdown",
   "source": "Below is our autograder where you can check the correctness of your implementations. ",
   "metadata": {
    "cell_id": "7c7a949477b14758ba511d99a6d17afa",
    "colab_type": "text",
    "id": "t4GLP2woecl5",
    "deepnote_cell_type": "markdown",
    "deepnote_cell_height": 52.390625
   }
  },
  {
   "cell_type": "code",
   "metadata": {
    "cell_id": "a6a9aab9334a4e36b78b912a5f6a230e",
    "colab": {},
    "colab_type": "code",
    "deepnote_to_be_reexecuted": true,
    "execution_millis": 662,
    "execution_start": 1664119175249,
    "id": "Ea4zI6Enefhx",
    "source_hash": "e55b18f1",
    "deepnote_cell_type": "code",
    "deepnote_cell_height": 218.078125
   },
   "source": "from manipulation.exercises.pick.test_simple_qp import TestSimpleQP \nfrom manipulation.exercises.grader import Grader \n\nGrader.grade_output([TestSimpleQP], [locals()], 'results.json')\nGrader.print_test_results('results.json')",
   "execution_count": null,
   "outputs": [
    {
     "name": "stdout",
     "output_type": "stream",
     "text": "Total score is 4/4.\n\nScore for Test Simple QP problem is 4/4.\n"
    }
   ]
  },
  {
   "cell_type": "code",
   "metadata": {
    "cell_id": "b5951da5b8b74ec8a4a2b1a65882831e",
    "deepnote_to_be_reexecuted": true,
    "source_hash": "b623e53d",
    "tags": [],
    "deepnote_cell_type": "code",
    "deepnote_cell_height": 76
   },
   "source": "",
   "execution_count": null,
   "outputs": []
  },
  {
   "cell_type": "markdown",
   "source": "<a style='text-decoration:none;line-height:16px;display:flex;color:#5B5B62;padding:10px;justify-content:end;' href='https://deepnote.com?utm_source=created-in-deepnote-cell&projectId=68a898be-bd4e-4046-916a-6293aadf6c5d' target=\"_blank\">\n<img alt='Created in deepnote.com' style='display:inline;max-height:16px;margin:0px;margin-right:7.5px;' src='data:image/svg+xml;base64,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' > </img>\nCreated in <span style='font-weight:600;margin-left:4px;'>Deepnote</span></a>",
   "metadata": {
    "tags": [],
    "created_in_deepnote_cell": true,
    "deepnote_cell_type": "markdown"
   }
  }
 ],
 "nbformat": 4,
 "nbformat_minor": 0,
 "metadata": {
  "celltoolbar": "Tags",
  "colab": {
   "collapsed_sections": [],
   "name": "intro_to_qp.ipynb",
   "provenance": []
  },
  "deepnote": {},
  "deepnote_execution_queue": [],
  "deepnote_notebook_id": "ac7cda15f2b64936834007259e725035",
  "kernelspec": {
   "display_name": "Python 3.10.6 ('env': venv)",
   "language": "python",
   "name": "python3"
  },
  "language_info": {
   "codemirror_mode": {
    "name": "ipython",
    "version": 3
   },
   "file_extension": ".py",
   "mimetype": "text/x-python",
   "name": "python",
   "nbconvert_exporter": "python",
   "pygments_lexer": "ipython3",
   "version": "3.10.6"
  },
  "vscode": {
   "interpreter": {
    "hash": "2bd7232fbd9abc95c3909708cbcc84ef0b9891406ab61c12ee762c9823121eb1"
   }
  }
 }
}