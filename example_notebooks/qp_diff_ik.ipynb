{
 "cells": [
  {
   "cell_type": "code",
   "metadata": {
    "colab": {},
    "colab_type": "code",
    "id": "eeMrMI0-1Dhu",
    "cell_id": "d6bd53c6-d14e-4132-8c3d-c4dea7c54e73",
    "deepnote_to_be_reexecuted": false,
    "source_hash": "d7907cbe",
    "execution_start": 1669085767328,
    "execution_millis": 603,
    "deepnote_cell_type": "code",
    "deepnote_cell_height": 1215
   },
   "source": "import time\n\nimport numpy as np\nfrom IPython.display import clear_output\nfrom pydrake.all import (AddMultibodyPlantSceneGraph, DiagramBuilder,\n                         JacobianWrtVariable, MathematicalProgram,\n                         MeshcatVisualizer, PiecewisePolynomial, Solve,\n                         StartMeshcat)\n\nfrom manipulation import running_as_notebook\nfrom manipulation.meshcat_utils import plot_mathematical_program\nfrom manipulation.scenarios import AddTwoLinkIiwa\n\n\n# This one is specific to this notebook, but I'm putting it in the header to make it less distracting.\ndef Visualizer(MakeMathematicalProgram):\n    builder = DiagramBuilder()\n\n    plant, scene_graph = AddMultibodyPlantSceneGraph(builder, time_step=0.0)\n    twolink = AddTwoLinkIiwa(plant, q0=[0.0, 0.0])\n    hand = plant.GetFrameByName(\"iiwa_link_ee\")\n    plant.Finalize()\n\n    MeshcatVisualizer.AddToBuilder(builder, scene_graph, meshcat)\n    diagram = builder.Build()\n    context = diagram.CreateDefaultContext()\n    plant_context = plant.GetMyContextFromRoot(context)\n\n    meshcat.Delete()\n    meshcat.SetProperty(\"/Background\", 'top_color', [0, 0, 0])\n    meshcat.SetProperty(\"/Background\", 'bottom_color', [0, 0, 0])\n    meshcat.SetProperty(\"/Grid\", 'visible', False)\n\n    X, Y = np.meshgrid(np.linspace(-5, 5, 35), np.linspace(-5, 5, 31))\n\n    def visualize(q, v_Gdesired=[1.0, 0.0], t=None):\n        if t:\n            context.SetTime(t)\n        plant.SetPositions(plant_context, q)\n        diagram.Publish(context)\n\n        clear_output(wait=True)\n        J_G = plant.CalcJacobianTranslationalVelocity(plant_context,\n                                                      JacobianWrtVariable.kQDot,\n                                                      hand, [0, 0, 0],\n                                                      plant.world_frame(),\n                                                      plant.world_frame())\n        J_G = J_G[[0,2],:]  # Ignore Y.\n        print(\"J_G = \")\n        print(\n            np.array2string(J_G,\n                            formatter={'float': lambda x: \"{:5.2f}\".format(x)}))\n\n        prog = MakeMathematicalProgram(q, J_G, v_Gdesired)\n        result = Solve(prog)\n        plot_mathematical_program(meshcat, \"QP\", prog, X, Y, result=result)\n        # TODO: Add set_object to meshcat.Animation\n        if False: # meshcat._is_recording:\n            with meshcat._animation.at_frame(\n                    v, meshcat._recording_frame_num) as m:\n                plot_mathematical_program(m, prog, X, Y, result=result)\n\n    return visualize\n",
   "execution_count": null,
   "outputs": []
  },
  {
   "cell_type": "code",
   "metadata": {
    "cell_id": "00001-70b272a4-18e2-41e0-88f4-9d67850eaeeb",
    "deepnote_cell_type": "code",
    "deepnote_cell_height": 79
   },
   "source": "# Start the visualizer.\nmeshcat = StartMeshcat()",
   "execution_count": null,
   "outputs": []
  },
  {
   "cell_type": "markdown",
   "source": "# Differential Inverse Kinematics as a Quadratic Program\n\n## Define your mathematical program here.\n",
   "metadata": {
    "colab_type": "text",
    "id": "hSeD3PBotJUU",
    "cell_id": "00002-0c001fdf-a613-464f-99a5-365a7887c526",
    "deepnote_cell_type": "markdown",
    "deepnote_cell_height": 190
   }
  },
  {
   "cell_type": "code",
   "metadata": {
    "colab": {},
    "colab_type": "code",
    "id": "6F_KZoc1QDkY",
    "tags": [],
    "cell_id": "00003-ab5dc59a-9614-4b09-bf02-8392b8ef679b",
    "deepnote_cell_type": "code",
    "deepnote_cell_height": 223
   },
   "source": "def MakeMathematicalProgram(q, J_G, v_Gdesired):\n    prog = MathematicalProgram()\n    v = prog.NewContinuousVariables(2, 'v')\n    v_max = 3.0 \n\n    error = J_G @ v - np.asarray(v_Gdesired)\n    prog.AddCost(error.dot(error))\n    prog.AddBoundingBoxConstraint(-v_max, v_max, v)\n\n    return prog",
   "execution_count": null,
   "outputs": []
  },
  {
   "cell_type": "markdown",
   "source": "## Visualize a particular joint angle",
   "metadata": {
    "colab_type": "text",
    "id": "4i4xIYtmrIa-",
    "cell_id": "00004-b9a58cb5-7edf-4f25-b5bb-04cc053542b4",
    "deepnote_cell_type": "markdown",
    "deepnote_cell_height": 70
   }
  },
  {
   "cell_type": "code",
   "metadata": {
    "colab": {},
    "colab_type": "code",
    "id": "CM9vi0TtrIa_",
    "tags": [],
    "cell_id": "00005-97b6eb27-ae50-4952-9467-b02b411ed336",
    "deepnote_cell_type": "code",
    "deepnote_cell_height": 133
   },
   "source": "visualize = Visualizer(MakeMathematicalProgram)\n\nq = [-np.pi/2.0+0.5, 1.0]\nv_Gdesired = [0.5, 0.]\nvisualize(q, v_Gdesired)",
   "execution_count": null,
   "outputs": []
  },
  {
   "cell_type": "markdown",
   "source": "## Animated joint trajectory (passing through the singularity)",
   "metadata": {
    "colab_type": "text",
    "id": "ttJ90nfLrIbD",
    "cell_id": "00006-c0b9a243-d8fb-4ebe-a3b6-1572a585785c",
    "deepnote_cell_type": "markdown",
    "deepnote_cell_height": 110
   }
  },
  {
   "cell_type": "code",
   "metadata": {
    "colab": {},
    "colab_type": "code",
    "id": "ugsWyLNOrIbE",
    "tags": [],
    "cell_id": "00007-6c38840e-bfcb-4f32-a58f-c99560c30a5c",
    "deepnote_cell_type": "code",
    "deepnote_cell_height": 367
   },
   "source": "visualize = Visualizer(MakeMathematicalProgram)\n\nv_Gdesired = [1.0, 0.0]\nT = 2.\nq = PiecewisePolynomial.FirstOrderHold(\n    [0, T, 2 * T],\n    np.array([[-np.pi / 2.0 + 1., -np.pi / 2.0 - 1., -np.pi / 2.0 + 1.],\n              [2., -2., 2]]))\n\nnx = 35\nny = 31\nX, Y = np.meshgrid(np.linspace(-5, 5, nx), np.linspace(-5, 5, ny))\nD = np.vstack((X.reshape(1,-1), Y.reshape(1,-1)))\nfor i in range(2):\n    for t in np.linspace(0, 2*T, num=100):\n        visualize(q.value(t), v_Gdesired, t=t)\n        if not running_as_notebook: break\n        time.sleep(0.05)",
   "execution_count": null,
   "outputs": []
  },
  {
   "cell_type": "markdown",
   "source": "## Trajectory slider\n\nTODO(russt): I can remove this once I'm able to save the plotted surfaces in the meshcat animation.",
   "metadata": {
    "colab_type": "text",
    "id": "GPayCPx7rIbI",
    "cell_id": "00008-73a6a184-6bf7-48b9-ad68-80d6861fafc8",
    "deepnote_cell_type": "markdown",
    "deepnote_cell_height": 108.390625
   }
  },
  {
   "cell_type": "code",
   "metadata": {
    "colab": {},
    "colab_type": "code",
    "id": "KbPqBtd2rIbJ",
    "tags": [],
    "cell_id": "00009-28d795ba-0bc3-4a84-9c3b-ac26c5e8d7f4",
    "deepnote_cell_type": "code",
    "deepnote_cell_height": 331
   },
   "source": "visualize = Visualizer(MakeMathematicalProgram)\n\nv_Gdesired = [1.0, 0.0]\nT = 2.\nqtraj = PiecewisePolynomial.FirstOrderHold(\n    [0, T], np.array([[-np.pi / 2.0 + 1., -np.pi / 2.0 - 1.], [2., -2.]]))\nvisualize(qtraj.value(0), v_Gdesired)\n\nmeshcat.AddSlider(\"time\", min=0, max=T, step=0.05, value=0)\nmeshcat.AddButton(\"Stop Interaction Loop\")\nwhile meshcat.GetButtonClicks(\"Stop Interaction Loop\") < 1:\n    t = meshcat.GetSliderValue(\"time\")\n    visualize(qtraj.value(t), v_Gdesired)\n    if not running_as_notebook: break\n    time.sleep(0.05)\nmeshcat.DeleteAddedControls()",
   "execution_count": null,
   "outputs": []
  },
  {
   "cell_type": "markdown",
   "source": "## Joint Sliders",
   "metadata": {
    "colab_type": "text",
    "id": "DNhK1DCOrIbO",
    "cell_id": "00010-5ea3b151-5335-4831-87a5-b547771267f2",
    "deepnote_cell_type": "markdown",
    "deepnote_cell_height": 70
   }
  },
  {
   "cell_type": "code",
   "metadata": {
    "colab": {},
    "colab_type": "code",
    "id": "Kn4igrtmrIbO",
    "tags": [],
    "cell_id": "00011-0852fcc2-8dc1-4cec-a04f-bb483351619b",
    "deepnote_cell_type": "code",
    "deepnote_cell_height": 529
   },
   "source": "visualize = Visualizer(MakeMathematicalProgram)\n\nq = [-np.pi/2.0 + 0.5, 1.0]\nv_Gdesired = [1.0, 0.0]\nvisualize(q, v_Gdesired)\n\ndef _q_callback(change, index):\n    q[index] = change.new\n    visualize(q, v_Gdesired)\ndef _vG_callback(change, index):\n    v_Gdesired[index] = change.new\n    visualize(q, v_Gdesired)\n\nmeshcat.AddSlider(\"q0\", value=q[0], min=-np.pi, max=np.pi, step=0.1)\nmeshcat.AddSlider(\"q1\", value=q[1], min=-np.pi, max=np.pi, step=0.1)\nmeshcat.AddSlider(\"v_G_W0\", value=v_Gdesired[0], min=-4, max=4, step=0.1)\nmeshcat.AddSlider(\"v_G_W1\", value=v_Gdesired[1], min=-4, max=4, step=0.1)\n\nmeshcat.AddButton(\"Stop Interaction Loop\")\nwhile meshcat.GetButtonClicks(\"Stop Interaction Loop\") < 1:\n    q = [meshcat.GetSliderValue(\"q0\"), meshcat.GetSliderValue(\"q1\")]\n    v_Gdesired = [meshcat.GetSliderValue(\"v_G_W0\"),\n                  meshcat.GetSliderValue(\"v_G_W1\")]\n    visualize(q, v_Gdesired)\n    if not running_as_notebook: break\n    time.sleep(0.05)\nmeshcat.DeleteAddedControls()",
   "execution_count": null,
   "outputs": []
  },
  {
   "cell_type": "code",
   "metadata": {
    "cell_id": "00012-35b8ed88-3409-4134-a8f9-c2e2c3f4a491",
    "deepnote_cell_type": "code",
    "deepnote_cell_height": 61
   },
   "source": "",
   "execution_count": null,
   "outputs": []
  },
  {
   "cell_type": "markdown",
   "source": "<a style='text-decoration:none;line-height:16px;display:flex;color:#5B5B62;padding:10px;justify-content:end;' href='https://deepnote.com?utm_source=created-in-deepnote-cell&projectId=68a898be-bd4e-4046-916a-6293aadf6c5d' target=\"_blank\">\n<img alt='Created in deepnote.com' style='display:inline;max-height:16px;margin:0px;margin-right:7.5px;' src='data:image/svg+xml;base64,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' > </img>\nCreated in <span style='font-weight:600;margin-left:4px;'>Deepnote</span></a>",
   "metadata": {
    "tags": [],
    "created_in_deepnote_cell": true,
    "deepnote_cell_type": "markdown"
   }
  }
 ],
 "nbformat": 4,
 "nbformat_minor": 2,
 "metadata": {
  "colab": {
   "collapsed_sections": [],
   "name": "Robotic Manipulation - Lecture 5 Breakout.ipynb",
   "provenance": [],
   "toc_visible": true
  },
  "deepnote_notebook_id": "b824f803-8fc2-4f58-8838-9dbf5b8b18a8",
  "kernelspec": {
   "display_name": "Python 3.10.8 ('env': venv)",
   "language": "python",
   "name": "python3"
  },
  "language_info": {
   "codemirror_mode": {
    "name": "ipython",
    "version": 3
   },
   "file_extension": ".py",
   "mimetype": "text/x-python",
   "name": "python",
   "nbconvert_exporter": "python",
   "pygments_lexer": "ipython3",
   "version": "3.10.8"
  },
  "vscode": {
   "interpreter": {
    "hash": "658b3890ec8b114d90a271e0d674c30e1f4442af38c20814bfc226b65d16a986"
   }
  },
  "deepnote": {},
  "deepnote_execution_queue": []
 }
}