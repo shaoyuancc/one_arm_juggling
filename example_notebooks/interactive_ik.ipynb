{
 "cells": [
  {
   "cell_type": "markdown",
   "metadata": {
    "cell_id": "758bddc4-3c16-4a85-870e-fd8ce500cf09",
    "deepnote_cell_height": 52.390625,
    "deepnote_cell_type": "markdown",
    "id": "EgiF12Hf1Dhs"
   },
   "source": [
    "This notebook provides examples to go along with the [textbook](http://manipulation.csail.mit.edu/trajectories.html).  I recommend having both windows open, side-by-side!"
   ]
  },
  {
   "cell_type": "code",
   "execution_count": 1,
   "metadata": {
    "cell_id": "00001-6ad2a1f0-affd-4823-9e66-a67794d35748",
    "deepnote_cell_height": 256,
    "deepnote_cell_type": "code",
    "deepnote_to_be_reexecuted": false,
    "execution_millis": 1,
    "execution_start": 1667083422719,
    "id": "eeMrMI0-1Dhu",
    "source_hash": "ccc9b45"
   },
   "outputs": [],
   "source": [
    "import numpy as np\n",
    "from IPython.display import clear_output\n",
    "from pydrake.all import (AddMultibodyPlantSceneGraph, Box, Cylinder,\n",
    "                         DiagramBuilder, InverseKinematics, MeshcatVisualizer,\n",
    "                         MeshcatVisualizerParams, RigidTransform, RollPitchYaw,\n",
    "                         RotationMatrix, Solve, StartMeshcat,\n",
    "                         Sphere, Rgba, JointSliders)\n",
    "\n",
    "from manipulation import running_as_notebook\n",
    "from manipulation.meshcat_utils import MeshcatPoseSliders\n",
    "from manipulation.scenarios import AddIiwa, AddShape, AddWsg\n"
   ]
  },
  {
   "cell_type": "code",
   "execution_count": 2,
   "metadata": {
    "cell_id": "00002-a2a70100-f383-4677-af3a-b7f234245225",
    "deepnote_cell_height": 195.578125,
    "deepnote_cell_type": "code",
    "deepnote_output_heights": [
     null,
     20.1875
    ],
    "deepnote_to_be_reexecuted": false,
    "execution_millis": 504,
    "execution_start": 1667083423119,
    "source_hash": "6d42057f"
   },
   "outputs": [
    {
     "name": "stderr",
     "output_type": "stream",
     "text": [
      "INFO:drake:Meshcat listening for connections at http://localhost:7000\n"
     ]
    }
   ],
   "source": [
    "# Start the visualizer.\n",
    "meshcat = StartMeshcat()"
   ]
  },
  {
   "cell_type": "markdown",
   "metadata": {
    "cell_id": "00003-0c997669-869a-4cf1-8f11-54a0eca42899",
    "deepnote_cell_height": 142.796875,
    "deepnote_cell_type": "markdown"
   },
   "source": [
    "# Interactive inverse kinematics\n",
    "\n",
    "We use this to get the joint angles for the target positions"
   ]
  },
  {
   "cell_type": "code",
   "execution_count": 3,
   "metadata": {
    "cell_id": "00007-f429aff6-2be8-4e98-951f-3e9083170d69",
    "deepnote_cell_height": 1002,
    "deepnote_cell_type": "code"
   },
   "outputs": [
    {
     "name": "stdout",
     "output_type": "stream",
     "text": [
      "IK success\n",
      "Joint positions: [-2.00188489  1.23067234  0.03573024 -1.42203902  1.57121904  1.71564864\n",
      " -2.64577454]\n"
     ]
    },
    {
     "ename": "KeyboardInterrupt",
     "evalue": "",
     "output_type": "error",
     "traceback": [
      "\u001b[0;31m---------------------------------------------------------------------------\u001b[0m",
      "\u001b[0;31mKeyboardInterrupt\u001b[0m                         Traceback (most recent call last)",
      "Cell \u001b[0;32mIn [3], line 62\u001b[0m\n\u001b[1;32m     59\u001b[0m meshcat\u001b[39m.\u001b[39mSetObject(\u001b[39m\"\u001b[39m\u001b[39mgoal\u001b[39m\u001b[39m\"\u001b[39m, Sphere(\u001b[39m0.02\u001b[39m), rgba\u001b[39m=\u001b[39mRgba(\u001b[39m.1\u001b[39m, \u001b[39m.9\u001b[39m, \u001b[39m.1\u001b[39m, \u001b[39m1\u001b[39m))\n\u001b[1;32m     60\u001b[0m meshcat\u001b[39m.\u001b[39mSetTransform(\u001b[39m\"\u001b[39m\u001b[39mgoal\u001b[39m\u001b[39m\"\u001b[39m, X_WGoal)\n\u001b[0;32m---> 62\u001b[0m get_joints_inverse_kinematics(X_WGoal)\n",
      "Cell \u001b[0;32mIn [3], line 53\u001b[0m, in \u001b[0;36mget_joints_inverse_kinematics\u001b[0;34m(X_WTarget)\u001b[0m\n\u001b[1;32m     51\u001b[0m \u001b[39m# sliders.SetXyz(X_WTarget.translation())\u001b[39;00m\n\u001b[1;32m     52\u001b[0m sliders\u001b[39m.\u001b[39mSetPose(X_WTarget)\n\u001b[0;32m---> 53\u001b[0m sliders\u001b[39m.\u001b[39;49mRun(visualizer, context, my_callback)\n",
      "File \u001b[0;32m~/Documents/Software/one_arm_juggling/env/lib/python3.10/site-packages/manipulation/meshcat_utils.py:247\u001b[0m, in \u001b[0;36mMeshcatPoseSliders.Run\u001b[0;34m(self, publishing_system, root_context, callback)\u001b[0m\n\u001b[1;32m    245\u001b[0m         callback(root_context, \u001b[39mself\u001b[39m\u001b[39m.\u001b[39m_get_transform())\n\u001b[1;32m    246\u001b[0m         publishing_system\u001b[39m.\u001b[39mPublish(publishing_context)\n\u001b[0;32m--> 247\u001b[0m     time\u001b[39m.\u001b[39;49msleep(\u001b[39m.1\u001b[39;49m)\n\u001b[1;32m    249\u001b[0m \u001b[39mself\u001b[39m\u001b[39m.\u001b[39m_meshcat\u001b[39m.\u001b[39mDeleteButton(\u001b[39m\"\u001b[39m\u001b[39mStop PoseSliders\u001b[39m\u001b[39m\"\u001b[39m)\n",
      "\u001b[0;31mKeyboardInterrupt\u001b[0m: "
     ]
    }
   ],
   "source": [
    "def get_joints_inverse_kinematics(X_WTarget):\n",
    "    builder = DiagramBuilder()\n",
    "\n",
    "    plant, scene_graph = AddMultibodyPlantSceneGraph(builder, time_step=0.001)\n",
    "    iiwa = AddIiwa(plant, \"with_box_collision\")\n",
    "    wsg = AddWsg(plant, iiwa, welded=True)\n",
    "    plant.Finalize()\n",
    "\n",
    "    meshcat.DeleteAddedControls()\n",
    "    visualizer = MeshcatVisualizer.AddToBuilder(\n",
    "        builder, \n",
    "        scene_graph, \n",
    "        meshcat,\n",
    "        MeshcatVisualizerParams(prefix=\"Spatial\"))\n",
    "    joint_sliders = builder.AddSystem(JointSliders(meshcat, plant))\n",
    "\n",
    "    diagram = builder.Build()\n",
    "    context = diagram.CreateDefaultContext()\n",
    "    plant_context = plant.GetMyContextFromRoot(context)\n",
    "\n",
    "    q0 = plant.GetPositions(plant_context)\n",
    "    gripper_frame = plant.GetFrameByName(\"body\", wsg)\n",
    "\n",
    "    def my_callback(context, pose):\n",
    "        ik = InverseKinematics(plant, plant_context)\n",
    "        ik.AddPositionConstraint(\n",
    "            gripper_frame, [0, 0.07, 0], plant.world_frame(),\n",
    "            pose.translation(), pose.translation())\n",
    "        ik.AddOrientationConstraint(\n",
    "            gripper_frame, RotationMatrix(), plant.world_frame(),\n",
    "            pose.rotation(), 0.0)\n",
    "        ik.AddMinimumDistanceConstraint(0.001, 0.1)\n",
    "        prog = ik.get_mutable_prog()\n",
    "        q = ik.q()\n",
    "        prog.AddQuadraticErrorCost(np.identity(len(q)), q0, q)\n",
    "        prog.SetInitialGuess(q, q0)\n",
    "        result = Solve(ik.prog())\n",
    "        clear_output(wait=True)\n",
    "        if result.is_success():\n",
    "            print(\"IK success\")\n",
    "            joint_sliders.SetPositions(result.GetSolution())\n",
    "            print(f\"Joint positions: {result.GetSolution()}\")\n",
    "        else:\n",
    "            print(\"IK failure\")\n",
    "\n",
    "    sliders = MeshcatPoseSliders(meshcat)\n",
    "    sliders.SetPose(plant.EvalBodyPoseInWorld(\n",
    "        plant_context, plant.GetBodyByName(\"body\", wsg)))\n",
    "    # sliders.SetXyz(X_WTarget.translation())\n",
    "    sliders.SetPose(X_WTarget)\n",
    "    sliders.Run(visualizer, context, my_callback)\n",
    "\n",
    "X_WStart = RigidTransform([0.5, 0, 0.15])\n",
    "meshcat.SetObject(\"start\", Sphere(0.02), rgba=Rgba(.9, .1, .1, 1))\n",
    "meshcat.SetTransform(\"start\", X_WStart)\n",
    "X_WGoal = RigidTransform(RollPitchYaw([-0.16, 3.14, -1.92]),[0, -0.6, 0.15])\n",
    "meshcat.SetObject(\"goal\", Sphere(0.02), rgba=Rgba(.1, .9, .1, 1))\n",
    "meshcat.SetTransform(\"goal\", X_WGoal)\n",
    "\n",
    "get_joints_inverse_kinematics(X_WGoal)\n",
    "# get_joints_inverse_kinematics(X_WStart)\n"
   ]
  },
  {
   "cell_type": "markdown",
   "metadata": {
    "cell_id": "00008-b28cc378-fac5-4010-b844-99b00f6e273d",
    "deepnote_cell_height": 74.796875,
    "deepnote_cell_type": "markdown"
   },
   "source": [
    "This one has the hand tracking a cylinder, but is allowed to touch anywhere along the cylinder.  The sliders are controlling the pose of the cylinder. Or you can set `grasp_cylinder` to `False` and just chase the robot around with a stick."
   ]
  },
  {
   "cell_type": "code",
   "execution_count": 4,
   "metadata": {
    "cell_id": "00009-d4b8a5ff-b0d0-4580-bb0a-6e7a2424b0ac",
    "deepnote_cell_height": 61,
    "deepnote_cell_type": "code"
   },
   "outputs": [],
   "source": [
    "meshcat.Delete()"
   ]
  },
  {
   "cell_type": "markdown",
   "metadata": {
    "created_in_deepnote_cell": true,
    "deepnote_cell_type": "markdown",
    "tags": []
   },
   "source": [
    "<a style='text-decoration:none;line-height:16px;display:flex;color:#5B5B62;padding:10px;justify-content:end;' href='https://deepnote.com?utm_source=created-in-deepnote-cell&projectId=ec511a9b-67ea-463d-b7e3-c38e1afc222b' target=\"_blank\">\n",
    "<img alt='Created in deepnote.com' style='display:inline;max-height:16px;margin:0px;margin-right:7.5px;' src='data:image/svg+xml;base64,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' > </img>\n",
    "Created in <span style='font-weight:600;margin-left:4px;'>Deepnote</span></a>"
   ]
  }
 ],
 "metadata": {
  "colab": {
   "collapsed_sections": [],
   "name": "Robotic Manipulation - Motion Planning.ipynb",
   "provenance": []
  },
  "deepnote": {},
  "deepnote_execution_queue": [
   {
    "cellId": "00004-4656d809-1da0-4739-ad8a-3d590cf40b71",
    "msgId": "44ce6b26-9454-478b-af83-ca8e737094d5",
    "sessionId": "c2e39ac4-e166-43aa-9d6b-843b9c91ff65"
   }
  ],
  "deepnote_notebook_id": "bc8b9383-cc82-42f5-8792-3669957ec6ef",
  "kernelspec": {
   "display_name": "Python 3.10.8 ('env': venv)",
   "language": "python",
   "name": "python3"
  },
  "language_info": {
   "codemirror_mode": {
    "name": "ipython",
    "version": 3
   },
   "file_extension": ".py",
   "mimetype": "text/x-python",
   "name": "python",
   "nbconvert_exporter": "python",
   "pygments_lexer": "ipython3",
   "version": "3.10.8"
  },
  "vscode": {
   "interpreter": {
    "hash": "658b3890ec8b114d90a271e0d674c30e1f4442af38c20814bfc226b65d16a986"
   }
  }
 },
 "nbformat": 4,
 "nbformat_minor": 1
}
