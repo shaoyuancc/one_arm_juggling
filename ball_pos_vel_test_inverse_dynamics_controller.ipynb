{
 "cells": [
  {
   "cell_type": "code",
   "metadata": {
    "colab": {},
    "colab_type": "code",
    "deepnote_to_be_reexecuted": false,
    "execution_millis": 340,
    "execution_start": 1669681982422,
    "id": "eeMrMI0-1Dhu",
    "source_hash": "bc283476",
    "cell_id": "458a6df3-5069-46b4-a8bb-263ce13de3ef",
    "deepnote_cell_type": "code",
    "deepnote_cell_height": 585
   },
   "source": "import logging\nfrom copy import copy\nfrom enum import Enum\n\nimport numpy as np\nfrom IPython.display import clear_output\nfrom pydrake.all import (AbstractValue, AddMultibodyPlantSceneGraph, AngleAxis,\n                         Concatenate, DiagramBuilder, InputPortIndex,\n                         LeafSystem, MeshcatVisualizer, Parser,\n                         PiecewisePolynomial, PiecewisePose, PointCloud, RandomGenerator, RigidTransform,\n                         RollPitchYaw, Simulator, StartMeshcat,\n                         UniformlyRandomRotationMatrix,\n                         BsplineTrajectory, Sphere, Rgba,\n                         KinematicTrajectoryOptimization, Solve, MinimumDistanceConstraint,\n                         PositionConstraint, ModelInstanceIndex,\n                         SpatialVelocity, LinearConstraint)\n\nfrom manipulation import FindResource, running_as_notebook\nfrom manipulation.meshcat_utils import AddMeshcatTriad\nfrom manipulation.scenarios import (AddPackagePaths,\n                                    MakeManipulationStation, AddIiwa, AddShape, AddWsg, AddMultibodyTriad)\n\nclass NoDiffIKWarnings(logging.Filter):\n    def filter(self, record):\n        return not record.getMessage().startswith('Differential IK')\n\nlogging.getLogger(\"drake\").addFilter(NoDiffIKWarnings())\n\nfrom utils import *",
   "execution_count": 1,
   "outputs": []
  },
  {
   "cell_type": "code",
   "metadata": {
    "deepnote_to_be_reexecuted": false,
    "execution_millis": 7,
    "execution_start": 1669681982766,
    "source_hash": "6d42057f",
    "output_cleared": false,
    "cell_id": "00001-59facda7-73d3-428b-b1f9-5d5d606bc764",
    "deepnote_cell_type": "code",
    "deepnote_cell_height": 175.859375,
    "deepnote_output_heights": [
     null,
     20
    ]
   },
   "source": "# Start the visualizer.\nmeshcat = StartMeshcat()",
   "execution_count": 2,
   "outputs": [
    {
     "name": "stderr",
     "text": "INFO:drake:Meshcat listening for connections at https://68a898be-bd4e-4046-916a-6293aadf6c5d.deepnoteproject.com/7000/\n",
     "output_type": "stream"
    },
    {
     "data": {
      "text/plain": "<IPython.core.display.HTML object>",
      "text/html": "Meshcat URL: <a href='https://68a898be-bd4e-4046-916a-6293aadf6c5d.deepnoteproject.com/7000/' target='_blank'>https://68a898be-bd4e-4046-916a-6293aadf6c5d.deepnoteproject.com/7000/</a>"
     },
     "metadata": {},
     "output_type": "display_data"
    }
   ]
  },
  {
   "cell_type": "markdown",
   "source": "The order of operations:\n1. We start with comfortable joint angles for the iiwa q_throw and q_catch.\n1. We use forward kinematics to get spatial positions p_WThrow and p_WCatch\n1. we translate those by the offset between the ball and the gripper p_GB_G, to get the spatial positions the ball will be in at the point of being thrown (release) and caught X_WThrowB_W, X_WCatchB_W\n1. we calculate using simple physics the spatial velocity of the ball at the point of being thrown and caught V_WThrowB_W, V_WCatchB_W, as well as the joint angle for the last iiwa link (rotation of the gripper such that it will parallel to the velocity of the ball), given a particular max height h that it reaches.\n1. we use the Jacobian to transform the spatial velocities of the ball into joint velocities of the iiwa v_Throw and v_Catch, using the known offset between the gripper and the ball to create the Jacobian\n1. We feed the joint positions and velocities into kin traj opt so they can be used as constraints to optimize the trajectory.\n",
   "metadata": {
    "tags": [],
    "cell_id": "00002-b498ccb0-340d-436a-801f-cdd383fb704e",
    "deepnote_cell_type": "markdown",
    "deepnote_cell_height": 319.34375
   }
  },
  {
   "cell_type": "code",
   "metadata": {
    "deepnote_to_be_reexecuted": false,
    "execution_millis": 467,
    "execution_start": 1669682521319,
    "source_hash": "a6091c7c",
    "tags": [],
    "cell_id": "00003-86a1e70b-c677-45df-a5ab-2df9514ec133",
    "deepnote_cell_type": "code",
    "deepnote_cell_height": 1181.3125
   },
   "source": "internal_model = make_internal_model()\ntime_step=0.001\nt_settle = 0.0\nsquash_ball_radius = 0.02\np_GB_G = [0, 0.11, 0]\ndef add_target_objects(X_WThrow, X_WCatch):\n    p_ThrowB_W = X_WThrow.rotation() @ p_GB_G\n    X_WThrowB_W = RigidTransform(X_WThrow.rotation(), X_WThrow.translation() +  p_ThrowB_W)\n    p_CatchB_W = X_WCatch.rotation() @ p_GB_G\n    X_WCatchB_W = RigidTransform(X_WCatch.rotation(), X_WCatch.translation() +  p_CatchB_W)\n    meshcat.SetObject(\"throw\", Sphere(squash_ball_radius), rgba=Rgba(.9, .1, .1, 1))\n    meshcat.SetTransform(\"throw\", X_WThrowB_W)\n    meshcat.SetObject(\"catch\", Sphere(squash_ball_radius), rgba=Rgba(.1, .9, .1, 1))\n    meshcat.SetTransform(\"catch\", X_WCatchB_W)\n    return X_WThrowB_W, X_WCatchB_W\n\nq_Throw = np.array([-0.54, 0.58, 0, -1.79, 0, -0.79, 0])\np_WThrow = [0.57, -0.34, 0.39]\nR_WThrow = RollPitchYaw([-np.pi, 0.00, 1.03])\n\nq_Catch = np.array([-0.74, 0.58, 0, -1.79, 0, -0.79, 0])\np_WCatch = [0.49, -0.45, 0.39]\nR_WCatch = RollPitchYaw([-np.pi, 0.00, 0.83])\n\nX_WThrow = RigidTransform(R_WThrow, p_WThrow)\nX_WCatch = RigidTransform(R_WCatch, p_WCatch)\n\nX_WThrowB_W, X_WCatchB_W = add_target_objects(X_WThrow, X_WCatch)\n\nmax_height = 0.5 # Max height ball will reach in meters\nV_ThrowB, V_CatchB, t_duration = calculate_ball_vels(X_WThrowB_W.translation(), X_WCatchB_W.translation(), max_height)\noriginal_t_duration = round(t_duration,3)\ntime_scale_factor = 1 #0.936\nt_duration = t_duration * time_scale_factor\nt_duration = round(t_duration,3)\nprint(f\"original t_duration: {original_t_duration}\")\nprint(f\"scaled t_duration: {t_duration}\")\n\nvelocity_scale_factor = 1 # 1.32\noriginal_V_ThrowB = V_ThrowB\noriginal_V_CatchB = V_CatchB\ndef scale_vector(vec, scale_factor):\n    return vec * scale_factor\nV_ThrowB = scale_vector(V_ThrowB, velocity_scale_factor)\nV_CatchB = scale_vector(V_CatchB, velocity_scale_factor)\n\nprint(f\"velocity_scale_factor: {velocity_scale_factor}\")\nprint(f\"original V_ThrowB: {original_V_ThrowB}, scaled V_ThrowB: {V_ThrowB}\")\nprint(f\"original V_CatchB: {original_V_CatchB}, scaled V_CatchB: {V_CatchB}\")\n\nv_Throw = convert_spatial_vel_ball_to_joint_vel_arm(q_Throw, V_ThrowB, p_GB_G)\nv_Catch = convert_spatial_vel_ball_to_joint_vel_arm(q_Throw, V_CatchB, p_GB_G)\n\n# WSG gripper\nopened = np.array([0.02]) #[0.035]\nclosed = np.array([0.02])",
   "execution_count": 18,
   "outputs": [
    {
     "name": "stdout",
     "text": "original t_duration: 0.639\nscaled t_duration: 0.639\nvelocity_scale_factor: 1\noriginal V_ThrowB: [-0.14577219 -0.19973539  3.13049517], scaled V_ThrowB: [-0.14577219 -0.19973539  3.13049517]\noriginal V_CatchB: [-0.14577219 -0.19973539 -3.13049517], scaled V_CatchB: [-0.14577219 -0.19973539 -3.13049517]\n",
     "output_type": "stream"
    }
   ]
  },
  {
   "cell_type": "code",
   "metadata": {
    "deepnote_to_be_reexecuted": false,
    "execution_millis": 2,
    "execution_start": 1669682155519,
    "source_hash": "34f9d65a",
    "tags": [],
    "cell_id": "00004-c93706ad-7ea1-4e07-8529-2e3fa087dafe",
    "deepnote_cell_type": "code",
    "deepnote_cell_height": 1930
   },
   "source": "def make_kin_traj_opt_trajectory(q_Throw, q_Catch, v_Throw, v_Catch, t_duration):\n    context = internal_model.CreateDefaultContext()\n    plant = internal_model.GetSubsystemByName(\"plant\")\n    plant_context = plant.GetMyContextFromRoot(context)\n    \n    # print(f\"plant.num_positions()={plant.num_positions()}\")\n    # print(f\"plant.GetPositionLowerLimits()={plant.GetPositionLowerLimits()}\")\n    # print(f\"plant.GetVelocityUpperLimits()={plant.GetVelocityUpperLimits()}\")\n\n    num_control_points = 21\n    num_positions = 7\n    trajopt = KinematicTrajectoryOptimization(num_positions, num_control_points)\n    prog = trajopt.get_mutable_prog()\n\n    q_guess = np.tile(q_Catch.reshape((num_positions,1)), (1, trajopt.num_control_points()))\n    q_guess[0,:] = np.linspace(q_Catch[0], q_Throw[0], trajopt.num_control_points())\n    path_guess = BsplineTrajectory(trajopt.basis(), q_guess)\n    trajopt.SetInitialGuess(path_guess)\n    \n    trajopt.AddPathLengthCost(1)\n\n    trajopt.AddPositionBounds(plant.GetPositionLowerLimits()[:num_positions],\n                              plant.GetPositionUpperLimits()[:num_positions])\n    trajopt.AddVelocityBounds(plant.GetVelocityLowerLimits()[:num_positions],\n                              plant.GetVelocityUpperLimits()[:num_positions])\n\n    trajopt.AddDurationConstraint(2 * t_duration, 2 * t_duration) # DIFF\n\n    # constrain positions in joint angles\n    trajopt.AddPathPositionConstraint(q_Catch, q_Catch, 0)\n    trajopt.AddPathPositionConstraint(q_Throw, q_Throw, 0.5)\n    trajopt.AddPathPositionConstraint(q_Catch, q_Catch, 1)\n\n    prog.AddQuadraticErrorCost(np.eye(7), q_Catch,\n                               trajopt.control_points()[:, 0])\n    \n    prog.AddQuadraticErrorCost(np.eye(7), q_Throw,\n                               trajopt.control_points()[:, np.round(num_control_points/2).astype(int)])\n\n    # return to start\n    prog.AddQuadraticErrorCost(np.eye(7), q_Catch,\n                               trajopt.control_points()[:, -1])\n    \n\n    # velocity_constraint = LinearConstraint(np.eye(6),\n    #                                         lb=np.zeros((6, 1)),\n    #                                         ub=np.zeros((6, 1)))\n    # trajopt.AddVelocityConstraintAtNormalizedTime(velocity_constraint, s=0)\n    \n\n    v_Throw.reshape(7,1)\n    v_Catch.reshape(7,1)\n    trajopt.AddPathVelocityConstraint(v_Catch,v_Catch, 0)\n    trajopt.AddPathVelocityConstraint(v_Throw,v_Throw, 0.5)\n    trajopt.AddPathVelocityConstraint(v_Catch,v_Catch, 1)\n\n    # print(prog)\n    # Solve once without the collisions and set that as the initial guess for\n    # the version with collisions.\n    result = Solve(prog)\n    if not result.is_success():\n        print(\"Trajectory optimization failed, even without collisions!\")\n        print(result.get_solver_id().name())\n    \n    pos_traj = trajopt.ReconstructTrajectory(result)\n    vel_traj = pos_traj.MakeDerivative()\n    acc_traj = vel_traj.MakeDerivative()\n    # print(f\"kin traj opt initial t:{traj.start_time()} q: {traj.InitialValue()}\")\n    # print(f\"kin traj opt final t:{traj.end_time()} q: {traj.FinalValue()}\")\n\n    # def PlotPath(control_points):\n    #     traj = BsplineTrajectory(trajopt.basis(),\n    #                              control_points.reshape((3, -1)))\n    #     meshcat.SetLine('positions_path',\n    #                      traj.vector_values(np.linspace(0, 1, 50)))\n\n    # PlotPath(trajopt.control_points().reshape((-1,)))\n\n    return pos_traj, vel_traj, acc_traj\n    \n    trajopt.SetPathInitialGuess(trajopt.ReconstructTrajectory(result))\n\n    PublishPositionTrajectory(trajopt.ReconstructTrajectory(result), context, plant,\n                              visualizer)\n    collision_visualizer.Publish(\n        collision_visualizer.GetMyContextFromRoot(context))\n\n    \n    # collision constraints\n    collision_constraint = MinimumDistanceConstraint(plant, 0.001,\n                                                     plant_context, None, 0.01)\n    evaluate_at_s = np.linspace(0, 1, 25)\n    for s in evaluate_at_s:\n        trajopt.AddPathConstraint(collision_constraint, s)\n\n    result = Solve(prog)\n    if not result.is_success():\n        print(\"Trajectory optimization failed\")\n        print(result.get_solver_id().name())\n\n    PublishPositionTrajectory(trajopt.ReconstructTrajectory(result), context, plant,\n                              visualizer)\n    collision_visualizer.Publish(\n        collision_visualizer.GetMyContextFromRoot(context))",
   "execution_count": 14,
   "outputs": []
  },
  {
   "cell_type": "code",
   "metadata": {
    "deepnote_to_be_reexecuted": false,
    "execution_millis": 2,
    "execution_start": 1669682158475,
    "source_hash": "cefd63fa",
    "cell_id": "00005-60a975b1-264f-425a-ac53-08fe9566f581",
    "deepnote_cell_type": "code",
    "deepnote_cell_height": 3825
   },
   "source": "rs = np.random.RandomState()  # this is for python\ngenerator = RandomGenerator(rs.randint(1000))  # this is for c++\n\nclass PlannerState(Enum):\n    WAIT_FOR_OBJECTS_TO_SETTLE = 1\n    PERPETUAL_MOTION = 2\n    THINKING = 3\n\nclass Planner(LeafSystem):\n    def __init__(self, plant):\n        LeafSystem.__init__(self)\n        self.DeclareAbstractInputPort(\n            \"body_poses\", AbstractValue.Make([RigidTransform()]))\n        self._throw_pose_index = self.DeclareAbstractInputPort(\n            \"throw_pose\", AbstractValue.Make(\n                (np.inf, RigidTransform()))).get_index()\n        self._catch_pose_index = self.DeclareAbstractInputPort(\n            \"catch_pose\", AbstractValue.Make(\n                (np.inf, RigidTransform()))).get_index()\n        self._wsg_state_index = self.DeclareVectorInputPort(\"wsg_state\",\n                                                            2).get_index()\n\n        self._mode_index = self.DeclareAbstractState(\n            AbstractValue.Make(PlannerState.PERPETUAL_MOTION))\n        self._traj_wsg_index = self.DeclareAbstractState(\n            AbstractValue.Make(PiecewisePolynomial()))\n        self._times_index = self.DeclareAbstractState(AbstractValue.Make(\n            {\"initial\": 0.0}))\n        \n        self._traj_start_time_index = self.DeclareAbstractState(\n            AbstractValue.Make(0.0)\n        )\n\n        self.DeclareVectorOutputPort(\"wsg_position\", 1, self.CalcWsgPosition)\n        self.DeclareVectorOutputPort(\"traj_start_time\", 1, self.GetTrajStartTime)\n        # For Perpetual Motion mode.\n        num_positions = 7\n        self._iiwa_position_index = self.DeclareVectorInputPort(\n            \"iiwa_position\", num_positions).get_index()\n                \n        self.DeclareVectorOutputPort(\"iiwa_state_desired\", 2 * num_positions,\n                                     self.CalcIiwaDesiredState)\n        self.DeclareVectorOutputPort(\"iiwa_acceleration_desired\", num_positions,\n                                     self.CalcIiwaDesiredAcceleration)\n        self.DeclareVectorOutputPort(\"iiwa_position_command\", num_positions,\n                                     self.CalcIiwaPosition)\n\n        self._traj_arm_q_index = self.DeclareAbstractState(\n            AbstractValue.Make(BsplineTrajectory())\n        )\n        self._traj_arm_v_index = self.DeclareAbstractState(\n            AbstractValue.Make(BsplineTrajectory())\n        )\n        self._traj_arm_a_index = self.DeclareAbstractState(\n            AbstractValue.Make(BsplineTrajectory())\n        )\n\n        self.DeclareInitializationUnrestrictedUpdateEvent(self.Initialize)\n\n        self.DeclarePeriodicUnrestrictedUpdateEvent(0.1, 0.0, self.Update)\n\n    def Update(self, context, state):\n        mode = context.get_abstract_state(int(self._mode_index)).get_value()\n\n        current_time = context.get_time()\n        times = context.get_abstract_state(int(\n            self._times_index)).get_value()\n\n        if mode == PlannerState.WAIT_FOR_OBJECTS_TO_SETTLE:\n            if context.get_time() - times[\"initial\"] > t_settle:\n                self.GoCatchThrow(context, state)\n            return\n        if mode == PlannerState.PERPETUAL_MOTION:\n            traj_q = context.get_mutable_abstract_state(int(\n                self._traj_arm_q_index)).get_value()\n            traj_start_time = context.get_mutable_abstract_state(int(\n                self._traj_start_time_index)).get_value()\n            if traj_start_time + traj_q.end_time() <= current_time:\n                state.get_mutable_abstract_state(int(\n                    self._traj_start_time_index)).set_value(current_time)\n                # print(\"restarting loop\")\n                # self.GoCatchThrow(context, state)\n            return\n        return\n\n    def GoCatchThrow(self, context, state):\n        print(\"GoCatchThrow\")\n        \n        current_time = context.get_time()\n        q_traj, v_traj, a_traj= make_kin_traj_opt_trajectory(q_Throw, q_Catch, v_Throw, v_Catch, t_duration)\n        # Store them in states\n        state.get_mutable_abstract_state(int(\n            self._traj_start_time_index)).set_value(current_time)\n        state.get_mutable_abstract_state(int(\n            self._traj_arm_q_index)).set_value(q_traj)\n        state.get_mutable_abstract_state(int(\n            self._traj_arm_v_index)).set_value(v_traj)\n        state.get_mutable_abstract_state(int(\n            self._traj_arm_a_index)).set_value(a_traj)\n        \n        state.get_mutable_abstract_state(int(\n            self._mode_index)).set_value(\n                PlannerState.PERPETUAL_MOTION)\n\n        # WSG Gripper Trajectory\n        throw_time = original_t_duration\n        catch_time = original_t_duration*2\n        buff = 0.02 # ball-park good buff value = 0.035\n        # Throw - Catch - Throw\n        # times = [0, catch_time-buff, catch_time, throw_time-buff, throw_time]\n        # positions = np.hstack([[opened], [opened], [closed], [closed], [opened]])\n        # Catch - Throw - Catch Original\n        # times = [0, throw_time-buff, throw_time, catch_time-buff, catch_time]\n        # positions = np.hstack([[closed], [closed], [opened], [opened], [closed]])\n        # Catch - Throw - Catch tuned\n        times = [0, throw_time, throw_time+buff, catch_time-buff, catch_time]\n        positions = np.hstack([[closed], [closed], [opened], [opened], [closed]])\n        traj_wsg_command = PiecewisePolynomial.FirstOrderHold(times, positions)\n\n        state.get_mutable_abstract_state(int(\n            self._traj_wsg_index)).set_value(traj_wsg_command)\n\n    def Plan(self, context, state):\n        mode = copy(\n            state.get_mutable_abstract_state(int(self._mode_index)).get_value())\n\n    def CalcWsgPosition(self, context, output):\n        mode = context.get_abstract_state(int(self._mode_index)).get_value()\n\n        if mode == PlannerState.PERPETUAL_MOTION:\n            traj_wsg = context.get_abstract_state(int(\n                self._traj_wsg_index)).get_value()\n            traj_start_time = context.get_mutable_abstract_state(int(\n                    self._traj_start_time_index)).get_value()\n            # Evaluate the trajectory at the current time, and write it to the\n            # output port.\n            output.SetFromVector(traj_wsg.value(context.get_time()-traj_start_time))\n\n            traj_start_time = context.get_mutable_abstract_state(int(\n                    self._traj_start_time_index)).get_value()\n\n        else:\n            # Command the open position\n            output.SetFromVector([closed])\n            return\n\n    def CalcIiwaPosition(self, context, output):\n        mode = context.get_abstract_state(int(self._mode_index)).get_value()\n        \n        if mode == PlannerState.PERPETUAL_MOTION:\n            traj_q = context.get_mutable_abstract_state(int(\n                    self._traj_arm_q_index)).get_value()\n            traj_start_time = context.get_mutable_abstract_state(int(\n                    self._traj_start_time_index)).get_value()\n            output.SetFromVector(\n                traj_q.value(\n                    context.get_time()-traj_start_time))\n        else:\n            output.SetFromVector(q_Catch)\n\n    def GetTrajStartTime(self, context, output):\n        traj_start_time = context.get_abstract_state(int(self._traj_start_time_index)).get_value()\n        output.SetFromVector([traj_start_time])\n\n    def Initialize(self, context, state):\n        self.GoCatchThrow(context, state)\n        pass\n\n    def CalcIiwaDesiredState(self, context, output):\n        mode = context.get_abstract_state(int(self._mode_index)).get_value()\n        \n        if mode == PlannerState.PERPETUAL_MOTION:\n            traj_q = context.get_mutable_abstract_state(int(\n                    self._traj_arm_q_index)).get_value()\n            traj_v = context.get_mutable_abstract_state(int(\n                    self._traj_arm_v_index)).get_value()\n            traj_start_time = context.get_mutable_abstract_state(int(\n                    self._traj_start_time_index)).get_value()\n\n            # CONCATENATE HERE TO MAKE STATE\n            # print(context.get_time()-traj_start_time)\n            traj_v_value = traj_v.value(context.get_time()-traj_start_time)\n            traj_q_value = traj_q.value(context.get_time()-traj_start_time)\n            traj_state_value = np.concatenate((traj_q_value, traj_v_value), axis=0)\n            output.SetFromVector(traj_state_value)\n\n        else:\n            output.SetFromVector(q_Catch)\n    \n    def CalcIiwaDesiredAcceleration(self, context, output):\n        mode = context.get_abstract_state(int(self._mode_index)).get_value()\n        \n        if mode == PlannerState.PERPETUAL_MOTION:\n            # traj_q = context.get_mutable_abstract_state(int(\n            #         self._traj_arm_q_index)).get_value()\n            traj_a = context.get_mutable_abstract_state(int(\n                    self._traj_arm_a_index)).get_value()\n            traj_start_time = context.get_mutable_abstract_state(int(\n                    self._traj_start_time_index)).get_value()\n\n            traj_a_value = traj_a.value(context.get_time()-traj_start_time)\n            output.SetFromVector(traj_a_value)            \n            # output.SetFromVector(\n            #     traj_q.value(\n            #         context.get_time()-traj_start_time))\n        else:\n            output.SetFromVector(q_Catch)\n\n",
   "execution_count": 15,
   "outputs": []
  },
  {
   "cell_type": "code",
   "source": "def vectors_within_eps(vec_a, vec_b, eps=0.005):\n    return (vec_a <= vec_b + eps * np.linalg.norm(vec_b)).all() and (vec_a >= vec_b - eps * np.linalg.norm(vec_b)).all()\n\nclass BallValidator(LeafSystem):\n    def __init__(self, name, body_index):\n        LeafSystem.__init__(self)\n        self._body_index = body_index\n        self._traj_start_time_index = self.DeclareVectorInputPort(\"traj_start_time\",1).get_index()\n        self._desired_state_index = self.DeclareVectorInputPort(\n            \"desired_state\", 2 * num_positions).get_index()\n        self._current_state_index = self.DeclareVectorInputPort(\n            \"current_state\", 2 * num_positions).get_index()\n        self._desired_accerleration_index = self.DeclareVectorInputPort(\n            \"desired_accerleration\", num_positions).get_index()\n        self._current_accerleration_index = self.DeclareVectorInputPort(\n            \"current_accerleration\", num_positions).get_index()\n        self.DeclareForcedPublishEvent(self.Publish)\n\n        self.DeclarePeriodicUnrestrictedUpdateEvent(0.001, 0.0, self.Update)\n\n        self.find_pos_match = False\n    \n    def Update(self, context, state):\n        traj_start_time = self.get_input_port(self._traj_start_time_index).Eval(context)\n        pose = self.get_input_port(self._body_poses_index).Eval(context)[self._body_index]\n        velocity = self.get_input_port(self._body_spatial_velocities_index).Eval(context)[self._body_index]\n\n        if (context.get_time() == traj_start_time + original_t_duration): # traj_start_time + original_t_duration\n            print(f\"\\nWe are at (original) throw time! ({context.get_time()})\")\n            print(f\"actual ball position = {pose.translation()}\")\n            print(f\"actual ball velocity: {velocity.translational()}\")\n            meshcat.SetObject(\"actual_throw\", Sphere(squash_ball_radius), rgba=Rgba(.1, .1, .9, 1))\n            meshcat.SetTransform(\"actual_throw\", pose)\n            self.find_pos_match = True\n\n        if (context.get_time() == 2 * original_t_duration): # traj_start_time + 2 * original_t_duration\n            print(f\"\\nWe are at (original) catch time! ({context.get_time()})\")\n            print(f\"actual ball position = {pose.translation()}\")\n            print(f\"actual ball velocity: {velocity.translational()}\")\n            meshcat.SetObject(\"actual_catch\", Sphere(squash_ball_radius), rgba=Rgba(.9, .1, .9, 1))\n            meshcat.SetTransform(\"actual_catch\", pose)\n            self.find_pos_match = True\n\n        if self.find_pos_match and vectors_within_eps(pose.translation(), X_WCatchB_W.translation()):\n            print(f\"\\nBall pose matches catch pose at ({context.get_time()})\")\n            print(f\"actual ball velocity: {velocity.translational()}\")\n            self.find_pos_match = False\n\n        if self.find_pos_match and vectors_within_eps(pose.translation(), X_WThrowB_W.translation()):\n            print(f\"\\nBall pose matches throw pose at ({context.get_time()})\")\n            print(f\"actual ball velocity: {velocity.translational()}\")\n            self.find_pos_match = False\n\n        vel_eps = 0.001\n        if vectors_within_eps(velocity.translational(), V_CatchB, vel_eps):\n            print(f\"\\nBall velocity matches catch velocity at ({context.get_time()})\")\n            print(f\"actual ball velocity: {velocity.translational()}\")\n            print(f\"actual ball position = {pose.translation()}\")\n        \n        if vectors_within_eps(velocity.translational(), V_ThrowB, vel_eps):\n            print(f\"\\nBall velocity matches throw velocity at ({context.get_time()})\")\n            print(f\"actual ball velocity: {velocity.translational()}\")\n            print(f\"actual ball position = {pose.translation()}\")\n",
   "metadata": {
    "tags": [],
    "deepnote_to_be_reexecuted": false,
    "source_hash": "e5003030",
    "execution_start": 1669682159574,
    "execution_millis": 3,
    "cell_id": "00006-2bcd42bd-ee18-4a5d-9b75-33ef8fe5d991",
    "deepnote_cell_type": "code",
    "deepnote_cell_height": 1197
   },
   "outputs": [],
   "execution_count": null
  },
  {
   "cell_type": "code",
   "metadata": {
    "cell_id": "4c0f306125924b13a6cacd2ab6d02b6c",
    "tags": [],
    "deepnote_cell_type": "code",
    "deepnote_cell_height": 1074
   },
   "source": "class TrajValidator(LeafSystem):\n    def __init__(self, name, body_index):\n        LeafSystem.__init__(self)\n        self._body_index = body_index\n        self._traj_start_time_index = self.DeclareVectorInputPort(\"traj_start_time\",1).get_index()\n        self._body_poses_index = self.DeclareAbstractInputPort(\"body_poses\",\n                                    AbstractValue.Make([RigidTransform()])).get_index()\n        self._body_spatial_velocities_index = self.DeclareAbstractInputPort(\"body_spatial_velocities\",\n                                    AbstractValue.Make([SpatialVelocity()])).get_index()\n        self.DeclareForcedPublishEvent(self.Publish)\n\n        self.DeclarePeriodicUnrestrictedUpdateEvent(0.001, 0.0, self.Update)\n\n        self.find_pos_match = False\n    \n    def Update(self, context, state):\n        traj_start_time = self.get_input_port(self._traj_start_time_index).Eval(context)\n        pose = self.get_input_port(self._body_poses_index).Eval(context)[self._body_index]\n        velocity = self.get_input_port(self._body_spatial_velocities_index).Eval(context)[self._body_index]\n\n        if (context.get_time() == traj_start_time + original_t_duration): # traj_start_time + original_t_duration\n            print(f\"\\nWe are at (original) throw time! ({context.get_time()})\")\n            print(f\"actual ball position = {pose.translation()}\")\n            print(f\"actual ball velocity: {velocity.translational()}\")\n            meshcat.SetObject(\"actual_throw\", Sphere(squash_ball_radius), rgba=Rgba(.1, .1, .9, 1))\n            meshcat.SetTransform(\"actual_throw\", pose)\n            self.find_pos_match = True\n\n        if (context.get_time() == 2 * original_t_duration): # traj_start_time + 2 * original_t_duration\n            print(f\"\\nWe are at (original) catch time! ({context.get_time()})\")\n            print(f\"actual ball position = {pose.translation()}\")\n            print(f\"actual ball velocity: {velocity.translational()}\")\n            meshcat.SetObject(\"actual_catch\", Sphere(squash_ball_radius), rgba=Rgba(.9, .1, .9, 1))\n            meshcat.SetTransform(\"actual_catch\", pose)\n            self.find_pos_match = True\n\n        if self.find_pos_match and vectors_within_eps(pose.translation(), X_WCatchB_W.translation()):\n            print(f\"\\nBall pose matches catch pose at ({context.get_time()})\")\n            print(f\"actual ball velocity: {velocity.translational()}\")\n            self.find_pos_match = False\n\n        if self.find_pos_match and vectors_within_eps(pose.translation(), X_WThrowB_W.translation()):\n            print(f\"\\nBall pose matches throw pose at ({context.get_time()})\")\n            print(f\"actual ball velocity: {velocity.translational()}\")\n            self.find_pos_match = False\n\n        vel_eps = 0.001\n        if vectors_within_eps(velocity.translational(), V_CatchB, vel_eps):\n            print(f\"\\nBall velocity matches catch velocity at ({context.get_time()})\")\n            print(f\"actual ball velocity: {velocity.translational()}\")\n            print(f\"actual ball position = {pose.translation()}\")\n        \n        if vectors_within_eps(velocity.translational(), V_ThrowB, vel_eps):\n            print(f\"\\nBall velocity matches throw velocity at ({context.get_time()})\")\n            print(f\"actual ball velocity: {velocity.translational()}\")\n            print(f\"actual ball position = {pose.translation()}\")\n",
   "execution_count": null,
   "outputs": []
  },
  {
   "cell_type": "code",
   "metadata": {
    "deepnote_to_be_reexecuted": false,
    "execution_start": 1669682564944,
    "source_hash": "f55da691",
    "execution_millis": 3510,
    "output_cleared": true,
    "cell_id": "00007-831bb77d-4266-4c66-b077-675f005f53cb",
    "deepnote_cell_type": "code",
    "deepnote_cell_height": 2889,
    "deepnote_output_heights": [
     39.390625,
     605.328125
    ]
   },
   "source": "def clutter_clearing_demo():\n    meshcat.Delete()\n    builder = DiagramBuilder()\n\n    model_directives = \"\"\"\ndirectives:\n\"\"\"\n\n    for i in range(1 if running_as_notebook else 2):\n        model_directives += f\"\"\"\n- add_model:\n    name: ball{i}\n    file: package://one_arm_juggling/models/ball.sdf\n\"\"\"\n    use_direct = True;\n    if use_direct:\n        station = builder.AddSystem(\n                            MakeDirectManipulationStation(\n                                model_directives,\n                                filename=\"./models/one_arm_juggling.dmd.yaml\",\n                                package_xmls=[\"./package.xml\"],\n                                time_step=time_step))\n    else:\n        station = builder.AddSystem(\n                            MyMakeManipulationStation(\n                                model_directives,\n                                filename=\"./models/one_arm_juggling.dmd.yaml\",\n                                package_xmls=[\"./package.xml\"],\n                                time_step=time_step))\n\n    plant = station.GetSubsystemByName(\"plant\")\n    planner = builder.AddSystem(Planner(plant))\n    builder.Connect(station.GetOutputPort(\"body_poses\"),\n                    planner.GetInputPort(\"body_poses\"))\n    # # TODO: another system should output the throw and catch points\n    # # builder.Connect(x_bin_grasp_selector.get_output_port(),\n    # #                 planner.GetInputPort(\"x_bin_grasp\"))\n    # # builder.Connect(y_bin_grasp_selector.get_output_port(),\n    # #                 planner.GetInputPort(\"y_bin_grasp\"))\n    builder.Connect(station.GetOutputPort(\"wsg_state_measured\"),\n                    planner.GetInputPort(\"wsg_state\"))\n    builder.Connect(station.GetOutputPort(\"iiwa_position_measured\"),\n                    planner.GetInputPort(\"iiwa_position\"))\n\n    builder.Connect(planner.GetOutputPort(\"wsg_position\"),\n                    station.GetInputPort(\"wsg_position\"))\n\n    if use_direct:\n        builder.Connect(planner.GetOutputPort(\"iiwa_state_desired\"),\n                        station.GetInputPort(\"iiwa_state_desired\"))\n\n        builder.Connect(planner.GetOutputPort(\"iiwa_acceleration_desired\"),\n                        station.GetInputPort(\"iiwa_acceleration_desired\"))\n    else:\n        builder.Connect(planner.GetOutputPort(\"iiwa_position_command\"),\n                        station.GetInputPort(\"iiwa_position\"))          \n    \n    ball = plant.GetBodyByName(\"ball\")\n\n    ball_validator = builder.AddSystem(\n                                BallValidator(\n                                    ball.name(), \n                                    ball.index()))\n    builder.Connect(station.GetOutputPort(\"body_poses\"),\n                    ball_validator.GetInputPort(\"body_poses\"))\n    builder.Connect(planner.GetOutputPort(\"traj_start_time\"),\n                    ball_validator.GetInputPort(\"traj_start_time\"))\n    builder.Connect(station.GetOutputPort(\"body_spatial_velocities\"),\n                    ball_validator.GetInputPort(\"body_spatial_velocities\"))\n\n\n    visualizer = MeshcatVisualizer.AddToBuilder(\n        builder, station.GetOutputPort(\"query_object\"), meshcat)\n    # collision_visualizer = MeshcatVisualizer.AddToBuilder(\n    #      builder, station.GetOutputPort(\"query_object\"), meshcat,\n    #     MeshcatVisualizerParams(prefix=\"collision\", role=Role.kProximity))\n    # meshcat.SetProperty(\"collision\", \"visible\", False)\n    diagram = builder.Build()\n\n    simulator = Simulator(diagram)\n    context = simulator.get_context()\n    X_WThrowB_W, X_WCatchB_W = add_target_objects(X_WThrow, X_WCatch)\n\n    plant_context = plant.GetMyMutableContextFromRoot(context)\n    for body_index in plant.GetFloatingBaseBodies():\n        tf = RigidTransform(X_WCatchB_W.rotation(), X_WCatchB_W.translation()) \n        # for starting from drop add to translation np.array([0,0,6])\n        # np.array([0,0,-0.015])\n        plant.SetFreeBodyPose(plant_context,\n                              plant.get_body(body_index),\n                              tf)\n\n    # collision_visualizer.Publish(\n    #     collision_visualizer.GetMyContextFromRoot(context))\n    print(\"-- Experiment Parameters --\")\n    print(f\"time scale factor: {time_scale_factor}, scaled duration: {t_duration}\")\n    print(f\"manipulation station simulation timestep: {time_step}\")\n    print(f\"velocity_scale_factor: {velocity_scale_factor}\")\n    print(f\"original V_ThrowB: {original_V_ThrowB}, scaled V_ThrowB: {V_ThrowB}\")\n    print(f\"original V_CatchB: {original_V_CatchB}, scaled V_CatchB: {V_CatchB}\")\n    print(\"------------\")\n    print(f\"planned ball THROW time: {original_t_duration}\")\n    print(f\"planned ball THROW position: {X_WThrowB_W.translation()}\")\n    print(f\"planned ball THROW velocity: {original_V_ThrowB}\")\n    print(f\"planned ball CATCH time: {2 * original_t_duration}\")\n    print(f\"planned ball CATCH position: {X_WCatchB_W.translation()}\")\n    print(f\"planned ball CATCH velocity: {original_V_CatchB}\")\n    print(\"------------\")\n\n\n    q0 = plant.GetPositions(plant_context)\n    non_iiwa_q0 = q0[7:]\n    gap = closed[0]\n    non_iiwa_q0[0]=-gap/2\n    non_iiwa_q0[1]=gap/2\n    plant.SetPositions(plant_context, np.concatenate((q_Catch, non_iiwa_q0)))\n    simulator.AdvanceTo(0)\n    meshcat.Flush()  # Wait for the large object meshes to get to meshcat.\n    RecordInterval(0, 1.5, simulator, context, plant, visualizer)\n    # if running_as_notebook:\n    #     simulator.set_target_realtime_rate(0.05)\n    #     meshcat.AddButton(\"Stop Simulation\", \"Escape\")\n    #     print(\"Press Escape to stop the simulation\")\n    #     while meshcat.GetButtonClicks(\"Stop Simulation\") < 1:\n    #         simulator.AdvanceTo(simulator.get_context().get_time() + 2.0)\n    #     meshcat.DeleteButton(\"Stop Simulation\")\n\nclutter_clearing_demo()",
   "execution_count": null,
   "outputs": []
  },
  {
   "cell_type": "code",
   "metadata": {
    "tags": [],
    "deepnote_to_be_reexecuted": true,
    "source_hash": "b623e53d",
    "execution_start": 1669678955895,
    "execution_millis": 0,
    "cell_id": "00008-028c07df-e854-4b46-a898-720e24bb6c31",
    "deepnote_cell_type": "code",
    "deepnote_cell_height": 76
   },
   "source": "",
   "execution_count": null,
   "outputs": []
  },
  {
   "cell_type": "code",
   "metadata": {
    "cell_id": "7daee92497d5407090e25a1827c60e8c",
    "tags": [],
    "deepnote_to_be_reexecuted": true,
    "source_hash": "b623e53d",
    "execution_start": 1669678955896,
    "execution_millis": 0,
    "deepnote_cell_type": "code",
    "deepnote_cell_height": 76
   },
   "source": "",
   "execution_count": null,
   "outputs": []
  },
  {
   "cell_type": "code",
   "metadata": {
    "cell_id": "b6213818e3df4ca99db50f6389bda6fd",
    "tags": [],
    "deepnote_to_be_reexecuted": true,
    "source_hash": "b623e53d",
    "execution_start": 1669678955896,
    "execution_millis": 0,
    "deepnote_cell_type": "code",
    "deepnote_cell_height": 76
   },
   "source": "",
   "execution_count": null,
   "outputs": []
  },
  {
   "cell_type": "markdown",
   "source": "<a style='text-decoration:none;line-height:16px;display:flex;color:#5B5B62;padding:10px;justify-content:end;' href='https://deepnote.com?utm_source=created-in-deepnote-cell&projectId=68a898be-bd4e-4046-916a-6293aadf6c5d' target=\"_blank\">\n<img alt='Created in deepnote.com' style='display:inline;max-height:16px;margin:0px;margin-right:7.5px;' src='data:image/svg+xml;base64,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' > </img>\nCreated in <span style='font-weight:600;margin-left:4px;'>Deepnote</span></a>",
   "metadata": {
    "tags": [],
    "created_in_deepnote_cell": true,
    "deepnote_cell_type": "markdown"
   }
  }
 ],
 "nbformat": 4,
 "nbformat_minor": 1,
 "metadata": {
  "colab": {
   "collapsed_sections": [],
   "name": "Robotic Manipulation - Geometric Pose Estimation.ipynb",
   "provenance": [],
   "toc_visible": true
  },
  "deepnote": {},
  "deepnote_execution_queue": [],
  "deepnote_notebook_id": "94b493e7-bd9d-4984-9c42-bcadc7894625",
  "kernelspec": {
   "display_name": "Python 3.10.8 64-bit",
   "language": "python",
   "name": "python3"
  },
  "language_info": {
   "codemirror_mode": {
    "name": "ipython",
    "version": 3
   },
   "file_extension": ".py",
   "mimetype": "text/x-python",
   "name": "python",
   "nbconvert_exporter": "python",
   "pygments_lexer": "ipython3",
   "version": "3.10.8"
  },
  "metadata": {
   "interpreter": {
    "hash": "aee8b7b246df8f9039afb4144a1f6fd8d2ca17a180786b69acc140d282b71a49"
   }
  },
  "vscode": {
   "interpreter": {
    "hash": "aee8b7b246df8f9039afb4144a1f6fd8d2ca17a180786b69acc140d282b71a49"
   }
  }
 }
}