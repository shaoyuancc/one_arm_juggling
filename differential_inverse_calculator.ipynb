{
 "cells": [
  {
   "cell_type": "markdown",
   "source": "# Kinematic Trajectory Optimization\n## Evaluating throw and catch points",
   "metadata": {
    "cell_id": "acb2f362-8d3e-4f6e-bb8f-3922cd04b66e",
    "deepnote_cell_type": "markdown",
    "deepnote_cell_height": 138
   }
  },
  {
   "cell_type": "markdown",
   "source": "",
   "metadata": {
    "cell_id": "00001-85aeef62-abef-436c-9268-d31a7da561a7",
    "deepnote_cell_type": "markdown",
    "deepnote_cell_height": 46
   }
  },
  {
   "cell_type": "code",
   "source": "import time\n\nimport numpy as np\nfrom pydrake.all import (AddMultibodyPlantSceneGraph, BsplineTrajectory,\n                         DiagramBuilder, KinematicTrajectoryOptimization,\n                         MeshcatVisualizer, MeshcatVisualizerParams,\n                         MinimumDistanceConstraint, Parser, PositionConstraint,\n                         Rgba, RigidTransform, Role, Solve, Sphere,\n                         StartMeshcat, JacobianWrtVariable, RollPitchYaw,\n                         JointSliders, RotationMatrix,\n                         InverseKinematics,\n                         LeafSystem, AbstractValue,\n                         Simulator\n                        )\n\nfrom manipulation import running_as_notebook\nfrom manipulation.meshcat_utils import (PublishPositionTrajectory,\n                                        MeshcatPoseSliders,\n                                        WsgButton)\nfrom manipulation.scenarios import AddIiwaDifferentialIK, MakeManipulationStation, AddIiwa, AddPlanarIiwa, AddShape, AddWsg, AddMultibodyTriad \nfrom manipulation.utils import AddPackagePaths, FindResource\n\nfrom IPython.display import clear_output\nfrom utils import *\n",
   "metadata": {
    "deepnote_to_be_reexecuted": false,
    "source_hash": "db149a8a",
    "execution_start": 1670362166739,
    "execution_millis": 281,
    "cell_id": "00002-c607ebee-b0e4-40db-a59b-7fe41aee361e",
    "deepnote_cell_type": "code",
    "deepnote_cell_height": 513
   },
   "outputs": [],
   "execution_count": null
  },
  {
   "cell_type": "code",
   "metadata": {
    "deepnote_to_be_reexecuted": false,
    "source_hash": "6d42057f",
    "execution_start": 1670362167026,
    "execution_millis": 11,
    "cell_id": "00003-6fc7f969-768c-47c6-bbd7-92028fc98055",
    "deepnote_cell_type": "code",
    "deepnote_cell_height": 175.875,
    "deepnote_output_heights": [
     null,
     20.1875
    ]
   },
   "source": "# Start the visualizer.\nmeshcat = StartMeshcat()",
   "outputs": [
    {
     "name": "stderr",
     "text": "INFO:drake:Meshcat listening for connections at https://68a898be-bd4e-4046-916a-6293aadf6c5d.deepnoteproject.com/7003/\n",
     "output_type": "stream"
    },
    {
     "data": {
      "text/plain": "<IPython.core.display.HTML object>",
      "text/html": "Meshcat URL: <a href='https://68a898be-bd4e-4046-916a-6293aadf6c5d.deepnoteproject.com/7003/' target='_blank'>https://68a898be-bd4e-4046-916a-6293aadf6c5d.deepnoteproject.com/7003/</a>"
     },
     "metadata": {},
     "output_type": "display_data"
    }
   ],
   "execution_count": null
  },
  {
   "cell_type": "markdown",
   "source": "To visualize throw and catch points",
   "metadata": {
    "cell_id": "00004-de7f9904-2d93-4672-bea5-6169ff5eb31b",
    "deepnote_cell_type": "markdown",
    "deepnote_cell_height": 52.390625
   }
  },
  {
   "cell_type": "code",
   "metadata": {
    "deepnote_to_be_reexecuted": false,
    "source_hash": "9a37980f",
    "execution_start": 1670362167037,
    "execution_millis": 1,
    "cell_id": "00005-df5ff496-b0b1-4644-8789-68a86ec581c0",
    "deepnote_cell_type": "code",
    "deepnote_cell_height": 256
   },
   "source": "squash_ball_radius = 0.02\np_GB_G = [0, 0.07, 0]\ndef add_target_objects(X_WThrow, X_WCatch):\n    p_ThrowB_W = X_WThrow.rotation() @ p_GB_G\n    X_WThrowB_W = RigidTransform(X_WThrow.rotation(), X_WThrow.translation() +  p_ThrowB_W)\n    p_CatchB_W = X_WCatch.rotation() @ p_GB_G\n    X_WCatchB_W = RigidTransform(X_WCatch.rotation(), X_WCatch.translation() +  p_CatchB_W)\n    meshcat.SetObject(\"throw\", Sphere(squash_ball_radius), rgba=Rgba(.9, .1, .1, 1))\n    meshcat.SetTransform(\"throw\", X_WThrowB_W)\n    meshcat.SetObject(\"catch\", Sphere(squash_ball_radius), rgba=Rgba(.1, .9, .1, 1))\n    meshcat.SetTransform(\"catch\", X_WCatchB_W)",
   "outputs": [],
   "execution_count": null
  },
  {
   "cell_type": "markdown",
   "source": "Manually set the throw and catch points",
   "metadata": {
    "cell_id": "00011-83b96639-942e-45de-acef-eaa1bfa1b4e8",
    "deepnote_cell_type": "markdown",
    "deepnote_cell_height": 52.390625
   }
  },
  {
   "cell_type": "code",
   "source": "p_GB_G = [0, 0.11, 0]\ndef add_target_objects(X_WThrow, X_WCatch):\n    p_ThrowB_W = X_WThrow.rotation() @ p_GB_G\n    X_WThrowB_W = RigidTransform(X_WThrow.rotation(), X_WThrow.translation() +  p_ThrowB_W)\n    p_CatchB_W = X_WCatch.rotation() @ p_GB_G\n    X_WCatchB_W = RigidTransform(X_WCatch.rotation(), X_WCatch.translation() +  p_CatchB_W)\n    meshcat.SetObject(\"throw\", Sphere(squash_ball_radius), rgba=Rgba(.9, .1, .1, 1))\n    meshcat.SetTransform(\"throw\", X_WThrowB_W)\n    meshcat.SetObject(\"catch\", Sphere(squash_ball_radius), rgba=Rgba(.1, .9, .1, 1))\n    meshcat.SetTransform(\"catch\", X_WCatchB_W)\n    return X_WThrowB_W, X_WCatchB_W\n\nq_Throw = np.array([-0.54, 0.58, 0, -1.79, 0, -0.79, 0])\np_WThrow = [0.57, -0.34, 0.39]\nR_WThrow = RollPitchYaw([-np.pi, 0.00, 1.03])\n\nq_Catch = np.array([-0.74, 0.58, 0, -1.79, 0, -0.79, 0])\np_WCatch = [0.49, -0.45, 0.39]\nR_WCatch = RollPitchYaw([-np.pi, 0.00, 0.83])\n\nX_WThrow = RigidTransform(R_WThrow, p_WThrow)\nX_WCatch = RigidTransform(R_WCatch, p_WCatch)\n\nX_WThrowB_W, X_WCatchB_W = add_target_objects(X_WThrow, X_WCatch)\n#####\n\n\n\n# final joint positions [-0.901 1.465 -0.690 -0.143 -0.908 -1.823 0.001 -0.053 0.054]\n\n\np_WCatch_adj = [[0.475, -0.435, 0.355], [0.2, -0.2, 0.2], [0.573, -0.526, 0.375]]\n\n# WSG gripper\nopened = np.array([0.035]) #[0.035]\nclosed = np.array([0.02])",
   "metadata": {
    "deepnote_to_be_reexecuted": false,
    "source_hash": "6d452eb1",
    "execution_start": 1670362167045,
    "execution_millis": 5,
    "cell_id": "00012-842d2692-e2ad-4e3f-9ab8-1fdd225a54cc",
    "deepnote_cell_type": "code",
    "deepnote_cell_height": 706
   },
   "outputs": [],
   "execution_count": null
  },
  {
   "cell_type": "code",
   "source": "import os\nimport sys\nimport time\nfrom collections import namedtuple\nfrom functools import partial\n\nimport numpy as np\nfrom IPython.display import HTML, Javascript, display\nfrom pydrake.common.value import AbstractValue\nfrom pydrake.geometry import (Cylinder, MeshcatVisualizer,\n                              MeshcatVisualizerParams, Rgba, Role, Sphere)\nfrom pydrake.math import RigidTransform, RollPitchYaw, RotationMatrix\nfrom pydrake.multibody.meshcat import JointSliders\nfrom pydrake.multibody.parsing import Parser\nfrom pydrake.multibody.plant import AddMultibodyPlantSceneGraph\nfrom pydrake.multibody.tree import BodyIndex, JointIndex\nfrom pydrake.perception import BaseField, Fields, PointCloud\nfrom pydrake.solvers.mathematicalprogram import BoundingBoxConstraint\nfrom pydrake.systems.framework import (DiagramBuilder, EventStatus, LeafSystem,\n                                       PublishEvent, VectorSystem)\n                    \nclass MyMeshcatPoseSliders(LeafSystem):\n    \"\"\"\n    Provides a set of ipywidget sliders (to be used in a Jupyter notebook) with\n    one slider for each of roll, pitch, yaw, x, y, and z.  This can be used,\n    for instance, as an interface to teleoperate the end-effector of a robot.\n\n    .. pydrake_system::\n\n        name: PoseSliders\n        input_ports:\n        - pose (optional)\n        output_ports:\n        - pose\n\n    The optional `pose` input port is used ONLY at initialization; it can be\n    used to set the initial pose e.g. from the current pose of a MultibodyPlant\n    frame.\n    \"\"\"\n    # TODO(russt): Use namedtuple defaults parameter once we are Python >= 3.7.\n    Visible = namedtuple(\"Visible\", (\"roll\", \"pitch\", \"yaw\", \"x\", \"y\", \"z\"))\n    Visible.__new__.__defaults__ = (True, True, True, True, True, True)\n    MinRange = namedtuple(\"MinRange\", (\"roll\", \"pitch\", \"yaw\", \"x\", \"y\", \"z\"))\n    MinRange.__new__.__defaults__ = (-np.pi, -np.pi, -np.pi, -1.0, -1.0, -1.0)\n    MaxRange = namedtuple(\"MaxRange\", (\"roll\", \"pitch\", \"yaw\", \"x\", \"y\", \"z\"))\n    MaxRange.__new__.__defaults__ = (np.pi, np.pi, np.pi, 1.0, 1.0, 1.0)\n    Value = namedtuple(\"Value\", (\"roll\", \"pitch\", \"yaw\", \"x\", \"y\", \"z\"))\n    Value.__new__.__defaults__ = (0.0, 0.0, 0.0, 0.0, 0.0, 0.0)\n    DecrementKey = namedtuple(\"DecrementKey\",\n                              (\"roll\", \"pitch\", \"yaw\", \"x\", \"y\", \"z\"))\n    DecrementKey.__new__.__defaults__ = (\"KeyQ\", \"KeyW\", \"KeyA\", \"KeyJ\", \"KeyI\",\n                                         \"KeyO\")\n    IncrementKey = namedtuple(\"IncrementKey\",\n                              (\"roll\", \"pitch\", \"yaw\", \"x\", \"y\", \"z\"))\n    IncrementKey.__new__.__defaults__ = (\"KeyE\", \"KeyS\", \"KeyD\", \"KeyL\", \"KeyK\",\n                                         \"KeyU\")\n\n    def __init__(self,\n                 meshcat,\n                 visible=Visible(),\n                 min_range=MinRange(),\n                 max_range=MaxRange(),\n                 value=Value(),\n                 decrement_keycode=DecrementKey(),\n                 increment_keycode=IncrementKey(),\n                 body_index=None):\n        \"\"\"\n        Args:\n            meshcat: A Meshcat instance.\n            visible: An object with boolean elements for 'roll', 'pitch',\n                     'yaw', 'x', 'y', 'z'; the intention is for this to be the\n                     PoseSliders.Visible() namedtuple.  Defaults to all true.\n            min_range, max_range, value: Objects with float values for 'roll',\n                      'pitch', 'yaw', 'x', 'y', 'z'; the intention is for the\n                      caller to use the PoseSliders.MinRange, MaxRange, and\n                      Value namedtuples.  See those tuples for default values.\n            body_index: if the body_poses input port is connected, then this\n                        index determine which pose is used to set the initial\n                        slider positions during the Initialization event.\n        \"\"\"\n        LeafSystem.__init__(self)\n        port = self.DeclareAbstractOutputPort(\n            \"pose\", lambda: AbstractValue.Make(RigidTransform()),\n            self.DoCalcOutput)\n\n        self.DeclareAbstractInputPort(\"body_poses\",\n                                      AbstractValue.Make([RigidTransform()]))\n        self.DeclareInitializationDiscreteUpdateEvent(self.Initialize)\n\n        # The widgets themselves have undeclared state.  For now, we accept it,\n        # and simply disable caching on the output port.\n        # TODO(russt): consider implementing the more elaborate methods seen\n        # in, e.g., LcmMessageSubscriber.\n        port.disable_caching_by_default()\n\n        self._meshcat = meshcat\n        self._visible = visible\n        self._value = list(value)\n        self._body_index = body_index\n\n        print(\"Keyboard Controls:\")\n        for i in range(6):\n            if visible[i]:\n                meshcat.AddSlider(min=min_range[i],\n                                  max=max_range[i],\n                                  value=value[i],\n                                  step=0.001,\n                                  name=value._fields[i],\n                                  decrement_keycode=decrement_keycode[i],\n                                  increment_keycode=increment_keycode[i])\n                print(\n                    f\"{value._fields[i]} : {decrement_keycode[i]} / {increment_keycode[i]}\"  # noqa\n                )\n\n    def __del__(self):\n        for s in ['roll', 'pitch', 'yaw', 'x', 'y', 'z']:\n            if visible[s]:\n                self._meshcat.DeleteSlider(s)\n\n    def SetPose(self, pose):\n        \"\"\"\n        Sets the current value of the sliders.\n\n        Args:\n            pose: Any viable argument for the RigidTransform\n                  constructor.\n        \"\"\"\n        tf = RigidTransform(pose)\n        self.SetRpy(RollPitchYaw(tf.rotation()))\n        self.SetXyz(tf.translation())\n\n    def SetRpy(self, rpy):\n        \"\"\"\n        Sets the current value of the sliders for roll, pitch, and yaw.\n\n        Args:\n            rpy: An instance of drake.math.RollPitchYaw\n        \"\"\"\n        self._value[0] = rpy.roll_angle()\n        self._value[1] = rpy.pitch_angle()\n        self._value[2] = rpy.yaw_angle()\n        for i in range(3):\n            if self._visible[i]:\n                self._meshcat.SetSliderValue(self._visible._fields[i],\n                                             self._value[i])\n\n    def SetXyz(self, xyz):\n        \"\"\"\n        Sets the current value of the sliders for x, y, and z.\n\n        Args:\n            xyz: A 3 element iterable object with x, y, z.\n        \"\"\"\n        self._value[3:] = xyz\n        for i in range(3, 6):\n            if self._visible[i]:\n                self._meshcat.SetSliderValue(self._visible._fields[i],\n                                             self._value[i])\n\n    def _update_values(self):\n        changed = False\n        for i in range(6):\n            if self._visible[i]:\n                old_value = self._value[i]\n                self._value[i] = self._meshcat.GetSliderValue(\n                    self._visible._fields[i])\n                changed = changed or self._value[i] != old_value\n        return changed\n\n    def _get_transform(self):\n        return RigidTransform(\n            RollPitchYaw(self._value[0], self._value[1], self._value[2]),\n            self._value[3:])\n\n    def DoCalcOutput(self, context, output):\n        \"\"\"Constructs the output values from the sliders.\"\"\"\n        self._update_values()\n        output.set_value(self._get_transform())\n\n    def Initialize(self, context, discrete_state):\n        if self.get_input_port().HasValue(context):\n            if self._body_index is None:\n                raise RuntimeError(\n                    \"If the `body_poses` input port is connected, then you \"\n                    \"must also pass a `body_index` to the constructor.\")\n            self.SetPose(self.get_input_port().Eval(context)[self._body_index])\n            return EventStatus.Succeeded()\n        return EventStatus.DidNothing()\n\n    def Run(self, publishing_system, root_context, callback):\n        # Calls callback(root_context, pose), then\n        # publishing_system.ForcedPublish() each time the sliders change value.\n        if not running_as_notebook:\n            return\n\n        publishing_context = publishing_system.GetMyContextFromRoot(\n            root_context)\n\n        print(\"Press the 'Stop PoseSliders' button in Meshcat to continue.\")\n        self._meshcat.AddButton(\"Stop PoseSliders\", \"Escape\")\n        while self._meshcat.GetButtonClicks(\"Stop PoseSliders\") < 1:\n            if self._update_values():\n                callback(root_context, self._get_transform())\n                publishing_system.ForcedPublish(publishing_context)\n            time.sleep(.1)\n\n        self._meshcat.DeleteButton(\"Stop PoseSliders\")",
   "metadata": {
    "cell_id": "e3b4e7bb9bf14f939b235a994fcfb39d",
    "tags": [],
    "deepnote_to_be_reexecuted": false,
    "source_hash": "cd26af34",
    "execution_start": 1670362167063,
    "execution_millis": 0,
    "deepnote_cell_type": "code",
    "deepnote_cell_height": 3784
   },
   "outputs": [],
   "execution_count": null
  },
  {
   "cell_type": "markdown",
   "source": "# Differential IK Controller",
   "metadata": {
    "formattedRanges": [],
    "is_collapsed": false,
    "tags": [],
    "cell_id": "00013-85230650-69fb-4112-848a-9e9853a3ad22",
    "deepnote_cell_type": "text-cell-h1"
   }
  },
  {
   "cell_type": "markdown",
   "source": "Use diffIK controller to get other joint configurations around the key points, navigated to using spatial translation",
   "metadata": {
    "formattedRanges": [],
    "is_collapsed": false,
    "tags": [],
    "cell_id": "00014-678811a1-6448-4249-8493-e9d476b9ec39",
    "deepnote_cell_type": "text-cell-p"
   }
  },
  {
   "cell_type": "code",
   "source": "def get_q_with_diffik(q_original, p_target):\n    builder = DiagramBuilder()\n    model_directives = \"\"\"\ndirectives:\n- add_model:\n    name: iiwa\n    file: package://drake/manipulation/models/iiwa_description/iiwa7/iiwa7_no_collision.sdf\n    default_joint_positions:\n        iiwa_joint_1: [-1.57]\n        iiwa_joint_2: [0.1]\n        iiwa_joint_3: [0]\n        iiwa_joint_4: [-1.2]\n        iiwa_joint_5: [0]\n        iiwa_joint_6: [ 1.6]\n        iiwa_joint_7: [0]\n- add_weld:\n    parent: world\n    child: iiwa::iiwa_link_0\n- add_model:\n    name: wsg\n    file: package://drake/manipulation/models/wsg_50_description/sdf/schunk_wsg_50_with_tip.sdf\n- add_weld:\n    parent: iiwa::iiwa_link_7\n    child: wsg::body\n    X_PC:\n        translation: [0, 0, 0.09]\n        rotation: !Rpy { deg: [90, 0, 90]}\n    \"\"\"\n    time_step = 0.001\n    station = builder.AddSystem(\n        MyMakeManipulationStation(model_directives=model_directives, package_xmls=[\"./package.xml\"], time_step=time_step))\n    plant = station.GetSubsystemByName(\"plant\")\n    controller_plant = station.GetSubsystemByName(\n        \"iiwa_controller\").get_multibody_plant_for_control()\n\n    # Add a meshcat visualizer.\n    visualizer = MeshcatVisualizer.AddToBuilder(\n        builder, station.GetOutputPort(\"query_object\"), meshcat)\n    meshcat.ResetRenderMode()\n    meshcat.DeleteAddedControls()\n\n    # Set up differential inverse kinematics.\n    differential_ik = AddIiwaDifferentialIK(\n        builder,\n        controller_plant,\n        frame=controller_plant.GetFrameByName(\"extra_frame\"))\n\n    # print(dir(controller_plant.GetFrameByName(\"body\")))\n\n    builder.Connect(differential_ik.get_output_port(),\n                    station.GetInputPort(\"iiwa_position\"))\n    builder.Connect(station.GetOutputPort(\"iiwa_state_estimated\"),\n                    differential_ik.GetInputPort(\"robot_state\"))\n\n    # p_I7B_I7 = [0, 0, 0.11 + 0.09]\n    # Set up teleop widgets.\n    teleop = builder.AddSystem(\n        MyMeshcatPoseSliders(\n            meshcat,\n            min_range=MyMeshcatPoseSliders.MinRange(roll=0,\n                                                  pitch=-0.5,\n                                                  yaw=-np.pi,\n                                                  x=-0.6,\n                                                  y=-0.8,\n                                                  z=0.0),\n            max_range=MyMeshcatPoseSliders.MaxRange(roll=2 * np.pi,\n                                                  pitch=np.pi,\n                                                  yaw=np.pi,\n                                                  x=0.8,\n                                                  y=0.3,\n                                                  z=1.1),\n            body_index=plant.GetBodyByName(\"iiwa_link_7\").index()))\n    builder.Connect(teleop.get_output_port(0),\n                    differential_ik.get_input_port(0))\n    builder.Connect(station.GetOutputPort(\"body_poses\"),\n                    teleop.GetInputPort(\"body_poses\"))\n\n    wsg_teleop = builder.AddSystem(WsgButton(meshcat))\n    builder.Connect(wsg_teleop.get_output_port(0),\n                    station.GetInputPort(\"wsg_position\"))\n\n    diagram = builder.Build()\n    simulator = Simulator(diagram)\n    context = simulator.get_mutable_context()\n\n    target = RigidTransform(RotationMatrix(), p_target)\n    meshcat.SetObject(\"target\", Sphere(squash_ball_radius), rgba=Rgba(.3, .1, .1, 1))\n    meshcat.SetTransform(\"target\", target)\n    \n    plant_context = plant.GetMyMutableContextFromRoot(context)\n    q0 = plant.GetPositions(plant_context)\n    non_iiwa_q0 = q0[7:]\n    plant.SetPositions(plant_context, np.concatenate((q_original, non_iiwa_q0)))\n    print(f\"initial joint positions {plant.GetPositions(plant_context)[0:7]}\")\n    print(f\"planned initial joint position {q_original}\")\n    simulator.AdvanceTo(0.1)\n    while simulator.get_context().get_time() < 5:\n        # simulator.set_target_realtime_rate(0.1)\n        teleop.SetXyz(p_target)\n        simulator.AdvanceTo(simulator.get_context().get_time() + 1.0)\n        \n    print(f\"final spatial positions {teleop._get_transform()}\")\n    print(f\"planned final spatial position {p_target}\")\n    print(f\"final joint positions {plant.GetPositions(plant_context)}\")\n    \n    \n    return plant.GetPositions(plant_context)[:7]\n\nget_q_with_diffik(q_Catch, p_WCatch_adj[0]) #p_WCatch_adj[0] p_WCatch",
   "metadata": {
    "tags": [],
    "deepnote_to_be_reexecuted": false,
    "source_hash": "3f1f17c4",
    "execution_start": 1670362167111,
    "execution_millis": 2400,
    "cell_id": "00015-6c7a306b-7973-481d-a781-c10480078268",
    "deepnote_cell_type": "code",
    "deepnote_cell_height": 2554.375,
    "deepnote_output_heights": [
     58.578125,
     39.390625
    ]
   },
   "outputs": [
    {
     "name": "stdout",
     "text": "Added extra frame!\nKeyboard Controls:\nroll : KeyQ / KeyE\npitch : KeyW / KeyS\nyaw : KeyA / KeyD\nx : KeyJ / KeyL\ny : KeyI / KeyK\nz : KeyO / KeyU\nPress Space to open/close the gripper\ninitial joint positions [-0.74  0.58  0.   -1.79  0.   -0.79  0.  ]\nplanned initial joint position [-0.74  0.58  0.   -1.79  0.   -0.79  0.  ]\nfinal spatial positions RigidTransform(\n  R=RotationMatrix([\n    [-0.0064981425074072735, 0.6742878999861535, 0.7384399786551488],\n    [0.0059285338328789045, 0.7384685693510756, -0.6742618368016746],\n    [-0.9999613125669142, -3.5831058360422704e-06, -0.00879621262905324],\n  ]),\n  p=[0.47500000000000003, -0.435, 0.355],\n)\nplanned final spatial position [0.475, -0.435, 0.355]\nfinal joint positions [-4.80830240e-01  4.90778070e-01 -2.93822987e-01 -2.13582657e+00\n -6.39129105e-04 -1.02169451e+00  1.36806825e-01 -5.34998859e-02\n  5.35001125e-02]\n",
     "output_type": "stream"
    },
    {
     "output_type": "execute_result",
     "execution_count": 6,
     "data": {
      "text/plain": "array([-4.80830240e-01,  4.90778070e-01, -2.93822987e-01, -2.13582657e+00,\n       -6.39129105e-04, -1.02169451e+00,  1.36806825e-01])"
     },
     "metadata": {}
    }
   ],
   "execution_count": null
  },
  {
   "cell_type": "markdown",
   "source": "",
   "metadata": {
    "cell_id": "00031-a2ae4424-fdc3-4ede-8258-ad776737887d",
    "deepnote_cell_type": "markdown",
    "deepnote_cell_height": 46
   }
  },
  {
   "cell_type": "markdown",
   "source": "<a style='text-decoration:none;line-height:16px;display:flex;color:#5B5B62;padding:10px;justify-content:end;' href='https://deepnote.com?utm_source=created-in-deepnote-cell&projectId=68a898be-bd4e-4046-916a-6293aadf6c5d' target=\"_blank\">\n<img alt='Created in deepnote.com' style='display:inline;max-height:16px;margin:0px;margin-right:7.5px;' src='data:image/svg+xml;base64,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' > </img>\nCreated in <span style='font-weight:600;margin-left:4px;'>Deepnote</span></a>",
   "metadata": {
    "tags": [],
    "created_in_deepnote_cell": true,
    "deepnote_cell_type": "markdown"
   }
  }
 ],
 "nbformat": 4,
 "nbformat_minor": 2,
 "metadata": {
  "kernelspec": {
   "display_name": "Python 3.10.8 64-bit",
   "language": "python",
   "name": "python3"
  },
  "language_info": {
   "codemirror_mode": {
    "name": "ipython",
    "version": 3
   },
   "file_extension": ".py",
   "mimetype": "text/x-python",
   "name": "python",
   "nbconvert_exporter": "python",
   "pygments_lexer": "ipython3",
   "version": "3.10.8"
  },
  "orig_nbformat": 4,
  "vscode": {
   "interpreter": {
    "hash": "aee8b7b246df8f9039afb4144a1f6fd8d2ca17a180786b69acc140d282b71a49"
   }
  },
  "deepnote_notebook_id": "14cdc040-0eae-48c5-9323-487c58247bb1",
  "deepnote": {},
  "deepnote_execution_queue": []
 }
}