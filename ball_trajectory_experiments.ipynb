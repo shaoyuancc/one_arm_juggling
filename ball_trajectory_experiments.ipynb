{
 "cells": [
  {
   "cell_type": "markdown",
   "source": "# Ball Trajectory Experiments",
   "metadata": {
    "formattedRanges": [],
    "is_collapsed": false,
    "cell_id": "b830bc5188804d4998907bb541998332",
    "tags": [],
    "deepnote_cell_type": "text-cell-h1"
   }
  },
  {
   "cell_type": "markdown",
   "source": "Let's test, if we set the position of the ball to be at the throw point, give it the throw velocity, will it go to the catch point?",
   "metadata": {
    "formattedRanges": [],
    "is_collapsed": false,
    "cell_id": "0fe56ae6-8b0a-4c1b-87c9-bfa166d4dc57",
    "tags": [],
    "deepnote_cell_type": "text-cell-p"
   }
  },
  {
   "cell_type": "code",
   "metadata": {
    "colab": {},
    "colab_type": "code",
    "deepnote_to_be_reexecuted": false,
    "execution_millis": 328,
    "execution_start": 1669960715898,
    "id": "eeMrMI0-1Dhu",
    "source_hash": "c2f1d4cf",
    "cell_id": "a073e69b-54e9-4028-b400-7263448d1882",
    "deepnote_cell_type": "code",
    "deepnote_cell_height": 458.953125
   },
   "source": "import logging\nfrom copy import copy\nfrom enum import Enum\n\nimport numpy as np\nfrom pydrake.all import (AbstractValue, AddMultibodyPlantSceneGraph, AngleAxis,\n                         Concatenate, DiagramBuilder, InputPortIndex,\n                         LeafSystem, MeshcatVisualizer, Parser,\n                         PiecewisePolynomial, PiecewisePose, PointCloud, RandomGenerator, RigidTransform,\n                         RollPitchYaw, Simulator, StartMeshcat,\n                         UniformlyRandomRotationMatrix,\n                         BsplineTrajectory, Sphere, Rgba,\n                         KinematicTrajectoryOptimization, Solve, MinimumDistanceConstraint,\n                         PositionConstraint,\n                         SpatialVelocity)\n\nfrom manipulation import FindResource, running_as_notebook\nfrom manipulation.meshcat_utils import AddMeshcatTriad\nfrom manipulation.scenarios import (AddPackagePaths,\n                                    MakeManipulationStation, AddIiwa, AddShape, AddWsg, AddMultibodyTriad)\n\nfrom utils import *",
   "execution_count": null,
   "outputs": []
  },
  {
   "cell_type": "code",
   "metadata": {
    "deepnote_to_be_reexecuted": false,
    "execution_millis": 6,
    "execution_start": 1669960716230,
    "source_hash": "6d42057f",
    "cell_id": "00001-934ca5b0-4634-4995-b507-97e62ed25a35",
    "deepnote_cell_type": "code",
    "deepnote_cell_height": 175.90625,
    "deepnote_output_heights": [
     null,
     20.1875
    ]
   },
   "source": "# Start the visualizer.\nmeshcat = StartMeshcat()",
   "execution_count": null,
   "outputs": [
    {
     "name": "stderr",
     "text": "INFO:drake:Meshcat listening for connections at https://68a898be-bd4e-4046-916a-6293aadf6c5d.deepnoteproject.com/7000/\n",
     "output_type": "stream"
    },
    {
     "data": {
      "text/plain": "<IPython.core.display.HTML object>",
      "text/html": "Meshcat URL: <a href='https://68a898be-bd4e-4046-916a-6293aadf6c5d.deepnoteproject.com/7000/' target='_blank'>https://68a898be-bd4e-4046-916a-6293aadf6c5d.deepnoteproject.com/7000/</a>"
     },
     "metadata": {},
     "output_type": "display_data"
    }
   ]
  },
  {
   "cell_type": "code",
   "metadata": {
    "deepnote_to_be_reexecuted": false,
    "execution_millis": 1,
    "execution_start": 1669960800085,
    "source_hash": "c89b0c86",
    "tags": [],
    "cell_id": "00002-64a94c5c-6a1c-455b-bf1e-cbabe6509e32",
    "deepnote_cell_type": "code",
    "deepnote_cell_height": 584.953125
   },
   "source": "squash_ball_radius = 0.02\np_GB_G = [0, 0.11, 0]\ndef add_target_objects(X_WThrow, X_WCatch):\n    p_ThrowB_W = X_WThrow.rotation() @ p_GB_G\n    X_WThrowB_W = RigidTransform(X_WThrow.rotation(), X_WThrow.translation() +  p_ThrowB_W)\n    p_CatchB_W = X_WCatch.rotation() @ p_GB_G\n    X_WCatchB_W = RigidTransform(X_WCatch.rotation(), X_WCatch.translation() +  p_CatchB_W)\n    meshcat.SetObject(\"throw\", Sphere(squash_ball_radius), rgba=Rgba(.9, .1, .1, 1))\n    meshcat.SetTransform(\"throw\", X_WThrowB_W)\n    meshcat.SetObject(\"catch\", Sphere(squash_ball_radius), rgba=Rgba(.1, .9, .1, 1))\n    meshcat.SetTransform(\"catch\", X_WCatchB_W)\n    return X_WThrowB_W, X_WCatchB_W\n\nq_Throw = np.array([-0.54, 0.58, 0, -1.79, 0, -0.79, 0])\np_WThrow = [0.57, -0.34, 0.39]\nR_WThrow = RollPitchYaw([-np.pi, 0.00, 1.03])\n\nq_Catch = np.array([-0.74, 0.58, 0, -1.79, 0, -0.79, 0])\np_WCatch = [0.49, -0.45, 0.39]\nR_WCatch = RollPitchYaw([-np.pi, 0.00, 0.83])\n\nX_WThrow = RigidTransform(R_WThrow, p_WThrow)\nX_WCatch = RigidTransform(R_WCatch, p_WCatch)\n\nmax_height = 0.5 # Max height ball will reach in meters\nX_WThrowB_W, X_WCatchB_W = add_target_objects(X_WThrow, X_WCatch)\nV_ThrowB, V_CatchB, t_duration = calculate_ball_vels(X_WThrowB_W.translation(), X_WCatchB_W.translation(), max_height)\nt_duration = round(t_duration,3)\n",
   "execution_count": null,
   "outputs": []
  },
  {
   "cell_type": "code",
   "metadata": {
    "cell_id": "980ef2e0bc13443f9d7e2c8202525bbc",
    "tags": [],
    "deepnote_to_be_reexecuted": false,
    "source_hash": "332709f9",
    "execution_start": 1669960800754,
    "execution_millis": 4,
    "deepnote_cell_type": "code",
    "deepnote_cell_height": 854.953125
   },
   "source": "def vectors_within_eps(vec_a, vec_b, eps=0.005):\n    return (vec_a <= vec_b + eps * np.linalg.norm(vec_b)).all() and (vec_a >= vec_b - eps * np.linalg.norm(vec_b)).all()\n\nclass BallValidator(LeafSystem):\n    def __init__(self, name, body_index):\n        LeafSystem.__init__(self)\n        self._body_index = body_index\n        self._body_poses_index = self.DeclareAbstractInputPort(\"body_poses\",\n                                    AbstractValue.Make([RigidTransform()])).get_index()\n        self._body_spatial_velocities_index = self.DeclareAbstractInputPort(\"body_spatial_velocities\",\n                                    AbstractValue.Make([SpatialVelocity()])).get_index()\n        self.DeclareForcedPublishEvent(self.Publish)\n\n        self.DeclarePeriodicUnrestrictedUpdateEvent(0.001, 0.0, self.Update)\n\n        self.find_pos_match = False\n    \n    def Update(self, context, state):\n        pose = self.get_input_port(self._body_poses_index).Eval(context)[self._body_index]\n        velocity = self.get_input_port(self._body_spatial_velocities_index).Eval(context)[self._body_index]\n\n        if (context.get_time() == t_duration): # traj_start_time + 2 * original_t_duration\n            print(f\"\\nWe are at catch time! ({context.get_time()})\")\n            print(f\"actual ball position = {pose.translation()}\")\n            print(f\"actual ball velocity: {velocity.translational()}\")\n            meshcat.SetObject(\"actual_catch\", Sphere(squash_ball_radius), rgba=Rgba(.9, .1, .9, 1))\n            meshcat.SetTransform(\"actual_catch\", pose)\n            self.find_pos_match = True\n\n        if self.find_pos_match and vectors_within_eps(pose.translation(), X_WCatchB_W.translation()):\n            print(f\"\\nBall pose matches catch pose at ({context.get_time()})\")\n            print(f\"actual ball velocity: {velocity.translational()}\")\n            self.find_pos_match = False\n\n        vel_eps = 0.001\n        if vectors_within_eps(velocity.translational(), V_CatchB, vel_eps):\n            print(f\"\\nBall velocity matches catch velocity at ({context.get_time()})\")\n            print(f\"actual ball velocity: {velocity.translational()}\")\n            print(f\"actual ball position = {pose.translation()}\")\n        \n        if vectors_within_eps(velocity.translational(), V_ThrowB, vel_eps):\n            print(f\"\\nBall velocity matches throw velocity at ({context.get_time()})\")\n            print(f\"actual ball velocity: {velocity.translational()}\")\n            print(f\"actual ball position = {pose.translation()}\")",
   "execution_count": null,
   "outputs": []
  },
  {
   "cell_type": "code",
   "metadata": {
    "deepnote_to_be_reexecuted": false,
    "execution_start": 1669970148673,
    "source_hash": "74df98a6",
    "execution_millis": 5,
    "output_cleared": false,
    "cell_id": "00006-4b32642c-d642-42c5-8df6-a0126c139ccf",
    "deepnote_cell_type": "code",
    "deepnote_cell_height": 1454.546875
   },
   "source": "def ball_trajectory_validation():\n    builder = DiagramBuilder()\n\n    model_directives = \"\"\"\ndirectives:\n- add_model:\n    name: floor\n    file: package://manipulation/floor.sdf\n- add_weld:\n    parent: world\n    child: floor::box\n    X_PC:\n        translation: [0, 0, -.5]\n\"\"\"\n\n    for i in range(1 if running_as_notebook else 2):\n        model_directives += f\"\"\"\n- add_model:\n    name: ball{i}\n    file: package://one_arm_juggling/models/ball.sdf\n\"\"\"\n\n    station = builder.AddSystem(MyMakeManipulationStation(model_directives, package_xmls=[\"./package.xml\"], time_step=0.001))\n\n    plant = station.GetSubsystemByName(\"plant\")\n\n    ball = plant.GetBodyByName(\"ball\")\n\n    ball_validator = builder.AddSystem(\n                                BallValidator(\n                                    ball.name(), \n                                    ball.index()))\n    builder.Connect(station.GetOutputPort(\"body_poses\"),\n                    ball_validator.GetInputPort(\"body_poses\"))\n    builder.Connect(station.GetOutputPort(\"body_spatial_velocities\"),\n                    ball_validator.GetInputPort(\"body_spatial_velocities\"))\n\n    visualizer = MeshcatVisualizer.AddToBuilder(\n        builder, station.GetOutputPort(\"query_object\"), meshcat)\n    diagram = builder.Build()\n\n    simulator = Simulator(diagram)\n    context = simulator.get_context()\n\n    plant_context = plant.GetMyMutableContextFromRoot(context)\n\n    # V_ThrowB = [-0.144, -0.180, 3.103]\n    V_ThrowB = [-0.133, -0.172, 3.087] # opened 0.070, wsg_buff 0.001\n    for body_index in plant.GetFloatingBaseBodies():\n        tf = RigidTransform(X_WThrowB_W.rotation(), X_WThrowB_W.translation()) \n\n        plant.SetFreeBodyPose(plant_context,\n                              plant.get_body(body_index),\n                              tf)\n\n        V = SpatialVelocity(np.array(np.hstack((0,0,0,V_ThrowB)).reshape(6,1), dtype=np.float64))\n        plant.SetFreeBodySpatialVelocity(plant.get_body(body_index),\n                                        V,\n                                        plant_context)\n\n    print(f\"planned ball CATCH time: {t_duration}\")\n    print(f\"planned ball CATCH position: {X_WCatchB_W.translation()}\")\n    print(f\"planned ball CATCH velocity: {V_CatchB}\")\n\n    simulator.AdvanceTo(0)\n    meshcat.Flush()  # Wait for the large object meshes to get to meshcat.\n    RecordInterval(0, 1, simulator, context, plant, visualizer)\n\nball_trajectory_validation()",
   "execution_count": null,
   "outputs": [
    {
     "name": "stdout",
     "text": "planned ball CATCH time: 0.639\nplanned ball CATCH position: [ 0.57117245 -0.52423633  0.39      ]\nplanned ball CATCH velocity: [-0.14582164 -0.19980315 -3.13155712]\n\nWe are at catch time! (0.639)\nactual ball position = [ 0.57931589 -0.50653807  0.3566442 ]\nactual ball velocity: [-0.133   -0.172   -3.18159]\n",
     "output_type": "stream"
    }
   ]
  },
  {
   "cell_type": "code",
   "metadata": {
    "tags": [],
    "deepnote_to_be_reexecuted": false,
    "source_hash": "b623e53d",
    "execution_start": 1669960717098,
    "execution_millis": 4,
    "cell_id": "00007-4729c625-3c8c-449d-8088-441ece42cdac",
    "deepnote_cell_type": "code",
    "deepnote_cell_height": 75.953125
   },
   "source": "",
   "execution_count": null,
   "outputs": []
  },
  {
   "cell_type": "markdown",
   "source": "<a style='text-decoration:none;line-height:16px;display:flex;color:#5B5B62;padding:10px;justify-content:end;' href='https://deepnote.com?utm_source=created-in-deepnote-cell&projectId=68a898be-bd4e-4046-916a-6293aadf6c5d' target=\"_blank\">\n<img alt='Created in deepnote.com' style='display:inline;max-height:16px;margin:0px;margin-right:7.5px;' src='data:image/svg+xml;base64,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' > </img>\nCreated in <span style='font-weight:600;margin-left:4px;'>Deepnote</span></a>",
   "metadata": {
    "tags": [],
    "created_in_deepnote_cell": true,
    "deepnote_cell_type": "markdown"
   }
  }
 ],
 "nbformat": 4,
 "nbformat_minor": 1,
 "metadata": {
  "colab": {
   "collapsed_sections": [],
   "name": "Robotic Manipulation - Geometric Pose Estimation.ipynb",
   "provenance": [],
   "toc_visible": true
  },
  "deepnote": {},
  "deepnote_execution_queue": [],
  "deepnote_notebook_id": "a1a079f8-7b40-4c3e-90e0-24510c197195",
  "kernelspec": {
   "display_name": "Python 3.10.8 64-bit",
   "language": "python",
   "name": "python3"
  },
  "language_info": {
   "codemirror_mode": {
    "name": "ipython",
    "version": 3
   },
   "file_extension": ".py",
   "mimetype": "text/x-python",
   "name": "python",
   "nbconvert_exporter": "python",
   "pygments_lexer": "ipython3",
   "version": "3.10.8"
  },
  "metadata": {
   "interpreter": {
    "hash": "aee8b7b246df8f9039afb4144a1f6fd8d2ca17a180786b69acc140d282b71a49"
   }
  },
  "vscode": {
   "interpreter": {
    "hash": "aee8b7b246df8f9039afb4144a1f6fd8d2ca17a180786b69acc140d282b71a49"
   }
  }
 }
}