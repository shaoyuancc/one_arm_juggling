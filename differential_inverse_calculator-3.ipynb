{
 "cells": [
  {
   "cell_type": "markdown",
   "source": "# Kinematic Trajectory Optimization\n## Evaluating throw and catch points",
   "metadata": {
    "cell_id": "3d47bcee-e65f-4143-817b-eebf72681f01",
    "deepnote_cell_type": "markdown",
    "deepnote_cell_height": 138
   }
  },
  {
   "cell_type": "markdown",
   "source": "",
   "metadata": {
    "cell_id": "00001-172c1020-40c0-4a00-b692-ef6a76bd18f4",
    "deepnote_cell_type": "markdown",
    "deepnote_cell_height": 46
   }
  },
  {
   "cell_type": "code",
   "source": "import time\n\nimport numpy as np\nfrom pydrake.all import (AddMultibodyPlantSceneGraph, BsplineTrajectory,\n                         DiagramBuilder, KinematicTrajectoryOptimization,\n                         MeshcatVisualizer, MeshcatVisualizerParams,\n                         MinimumDistanceConstraint, Parser, PositionConstraint,\n                         Rgba, RigidTransform, Role, Solve, Sphere,\n                         StartMeshcat, JacobianWrtVariable, RollPitchYaw,\n                         JointSliders, RotationMatrix,\n                         InverseKinematics,\n                         LeafSystem, AbstractValue,\n                         Simulator\n                        )\n\nfrom manipulation import running_as_notebook\nfrom manipulation.meshcat_utils import (PublishPositionTrajectory,\n                                        MeshcatPoseSliders,\n                                        WsgButton)\nfrom manipulation.scenarios import AddIiwaDifferentialIK, MakeManipulationStation, AddIiwa, AddPlanarIiwa, AddShape, AddWsg, AddMultibodyTriad \nfrom manipulation.utils import AddPackagePaths, FindResource\n\nfrom IPython.display import clear_output\n\nfrom utils import MyMakeManipulationStation",
   "metadata": {
    "deepnote_to_be_reexecuted": false,
    "source_hash": "92f81522",
    "execution_start": 1670356740211,
    "execution_millis": 54,
    "cell_id": "00002-6229a21f-1c61-4aa2-9817-850f9de90a87",
    "deepnote_cell_type": "code",
    "deepnote_cell_height": 513
   },
   "execution_count": 10,
   "outputs": []
  },
  {
   "cell_type": "code",
   "metadata": {
    "deepnote_to_be_reexecuted": false,
    "source_hash": "6d42057f",
    "execution_start": 1670356741811,
    "execution_millis": 9,
    "cell_id": "00003-4fd48a87-c839-4f41-99db-3f989c1799bd",
    "deepnote_cell_type": "code",
    "deepnote_cell_height": 180.375,
    "deepnote_output_heights": [
     null,
     20.1875
    ]
   },
   "source": "# Start the visualizer.\nmeshcat = StartMeshcat()",
   "execution_count": 11,
   "outputs": [
    {
     "name": "stderr",
     "text": "INFO:drake:Meshcat listening for connections at https://68a898be-bd4e-4046-916a-6293aadf6c5d.deepnoteproject.com/7002/\n",
     "output_type": "stream"
    },
    {
     "data": {
      "text/plain": "<IPython.core.display.HTML object>",
      "text/html": "Meshcat URL: <a href='https://68a898be-bd4e-4046-916a-6293aadf6c5d.deepnoteproject.com/7002/' target='_blank'>https://68a898be-bd4e-4046-916a-6293aadf6c5d.deepnoteproject.com/7002/</a>"
     },
     "metadata": {},
     "output_type": "display_data"
    }
   ]
  },
  {
   "cell_type": "markdown",
   "source": "To visualize throw and catch points",
   "metadata": {
    "cell_id": "00004-2442bb03-7125-4598-bbbe-dec399a82c28",
    "deepnote_cell_type": "markdown",
    "deepnote_cell_height": 52.390625
   }
  },
  {
   "cell_type": "code",
   "metadata": {
    "deepnote_to_be_reexecuted": false,
    "source_hash": "9a37980f",
    "execution_start": 1670356742906,
    "execution_millis": 1,
    "cell_id": "00005-8f5f8977-9d95-4bb1-a78c-e3476cd1b00a",
    "deepnote_cell_type": "code",
    "deepnote_cell_height": 261
   },
   "source": "squash_ball_radius = 0.02\np_GB_G = [0, 0.07, 0]\ndef add_target_objects(X_WThrow, X_WCatch):\n    p_ThrowB_W = X_WThrow.rotation() @ p_GB_G\n    X_WThrowB_W = RigidTransform(X_WThrow.rotation(), X_WThrow.translation() +  p_ThrowB_W)\n    p_CatchB_W = X_WCatch.rotation() @ p_GB_G\n    X_WCatchB_W = RigidTransform(X_WCatch.rotation(), X_WCatch.translation() +  p_CatchB_W)\n    meshcat.SetObject(\"throw\", Sphere(squash_ball_radius), rgba=Rgba(.9, .1, .1, 1))\n    meshcat.SetTransform(\"throw\", X_WThrowB_W)\n    meshcat.SetObject(\"catch\", Sphere(squash_ball_radius), rgba=Rgba(.1, .9, .1, 1))\n    meshcat.SetTransform(\"catch\", X_WCatchB_W)",
   "execution_count": 12,
   "outputs": []
  },
  {
   "cell_type": "markdown",
   "source": "Manually set the throw and catch points",
   "metadata": {
    "cell_id": "00006-3fec96b7-2db3-447e-9a33-2bc5ce79a3ff",
    "deepnote_cell_type": "markdown",
    "deepnote_cell_height": 52.390625
   }
  },
  {
   "cell_type": "code",
   "metadata": {
    "deepnote_to_be_reexecuted": false,
    "source_hash": "5a3442da",
    "execution_start": 1670356744126,
    "execution_millis": 1,
    "cell_id": "00007-4a23f05a-ba2b-4fa1-b66c-d283dbf4f31e",
    "deepnote_cell_type": "code",
    "deepnote_cell_height": 711
   },
   "source": "p_GB_G = [0, 0.11, 0]\ndef add_target_objects(X_WThrow, X_WCatch):\n    p_ThrowB_W = X_WThrow.rotation() @ p_GB_G\n    X_WThrowB_W = RigidTransform(X_WThrow.rotation(), X_WThrow.translation() +  p_ThrowB_W)\n    p_CatchB_W = X_WCatch.rotation() @ p_GB_G\n    X_WCatchB_W = RigidTransform(X_WCatch.rotation(), X_WCatch.translation() +  p_CatchB_W)\n    meshcat.SetObject(\"throw\", Sphere(squash_ball_radius), rgba=Rgba(.9, .1, .1, 1))\n    meshcat.SetTransform(\"throw\", X_WThrowB_W)\n    meshcat.SetObject(\"catch\", Sphere(squash_ball_radius), rgba=Rgba(.1, .9, .1, 1))\n    meshcat.SetTransform(\"catch\", X_WCatchB_W)\n    return X_WThrowB_W, X_WCatchB_W\n\nq_Throw = np.array([-0.54, 0.58, 0, -1.79, 0, -0.79, 0])\np_WThrow = [0.57, -0.34, 0.39]\nR_WThrow = RollPitchYaw([-np.pi, 0.00, 1.03])\n\nq_Catch = np.array([-0.74, 0.58, 0, -1.79, 0, -0.79, 0])\np_WCatch = [0.49, -0.45, 0.39]\nR_WCatch = RollPitchYaw([-np.pi, 0.00, 0.83])\n\nX_WThrow = RigidTransform(R_WThrow, p_WThrow)\nX_WCatch = RigidTransform(R_WCatch, p_WCatch)\n\nX_WThrowB_W, X_WCatchB_W = add_target_objects(X_WThrow, X_WCatch)\n#####\n\n\n\n# final joint positions [-0.901 1.465 -0.690 -0.143 -0.908 -1.823 0.001 -0.053 0.054]\n\n\np_WCatch_adj = [[0.47, -0.43, 0.35], [0.2, -0.2, 0.2], [0.573, -0.526, 0.375]]\n\n# WSG gripper\nopened = np.array([0.035]) #[0.035]\nclosed = np.array([0.02])",
   "execution_count": 13,
   "outputs": []
  },
  {
   "cell_type": "markdown",
   "source": "# Differential IK Controller",
   "metadata": {
    "formattedRanges": [],
    "is_collapsed": false,
    "tags": [],
    "cell_id": "00008-b0776c84-f16d-4fa5-919c-5eb33142fae5",
    "deepnote_cell_type": "text-cell-h1"
   }
  },
  {
   "cell_type": "markdown",
   "source": "Use diffIK controller to get other joint configurations around the key points, navigated to using spatial translation",
   "metadata": {
    "formattedRanges": [],
    "is_collapsed": false,
    "tags": [],
    "cell_id": "00009-e24d4c8e-2072-400d-b334-210ba906b2bb",
    "deepnote_cell_type": "text-cell-p"
   }
  },
  {
   "cell_type": "code",
   "source": "def get_q_with_diffik(q_original, p_target):\n    builder = DiagramBuilder()\n    model_directives = \"\"\"\ndirectives:\n- add_model:\n    name: iiwa\n    file: package://drake/manipulation/models/iiwa_description/iiwa7/iiwa7_no_collision.sdf\n    default_joint_positions:\n        iiwa_joint_1: [-1.57]\n        iiwa_joint_2: [0.1]\n        iiwa_joint_3: [0]\n        iiwa_joint_4: [-1.2]\n        iiwa_joint_5: [0]\n        iiwa_joint_6: [ 1.6]\n        iiwa_joint_7: [0]\n- add_weld:\n    parent: world\n    child: iiwa::iiwa_link_0\n- add_model:\n    name: wsg\n    file: package://one_arm_juggling/models/schunk_wsg_50_with_tip_modified_origin.sdf\n- add_weld:\n    parent: iiwa::iiwa_link_7\n    child: wsg::body\n    X_PC:\n        translation: [0, 0, 0.09]\n        rotation: !Rpy { deg: [90, 0, 90]}\n- add_model:\n    name: ball\n    file: package://one_arm_juggling/models/ball.sdf\n    \"\"\"\n    time_step = 0.001\n    station = builder.AddSystem(\n        MyMakeManipulationStation(model_directives=model_directives,\n        package_xmls=[\"./package.xml\"], time_step=time_step))\n    plant = station.GetSubsystemByName(\"plant\")\n    controller_plant = station.GetSubsystemByName(\n        \"iiwa_controller\").get_multibody_plant_for_control()\n\n    ball = plant.GetBodyByName(\"ball\")\n\n    # Add a meshcat visualizer.\n    visualizer = MeshcatVisualizer.AddToBuilder(\n        builder, station.GetOutputPort(\"query_object\"), meshcat)\n    meshcat.ResetRenderMode()\n    meshcat.DeleteAddedControls()\n\n    print(controller_plant.GetFrameByName(\"extra_frame\"))\n    # Set up differential inverse kinematics.\n    differential_ik = AddIiwaDifferentialIK(\n        builder,\n        controller_plant,\n        frame=controller_plant.GetFrameByName(\"extra_frame\"))\n\n    # print(dir(controller_plant.GetFrameByName(\"body\")))\n\n    builder.Connect(differential_ik.get_output_port(),\n                    station.GetInputPort(\"iiwa_position\"))\n    builder.Connect(station.GetOutputPort(\"iiwa_state_estimated\"),\n                    differential_ik.GetInputPort(\"robot_state\"))\n\n    # p_I7B_I7 = [0, 0, 0.11 + 0.09]\n    # Set up teleop widgets.\n    teleop = builder.AddSystem(\n        MeshcatPoseSliders(\n            meshcat,\n            min_range=MeshcatPoseSliders.MinRange(roll=0,\n                                                  pitch=-0.5,\n                                                  yaw=-np.pi,\n                                                  x=-0.6,\n                                                  y=-0.8,\n                                                  z=0.0),\n            max_range=MeshcatPoseSliders.MaxRange(roll=2 * np.pi,\n                                                  pitch=np.pi,\n                                                  yaw=np.pi,\n                                                  x=0.8,\n                                                  y=0.3,\n                                                  z=1.1),\n            body_index=plant.GetBodyByName(\"iiwa_link_7\").index()))\n    builder.Connect(teleop.get_output_port(0),\n                    differential_ik.get_input_port(0))\n    builder.Connect(station.GetOutputPort(\"body_poses\"),\n                    teleop.GetInputPort(\"body_poses\"))\n\n    wsg_teleop = builder.AddSystem(WsgButton(meshcat))\n    builder.Connect(wsg_teleop.get_output_port(0),\n                    station.GetInputPort(\"wsg_position\"))\n\n    diagram = builder.Build()\n    simulator = Simulator(diagram)\n    context = simulator.get_mutable_context()\n\n    target = RigidTransform(RotationMatrix(), p_target)\n    meshcat.SetObject(\"target\", Sphere(squash_ball_radius), rgba=Rgba(.3, .1, .1, 1))\n    meshcat.SetTransform(\"target\", target)\n    \n    plant_context = plant.GetMyMutableContextFromRoot(context)\n    q0 = plant.GetPositions(plant_context)\n    non_iiwa_q0 = q0[7:]\n    plant.SetPositions(plant_context, np.concatenate((q_original, non_iiwa_q0)))\n    print(f\"initial joint positions {plant.GetPositions(plant_context)[0:7]}\")\n    print(f\"planned initial joint position {q_original}\")\n    simulator.AdvanceTo(0.1)\n    while simulator.get_context().get_time() < 10:\n        simulator.set_target_realtime_rate(0.1)\n        teleop.SetXyz(p_target)\n        simulator.AdvanceTo(simulator.get_context().get_time() + 1.0)\n        \n    print(f\"final spatial positions {teleop._get_transform()}\")\n    print(f\"planned final spatial position {p_target}\")\n    print(f\"final joint positions {plant.GetPositions(plant_context)}\")\n    \n    \n    return plant.GetPositions(plant_context)[:7]\n\nget_q_with_diffik(q_Catch, p_WCatch_adj[2]) #p_WCatch_adj[0] p_WCatch",
   "metadata": {
    "tags": [],
    "deepnote_to_be_reexecuted": false,
    "source_hash": "1fc3d172",
    "execution_start": 1670356809286,
    "execution_millis": 33,
    "cell_id": "00010-c8de1117-3757-4029-8225-8d32eb667fec",
    "deepnote_cell_type": "code",
    "deepnote_cell_height": 2306.96875,
    "deepnote_output_heights": [
     77.78125
    ]
   },
   "execution_count": 16,
   "outputs": [
    {
     "output_type": "error",
     "ename": "NameError",
     "evalue": "name 'iiwa_model_instance' is not defined",
     "traceback": [
      "\u001b[0;31m---------------------------------------------------------------------------\u001b[0m",
      "\u001b[0;31mNameError\u001b[0m                                 Traceback (most recent call last)",
      "Cell \u001b[0;32mIn [16], line 116\u001b[0m\n\u001b[1;32m    111\u001b[0m     \u001b[38;5;28mprint\u001b[39m(\u001b[38;5;124mf\u001b[39m\u001b[38;5;124m\"\u001b[39m\u001b[38;5;124mfinal joint positions \u001b[39m\u001b[38;5;132;01m{\u001b[39;00mplant\u001b[38;5;241m.\u001b[39mGetPositions(plant_context)\u001b[38;5;132;01m}\u001b[39;00m\u001b[38;5;124m\"\u001b[39m)\n\u001b[1;32m    114\u001b[0m     \u001b[38;5;28;01mreturn\u001b[39;00m plant\u001b[38;5;241m.\u001b[39mGetPositions(plant_context)[:\u001b[38;5;241m7\u001b[39m]\n\u001b[0;32m--> 116\u001b[0m \u001b[43mget_q_with_diffik\u001b[49m\u001b[43m(\u001b[49m\u001b[43mq_Catch\u001b[49m\u001b[43m,\u001b[49m\u001b[43m \u001b[49m\u001b[43mp_WCatch_adj\u001b[49m\u001b[43m[\u001b[49m\u001b[38;5;241;43m2\u001b[39;49m\u001b[43m]\u001b[49m\u001b[43m)\u001b[49m\n",
      "Cell \u001b[0;32mIn [16], line 34\u001b[0m, in \u001b[0;36mget_q_with_diffik\u001b[0;34m(q_original, p_target)\u001b[0m\n\u001b[1;32m      3\u001b[0m     model_directives \u001b[38;5;241m=\u001b[39m \u001b[38;5;124m\"\"\"\u001b[39m\n\u001b[1;32m      4\u001b[0m \u001b[38;5;124mdirectives:\u001b[39m\n\u001b[1;32m      5\u001b[0m \u001b[38;5;124m- add_model:\u001b[39m\n\u001b[0;32m   (...)\u001b[0m\n\u001b[1;32m     30\u001b[0m \u001b[38;5;124m    file: package://one_arm_juggling/models/ball.sdf\u001b[39m\n\u001b[1;32m     31\u001b[0m \u001b[38;5;124m    \u001b[39m\u001b[38;5;124m\"\"\"\u001b[39m\n\u001b[1;32m     32\u001b[0m     time_step \u001b[38;5;241m=\u001b[39m \u001b[38;5;241m0.001\u001b[39m\n\u001b[1;32m     33\u001b[0m     station \u001b[38;5;241m=\u001b[39m builder\u001b[38;5;241m.\u001b[39mAddSystem(\n\u001b[0;32m---> 34\u001b[0m         \u001b[43mMyMakeManipulationStation\u001b[49m\u001b[43m(\u001b[49m\u001b[43mmodel_directives\u001b[49m\u001b[38;5;241;43m=\u001b[39;49m\u001b[43mmodel_directives\u001b[49m\u001b[43m,\u001b[49m\n\u001b[1;32m     35\u001b[0m \u001b[43m        \u001b[49m\u001b[43mpackage_xmls\u001b[49m\u001b[38;5;241;43m=\u001b[39;49m\u001b[43m[\u001b[49m\u001b[38;5;124;43m\"\u001b[39;49m\u001b[38;5;124;43m./package.xml\u001b[39;49m\u001b[38;5;124;43m\"\u001b[39;49m\u001b[43m]\u001b[49m\u001b[43m,\u001b[49m\u001b[43m \u001b[49m\u001b[43mtime_step\u001b[49m\u001b[38;5;241;43m=\u001b[39;49m\u001b[43mtime_step\u001b[49m\u001b[43m)\u001b[49m)\n\u001b[1;32m     36\u001b[0m     plant \u001b[38;5;241m=\u001b[39m station\u001b[38;5;241m.\u001b[39mGetSubsystemByName(\u001b[38;5;124m\"\u001b[39m\u001b[38;5;124mplant\u001b[39m\u001b[38;5;124m\"\u001b[39m)\n\u001b[1;32m     37\u001b[0m     controller_plant \u001b[38;5;241m=\u001b[39m station\u001b[38;5;241m.\u001b[39mGetSubsystemByName(\n\u001b[1;32m     38\u001b[0m         \u001b[38;5;124m\"\u001b[39m\u001b[38;5;124miiwa_controller\u001b[39m\u001b[38;5;124m\"\u001b[39m)\u001b[38;5;241m.\u001b[39mget_multibody_plant_for_control()\n",
      "File \u001b[0;32m~/work/one_arm_juggling/utils.py:324\u001b[0m, in \u001b[0;36mMyMakeManipulationStation\u001b[0;34m(model_directives, filename, time_step, iiwa_prefix, wsg_prefix, camera_prefix, ball_prefix, prefinalize_callback, package_xmls)\u001b[0m\n\u001b[1;32m    320\u001b[0m AddWsg(controller_plant, controller_iiwa, welded\u001b[38;5;241m=\u001b[39m\u001b[38;5;28;01mTrue\u001b[39;00m)\n\u001b[1;32m    321\u001b[0m controller_plant\u001b[38;5;241m.\u001b[39mAddFrame(\n\u001b[1;32m    322\u001b[0m     FixedOffsetFrame(\u001b[38;5;124m\"\u001b[39m\u001b[38;5;124mextra_frame\u001b[39m\u001b[38;5;124m\"\u001b[39m, controller_plant\u001b[38;5;241m.\u001b[39mGetFrameByName(\u001b[38;5;124m\"\u001b[39m\u001b[38;5;124miiwa_link_7\u001b[39m\u001b[38;5;124m\"\u001b[39m), RigidTransform(RotationMatrix(), [\u001b[38;5;241m0.5\u001b[39m,\u001b[38;5;241m0\u001b[39m,\u001b[38;5;241m0\u001b[39m]))\n\u001b[1;32m    323\u001b[0m )\n\u001b[0;32m--> 324\u001b[0m controller_plant\u001b[38;5;241m.\u001b[39mWeldFrames(plant\u001b[38;5;241m.\u001b[39mGetFrameByName(\u001b[38;5;124m\"\u001b[39m\u001b[38;5;124miiwa_link_7\u001b[39m\u001b[38;5;124m\"\u001b[39m, \u001b[43miiwa_model_instance\u001b[49m),\n\u001b[1;32m    325\u001b[0m          plant\u001b[38;5;241m.\u001b[39mGetFrameByName(\u001b[38;5;124m\"\u001b[39m\u001b[38;5;124mbody\u001b[39m\u001b[38;5;124m\"\u001b[39m, gripper), X_7G)\n\u001b[1;32m    326\u001b[0m plant\u001b[38;5;241m.\u001b[39mWeldFrames(plant\u001b[38;5;241m.\u001b[39mGetFrameByName(\u001b[38;5;124m\"\u001b[39m\u001b[38;5;124miiwa_link_7\u001b[39m\u001b[38;5;124m\"\u001b[39m, iiwa_model_instance),\n\u001b[1;32m    327\u001b[0m          plant\u001b[38;5;241m.\u001b[39mGetFrameByName(\u001b[38;5;124m\"\u001b[39m\u001b[38;5;124mbody\u001b[39m\u001b[38;5;124m\"\u001b[39m, gripper), X_7G)\n\u001b[1;32m    328\u001b[0m \u001b[38;5;28mprint\u001b[39m(\u001b[38;5;124m\"\u001b[39m\u001b[38;5;124mAdded extra frame!\u001b[39m\u001b[38;5;124m\"\u001b[39m)\n",
      "\u001b[0;31mNameError\u001b[0m: name 'iiwa_model_instance' is not defined"
     ]
    }
   ]
  },
  {
   "cell_type": "code",
   "metadata": {
    "deepnote_to_be_reexecuted": true,
    "source_hash": "f012ee27",
    "execution_start": 1670312582171,
    "execution_millis": 306,
    "cell_id": "00011-8e0dff5a-ef70-44ae-b22a-0b1691624cda",
    "deepnote_cell_type": "code",
    "deepnote_cell_height": 175.1875
   },
   "source": "v_Catch = converter(q_Catch,V_Catch)\nprint(np.array2string(v_Catch, formatter={'float': lambda x: \"{:5.3f}\".format(x)}))\n# v_Catch = np.array([[-0.250],[4.103],[-0.200],[-0.505],[0.045],[0.953],[0.000]])",
   "execution_count": null,
   "outputs": [
    {
     "output_type": "error",
     "ename": "NameError",
     "evalue": "name 'converter' is not defined",
     "traceback": [
      "\u001b[0;31m---------------------------------------------------------------------------\u001b[0m",
      "\u001b[0;31mNameError\u001b[0m                                 Traceback (most recent call last)",
      "Cell \u001b[0;32mIn [6], line 1\u001b[0m\n\u001b[0;32m----> 1\u001b[0m v_Catch \u001b[38;5;241m=\u001b[39m \u001b[43mconverter\u001b[49m(q_Catch,V_Catch)\n\u001b[1;32m      2\u001b[0m \u001b[38;5;28mprint\u001b[39m(np\u001b[38;5;241m.\u001b[39marray2string(v_Catch, formatter\u001b[38;5;241m=\u001b[39m{\u001b[38;5;124m'\u001b[39m\u001b[38;5;124mfloat\u001b[39m\u001b[38;5;124m'\u001b[39m: \u001b[38;5;28;01mlambda\u001b[39;00m x: \u001b[38;5;124m\"\u001b[39m\u001b[38;5;132;01m{:5.3f}\u001b[39;00m\u001b[38;5;124m\"\u001b[39m\u001b[38;5;241m.\u001b[39mformat(x)}))\n",
      "\u001b[0;31mNameError\u001b[0m: name 'converter' is not defined"
     ]
    }
   ]
  },
  {
   "cell_type": "markdown",
   "source": "",
   "metadata": {
    "cell_id": "00012-09ad099c-45c7-49e6-b484-681a9342a62d",
    "deepnote_cell_type": "markdown",
    "deepnote_cell_height": 46
   }
  },
  {
   "cell_type": "code",
   "metadata": {
    "deepnote_to_be_reexecuted": true,
    "source_hash": "e6cdeb9b",
    "execution_start": 1670312125344,
    "execution_millis": 12,
    "cell_id": "00013-863a717b-daeb-4aca-825b-50e201fbc644",
    "deepnote_cell_type": "code",
    "deepnote_cell_height": 112.1875,
    "deepnote_output_heights": [
     20.1875
    ]
   },
   "source": "(0.2 ** 2 / 3) ** 0.5",
   "execution_count": null,
   "outputs": [
    {
     "output_type": "execute_result",
     "execution_count": 7,
     "data": {
      "text/plain": "0.11547005383792516"
     },
     "metadata": {}
    }
   ]
  },
  {
   "cell_type": "code",
   "metadata": {
    "tags": [],
    "deepnote_to_be_reexecuted": true,
    "source_hash": "809c9ac1",
    "execution_start": 1670312293443,
    "execution_millis": 1,
    "cell_id": "00014-d1ead3b4-18a2-4856-aadb-5c8f6b0af7d6",
    "deepnote_cell_type": "code",
    "deepnote_cell_height": 76
   },
   "source": "diff = 0.11547005383792516",
   "execution_count": null,
   "outputs": []
  },
  {
   "cell_type": "code",
   "metadata": {
    "tags": [],
    "deepnote_to_be_reexecuted": true,
    "source_hash": "b623e53d",
    "cell_id": "00015-fee8960a-acb0-4205-9ff7-a88853eb838e",
    "deepnote_cell_type": "code",
    "deepnote_cell_height": 76
   },
   "source": "",
   "execution_count": null,
   "outputs": []
  },
  {
   "cell_type": "markdown",
   "source": "<a style='text-decoration:none;line-height:16px;display:flex;color:#5B5B62;padding:10px;justify-content:end;' href='https://deepnote.com?utm_source=created-in-deepnote-cell&projectId=68a898be-bd4e-4046-916a-6293aadf6c5d' target=\"_blank\">\n<img alt='Created in deepnote.com' style='display:inline;max-height:16px;margin:0px;margin-right:7.5px;' src='data:image/svg+xml;base64,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' > </img>\nCreated in <span style='font-weight:600;margin-left:4px;'>Deepnote</span></a>",
   "metadata": {
    "tags": [],
    "created_in_deepnote_cell": true,
    "deepnote_cell_type": "markdown"
   }
  }
 ],
 "nbformat": 4,
 "nbformat_minor": 2,
 "metadata": {
  "kernelspec": {
   "display_name": "Python 3.10.8 64-bit",
   "language": "python",
   "name": "python3"
  },
  "language_info": {
   "codemirror_mode": {
    "name": "ipython",
    "version": 3
   },
   "file_extension": ".py",
   "mimetype": "text/x-python",
   "name": "python",
   "nbconvert_exporter": "python",
   "pygments_lexer": "ipython3",
   "version": "3.10.8"
  },
  "orig_nbformat": 4,
  "vscode": {
   "interpreter": {
    "hash": "aee8b7b246df8f9039afb4144a1f6fd8d2ca17a180786b69acc140d282b71a49"
   }
  },
  "deepnote_notebook_id": "de9952be-944b-44af-a916-2bdffb788759",
  "deepnote": {},
  "deepnote_execution_queue": []
 }
}